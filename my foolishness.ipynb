{
 "cells": [
  {
   "cell_type": "markdown",
   "metadata": {},
   "source": [
    "The technical requirements for Project 1 are as follows.\n",
    "\n",
    "\n",
    " -Use Pandas to clean and format your data set(s) <br>\n",
    "-Create a Jupyter Notebook describing the data exploration and cleanup process <br>\n",
    " -Create a Jupyter Notebook illustrating the final data analysis <br>\n",
    " -Use Matplotlib to create a total of 6-8 visualizations of your data (ideally, at least 2 per \"question\" you ask of your data) <br>\n",
    " -Save PNG images of your visualizations to distribute to the class and instructional team, and for inclusion in your presentation <br>\n",
    " -Optionally, use at least one API, if you can find an API with data pertinent to your primary research questions <br>\n",
    " -Create a write-up summarizing your major findings. This should include a heading for each \"question\" you asked of your data, and under each heading, a short description of what you found and any relevant plots."
   ]
  },
  {
   "cell_type": "code",
   "execution_count": 13,
   "metadata": {},
   "outputs": [],
   "source": [
    "# Dependencies\n",
    "import numpy as np\n",
    "import pandas as pd\n",
    "import matplotlib.pyplot as plt\n",
    "import requests\n",
    "from census import Census\n",
    "import seaborn as sns\n",
    "\n",
    "# Census API Key\n",
    "from config import api_key\n",
    "c = Census(api_key, year = 2016)\n",
    "#c.acs5.tables()"
   ]
  },
  {
   "cell_type": "markdown",
   "metadata": {},
   "source": [
    "Question 1: Over a five year period, how has the annual income changed in these historically improvished areas of Houston....<br>\n",
    "Question 2: Correlation between age ....<br>\n"
   ]
  },
  {
   "cell_type": "code",
   "execution_count": 2,
   "metadata": {},
   "outputs": [],
   "source": [
    "# from census import Census\n",
    "# from us import states\n",
    "\n",
    "# c = Census(api_key)\n",
    "# c.acs5.state(('NAME', 'B19013_001E'), states.TX.fips, year=2016)"
   ]
  },
  {
   "cell_type": "code",
   "execution_count": 14,
   "metadata": {},
   "outputs": [],
   "source": [
    "census_data = c.acs5.get((\"NAME\", \"B19013_001E\", \"B01003_001E\", \"B01002_001E\",\n",
    "                          \"B19301_001E\",\n",
    "                          \"B17001_002E\"), {'for': 'zip code tabulation area:77009'})\n",
    "\n",
    "census_pd = pd.DataFrame(census_data)\n",
    "\n",
    "census_pd = census_pd.rename(columns={\"B01003_001E\": \"Population\",\n",
    "                                      \"B01002_001E\": \"Median Age\",\n",
    "                                      \"B19013_001E\": \"Household Income\",\n",
    "                                      \"B19301_001E\": \"Per Capita Income\",\n",
    "                                      \"B17001_002E\": \"Poverty Count\",\n",
    "                                      \"NAME\": \"Name\", \"zip code tabulation area\": \"Zipcode\"})\n"
   ]
  },
  {
   "cell_type": "code",
   "execution_count": 10,
   "metadata": {},
   "outputs": [],
   "source": [
    " #census_pd.head(10)"
   ]
  },
  {
   "cell_type": "code",
   "execution_count": 5,
   "metadata": {},
   "outputs": [
    {
     "data": {
      "text/plain": [
       "[{'NAME': 'ZCTA5 77009',\n",
       "  'B19013_001E': 49383.0,\n",
       "  'B01003_001E': 37751.0,\n",
       "  'B01002_001E': 35.1,\n",
       "  'B19301_001E': 33167.0,\n",
       "  'B17001_002E': 9148.0,\n",
       "  'zip code tabulation area': '77009'}]"
      ]
     },
     "execution_count": 5,
     "metadata": {},
     "output_type": "execute_result"
    }
   ],
   "source": [
    "census_data "
   ]
  },
  {
   "cell_type": "code",
   "execution_count": 6,
   "metadata": {},
   "outputs": [
    {
     "data": {
      "text/plain": [
       "'ZCTA5 77009'"
      ]
     },
     "execution_count": 6,
     "metadata": {},
     "output_type": "execute_result"
    }
   ],
   "source": [
    "census_data[0][\"NAME\"]"
   ]
  },
  {
   "cell_type": "code",
   "execution_count": 7,
   "metadata": {},
   "outputs": [],
   "source": [
    "# dictionary = {'NAME' : [],\n",
    "#              \"B19013_001E\" : [],\n",
    "#              \"B01003_001E\" : [],\n",
    "#              \"B01002_001E\" : [],\n",
    "#              \"B19301_001E\" : [],\n",
    "#              \"B17001_002E\" : [],\n",
    "#              \"zip code tabulation area\" : []}\n",
    "# dictionary[\"NAME\"] = 'Team7'\n",
    "# dictionary"
   ]
  },
  {
   "cell_type": "code",
   "execution_count": 43,
   "metadata": {},
   "outputs": [
    {
     "data": {
      "text/plain": [
       "{'NAME': ['ZCTA5 77007', 'ZCTA5 77008', 'ZCTA5 77009'],\n",
       " 'B19013_001E': [113361.0, 88248.0, 47011.0],\n",
       " 'B01003_001E': [35185.0, 32588.0, 38019.0],\n",
       " 'B01002_001E': [33.6, 35.5, 34.5],\n",
       " 'B19301_001E': [77957.0, 60908.0, 30474.0],\n",
       " 'B17001_002E': [3156.0, 2299.0, 9905.0],\n",
       " 'zip code tabulation area': ['77007', '77008', '77009']}"
      ]
     },
     "execution_count": 43,
     "metadata": {},
     "output_type": "execute_result"
    }
   ],
   "source": [
    "dictionary = {'NAME' : [],\n",
    "             \"B19013_001E\" : [],\n",
    "             \"B01003_001E\" : [],\n",
    "             \"B01002_001E\" : [],\n",
    "             \"B19301_001E\" : [],\n",
    "             \"B17001_002E\" : [],\n",
    "             \"zip code tabulation area\" : []}\n",
    "\n",
    "hou_zips = ['77007', '77008', '77009']\n",
    "\n",
    "for z in hou_zips:\n",
    "    c = Census(api_key, year=2016)\n",
    "    \n",
    "    census_loop = c.acs5.get((\"NAME\", \"B19013_001E\", \"B01003_001E\",\n",
    "                              \"B01002_001E\", \"B19301_001E\",\n",
    "                              \"B17001_002E\"), {'for': f'zip code tabulation area:{z}'})\n",
    "#     print(census_loop)\n",
    "    dictionary['NAME'].append(census_loop[0]['NAME'])\n",
    "    dictionary['B19013_001E'].append(census_loop[0][\"B19013_001E\"])\n",
    "    dictionary['B01003_001E'].append(census_loop[0][\"B01003_001E\"])\n",
    "    dictionary['B01002_001E'].append(census_loop[0][\"B01002_001E\"])\n",
    "    dictionary['B19301_001E'].append(census_loop[0][\"B19301_001E\"])\n",
    "    dictionary['B17001_002E'].append(census_loop[0][\"B17001_002E\"])\n",
    "    dictionary['zip code tabulation area'].append(census_loop[0][\"zip code tabulation area\"])\n",
    "\n",
    "dictionary\n",
    "                                               "
   ]
  },
  {
   "cell_type": "code",
   "execution_count": 44,
   "metadata": {},
   "outputs": [
    {
     "data": {
      "text/html": [
       "<div>\n",
       "<style scoped>\n",
       "    .dataframe tbody tr th:only-of-type {\n",
       "        vertical-align: middle;\n",
       "    }\n",
       "\n",
       "    .dataframe tbody tr th {\n",
       "        vertical-align: top;\n",
       "    }\n",
       "\n",
       "    .dataframe thead th {\n",
       "        text-align: right;\n",
       "    }\n",
       "</style>\n",
       "<table border=\"1\" class=\"dataframe\">\n",
       "  <thead>\n",
       "    <tr style=\"text-align: right;\">\n",
       "      <th></th>\n",
       "      <th>Name</th>\n",
       "      <th>Household Income</th>\n",
       "      <th>Population</th>\n",
       "      <th>Median Age</th>\n",
       "      <th>Per Capita Income</th>\n",
       "      <th>Poverty Count</th>\n",
       "      <th>Zipcode</th>\n",
       "    </tr>\n",
       "  </thead>\n",
       "  <tbody>\n",
       "    <tr>\n",
       "      <th>0</th>\n",
       "      <td>ZCTA5 77007</td>\n",
       "      <td>113361.0</td>\n",
       "      <td>35185.0</td>\n",
       "      <td>33.6</td>\n",
       "      <td>77957.0</td>\n",
       "      <td>3156.0</td>\n",
       "      <td>77007</td>\n",
       "    </tr>\n",
       "    <tr>\n",
       "      <th>1</th>\n",
       "      <td>ZCTA5 77008</td>\n",
       "      <td>88248.0</td>\n",
       "      <td>32588.0</td>\n",
       "      <td>35.5</td>\n",
       "      <td>60908.0</td>\n",
       "      <td>2299.0</td>\n",
       "      <td>77008</td>\n",
       "    </tr>\n",
       "    <tr>\n",
       "      <th>2</th>\n",
       "      <td>ZCTA5 77009</td>\n",
       "      <td>47011.0</td>\n",
       "      <td>38019.0</td>\n",
       "      <td>34.5</td>\n",
       "      <td>30474.0</td>\n",
       "      <td>9905.0</td>\n",
       "      <td>77009</td>\n",
       "    </tr>\n",
       "  </tbody>\n",
       "</table>\n",
       "</div>"
      ],
      "text/plain": [
       "          Name  Household Income  Population  Median Age  Per Capita Income  \\\n",
       "0  ZCTA5 77007          113361.0     35185.0        33.6            77957.0   \n",
       "1  ZCTA5 77008           88248.0     32588.0        35.5            60908.0   \n",
       "2  ZCTA5 77009           47011.0     38019.0        34.5            30474.0   \n",
       "\n",
       "   Poverty Count Zipcode  \n",
       "0         3156.0   77007  \n",
       "1         2299.0   77008  \n",
       "2         9905.0   77009  "
      ]
     },
     "execution_count": 44,
     "metadata": {},
     "output_type": "execute_result"
    }
   ],
   "source": [
    "dict_pd = pd.DataFrame(dictionary)\n",
    "\n",
    "dict_pd = dict_pd.rename(columns={\"B01003_001E\": \"Population\",\n",
    "                                      \"B01002_001E\": \"Median Age\",\n",
    "                                      \"B19013_001E\": \"Household Income\",\n",
    "                                      \"B19301_001E\": \"Per Capita Income\",\n",
    "                                      \"B17001_002E\": \"Poverty Count\",\n",
    "                                      \"NAME\": \"Name\", \"zip code tabulation area\": \"Zipcode\"})\n",
    "\n",
    "dict_pd\n",
    "\n",
    "#Household Income = format into currency\n",
    "\n",
    "#Per Capita Income\n",
    "\n",
    "#zipcode should be the index(it like dupe info)\n",
    "\n",
    "#what is the unit of measurement for poverty count???? \n",
    "  #description\":\"Number of persons whose income in the past 12 months is below the poverty level\",\n",
    "    #\"text\":\"people living in poverty\","
   ]
  },
  {
   "cell_type": "code",
   "execution_count": 16,
   "metadata": {},
   "outputs": [
    {
     "data": {
      "text/html": [
       "<div>\n",
       "<style scoped>\n",
       "    .dataframe tbody tr th:only-of-type {\n",
       "        vertical-align: middle;\n",
       "    }\n",
       "\n",
       "    .dataframe tbody tr th {\n",
       "        vertical-align: top;\n",
       "    }\n",
       "\n",
       "    .dataframe thead th {\n",
       "        text-align: right;\n",
       "    }\n",
       "</style>\n",
       "<table border=\"1\" class=\"dataframe\">\n",
       "  <thead>\n",
       "    <tr style=\"text-align: right;\">\n",
       "      <th></th>\n",
       "      <th>Household Income</th>\n",
       "      <th>Population</th>\n",
       "      <th>Median Age</th>\n",
       "      <th>Per Capita Income</th>\n",
       "      <th>Poverty Count</th>\n",
       "    </tr>\n",
       "  </thead>\n",
       "  <tbody>\n",
       "    <tr>\n",
       "      <th>count</th>\n",
       "      <td>3.000000</td>\n",
       "      <td>3.000000</td>\n",
       "      <td>3.000000</td>\n",
       "      <td>3.000000</td>\n",
       "      <td>3.000000</td>\n",
       "    </tr>\n",
       "    <tr>\n",
       "      <th>mean</th>\n",
       "      <td>82873.333333</td>\n",
       "      <td>35264.000000</td>\n",
       "      <td>34.533333</td>\n",
       "      <td>56446.333333</td>\n",
       "      <td>5120.000000</td>\n",
       "    </tr>\n",
       "    <tr>\n",
       "      <th>std</th>\n",
       "      <td>33499.938900</td>\n",
       "      <td>2716.361721</td>\n",
       "      <td>0.950438</td>\n",
       "      <td>24053.870257</td>\n",
       "      <td>4166.027004</td>\n",
       "    </tr>\n",
       "    <tr>\n",
       "      <th>min</th>\n",
       "      <td>47011.000000</td>\n",
       "      <td>32588.000000</td>\n",
       "      <td>33.600000</td>\n",
       "      <td>30474.000000</td>\n",
       "      <td>2299.000000</td>\n",
       "    </tr>\n",
       "    <tr>\n",
       "      <th>25%</th>\n",
       "      <td>67629.500000</td>\n",
       "      <td>33886.500000</td>\n",
       "      <td>34.050000</td>\n",
       "      <td>45691.000000</td>\n",
       "      <td>2727.500000</td>\n",
       "    </tr>\n",
       "    <tr>\n",
       "      <th>50%</th>\n",
       "      <td>88248.000000</td>\n",
       "      <td>35185.000000</td>\n",
       "      <td>34.500000</td>\n",
       "      <td>60908.000000</td>\n",
       "      <td>3156.000000</td>\n",
       "    </tr>\n",
       "    <tr>\n",
       "      <th>75%</th>\n",
       "      <td>100804.500000</td>\n",
       "      <td>36602.000000</td>\n",
       "      <td>35.000000</td>\n",
       "      <td>69432.500000</td>\n",
       "      <td>6530.500000</td>\n",
       "    </tr>\n",
       "    <tr>\n",
       "      <th>max</th>\n",
       "      <td>113361.000000</td>\n",
       "      <td>38019.000000</td>\n",
       "      <td>35.500000</td>\n",
       "      <td>77957.000000</td>\n",
       "      <td>9905.000000</td>\n",
       "    </tr>\n",
       "  </tbody>\n",
       "</table>\n",
       "</div>"
      ],
      "text/plain": [
       "       Household Income    Population  Median Age  Per Capita Income  \\\n",
       "count          3.000000      3.000000    3.000000           3.000000   \n",
       "mean       82873.333333  35264.000000   34.533333       56446.333333   \n",
       "std        33499.938900   2716.361721    0.950438       24053.870257   \n",
       "min        47011.000000  32588.000000   33.600000       30474.000000   \n",
       "25%        67629.500000  33886.500000   34.050000       45691.000000   \n",
       "50%        88248.000000  35185.000000   34.500000       60908.000000   \n",
       "75%       100804.500000  36602.000000   35.000000       69432.500000   \n",
       "max       113361.000000  38019.000000   35.500000       77957.000000   \n",
       "\n",
       "       Poverty Count  \n",
       "count       3.000000  \n",
       "mean     5120.000000  \n",
       "std      4166.027004  \n",
       "min      2299.000000  \n",
       "25%      2727.500000  \n",
       "50%      3156.000000  \n",
       "75%      6530.500000  \n",
       "max      9905.000000  "
      ]
     },
     "execution_count": 16,
     "metadata": {},
     "output_type": "execute_result"
    }
   ],
   "source": [
    "dict_pd.describe()\n",
    "##should probably do this by just each zip code...."
   ]
  },
  {
   "cell_type": "code",
   "execution_count": 35,
   "metadata": {},
   "outputs": [
    {
     "data": {
      "image/png": "[encoded data removed]",
      "text/plain": [
       "<Figure size 432x288 with 2 Axes>"
      ]
     },
     "metadata": {
      "needs_background": "light"
     },
     "output_type": "display_data"
    }
   ],
   "source": [
    "#https://stackoverflow.com/questions/35788626/how-to-plot-a-heatmap-from-pandas-dataframe/35793415\n",
    "# create some random data; replace that by your actual dataset\n",
    "data = pd.DataFrame(np.random.rand(9, 5), columns=['Household Income', 'Population', 'Median Age', 'Per Capita Income', 'Poverty Count'], index = range(2009, 2018, 1))\n",
    "\n",
    "# plot heatmap\n",
    "ax = sns.heatmap(data.T)\n",
    "\n",
    "# turn the axis label\n",
    "for item in ax.get_yticklabels():\n",
    "    item.set_rotation(0)\n",
    "\n",
    "for item in ax.get_xticklabels():\n",
    "    item.set_rotation(90)\n",
    "\n",
    "# save figure\n",
    "#plt.savefig('seabornPandas.png', dpi=100)\n",
    "plt.show()"
   ]
  },
  {
   "cell_type": "code",
   "execution_count": 37,
   "metadata": {},
   "outputs": [
    {
     "data": {
      "image/png": "[encoded data removed]",
      "text/plain": [
       "<Figure size 720x432 with 2 Axes>"
      ]
     },
     "metadata": {
      "needs_background": "light"
     },
     "output_type": "display_data"
    }
   ],
   "source": [
    "#https://towardsdatascience.com/the-art-of-effective-visualization-of-multi-dimensional-data-6c7202990c57\n",
    "# Correlation Matrix Heatmap\n",
    "f, ax = plt.subplots(figsize=(10, 6))\n",
    "corr = dict_pd.corr()\n",
    "hm = sns.heatmap(round(corr,2), annot=True, ax=ax, cmap=\"coolwarm\",fmt='.2f',\n",
    "                 linewidths=.05)\n",
    "f.subplots_adjust(top=0.93)\n",
    "t= f.suptitle('Correlation Heatmap', fontsize=14)"
   ]
  },
  {
   "cell_type": "code",
   "execution_count": null,
   "metadata": {},
   "outputs": [],
   "source": [
    "ax = sns.violinplot(x=\"year\", y=\"total_bill\", data=tips)\n",
    "\n",
    "\n"
   ]
  },
  {
   "cell_type": "code",
   "execution_count": null,
   "metadata": {},
   "outputs": [],
   "source": []
  },
  {
   "cell_type": "code",
   "execution_count": null,
   "metadata": {},
   "outputs": [],
   "source": []
  }
 ],
 "metadata": {
  "kernelspec": {
   "display_name": "Python 3",
   "language": "python",
   "name": "python3"
  },
  "language_info": {
   "codemirror_mode": {
    "name": "ipython",
    "version": 3
   },
   "file_extension": ".py",
   "mimetype": "text/x-python",
   "name": "python",
   "nbconvert_exporter": "python",
   "pygments_lexer": "ipython3",
   "version": "3.7.3"
  }
 },
 "nbformat": 4,
 "nbformat_minor": 2
}
