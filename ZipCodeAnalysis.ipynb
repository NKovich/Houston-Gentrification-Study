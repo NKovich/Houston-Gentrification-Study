{
 "cells": [
  {
   "cell_type": "code",
   "execution_count": 1,
   "metadata": {},
   "outputs": [],
   "source": [
    "# Dependencies\n",
    "import numpy as np\n",
    "import pandas as pd\n",
    "import matplotlib.pyplot as plt\n",
    "import requests\n",
    "from census import Census\n",
    "\n",
    "# Census API Key\n",
    "from config import api_key\n",
    "c = Census(api_key, year=2016)\n",
    "#c.acs5.tables()"
   ]
  },
  {
   "cell_type": "code",
   "execution_count": 2,
   "metadata": {},
   "outputs": [],
   "source": [
    "# from census import Census\n",
    "# from us import states\n",
    "\n",
    "# c = Census(api_key)\n",
    "# c.acs5.state(('NAME', 'B19013_001E'), states.TX.fips, year=2016)"
   ]
  },
  {
   "cell_type": "code",
   "execution_count": 3,
   "metadata": {},
   "outputs": [],
   "source": [
    "census_data = c.acs5.get((\"NAME\", \"B19013_001E\", \"B01003_001E\", \"B01002_001E\",\n",
    "                          \"B19301_001E\",\n",
    "                          \"B17001_002E\"), {'for': 'zip code tabulation area:77009'})\n",
    "\n",
    "census_pd = pd.DataFrame(census_data)\n",
    "\n",
    "census_pd = census_pd.rename(columns={\"B01003_001E\": \"Population\",\n",
    "                                      \"B01002_001E\": \"Median Age\",\n",
    "                                      \"B19013_001E\": \"Household Income\",\n",
    "                                      \"B19301_001E\": \"Per Capita Income\",\n",
    "                                      \"B17001_002E\": \"Poverty Count\",\n",
    "                                      \"NAME\": \"Name\", \"zip code tabulation area\": \"Zipcode\"})\n"
   ]
  },
  {
   "cell_type": "code",
   "execution_count": 4,
   "metadata": {},
   "outputs": [],
   "source": [
    "# census_pd.head(10)"
   ]
  },
  {
   "cell_type": "code",
   "execution_count": 5,
   "metadata": {},
   "outputs": [
    {
     "data": {
      "text/plain": [
       "[{'NAME': 'ZCTA5 77009',\n",
       "  'B19013_001E': 47011.0,\n",
       "  'B01003_001E': 38019.0,\n",
       "  'B01002_001E': 34.5,\n",
       "  'B19301_001E': 30474.0,\n",
       "  'B17001_002E': 9905.0,\n",
       "  'zip code tabulation area': '77009'}]"
      ]
     },
     "execution_count": 5,
     "metadata": {},
     "output_type": "execute_result"
    }
   ],
   "source": [
    "census_data "
   ]
  },
  {
   "cell_type": "code",
   "execution_count": 6,
   "metadata": {},
   "outputs": [
    {
     "data": {
      "text/plain": [
       "'ZCTA5 77009'"
      ]
     },
     "execution_count": 6,
     "metadata": {},
     "output_type": "execute_result"
    }
   ],
   "source": [
    "census_data[0][\"NAME\"]"
   ]
  },
  {
   "cell_type": "code",
   "execution_count": 7,
   "metadata": {},
   "outputs": [],
   "source": [
    "# dictionary = {'NAME' : [],\n",
    "#              \"B19013_001E\" : [],\n",
    "#              \"B01003_001E\" : [],\n",
    "#              \"B01002_001E\" : [],\n",
    "#              \"B19301_001E\" : [],\n",
    "#              \"B17001_002E\" : [],\n",
    "#              \"zip code tabulation area\" : []}\n",
    "# dictionary[\"NAME\"] = 'Team7'\n",
    "# dictionary"
   ]
  },
  {
   "cell_type": "code",
   "execution_count": 17,
   "metadata": {},
   "outputs": [
    {
     "data": {
      "text/plain": [
       "{'NAME': ['ZCTA5 77009', 'ZCTA5 77009', 'ZCTA5 77009'],\n",
       " 'B19013_001E': [47011.0, 47011.0, 47011.0],\n",
       " 'B01003_001E': [38019.0, 38019.0, 38019.0],\n",
       " 'B01002_001E': [34.5, 34.5, 34.5],\n",
       " 'B19301_001E': [30474.0, 30474.0, 30474.0],\n",
       " 'B17001_002E': [9905.0, 9905.0, 9905.0],\n",
       " 'zip code tabulation area': ['77009', '77009', '77009']}"
      ]
     },
     "execution_count": 17,
     "metadata": {},
     "output_type": "execute_result"
    }
   ],
   "source": [
    "dictionary = {'NAME' : [],\n",
    "             \"B19013_001E\" : [],\n",
    "             \"B01003_001E\" : [],\n",
    "             \"B01002_001E\" : [],\n",
    "             \"B19301_001E\" : [],\n",
    "             \"B17001_002E\" : [],\n",
    "             \"zip code tabulation area\" : []}\n",
    "\n",
    "hou_zips = ['77007', '77008', '77009']\n",
    "\n",
    "for z in hou_zips:\n",
    "    c = Census(api_key, year=2016)\n",
    "    \n",
    "    census_loop = c.acs5.get((\"NAME\", \"B19013_001E\", \"B01003_001E\",\n",
    "                              \"B01002_001E\", \"B19301_001E\",\n",
    "                              \"B17001_002E\"), {'for': f'zip code tabulation area:{z}'})\n",
    "#     print(census_loop)\n",
    "    dictionary['NAME'].append(census_data[0]['NAME'])\n",
    "    dictionary['B19013_001E'].append(census_data[0][\"B19013_001E\"])\n",
    "    dictionary['B01003_001E'].append(census_data[0][\"B01003_001E\"])\n",
    "    dictionary['B01002_001E'].append(census_data[0][\"B01002_001E\"])\n",
    "    dictionary['B19301_001E'].append(census_data[0][\"B19301_001E\"])\n",
    "    dictionary['B17001_002E'].append(census_data[0][\"B17001_002E\"])\n",
    "    dictionary['zip code tabulation area'].append(census_data[0][\"zip code tabulation area\"])\n",
    "\n",
    "dictionary\n",
    "                                               "
   ]
  },
  {
   "cell_type": "code",
   "execution_count": null,
   "metadata": {},
   "outputs": [],
   "source": []
  }
 ],
 "metadata": {
  "kernelspec": {
   "display_name": "Python 3",
   "language": "python",
   "name": "python3"
  },
  "language_info": {
   "codemirror_mode": {
    "name": "ipython",
    "version": 3
   },
   "file_extension": ".py",
   "mimetype": "text/x-python",
   "name": "python",
   "nbconvert_exporter": "python",
   "pygments_lexer": "ipython3",
   "version": "3.7.3"
  }
 },
 "nbformat": 4,
 "nbformat_minor": 2
}
