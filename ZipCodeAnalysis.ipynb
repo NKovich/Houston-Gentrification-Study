{
 "cells": [
  {
   "cell_type": "code",
   "execution_count": 1,
   "metadata": {},
   "outputs": [],
   "source": [
    "# Dependencies\n",
    "import numpy as np\n",
    "import pandas as pd\n",
    "import matplotlib.pyplot as plt\n",
    "from matplotlib.pyplot import figure\n",
    "import requests\n",
    "# import plotly\n",
    "# import plotly.plotly as py\n",
    "# import plotly.graph_objs as go\n",
    "from census import Census\n",
    "\n",
    "# Census API Key\n",
    "from config import api_key\n",
    "c = Census(api_key, year=2016)\n",
    "#c.acs5.tables()"
   ]
  },
  {
   "cell_type": "code",
   "execution_count": 2,
   "metadata": {},
   "outputs": [],
   "source": [
    "# plotly.tools.set_credentials_file(username='saramichelee', api_key=plotly_key)"
   ]
  },
  {
   "cell_type": "code",
   "execution_count": 3,
   "metadata": {},
   "outputs": [],
   "source": [
    "# import plotly.plotly as py\n",
    "# import plotly.graph_objs as go"
   ]
  },
  {
   "cell_type": "code",
   "execution_count": null,
   "metadata": {},
   "outputs": [],
   "source": [
    "inner_zips=['77002','77003','77004','77005','77006','77007','77008','77009',\n",
    "            '77010','77011','77012','77019','77020','77021','77023','77025',\n",
    "            '77026','77027','77030']"
   ]
  },
  {
   "cell_type": "code",
   "execution_count": null,
   "metadata": {},
   "outputs": [],
   "source": [
    "dictionary = {'NAME' : [],\n",
    "              \"Year\" : [],\n",
    "             \"B19013_001E\" : [],\n",
    "             \"B01003_001E\" : [],\n",
    "             \"B01002_001E\" : [],\n",
    "             \"B19301_001E\" : [],\n",
    "             \"B17001_002E\" : [],\n",
    "             \"zip code tabulation area\" : []}\n",
    "\n",
    "hou_zips = inner_zips\n",
    "\n",
    "years = list(range(2012, 2018))\n",
    "\n",
    "for y in years:\n",
    "    c = Census(api_key, year=y)\n",
    "    for z in hou_zips:\n",
    "        census_loop = c.acs5.get((\"NAME\", \"B19013_001E\", \"B01003_001E\",\n",
    "                              \"B01002_001E\", \"B19301_001E\",\n",
    "                              \"B17001_002E\"), {'for': f'zip code tabulation area:{z}'})\n",
    "#         print(census_loop)\n",
    "        dictionary['NAME'].append(census_loop[0]['NAME'])\n",
    "        dictionary['Year'].append(y)\n",
    "        dictionary['B19013_001E'].append(census_loop[0][\"B19013_001E\"])\n",
    "        dictionary['B01003_001E'].append(census_loop[0][\"B01003_001E\"])\n",
    "        dictionary['B01002_001E'].append(census_loop[0][\"B01002_001E\"])\n",
    "        dictionary['B19301_001E'].append(census_loop[0][\"B19301_001E\"])\n",
    "        dictionary['B17001_002E'].append(census_loop[0][\"B17001_002E\"])\n",
    "        dictionary['zip code tabulation area'].append(census_loop[0][\"zip code tabulation area\"])\n",
    "\n",
    "# dictionary"
   ]
  },
  {
   "cell_type": "code",
   "execution_count": null,
   "metadata": {},
   "outputs": [],
   "source": [
    "census_df = pd.DataFrame(dictionary)\n",
    "census_df.head()"
   ]
  },
  {
   "cell_type": "code",
   "execution_count": null,
   "metadata": {},
   "outputs": [],
   "source": [
    "census_pd = census_df.rename(columns={\"B01003_001E\": \"Population\",\n",
    "                                      \"B01002_001E\": \"Median Age\",\n",
    "                                      \"B19013_001E\": \"Household Income\",\n",
    "                                      \"B19301_001E\": \"Per Capita Income\",\n",
    "                                      \"B17001_002E\": \"Poverty Count\",\n",
    "                                      \"NAME\": \"Name\", \"zip code tabulation area\": \"Zipcode\"})\n",
    "census_pd.head(20)"
   ]
  },
  {
   "cell_type": "code",
   "execution_count": null,
   "metadata": {},
   "outputs": [],
   "source": [
    "plt.plot(census_pd[\"Year\"], census_pd[\"Household Income\"])"
   ]
  },
  {
   "cell_type": "code",
   "execution_count": null,
   "metadata": {},
   "outputs": [],
   "source": [
    "plt.scatter(census_pd[\"Per Capita Income\"], census_pd[\"Poverty Count\"], marker=\"o\",\n",
    "            edgecolors=\"black\", linewidths=1.5,\n",
    "            s=census_pd[\"Median Age\"]/5, alpha=0.4, c=\"coral\")"
   ]
  },
  {
   "cell_type": "code",
   "execution_count": null,
   "metadata": {},
   "outputs": [],
   "source": [
    "df_77002 = census_pd[census_pd.Zipcode == '77002']\n",
    "df_77003 = census_pd[census_pd.Zipcode == '77003']\n",
    "df_77004 = census_pd[census_pd.Zipcode == '77004']\n",
    "df_77005 = census_pd[census_pd.Zipcode == '77005']\n",
    "df_77006 = census_pd[census_pd.Zipcode == '77006']\n",
    "df_77007 = census_pd[census_pd.Zipcode == '77007']\n",
    "df_77008 = census_pd[census_pd.Zipcode == '77008']\n",
    "df_77009 = census_pd[census_pd.Zipcode == '77009']\n",
    "df_77010 = census_pd[census_pd.Zipcode == '77010']\n",
    "df_77011 = census_pd[census_pd.Zipcode == '77011']\n",
    "df_77012 = census_pd[census_pd.Zipcode == '77012']\n",
    "df_77019 = census_pd[census_pd.Zipcode == '77019']\n",
    "df_77020 = census_pd[census_pd.Zipcode == '77020']\n",
    "df_77021 = census_pd[census_pd.Zipcode == '77021']\n",
    "df_77023 = census_pd[census_pd.Zipcode == '77023']\n",
    "df_77025 = census_pd[census_pd.Zipcode == '77025']\n",
    "df_77026 = census_pd[census_pd.Zipcode == '77026']\n",
    "df_77027 = census_pd[census_pd.Zipcode == '77027']\n",
    "df_77030 = census_pd[census_pd.Zipcode == '77030']"
   ]
  },
  {
   "cell_type": "code",
   "execution_count": null,
   "metadata": {},
   "outputs": [],
   "source": [
    "figure(num=None, figsize=(10,8))\n",
    "plt.plot(df_77002['Year'], df_77002['Household Income'])\n",
    "plt.plot(df_77003['Year'], df_77003['Household Income'])\n",
    "plt.plot(df_77004['Year'], df_77004['Household Income'])\n",
    "plt.plot(df_77005['Year'], df_77005['Household Income'])\n",
    "plt.plot(df_77006['Year'], df_77006['Household Income'])\n",
    "plt.plot(df_77007['Year'], df_77007['Household Income'])\n",
    "plt.plot(df_77008['Year'], df_77008['Household Income'])\n",
    "plt.plot(df_77009['Year'], df_77009['Household Income'])\n",
    "# plt.plot(df_77010['Year'], df_77010['Household Income'])\n",
    "plt.plot(df_77011['Year'], df_77011['Household Income'])\n",
    "plt.plot(df_77012['Year'], df_77012['Household Income'])\n",
    "plt.plot(df_77019['Year'], df_77019['Household Income'])\n",
    "plt.plot(df_77020['Year'], df_77020['Household Income'])\n",
    "plt.plot(df_77021['Year'], df_77021['Household Income'])\n",
    "plt.plot(df_77023['Year'], df_77023['Household Income'])\n",
    "plt.plot(df_77025['Year'], df_77025['Household Income'])\n",
    "plt.plot(df_77026['Year'], df_77026['Household Income'])\n",
    "plt.plot(df_77027['Year'], df_77027['Household Income'])\n",
    "plt.plot(df_77030['Year'], df_77030['Household Income'])\n",
    "\n",
    "\n",
    "plt.grid()"
   ]
  },
  {
   "cell_type": "code",
   "execution_count": null,
   "metadata": {},
   "outputs": [],
   "source": [
    "# trace = go.Scatter(\n",
    "#     x = df_77002['Year'],\n",
    "#     y = df_77002['Household Income']\n",
    "# )\n",
    "\n",
    "# data = [trace]\n",
    "\n",
    "# py.iplot(data, filename='basic-line')"
   ]
  },
  {
   "cell_type": "code",
   "execution_count": null,
   "metadata": {},
   "outputs": [],
   "source": []
  }
 ],
 "metadata": {
  "kernelspec": {
   "display_name": "Python 3",
   "language": "python",
   "name": "python3"
  },
  "language_info": {
   "codemirror_mode": {
    "name": "ipython",
    "version": 3
   },
   "file_extension": ".py",
   "mimetype": "text/x-python",
   "name": "python",
   "nbconvert_exporter": "python",
   "pygments_lexer": "ipython3",
   "version": "3.7.3"
  }
 },
 "nbformat": 4,
 "nbformat_minor": 2
}
