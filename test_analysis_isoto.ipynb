{
 "cells": [
  {
   "cell_type": "code",
   "execution_count": 1,
   "metadata": {},
   "outputs": [],
   "source": [
    "import warnings\n",
    "warnings.filterwarnings('ignore')"
   ]
  },
  {
   "cell_type": "code",
   "execution_count": 35,
   "metadata": {},
   "outputs": [],
   "source": [
    "#import dependencies\n",
    "import numpy as np\n",
    "import pandas as pd\n",
    "import matplotlib.pyplot as plt\n",
    "import scipy.stats as stats\n",
    "import seaborn as sns\n",
    "import plotly.express as px\n",
    "import plotly.graph_objects as go"
   ]
  },
  {
   "cell_type": "code",
   "execution_count": 3,
   "metadata": {},
   "outputs": [
    {
     "data": {
      "text/html": [
       "<div>\n",
       "<style scoped>\n",
       "    .dataframe tbody tr th:only-of-type {\n",
       "        vertical-align: middle;\n",
       "    }\n",
       "\n",
       "    .dataframe tbody tr th {\n",
       "        vertical-align: top;\n",
       "    }\n",
       "\n",
       "    .dataframe thead th {\n",
       "        text-align: right;\n",
       "    }\n",
       "</style>\n",
       "<table border=\"1\" class=\"dataframe\">\n",
       "  <thead>\n",
       "    <tr style=\"text-align: right;\">\n",
       "      <th></th>\n",
       "      <th>Unnamed: 0</th>\n",
       "      <th>Name</th>\n",
       "      <th>Year</th>\n",
       "      <th>Household Income</th>\n",
       "      <th>Population</th>\n",
       "      <th>Median Age</th>\n",
       "      <th>Per Capita Income</th>\n",
       "      <th>Poverty Count</th>\n",
       "      <th>Count Hisp/Latino</th>\n",
       "      <th>Counb Black/AfAm</th>\n",
       "      <th>Count AmIndian</th>\n",
       "      <th>Count Asian</th>\n",
       "      <th>Count White</th>\n",
       "      <th>Count Other Race</th>\n",
       "      <th>Zipcode</th>\n",
       "    </tr>\n",
       "  </thead>\n",
       "  <tbody>\n",
       "    <tr>\n",
       "      <th>0</th>\n",
       "      <td>0</td>\n",
       "      <td>ZCTA5 77002</td>\n",
       "      <td>2012</td>\n",
       "      <td>57165.0</td>\n",
       "      <td>11473.0</td>\n",
       "      <td>31.8</td>\n",
       "      <td>32514.0</td>\n",
       "      <td>813.0</td>\n",
       "      <td>3175.0</td>\n",
       "      <td>4002.0</td>\n",
       "      <td>6.0</td>\n",
       "      <td>232.0</td>\n",
       "      <td>4018.0</td>\n",
       "      <td>0.0</td>\n",
       "      <td>77002</td>\n",
       "    </tr>\n",
       "    <tr>\n",
       "      <th>1</th>\n",
       "      <td>1</td>\n",
       "      <td>ZCTA5 77003</td>\n",
       "      <td>2012</td>\n",
       "      <td>37664.0</td>\n",
       "      <td>10215.0</td>\n",
       "      <td>32.9</td>\n",
       "      <td>27248.0</td>\n",
       "      <td>3868.0</td>\n",
       "      <td>5351.0</td>\n",
       "      <td>2063.0</td>\n",
       "      <td>0.0</td>\n",
       "      <td>443.0</td>\n",
       "      <td>2318.0</td>\n",
       "      <td>26.0</td>\n",
       "      <td>77003</td>\n",
       "    </tr>\n",
       "    <tr>\n",
       "      <th>2</th>\n",
       "      <td>2</td>\n",
       "      <td>ZCTA5 77004</td>\n",
       "      <td>2012</td>\n",
       "      <td>39804.0</td>\n",
       "      <td>29853.0</td>\n",
       "      <td>31.6</td>\n",
       "      <td>29787.0</td>\n",
       "      <td>6957.0</td>\n",
       "      <td>3358.0</td>\n",
       "      <td>16520.0</td>\n",
       "      <td>10.0</td>\n",
       "      <td>2149.0</td>\n",
       "      <td>7198.0</td>\n",
       "      <td>120.0</td>\n",
       "      <td>77004</td>\n",
       "    </tr>\n",
       "    <tr>\n",
       "      <th>3</th>\n",
       "      <td>3</td>\n",
       "      <td>ZCTA5 77005</td>\n",
       "      <td>2012</td>\n",
       "      <td>153041.0</td>\n",
       "      <td>25740.0</td>\n",
       "      <td>38.5</td>\n",
       "      <td>88579.0</td>\n",
       "      <td>635.0</td>\n",
       "      <td>2076.0</td>\n",
       "      <td>746.0</td>\n",
       "      <td>25.0</td>\n",
       "      <td>2484.0</td>\n",
       "      <td>19856.0</td>\n",
       "      <td>60.0</td>\n",
       "      <td>77005</td>\n",
       "    </tr>\n",
       "    <tr>\n",
       "      <th>4</th>\n",
       "      <td>4</td>\n",
       "      <td>ZCTA5 77006</td>\n",
       "      <td>2012</td>\n",
       "      <td>63360.0</td>\n",
       "      <td>19856.0</td>\n",
       "      <td>36.9</td>\n",
       "      <td>60795.0</td>\n",
       "      <td>2647.0</td>\n",
       "      <td>3816.0</td>\n",
       "      <td>695.0</td>\n",
       "      <td>38.0</td>\n",
       "      <td>1127.0</td>\n",
       "      <td>13874.0</td>\n",
       "      <td>66.0</td>\n",
       "      <td>77006</td>\n",
       "    </tr>\n",
       "  </tbody>\n",
       "</table>\n",
       "</div>"
      ],
      "text/plain": [
       "   Unnamed: 0         Name  Year  Household Income  Population  Median Age  \\\n",
       "0           0  ZCTA5 77002  2012           57165.0     11473.0        31.8   \n",
       "1           1  ZCTA5 77003  2012           37664.0     10215.0        32.9   \n",
       "2           2  ZCTA5 77004  2012           39804.0     29853.0        31.6   \n",
       "3           3  ZCTA5 77005  2012          153041.0     25740.0        38.5   \n",
       "4           4  ZCTA5 77006  2012           63360.0     19856.0        36.9   \n",
       "\n",
       "   Per Capita Income  Poverty Count  Count Hisp/Latino  Counb Black/AfAm  \\\n",
       "0            32514.0          813.0             3175.0            4002.0   \n",
       "1            27248.0         3868.0             5351.0            2063.0   \n",
       "2            29787.0         6957.0             3358.0           16520.0   \n",
       "3            88579.0          635.0             2076.0             746.0   \n",
       "4            60795.0         2647.0             3816.0             695.0   \n",
       "\n",
       "   Count AmIndian  Count Asian  Count White  Count Other Race  Zipcode  \n",
       "0             6.0        232.0       4018.0               0.0    77002  \n",
       "1             0.0        443.0       2318.0              26.0    77003  \n",
       "2            10.0       2149.0       7198.0             120.0    77004  \n",
       "3            25.0       2484.0      19856.0              60.0    77005  \n",
       "4            38.0       1127.0      13874.0              66.0    77006  "
      ]
     },
     "execution_count": 3,
     "metadata": {},
     "output_type": "execute_result"
    }
   ],
   "source": [
    "#bring in CSV \n",
    "census_df = pd.read_csv(\"census_df_isoto-Copy1.csv\")\n",
    "census_df.head()"
   ]
  },
  {
   "cell_type": "code",
   "execution_count": 4,
   "metadata": {},
   "outputs": [
    {
     "data": {
      "text/plain": [
       "False"
      ]
     },
     "execution_count": 4,
     "metadata": {},
     "output_type": "execute_result"
    }
   ],
   "source": [
    "#see if there are null values in data\n",
    "census_df.isnull().values.any()"
   ]
  },
  {
   "cell_type": "code",
   "execution_count": 5,
   "metadata": {},
   "outputs": [
    {
     "data": {
      "text/html": [
       "<div>\n",
       "<style scoped>\n",
       "    .dataframe tbody tr th:only-of-type {\n",
       "        vertical-align: middle;\n",
       "    }\n",
       "\n",
       "    .dataframe tbody tr th {\n",
       "        vertical-align: top;\n",
       "    }\n",
       "\n",
       "    .dataframe thead th {\n",
       "        text-align: right;\n",
       "    }\n",
       "</style>\n",
       "<table border=\"1\" class=\"dataframe\">\n",
       "  <thead>\n",
       "    <tr style=\"text-align: right;\">\n",
       "      <th></th>\n",
       "      <th>Unnamed: 0</th>\n",
       "      <th>Name</th>\n",
       "      <th>Year</th>\n",
       "      <th>Household Income</th>\n",
       "      <th>Population</th>\n",
       "      <th>Median Age</th>\n",
       "      <th>Per Capita Income</th>\n",
       "      <th>Poverty Count</th>\n",
       "      <th>Count Hisp/Latino</th>\n",
       "      <th>Counb Black/AfAm</th>\n",
       "      <th>Count AmIndian</th>\n",
       "      <th>Count Asian</th>\n",
       "      <th>Count White</th>\n",
       "      <th>Count Other Race</th>\n",
       "      <th>Zipcode</th>\n",
       "    </tr>\n",
       "  </thead>\n",
       "  <tbody>\n",
       "    <tr>\n",
       "      <th>0</th>\n",
       "      <td>0</td>\n",
       "      <td>ZCTA5 77002</td>\n",
       "      <td>2012</td>\n",
       "      <td>57165.0</td>\n",
       "      <td>11473.0</td>\n",
       "      <td>31.8</td>\n",
       "      <td>32514.0</td>\n",
       "      <td>813.0</td>\n",
       "      <td>3175.0</td>\n",
       "      <td>4002.0</td>\n",
       "      <td>6.0</td>\n",
       "      <td>232.0</td>\n",
       "      <td>4018.0</td>\n",
       "      <td>0.0</td>\n",
       "      <td>77002</td>\n",
       "    </tr>\n",
       "    <tr>\n",
       "      <th>1</th>\n",
       "      <td>1</td>\n",
       "      <td>ZCTA5 77003</td>\n",
       "      <td>2012</td>\n",
       "      <td>37664.0</td>\n",
       "      <td>10215.0</td>\n",
       "      <td>32.9</td>\n",
       "      <td>27248.0</td>\n",
       "      <td>3868.0</td>\n",
       "      <td>5351.0</td>\n",
       "      <td>2063.0</td>\n",
       "      <td>0.0</td>\n",
       "      <td>443.0</td>\n",
       "      <td>2318.0</td>\n",
       "      <td>26.0</td>\n",
       "      <td>77003</td>\n",
       "    </tr>\n",
       "    <tr>\n",
       "      <th>2</th>\n",
       "      <td>2</td>\n",
       "      <td>ZCTA5 77004</td>\n",
       "      <td>2012</td>\n",
       "      <td>39804.0</td>\n",
       "      <td>29853.0</td>\n",
       "      <td>31.6</td>\n",
       "      <td>29787.0</td>\n",
       "      <td>6957.0</td>\n",
       "      <td>3358.0</td>\n",
       "      <td>16520.0</td>\n",
       "      <td>10.0</td>\n",
       "      <td>2149.0</td>\n",
       "      <td>7198.0</td>\n",
       "      <td>120.0</td>\n",
       "      <td>77004</td>\n",
       "    </tr>\n",
       "    <tr>\n",
       "      <th>3</th>\n",
       "      <td>3</td>\n",
       "      <td>ZCTA5 77005</td>\n",
       "      <td>2012</td>\n",
       "      <td>153041.0</td>\n",
       "      <td>25740.0</td>\n",
       "      <td>38.5</td>\n",
       "      <td>88579.0</td>\n",
       "      <td>635.0</td>\n",
       "      <td>2076.0</td>\n",
       "      <td>746.0</td>\n",
       "      <td>25.0</td>\n",
       "      <td>2484.0</td>\n",
       "      <td>19856.0</td>\n",
       "      <td>60.0</td>\n",
       "      <td>77005</td>\n",
       "    </tr>\n",
       "    <tr>\n",
       "      <th>4</th>\n",
       "      <td>4</td>\n",
       "      <td>ZCTA5 77006</td>\n",
       "      <td>2012</td>\n",
       "      <td>63360.0</td>\n",
       "      <td>19856.0</td>\n",
       "      <td>36.9</td>\n",
       "      <td>60795.0</td>\n",
       "      <td>2647.0</td>\n",
       "      <td>3816.0</td>\n",
       "      <td>695.0</td>\n",
       "      <td>38.0</td>\n",
       "      <td>1127.0</td>\n",
       "      <td>13874.0</td>\n",
       "      <td>66.0</td>\n",
       "      <td>77006</td>\n",
       "    </tr>\n",
       "  </tbody>\n",
       "</table>\n",
       "</div>"
      ],
      "text/plain": [
       "   Unnamed: 0         Name  Year  Household Income  Population  Median Age  \\\n",
       "0           0  ZCTA5 77002  2012           57165.0     11473.0        31.8   \n",
       "1           1  ZCTA5 77003  2012           37664.0     10215.0        32.9   \n",
       "2           2  ZCTA5 77004  2012           39804.0     29853.0        31.6   \n",
       "3           3  ZCTA5 77005  2012          153041.0     25740.0        38.5   \n",
       "4           4  ZCTA5 77006  2012           63360.0     19856.0        36.9   \n",
       "\n",
       "   Per Capita Income  Poverty Count  Count Hisp/Latino  Counb Black/AfAm  \\\n",
       "0            32514.0          813.0             3175.0            4002.0   \n",
       "1            27248.0         3868.0             5351.0            2063.0   \n",
       "2            29787.0         6957.0             3358.0           16520.0   \n",
       "3            88579.0          635.0             2076.0             746.0   \n",
       "4            60795.0         2647.0             3816.0             695.0   \n",
       "\n",
       "   Count AmIndian  Count Asian  Count White  Count Other Race  Zipcode  \n",
       "0             6.0        232.0       4018.0               0.0    77002  \n",
       "1             0.0        443.0       2318.0              26.0    77003  \n",
       "2            10.0       2149.0       7198.0             120.0    77004  \n",
       "3            25.0       2484.0      19856.0              60.0    77005  \n",
       "4            38.0       1127.0      13874.0              66.0    77006  "
      ]
     },
     "execution_count": 5,
     "metadata": {},
     "output_type": "execute_result"
    }
   ],
   "source": [
    "#do an ANOVA test! look at zip codes, and the household income changes per race\n",
    "\n",
    "#want to look at differences etween group means, the groups being years and changes of race and income in those zips\n",
    "#split up data into years\n",
    "yr2012 = census_df[census_df[\"Year\"] ==2012]\n",
    "# yr2013 = census_df[census_df[\"Year\"]==2013]\n",
    "# yr2014 = census_df[census_df[\"Year\"] ==2014]\n",
    "# yr2015 = census_df[census_df[\"Year\"]==2015]\n",
    "# yr2016 = census_df[census_df[\"Year\"]==2016]\n",
    "# yr2017 = census_df[census_df[\"Year\"]==2017]\n",
    "\n",
    "df_test = yr2012.groupby([\"Zipcode\"])\n",
    "hisp_lat_count = df_test[\"Count Hisp/Latino\"].sum()\n",
    "af_am_count = df_test[\"Counb Black/AfAm\"].sum()\n",
    "\n",
    "\n",
    "# group2 = census_pd[census_pd[\"Zipcode\"]== \"77003\"][\"Counb Black/AfAm\"]\n",
    "# group3 = census_pd[census_pd[\"Zipcode\"]== \"77030\"][\"Counb Black/AfAm\"]\n",
    "\n",
    "#df=yr2012.pivot_table(df,index='Count Hisp/Latino',columns='platform',values='count')\n",
    "\n",
    "yr2012.head()"
   ]
  },
  {
   "cell_type": "code",
   "execution_count": 6,
   "metadata": {},
   "outputs": [
    {
     "data": {
      "text/html": [
       "<div>\n",
       "<style scoped>\n",
       "    .dataframe tbody tr th:only-of-type {\n",
       "        vertical-align: middle;\n",
       "    }\n",
       "\n",
       "    .dataframe tbody tr th {\n",
       "        vertical-align: top;\n",
       "    }\n",
       "\n",
       "    .dataframe thead th {\n",
       "        text-align: right;\n",
       "    }\n",
       "</style>\n",
       "<table border=\"1\" class=\"dataframe\">\n",
       "  <thead>\n",
       "    <tr style=\"text-align: right;\">\n",
       "      <th></th>\n",
       "      <th>Zipcode</th>\n",
       "      <th>Year</th>\n",
       "      <th>Household Income</th>\n",
       "      <th>Population</th>\n",
       "      <th>Median Age</th>\n",
       "      <th>Per Capita Income</th>\n",
       "      <th>Poverty Count</th>\n",
       "      <th>Race</th>\n",
       "      <th>Race Count</th>\n",
       "    </tr>\n",
       "  </thead>\n",
       "  <tbody>\n",
       "    <tr>\n",
       "      <th>0</th>\n",
       "      <td>77002</td>\n",
       "      <td>2012</td>\n",
       "      <td>57165.0</td>\n",
       "      <td>11473.0</td>\n",
       "      <td>31.8</td>\n",
       "      <td>32514.0</td>\n",
       "      <td>813.0</td>\n",
       "      <td>Count Hisp/Latino</td>\n",
       "      <td>3175.0</td>\n",
       "    </tr>\n",
       "    <tr>\n",
       "      <th>1</th>\n",
       "      <td>77002</td>\n",
       "      <td>2012</td>\n",
       "      <td>57165.0</td>\n",
       "      <td>11473.0</td>\n",
       "      <td>31.8</td>\n",
       "      <td>32514.0</td>\n",
       "      <td>813.0</td>\n",
       "      <td>Counb Black/AfAm</td>\n",
       "      <td>4002.0</td>\n",
       "    </tr>\n",
       "    <tr>\n",
       "      <th>2</th>\n",
       "      <td>77002</td>\n",
       "      <td>2012</td>\n",
       "      <td>57165.0</td>\n",
       "      <td>11473.0</td>\n",
       "      <td>31.8</td>\n",
       "      <td>32514.0</td>\n",
       "      <td>813.0</td>\n",
       "      <td>Count AmIndian</td>\n",
       "      <td>6.0</td>\n",
       "    </tr>\n",
       "    <tr>\n",
       "      <th>3</th>\n",
       "      <td>77002</td>\n",
       "      <td>2012</td>\n",
       "      <td>57165.0</td>\n",
       "      <td>11473.0</td>\n",
       "      <td>31.8</td>\n",
       "      <td>32514.0</td>\n",
       "      <td>813.0</td>\n",
       "      <td>Count Asian</td>\n",
       "      <td>232.0</td>\n",
       "    </tr>\n",
       "    <tr>\n",
       "      <th>4</th>\n",
       "      <td>77002</td>\n",
       "      <td>2012</td>\n",
       "      <td>57165.0</td>\n",
       "      <td>11473.0</td>\n",
       "      <td>31.8</td>\n",
       "      <td>32514.0</td>\n",
       "      <td>813.0</td>\n",
       "      <td>Count White</td>\n",
       "      <td>4018.0</td>\n",
       "    </tr>\n",
       "  </tbody>\n",
       "</table>\n",
       "</div>"
      ],
      "text/plain": [
       "   Zipcode  Year  Household Income  Population  Median Age  Per Capita Income  \\\n",
       "0    77002  2012           57165.0     11473.0        31.8            32514.0   \n",
       "1    77002  2012           57165.0     11473.0        31.8            32514.0   \n",
       "2    77002  2012           57165.0     11473.0        31.8            32514.0   \n",
       "3    77002  2012           57165.0     11473.0        31.8            32514.0   \n",
       "4    77002  2012           57165.0     11473.0        31.8            32514.0   \n",
       "\n",
       "   Poverty Count               Race  Race Count  \n",
       "0          813.0  Count Hisp/Latino      3175.0  \n",
       "1          813.0   Counb Black/AfAm      4002.0  \n",
       "2          813.0     Count AmIndian         6.0  \n",
       "3          813.0        Count Asian       232.0  \n",
       "4          813.0        Count White      4018.0  "
      ]
     },
     "execution_count": 6,
     "metadata": {},
     "output_type": "execute_result"
    }
   ],
   "source": [
    "# drop unnamed and name columns \n",
    "data = census_df[['Zipcode', 'Year',\n",
    "            'Count Hisp/Latino',\n",
    "            'Counb Black/AfAm', \n",
    "             'Count AmIndian', \n",
    "             'Count Asian', \n",
    "             'Count White',\n",
    "            'Count Other Race','Household Income', 'Population', 'Median Age',\n",
    "            'Per Capita Income', 'Poverty Count', ]]\n",
    "\n",
    "# MELT the data\n",
    "melted_df = data.melt(id_vars=['Zipcode','Year', 'Household Income', \n",
    "                               'Population','Median Age',\n",
    "                               'Per Capita Income', 'Poverty Count'], var_name='Race', value_name='Race Count')\n",
    "\n",
    "# sort it back by zipcode and Year \n",
    "final_df = melted_df.sort_values(['Zipcode', 'Year'], ascending=[True, True])\n",
    "# reset index\n",
    "final_df = final_df.reset_index(drop=True)\n",
    "\n",
    "# print first five rows\n",
    "final_df.head()\n"
   ]
  },
  {
   "cell_type": "code",
   "execution_count": 54,
   "metadata": {},
   "outputs": [],
   "source": [
    "#the three zip codes we want to look at\n",
    "zip_003 = final_df[final_df[\"Zipcode\"] ==77003]\n",
    "zip_007 = final_df[final_df[\"Zipcode\"]==77007]\n",
    "zip_008 = final_df[final_df[\"Zipcode\"]==77008]\n",
    "zip_026 = final_df[final_df[\"Zipcode\"]==77026]"
   ]
  },
  {
   "cell_type": "code",
   "execution_count": 8,
   "metadata": {},
   "outputs": [
    {
     "data": {
      "text/html": [
       "<div>\n",
       "<style scoped>\n",
       "    .dataframe tbody tr th:only-of-type {\n",
       "        vertical-align: middle;\n",
       "    }\n",
       "\n",
       "    .dataframe tbody tr th {\n",
       "        vertical-align: top;\n",
       "    }\n",
       "\n",
       "    .dataframe thead th {\n",
       "        text-align: right;\n",
       "    }\n",
       "</style>\n",
       "<table border=\"1\" class=\"dataframe\">\n",
       "  <thead>\n",
       "    <tr style=\"text-align: right;\">\n",
       "      <th></th>\n",
       "      <th>Zipcode</th>\n",
       "      <th>Year</th>\n",
       "      <th>Household Income</th>\n",
       "      <th>Population</th>\n",
       "      <th>Median Age</th>\n",
       "      <th>Per Capita Income</th>\n",
       "      <th>Poverty Count</th>\n",
       "      <th>Race</th>\n",
       "      <th>Race Count</th>\n",
       "    </tr>\n",
       "  </thead>\n",
       "  <tbody>\n",
       "    <tr>\n",
       "      <th>36</th>\n",
       "      <td>77003</td>\n",
       "      <td>2012</td>\n",
       "      <td>37664.0</td>\n",
       "      <td>10215.0</td>\n",
       "      <td>32.9</td>\n",
       "      <td>27248.0</td>\n",
       "      <td>3868.0</td>\n",
       "      <td>Count Hisp/Latino</td>\n",
       "      <td>5351.0</td>\n",
       "    </tr>\n",
       "    <tr>\n",
       "      <th>37</th>\n",
       "      <td>77003</td>\n",
       "      <td>2012</td>\n",
       "      <td>37664.0</td>\n",
       "      <td>10215.0</td>\n",
       "      <td>32.9</td>\n",
       "      <td>27248.0</td>\n",
       "      <td>3868.0</td>\n",
       "      <td>Counb Black/AfAm</td>\n",
       "      <td>2063.0</td>\n",
       "    </tr>\n",
       "    <tr>\n",
       "      <th>38</th>\n",
       "      <td>77003</td>\n",
       "      <td>2012</td>\n",
       "      <td>37664.0</td>\n",
       "      <td>10215.0</td>\n",
       "      <td>32.9</td>\n",
       "      <td>27248.0</td>\n",
       "      <td>3868.0</td>\n",
       "      <td>Count AmIndian</td>\n",
       "      <td>0.0</td>\n",
       "    </tr>\n",
       "    <tr>\n",
       "      <th>39</th>\n",
       "      <td>77003</td>\n",
       "      <td>2012</td>\n",
       "      <td>37664.0</td>\n",
       "      <td>10215.0</td>\n",
       "      <td>32.9</td>\n",
       "      <td>27248.0</td>\n",
       "      <td>3868.0</td>\n",
       "      <td>Count Asian</td>\n",
       "      <td>443.0</td>\n",
       "    </tr>\n",
       "    <tr>\n",
       "      <th>40</th>\n",
       "      <td>77003</td>\n",
       "      <td>2012</td>\n",
       "      <td>37664.0</td>\n",
       "      <td>10215.0</td>\n",
       "      <td>32.9</td>\n",
       "      <td>27248.0</td>\n",
       "      <td>3868.0</td>\n",
       "      <td>Count White</td>\n",
       "      <td>2318.0</td>\n",
       "    </tr>\n",
       "    <tr>\n",
       "      <th>41</th>\n",
       "      <td>77003</td>\n",
       "      <td>2012</td>\n",
       "      <td>37664.0</td>\n",
       "      <td>10215.0</td>\n",
       "      <td>32.9</td>\n",
       "      <td>27248.0</td>\n",
       "      <td>3868.0</td>\n",
       "      <td>Count Other Race</td>\n",
       "      <td>26.0</td>\n",
       "    </tr>\n",
       "    <tr>\n",
       "      <th>42</th>\n",
       "      <td>77003</td>\n",
       "      <td>2013</td>\n",
       "      <td>36412.0</td>\n",
       "      <td>10617.0</td>\n",
       "      <td>30.8</td>\n",
       "      <td>27263.0</td>\n",
       "      <td>4130.0</td>\n",
       "      <td>Count Hisp/Latino</td>\n",
       "      <td>5615.0</td>\n",
       "    </tr>\n",
       "    <tr>\n",
       "      <th>43</th>\n",
       "      <td>77003</td>\n",
       "      <td>2013</td>\n",
       "      <td>36412.0</td>\n",
       "      <td>10617.0</td>\n",
       "      <td>30.8</td>\n",
       "      <td>27263.0</td>\n",
       "      <td>4130.0</td>\n",
       "      <td>Counb Black/AfAm</td>\n",
       "      <td>1885.0</td>\n",
       "    </tr>\n",
       "    <tr>\n",
       "      <th>44</th>\n",
       "      <td>77003</td>\n",
       "      <td>2013</td>\n",
       "      <td>36412.0</td>\n",
       "      <td>10617.0</td>\n",
       "      <td>30.8</td>\n",
       "      <td>27263.0</td>\n",
       "      <td>4130.0</td>\n",
       "      <td>Count AmIndian</td>\n",
       "      <td>0.0</td>\n",
       "    </tr>\n",
       "    <tr>\n",
       "      <th>45</th>\n",
       "      <td>77003</td>\n",
       "      <td>2013</td>\n",
       "      <td>36412.0</td>\n",
       "      <td>10617.0</td>\n",
       "      <td>30.8</td>\n",
       "      <td>27263.0</td>\n",
       "      <td>4130.0</td>\n",
       "      <td>Count Asian</td>\n",
       "      <td>587.0</td>\n",
       "    </tr>\n",
       "    <tr>\n",
       "      <th>46</th>\n",
       "      <td>77003</td>\n",
       "      <td>2013</td>\n",
       "      <td>36412.0</td>\n",
       "      <td>10617.0</td>\n",
       "      <td>30.8</td>\n",
       "      <td>27263.0</td>\n",
       "      <td>4130.0</td>\n",
       "      <td>Count White</td>\n",
       "      <td>2479.0</td>\n",
       "    </tr>\n",
       "    <tr>\n",
       "      <th>47</th>\n",
       "      <td>77003</td>\n",
       "      <td>2013</td>\n",
       "      <td>36412.0</td>\n",
       "      <td>10617.0</td>\n",
       "      <td>30.8</td>\n",
       "      <td>27263.0</td>\n",
       "      <td>4130.0</td>\n",
       "      <td>Count Other Race</td>\n",
       "      <td>29.0</td>\n",
       "    </tr>\n",
       "    <tr>\n",
       "      <th>48</th>\n",
       "      <td>77003</td>\n",
       "      <td>2014</td>\n",
       "      <td>40647.0</td>\n",
       "      <td>10760.0</td>\n",
       "      <td>31.2</td>\n",
       "      <td>30724.0</td>\n",
       "      <td>4145.0</td>\n",
       "      <td>Count Hisp/Latino</td>\n",
       "      <td>5577.0</td>\n",
       "    </tr>\n",
       "    <tr>\n",
       "      <th>49</th>\n",
       "      <td>77003</td>\n",
       "      <td>2014</td>\n",
       "      <td>40647.0</td>\n",
       "      <td>10760.0</td>\n",
       "      <td>31.2</td>\n",
       "      <td>30724.0</td>\n",
       "      <td>4145.0</td>\n",
       "      <td>Counb Black/AfAm</td>\n",
       "      <td>2164.0</td>\n",
       "    </tr>\n",
       "    <tr>\n",
       "      <th>50</th>\n",
       "      <td>77003</td>\n",
       "      <td>2014</td>\n",
       "      <td>40647.0</td>\n",
       "      <td>10760.0</td>\n",
       "      <td>31.2</td>\n",
       "      <td>30724.0</td>\n",
       "      <td>4145.0</td>\n",
       "      <td>Count AmIndian</td>\n",
       "      <td>0.0</td>\n",
       "    </tr>\n",
       "    <tr>\n",
       "      <th>51</th>\n",
       "      <td>77003</td>\n",
       "      <td>2014</td>\n",
       "      <td>40647.0</td>\n",
       "      <td>10760.0</td>\n",
       "      <td>31.2</td>\n",
       "      <td>30724.0</td>\n",
       "      <td>4145.0</td>\n",
       "      <td>Count Asian</td>\n",
       "      <td>426.0</td>\n",
       "    </tr>\n",
       "    <tr>\n",
       "      <th>52</th>\n",
       "      <td>77003</td>\n",
       "      <td>2014</td>\n",
       "      <td>40647.0</td>\n",
       "      <td>10760.0</td>\n",
       "      <td>31.2</td>\n",
       "      <td>30724.0</td>\n",
       "      <td>4145.0</td>\n",
       "      <td>Count White</td>\n",
       "      <td>2477.0</td>\n",
       "    </tr>\n",
       "    <tr>\n",
       "      <th>53</th>\n",
       "      <td>77003</td>\n",
       "      <td>2014</td>\n",
       "      <td>40647.0</td>\n",
       "      <td>10760.0</td>\n",
       "      <td>31.2</td>\n",
       "      <td>30724.0</td>\n",
       "      <td>4145.0</td>\n",
       "      <td>Count Other Race</td>\n",
       "      <td>35.0</td>\n",
       "    </tr>\n",
       "    <tr>\n",
       "      <th>54</th>\n",
       "      <td>77003</td>\n",
       "      <td>2015</td>\n",
       "      <td>39039.0</td>\n",
       "      <td>10438.0</td>\n",
       "      <td>32.7</td>\n",
       "      <td>28746.0</td>\n",
       "      <td>3987.0</td>\n",
       "      <td>Count Hisp/Latino</td>\n",
       "      <td>5320.0</td>\n",
       "    </tr>\n",
       "    <tr>\n",
       "      <th>55</th>\n",
       "      <td>77003</td>\n",
       "      <td>2015</td>\n",
       "      <td>39039.0</td>\n",
       "      <td>10438.0</td>\n",
       "      <td>32.7</td>\n",
       "      <td>28746.0</td>\n",
       "      <td>3987.0</td>\n",
       "      <td>Counb Black/AfAm</td>\n",
       "      <td>2062.0</td>\n",
       "    </tr>\n",
       "    <tr>\n",
       "      <th>56</th>\n",
       "      <td>77003</td>\n",
       "      <td>2015</td>\n",
       "      <td>39039.0</td>\n",
       "      <td>10438.0</td>\n",
       "      <td>32.7</td>\n",
       "      <td>28746.0</td>\n",
       "      <td>3987.0</td>\n",
       "      <td>Count AmIndian</td>\n",
       "      <td>0.0</td>\n",
       "    </tr>\n",
       "    <tr>\n",
       "      <th>57</th>\n",
       "      <td>77003</td>\n",
       "      <td>2015</td>\n",
       "      <td>39039.0</td>\n",
       "      <td>10438.0</td>\n",
       "      <td>32.7</td>\n",
       "      <td>28746.0</td>\n",
       "      <td>3987.0</td>\n",
       "      <td>Count Asian</td>\n",
       "      <td>499.0</td>\n",
       "    </tr>\n",
       "    <tr>\n",
       "      <th>58</th>\n",
       "      <td>77003</td>\n",
       "      <td>2015</td>\n",
       "      <td>39039.0</td>\n",
       "      <td>10438.0</td>\n",
       "      <td>32.7</td>\n",
       "      <td>28746.0</td>\n",
       "      <td>3987.0</td>\n",
       "      <td>Count White</td>\n",
       "      <td>2378.0</td>\n",
       "    </tr>\n",
       "    <tr>\n",
       "      <th>59</th>\n",
       "      <td>77003</td>\n",
       "      <td>2015</td>\n",
       "      <td>39039.0</td>\n",
       "      <td>10438.0</td>\n",
       "      <td>32.7</td>\n",
       "      <td>28746.0</td>\n",
       "      <td>3987.0</td>\n",
       "      <td>Count Other Race</td>\n",
       "      <td>5.0</td>\n",
       "    </tr>\n",
       "    <tr>\n",
       "      <th>60</th>\n",
       "      <td>77003</td>\n",
       "      <td>2016</td>\n",
       "      <td>46267.0</td>\n",
       "      <td>10097.0</td>\n",
       "      <td>33.0</td>\n",
       "      <td>32771.0</td>\n",
       "      <td>3246.0</td>\n",
       "      <td>Count Hisp/Latino</td>\n",
       "      <td>5441.0</td>\n",
       "    </tr>\n",
       "    <tr>\n",
       "      <th>61</th>\n",
       "      <td>77003</td>\n",
       "      <td>2016</td>\n",
       "      <td>46267.0</td>\n",
       "      <td>10097.0</td>\n",
       "      <td>33.0</td>\n",
       "      <td>32771.0</td>\n",
       "      <td>3246.0</td>\n",
       "      <td>Counb Black/AfAm</td>\n",
       "      <td>1843.0</td>\n",
       "    </tr>\n",
       "    <tr>\n",
       "      <th>62</th>\n",
       "      <td>77003</td>\n",
       "      <td>2016</td>\n",
       "      <td>46267.0</td>\n",
       "      <td>10097.0</td>\n",
       "      <td>33.0</td>\n",
       "      <td>32771.0</td>\n",
       "      <td>3246.0</td>\n",
       "      <td>Count AmIndian</td>\n",
       "      <td>0.0</td>\n",
       "    </tr>\n",
       "    <tr>\n",
       "      <th>63</th>\n",
       "      <td>77003</td>\n",
       "      <td>2016</td>\n",
       "      <td>46267.0</td>\n",
       "      <td>10097.0</td>\n",
       "      <td>33.0</td>\n",
       "      <td>32771.0</td>\n",
       "      <td>3246.0</td>\n",
       "      <td>Count Asian</td>\n",
       "      <td>531.0</td>\n",
       "    </tr>\n",
       "    <tr>\n",
       "      <th>64</th>\n",
       "      <td>77003</td>\n",
       "      <td>2016</td>\n",
       "      <td>46267.0</td>\n",
       "      <td>10097.0</td>\n",
       "      <td>33.0</td>\n",
       "      <td>32771.0</td>\n",
       "      <td>3246.0</td>\n",
       "      <td>Count White</td>\n",
       "      <td>2079.0</td>\n",
       "    </tr>\n",
       "    <tr>\n",
       "      <th>65</th>\n",
       "      <td>77003</td>\n",
       "      <td>2016</td>\n",
       "      <td>46267.0</td>\n",
       "      <td>10097.0</td>\n",
       "      <td>33.0</td>\n",
       "      <td>32771.0</td>\n",
       "      <td>3246.0</td>\n",
       "      <td>Count Other Race</td>\n",
       "      <td>5.0</td>\n",
       "    </tr>\n",
       "    <tr>\n",
       "      <th>66</th>\n",
       "      <td>77003</td>\n",
       "      <td>2017</td>\n",
       "      <td>59575.0</td>\n",
       "      <td>9646.0</td>\n",
       "      <td>34.1</td>\n",
       "      <td>37760.0</td>\n",
       "      <td>2665.0</td>\n",
       "      <td>Count Hisp/Latino</td>\n",
       "      <td>4834.0</td>\n",
       "    </tr>\n",
       "    <tr>\n",
       "      <th>67</th>\n",
       "      <td>77003</td>\n",
       "      <td>2017</td>\n",
       "      <td>59575.0</td>\n",
       "      <td>9646.0</td>\n",
       "      <td>34.1</td>\n",
       "      <td>37760.0</td>\n",
       "      <td>2665.0</td>\n",
       "      <td>Counb Black/AfAm</td>\n",
       "      <td>2254.0</td>\n",
       "    </tr>\n",
       "    <tr>\n",
       "      <th>68</th>\n",
       "      <td>77003</td>\n",
       "      <td>2017</td>\n",
       "      <td>59575.0</td>\n",
       "      <td>9646.0</td>\n",
       "      <td>34.1</td>\n",
       "      <td>37760.0</td>\n",
       "      <td>2665.0</td>\n",
       "      <td>Count AmIndian</td>\n",
       "      <td>0.0</td>\n",
       "    </tr>\n",
       "    <tr>\n",
       "      <th>69</th>\n",
       "      <td>77003</td>\n",
       "      <td>2017</td>\n",
       "      <td>59575.0</td>\n",
       "      <td>9646.0</td>\n",
       "      <td>34.1</td>\n",
       "      <td>37760.0</td>\n",
       "      <td>2665.0</td>\n",
       "      <td>Count Asian</td>\n",
       "      <td>507.0</td>\n",
       "    </tr>\n",
       "    <tr>\n",
       "      <th>70</th>\n",
       "      <td>77003</td>\n",
       "      <td>2017</td>\n",
       "      <td>59575.0</td>\n",
       "      <td>9646.0</td>\n",
       "      <td>34.1</td>\n",
       "      <td>37760.0</td>\n",
       "      <td>2665.0</td>\n",
       "      <td>Count White</td>\n",
       "      <td>1807.0</td>\n",
       "    </tr>\n",
       "    <tr>\n",
       "      <th>71</th>\n",
       "      <td>77003</td>\n",
       "      <td>2017</td>\n",
       "      <td>59575.0</td>\n",
       "      <td>9646.0</td>\n",
       "      <td>34.1</td>\n",
       "      <td>37760.0</td>\n",
       "      <td>2665.0</td>\n",
       "      <td>Count Other Race</td>\n",
       "      <td>7.0</td>\n",
       "    </tr>\n",
       "  </tbody>\n",
       "</table>\n",
       "</div>"
      ],
      "text/plain": [
       "    Zipcode  Year  Household Income  Population  Median Age  \\\n",
       "36    77003  2012           37664.0     10215.0        32.9   \n",
       "37    77003  2012           37664.0     10215.0        32.9   \n",
       "38    77003  2012           37664.0     10215.0        32.9   \n",
       "39    77003  2012           37664.0     10215.0        32.9   \n",
       "40    77003  2012           37664.0     10215.0        32.9   \n",
       "41    77003  2012           37664.0     10215.0        32.9   \n",
       "42    77003  2013           36412.0     10617.0        30.8   \n",
       "43    77003  2013           36412.0     10617.0        30.8   \n",
       "44    77003  2013           36412.0     10617.0        30.8   \n",
       "45    77003  2013           36412.0     10617.0        30.8   \n",
       "46    77003  2013           36412.0     10617.0        30.8   \n",
       "47    77003  2013           36412.0     10617.0        30.8   \n",
       "48    77003  2014           40647.0     10760.0        31.2   \n",
       "49    77003  2014           40647.0     10760.0        31.2   \n",
       "50    77003  2014           40647.0     10760.0        31.2   \n",
       "51    77003  2014           40647.0     10760.0        31.2   \n",
       "52    77003  2014           40647.0     10760.0        31.2   \n",
       "53    77003  2014           40647.0     10760.0        31.2   \n",
       "54    77003  2015           39039.0     10438.0        32.7   \n",
       "55    77003  2015           39039.0     10438.0        32.7   \n",
       "56    77003  2015           39039.0     10438.0        32.7   \n",
       "57    77003  2015           39039.0     10438.0        32.7   \n",
       "58    77003  2015           39039.0     10438.0        32.7   \n",
       "59    77003  2015           39039.0     10438.0        32.7   \n",
       "60    77003  2016           46267.0     10097.0        33.0   \n",
       "61    77003  2016           46267.0     10097.0        33.0   \n",
       "62    77003  2016           46267.0     10097.0        33.0   \n",
       "63    77003  2016           46267.0     10097.0        33.0   \n",
       "64    77003  2016           46267.0     10097.0        33.0   \n",
       "65    77003  2016           46267.0     10097.0        33.0   \n",
       "66    77003  2017           59575.0      9646.0        34.1   \n",
       "67    77003  2017           59575.0      9646.0        34.1   \n",
       "68    77003  2017           59575.0      9646.0        34.1   \n",
       "69    77003  2017           59575.0      9646.0        34.1   \n",
       "70    77003  2017           59575.0      9646.0        34.1   \n",
       "71    77003  2017           59575.0      9646.0        34.1   \n",
       "\n",
       "    Per Capita Income  Poverty Count               Race  Race Count  \n",
       "36            27248.0         3868.0  Count Hisp/Latino      5351.0  \n",
       "37            27248.0         3868.0   Counb Black/AfAm      2063.0  \n",
       "38            27248.0         3868.0     Count AmIndian         0.0  \n",
       "39            27248.0         3868.0        Count Asian       443.0  \n",
       "40            27248.0         3868.0        Count White      2318.0  \n",
       "41            27248.0         3868.0   Count Other Race        26.0  \n",
       "42            27263.0         4130.0  Count Hisp/Latino      5615.0  \n",
       "43            27263.0         4130.0   Counb Black/AfAm      1885.0  \n",
       "44            27263.0         4130.0     Count AmIndian         0.0  \n",
       "45            27263.0         4130.0        Count Asian       587.0  \n",
       "46            27263.0         4130.0        Count White      2479.0  \n",
       "47            27263.0         4130.0   Count Other Race        29.0  \n",
       "48            30724.0         4145.0  Count Hisp/Latino      5577.0  \n",
       "49            30724.0         4145.0   Counb Black/AfAm      2164.0  \n",
       "50            30724.0         4145.0     Count AmIndian         0.0  \n",
       "51            30724.0         4145.0        Count Asian       426.0  \n",
       "52            30724.0         4145.0        Count White      2477.0  \n",
       "53            30724.0         4145.0   Count Other Race        35.0  \n",
       "54            28746.0         3987.0  Count Hisp/Latino      5320.0  \n",
       "55            28746.0         3987.0   Counb Black/AfAm      2062.0  \n",
       "56            28746.0         3987.0     Count AmIndian         0.0  \n",
       "57            28746.0         3987.0        Count Asian       499.0  \n",
       "58            28746.0         3987.0        Count White      2378.0  \n",
       "59            28746.0         3987.0   Count Other Race         5.0  \n",
       "60            32771.0         3246.0  Count Hisp/Latino      5441.0  \n",
       "61            32771.0         3246.0   Counb Black/AfAm      1843.0  \n",
       "62            32771.0         3246.0     Count AmIndian         0.0  \n",
       "63            32771.0         3246.0        Count Asian       531.0  \n",
       "64            32771.0         3246.0        Count White      2079.0  \n",
       "65            32771.0         3246.0   Count Other Race         5.0  \n",
       "66            37760.0         2665.0  Count Hisp/Latino      4834.0  \n",
       "67            37760.0         2665.0   Counb Black/AfAm      2254.0  \n",
       "68            37760.0         2665.0     Count AmIndian         0.0  \n",
       "69            37760.0         2665.0        Count Asian       507.0  \n",
       "70            37760.0         2665.0        Count White      1807.0  \n",
       "71            37760.0         2665.0   Count Other Race         7.0  "
      ]
     },
     "execution_count": 8,
     "metadata": {},
     "output_type": "execute_result"
    }
   ],
   "source": [
    "#zip per year\n",
    "zip003_yr2012 = zip_003[zip_003[\"Year\"]== 2012]\n",
    "zip003_yr2013 = zip_003[zip_003[\"Year\"]== 2013]\n",
    "zip003_yr2014 = zip_003[zip_003[\"Year\"]== 2014]\n",
    "zip003_yr2015 = zip_003[zip_003[\"Year\"]== 2015]\n",
    "zip003_yr2016 = zip_003[zip_003[\"Year\"]== 2016]\n",
    "zip003_yr2017 = zip_003[zip_003[\"Year\"]== 2017]\n",
    "# yr2013 = census_df[census_df[\"Year\"]==2013]\n",
    "# yr2014 = census_df[census_df[\"Year\"] ==2014]\n",
    "# yr2015 = census_df[census_df[\"Year\"]==2015]\n",
    "# yr2016 = census_df[census_df[\"Year\"]==2016]\n",
    "# yr2017 = census_df[census_df[\"Year\"]==2017]\n",
    "zip_003\n"
   ]
  },
  {
   "cell_type": "code",
   "execution_count": 9,
   "metadata": {},
   "outputs": [],
   "source": [
    "#analysis of group differences of a race within zip codes per year\n",
    "#EDO HISP LATINO PER YEAR DOESN'T WORK, ASK SATURDAY\n",
    "# test_group1 = zip003_yr2012[zip003_yr2012[\"Race\"] == \"Count Hisp/Latino\"][\"Household Income\"]\n",
    "# test_group2 = zip003_yr2013[zip003_yr2013[\"Race\"] == \"Count Hisp/Latino\"][\"Household Income\"]\n",
    "# test_group3 = zip003_yr2014[zip003_yr2014[\"Race\"] == \"Count Hisp/Latino\"][\"Household Income\"]\n",
    "# test_group4 = zip003_yr2015[zip003_yr2015[\"Race\"] == \"Count Hisp/Latino\"][\"Household Income\"]\n",
    "# test_group5 = zip003_yr2016[zip003_yr2016[\"Race\"] == \"Count Hisp/Latino\"][\"Household Income\"]\n",
    "# test_group6 = zip003_yr2017[zip003_yr2017[\"Race\"] == \"Count Hisp/Latino\"][\"Household Income\"]\n"
   ]
  },
  {
   "cell_type": "code",
   "execution_count": 10,
   "metadata": {},
   "outputs": [],
   "source": [
    "# stats.f_oneway(test_group1, test_group2, test_group3, test_group4, test_group5, test_group6)"
   ]
  },
  {
   "cell_type": "code",
   "execution_count": 11,
   "metadata": {},
   "outputs": [],
   "source": [
    "#Analysis of household income for race per zip 77003\n",
    "## won't work, because we don't have income for each race per zip\n",
    "\n",
    "# group1 = zip_003[zip_003[\"Race\"] == \"Count Hisp/Latino\"][\"Household Income\"]\n",
    "# group2 = zip_003[zip_003[\"Race\"] == \"Counb Black/AfAm\"][\"Household Income\"]\n",
    "# group3 = zip_003[zip_003[\"Race\"] == \"Count White\"][\"Household Income\"]\n",
    "# group4 = zip_003[zip_003[\"Race\"] == \"Count Asian\"][\"Household Income\"]\n",
    "# group5 = zip_003[zip_003[\"Race\"] == \"Count AmIndian\"][\"Household Income\"]\n",
    "# group6 = zip_003[zip_003[\"Race\"] == \"Count Other Race\"][\"Household Income\"]\n",
    "\n",
    "# #analysis of race per zip 77007\n",
    "# group1_007 = zip_007[zip_007[\"Race\"] == \"Count Hisp/Latino\"][\"Household Income\"]\n",
    "# group2_007 = zip_007[zip_007[\"Race\"] == \"Counb Black/AfAm\"][\"Household Income\"]\n",
    "# group3_007 = zip_007[zip_007[\"Race\"] == \"Count White\"][\"Household Income\"]\n",
    "# group4_007 = zip_007[zip_007[\"Race\"] == \"Count Asian\"][\"Household Income\"]\n",
    "# group5_007 = zip_007[zip_007[\"Race\"] == \"Count AmIndian\"][\"Household Income\"]\n",
    "# group6_007 = zip_007[zip_007[\"Race\"] == \"Count Other Race\"][\"Household Income\"]"
   ]
  },
  {
   "cell_type": "code",
   "execution_count": 12,
   "metadata": {},
   "outputs": [],
   "source": [
    "#analysis of group differences of a race within a zip 77003\n",
    "#why does p value equal nan?\n",
    "# ANOVA_003 = stats.f_oneway(group1, group2, group3, group4, group5, group6)\n",
    "# ANOVA_003"
   ]
  },
  {
   "cell_type": "code",
   "execution_count": 13,
   "metadata": {},
   "outputs": [],
   "source": [
    "# ANOVA_007 = stats.f_oneway(group1_007, group2_007, group3_007, group4_007, group5_007, group6_007)\n",
    "# ANOVA_007"
   ]
  },
  {
   "cell_type": "code",
   "execution_count": 14,
   "metadata": {},
   "outputs": [],
   "source": [
    "#analysis of vairance zip and population\n",
    "\n",
    "pop_003 = census_df[census_df[\"Zipcode\"]==77003][\"Population\"]\n",
    "pop_008 = census_df[census_df[\"Zipcode\"]==77008][\"Population\"]\n",
    "pop_007 = census_df[census_df[\"Zipcode\"]==77007][\"Population\"]\n",
    "pop_026 = census_df[census_df[\"Zipcode\"]==77026][\"Population\"]\n"
   ]
  },
  {
   "cell_type": "code",
   "execution_count": 15,
   "metadata": {},
   "outputs": [
    {
     "data": {
      "text/plain": [
       "F_onewayResult(statistic=278.56408336054585, pvalue=1.7810577568661499e-16)"
      ]
     },
     "execution_count": 15,
     "metadata": {},
     "output_type": "execute_result"
    }
   ],
   "source": [
    "ANOVA_pop = stats.f_oneway(pop_003, pop_008, pop_007, pop_026)\n",
    "# there is a statistically significant difference between and within population counts and zip codes from 2012 - 2017\n",
    "\n",
    "#living in an inner loop zip code matters when it comes to the populaiton count\n",
    "ANOVA_pop"
   ]
  },
  {
   "cell_type": "code",
   "execution_count": 16,
   "metadata": {},
   "outputs": [],
   "source": [
    "#analysis of variance zip and age\n",
    "age_003 = census_df[census_df[\"Zipcode\"]==77003][\"Median Age\"]\n",
    "age_008 = census_df[census_df[\"Zipcode\"]==77008][\"Median Age\"]\n",
    "age_007 = census_df[census_df[\"Zipcode\"]==77007][\"Median Age\"]\n",
    "age_026 = census_df[census_df[\"Zipcode\"]==77026][\"Median Age\"]\n"
   ]
  },
  {
   "cell_type": "code",
   "execution_count": 17,
   "metadata": {},
   "outputs": [
    {
     "data": {
      "text/plain": [
       "F_onewayResult(statistic=10.711387129500133, pvalue=0.0002060830183355059)"
      ]
     },
     "execution_count": 17,
     "metadata": {},
     "output_type": "execute_result"
    }
   ],
   "source": [
    "ANOVA_age = stats.f_oneway(age_003, age_008, age_007, age_026)\n",
    "# there is a statistically significant difference between and within median age and zip codes from 2012 - 2017\n",
    "\n",
    "#living in one of the inner loop zip codes matters when it comes to determining median age\n",
    "ANOVA_age"
   ]
  },
  {
   "cell_type": "code",
   "execution_count": 65,
   "metadata": {},
   "outputs": [
    {
     "data": {
      "text/plain": [
       "5       90860.0\n",
       "24      98725.0\n",
       "43     106044.0\n",
       "62     107580.0\n",
       "81     113361.0\n",
       "100    121458.0\n",
       "Name: Household Income, dtype: float64"
      ]
     },
     "execution_count": 65,
     "metadata": {},
     "output_type": "execute_result"
    }
   ],
   "source": [
    "#analysis of variance zip and household income\n",
    "income_003 = census_df[census_df[\"Zipcode\"]==77003][\"Household Income\"]\n",
    "income_008 = census_df[census_df[\"Zipcode\"]==77008][\"Household Income\"]\n",
    "income_007 = census_df[census_df[\"Zipcode\"]==77007][\"Household Income\"]\n",
    "income_026 = census_df[census_df[\"Zipcode\"]==77026][\"Household Income\"]\n",
    "\n"
   ]
  },
  {
   "cell_type": "code",
   "execution_count": 64,
   "metadata": {},
   "outputs": [
    {
     "data": {
      "text/plain": [
       "F_onewayResult(statistic=99.24201522961962, pvalue=3.5090707198851038e-12)"
      ]
     },
     "execution_count": 64,
     "metadata": {},
     "output_type": "execute_result"
    }
   ],
   "source": [
    "ANOVA_income = stats.f_oneway(income_003, income_008, income_007, income_026)\n",
    "\n",
    "# there is a statistically significant difference between and within household income (median income) counts and zip codes from 2012 - 2017\n",
    "\n",
    "#this one below is the best!\n",
    "#living in a zip code matters when it comes to household income (median income)\n",
    "ANOVA_income"
   ]
  },
  {
   "cell_type": "code",
   "execution_count": 57,
   "metadata": {},
   "outputs": [],
   "source": [
    "#77003 - EDO\n",
    "race_count_hisp = zip_003 [zip_003 [\"Race\"]== \"Count Hisp/Latino\"][\"Race Count\"]\n",
    "race_count_black = zip_003[zip_003[\"Race\"]== \"Counb Black/AfAm\"][\"Race Count\"]\n",
    "race_count_white = zip_003[zip_003[\"Race\"]== \"Count White\"][\"Race Count\"]\n",
    "race_count_asian = zip_003[zip_003[\"Race\"]== \"Count Asian\"][\"Race Count\"]\n",
    "race_count_AmInd = zip_003[zip_003[\"Race\"]== \"Count AmIndian\"][\"Race Count\"]\n",
    "race_count_other = zip_003[zip_003[\"Race\"]== \"Count Other Race\"][\"Race Count\"]\n",
    "\n",
    "#77007 - Paper Coffee Co.\n",
    "race_count_hisp_zip007 = zip_007 [zip_007 [\"Race\"]== \"Count Hisp/Latino\"][\"Race Count\"]\n",
    "race_count_black_zip007 = zip_007[zip_007[\"Race\"]== \"Counb Black/AfAm\"][\"Race Count\"]\n",
    "race_count_white_zip007 = zip_007[zip_007[\"Race\"]== \"Count White\"][\"Race Count\"]\n",
    "race_count_asian_zip007 = zip_007[zip_007[\"Race\"]== \"Count Asian\"][\"Race Count\"]\n",
    "race_count_AmInd_zip007 = zip_007[zip_007[\"Race\"]== \"Count AmIndian\"][\"Race Count\"]\n",
    "race_count_other_zip007 = zip_007[zip_007[\"Race\"]== \"Count Other Race\"][\"Race Count\"]\n",
    "\n",
    "#77008\n",
    "race_count_hisp_zip008 = zip_008 [zip_008 [\"Race\"]== \"Count Hisp/Latino\"][\"Race Count\"]\n",
    "race_count_black_zip008 = zip_008[zip_008[\"Race\"]== \"Counb Black/AfAm\"][\"Race Count\"]\n",
    "race_count_white_zip008 = zip_008[zip_008[\"Race\"]== \"Count White\"][\"Race Count\"]\n",
    "race_count_asian_zip008 = zip_008[zip_008[\"Race\"]== \"Count Asian\"][\"Race Count\"]\n",
    "race_count_AmInd_zip008 = zip_008[zip_008[\"Race\"]== \"Count AmIndian\"][\"Race Count\"]\n",
    "race_count_other_zip008 = zip_008[zip_008[\"Race\"]== \"Count Other Race\"][\"Race Count\"]\n",
    "\n",
    "#77026\n",
    "race_count_hisp_zip026 = zip_026 [zip_026 [\"Race\"]== \"Count Hisp/Latino\"][\"Race Count\"]\n",
    "race_count_black_zip026 = zip_026[zip_026[\"Race\"]== \"Counb Black/AfAm\"][\"Race Count\"]\n",
    "race_count_white_zip026 = zip_026[zip_026[\"Race\"]== \"Count White\"][\"Race Count\"]\n",
    "race_count_asian_zip026 = zip_026[zip_026[\"Race\"]== \"Count Asian\"][\"Race Count\"]\n",
    "race_count_AmInd_zip026 = zip_026[zip_026[\"Race\"]== \"Count AmIndian\"][\"Race Count\"]\n",
    "race_count_other_zip026 = zip_026[zip_026[\"Race\"]== \"Count Other Race\"][\"Race Count\"]"
   ]
  },
  {
   "cell_type": "code",
   "execution_count": 58,
   "metadata": {},
   "outputs": [
    {
     "name": "stdout",
     "output_type": "stream",
     "text": [
      "F_onewayResult(statistic=847.5576251174277, pvalue=2.4659496131557764e-31)\n",
      "F_onewayResult(statistic=615.053521180335, pvalue=2.896820800930107e-29)\n",
      "F_onewayResult(statistic=662.4974619257885, pvalue=9.611320166924105e-30)\n",
      "F_onewayResult(statistic=1188.126729265739, pvalue=1.6067634133914838e-33)\n"
     ]
    }
   ],
   "source": [
    "ANOVA_race_count = stats.f_oneway(race_count_hisp, race_count_black, race_count_white, race_count_asian, \n",
    "                                  race_count_AmInd, race_count_other)\n",
    "\n",
    "ANOVA_race_count_007 = stats.f_oneway(race_count_hisp_zip007, race_count_black_zip007, race_count_white_zip007, \n",
    "                                      race_count_asian_zip007, race_count_AmInd_zip007, race_count_other_zip007)\n",
    "\n",
    "ANOVA_race_count_008 = stats.f_oneway(race_count_hisp_zip008, race_count_black_zip008, race_count_white_zip008, \n",
    "                                      race_count_asian_zip008, race_count_AmInd_zip008, race_count_other_zip008)\n",
    "\n",
    "ANOVA_race_count_026 = stats.f_oneway(race_count_hisp_zip026, race_count_black_zip026, race_count_white_zip026, \n",
    "                                      race_count_asian_zip026, race_count_AmInd_zip026, race_count_other_zip026)\n",
    "\n",
    "#this may not be the beat way of interpreting #there is a statistically significant difference between and within racial groups and zip codes from 2012 - 2017\n",
    "#racial demographic matters when it comes to certain houston inner loop in zip codes \n",
    "print(ANOVA_race_count)\n",
    "print(ANOVA_race_count_007)\n",
    "print(ANOVA_race_count_008)\n",
    "print(ANOVA_race_count_026)"
   ]
  },
  {
   "cell_type": "code",
   "execution_count": 66,
   "metadata": {},
   "outputs": [
    {
     "data": {
      "application/vnd.plotly.v1+json": {
       "config": {
        "plotlyServerURL": "https://plot.ly"
       },
       "data": [
        {
         "hoverlabel": {
          "namelength": 0
         },
         "hovertemplate": "<b>%{hovertext}</b><br><br>Year=2012<br>Household Income=%{x}<br>Median Age=%{y}<br>Population=%{marker.size}<br>Zipcode=%{marker.color}",
         "hovertext": [
          77002,
          77003,
          77004,
          77005,
          77006,
          77007,
          77008,
          77009,
          77010,
          77011,
          77012,
          77019,
          77020,
          77021,
          77023,
          77025,
          77026,
          77027,
          77030
         ],
         "ids": [
          77002,
          77003,
          77004,
          77005,
          77006,
          77007,
          77008,
          77009,
          77010,
          77011,
          77012,
          77019,
          77020,
          77021,
          77023,
          77025,
          77026,
          77027,
          77030
         ],
         "legendgroup": "",
         "marker": {
          "color": [
           77002,
           77003,
           77004,
           77005,
           77006,
           77007,
           77008,
           77009,
           77010,
           77011,
           77012,
           77019,
           77020,
           77021,
           77023,
           77025,
           77026,
           77027,
           77030
          ],
          "coloraxis": "coloraxis",
          "size": [
           11473,
           10215,
           29853,
           25740,
           19856,
           29545,
           29424,
           39050,
           342,
           19396,
           21619,
           19450,
           26381,
           25640,
           30696,
           25935,
           23963,
           14745,
           11184
          ],
          "sizemode": "area",
          "sizeref": 13.132231404958677,
          "symbol": "circle"
         },
         "mode": "markers",
         "name": "",
         "showlegend": false,
         "type": "scatter",
         "x": [
          57165,
          37664,
          39804,
          153041,
          63360,
          90860,
          65457,
          42944,
          149444,
          27458,
          33035,
          87582,
          28217,
          32096,
          37735,
          64202,
          20200,
          81202,
          67790
         ],
         "xaxis": "x",
         "y": [
          31.8,
          32.9,
          31.6,
          38.5,
          36.9,
          34.6,
          37.1,
          33.6,
          50.6,
          32.7,
          30.1,
          36.8,
          31.7,
          34.4,
          30.9,
          33.8,
          32.8,
          37.9,
          32.8
         ],
         "yaxis": "y"
        }
       ],
       "frames": [
        {
         "data": [
          {
           "hoverlabel": {
            "namelength": 0
           },
           "hovertemplate": "<b>%{hovertext}</b><br><br>Year=2012<br>Household Income=%{x}<br>Median Age=%{y}<br>Population=%{marker.size}<br>Zipcode=%{marker.color}",
           "hovertext": [
            77002,
            77003,
            77004,
            77005,
            77006,
            77007,
            77008,
            77009,
            77010,
            77011,
            77012,
            77019,
            77020,
            77021,
            77023,
            77025,
            77026,
            77027,
            77030
           ],
           "ids": [
            77002,
            77003,
            77004,
            77005,
            77006,
            77007,
            77008,
            77009,
            77010,
            77011,
            77012,
            77019,
            77020,
            77021,
            77023,
            77025,
            77026,
            77027,
            77030
           ],
           "legendgroup": "",
           "marker": {
            "color": [
             77002,
             77003,
             77004,
             77005,
             77006,
             77007,
             77008,
             77009,
             77010,
             77011,
             77012,
             77019,
             77020,
             77021,
             77023,
             77025,
             77026,
             77027,
             77030
            ],
            "coloraxis": "coloraxis",
            "size": [
             11473,
             10215,
             29853,
             25740,
             19856,
             29545,
             29424,
             39050,
             342,
             19396,
             21619,
             19450,
             26381,
             25640,
             30696,
             25935,
             23963,
             14745,
             11184
            ],
            "sizemode": "area",
            "sizeref": 13.132231404958677,
            "symbol": "circle"
           },
           "mode": "markers",
           "name": "",
           "showlegend": false,
           "type": "scatter",
           "x": [
            57165,
            37664,
            39804,
            153041,
            63360,
            90860,
            65457,
            42944,
            149444,
            27458,
            33035,
            87582,
            28217,
            32096,
            37735,
            64202,
            20200,
            81202,
            67790
           ],
           "xaxis": "x",
           "y": [
            31.8,
            32.9,
            31.6,
            38.5,
            36.9,
            34.6,
            37.1,
            33.6,
            50.6,
            32.7,
            30.1,
            36.8,
            31.7,
            34.4,
            30.9,
            33.8,
            32.8,
            37.9,
            32.8
           ],
           "yaxis": "y"
          }
         ],
         "name": "2012"
        },
        {
         "data": [
          {
           "hoverlabel": {
            "namelength": 0
           },
           "hovertemplate": "<b>%{hovertext}</b><br><br>Year=2013<br>Household Income=%{x}<br>Median Age=%{y}<br>Population=%{marker.size}<br>Zipcode=%{marker.color}",
           "hovertext": [
            77002,
            77003,
            77004,
            77005,
            77006,
            77007,
            77008,
            77009,
            77010,
            77011,
            77012,
            77019,
            77020,
            77021,
            77023,
            77025,
            77026,
            77027,
            77030
           ],
           "ids": [
            77002,
            77003,
            77004,
            77005,
            77006,
            77007,
            77008,
            77009,
            77010,
            77011,
            77012,
            77019,
            77020,
            77021,
            77023,
            77025,
            77026,
            77027,
            77030
           ],
           "legendgroup": "",
           "marker": {
            "color": [
             77002,
             77003,
             77004,
             77005,
             77006,
             77007,
             77008,
             77009,
             77010,
             77011,
             77012,
             77019,
             77020,
             77021,
             77023,
             77025,
             77026,
             77027,
             77030
            ],
            "coloraxis": "coloraxis",
            "size": [
             11602,
             10617,
             31593,
             25752,
             20573,
             30868,
             30807,
             39725,
             564,
             19442,
             21868,
             19995,
             26889,
             25479,
             29871,
             26379,
             22909,
             15455,
             11031
            ],
            "sizemode": "area",
            "sizeref": 13.132231404958677,
            "symbol": "circle"
           },
           "mode": "markers",
           "name": "",
           "showlegend": false,
           "type": "scatter",
           "x": [
            64093,
            36412,
            41983,
            159732,
            67458,
            98725,
            70293,
            44651,
            250001,
            26838,
            34975,
            87394,
            29401,
            31103,
            36033,
            65828,
            20024,
            81661,
            68980
           ],
           "xaxis": "x",
           "y": [
            32.5,
            30.8,
            30.3,
            38.5,
            35.1,
            34.6,
            35.9,
            34.1,
            41.7,
            33.2,
            30.5,
            35.6,
            32.5,
            35,
            31.2,
            35.3,
            33.5,
            37.4,
            32.8
           ],
           "yaxis": "y"
          }
         ],
         "name": "2013"
        },
        {
         "data": [
          {
           "hoverlabel": {
            "namelength": 0
           },
           "hovertemplate": "<b>%{hovertext}</b><br><br>Year=2014<br>Household Income=%{x}<br>Median Age=%{y}<br>Population=%{marker.size}<br>Zipcode=%{marker.color}",
           "hovertext": [
            77002,
            77003,
            77004,
            77005,
            77006,
            77007,
            77008,
            77009,
            77010,
            77011,
            77012,
            77019,
            77020,
            77021,
            77023,
            77025,
            77026,
            77027,
            77030
           ],
           "ids": [
            77002,
            77003,
            77004,
            77005,
            77006,
            77007,
            77008,
            77009,
            77010,
            77011,
            77012,
            77019,
            77020,
            77021,
            77023,
            77025,
            77026,
            77027,
            77030
           ],
           "legendgroup": "",
           "marker": {
            "color": [
             77002,
             77003,
             77004,
             77005,
             77006,
             77007,
             77008,
             77009,
             77010,
             77011,
             77012,
             77019,
             77020,
             77021,
             77023,
             77025,
             77026,
             77027,
             77030
            ],
            "coloraxis": "coloraxis",
            "size": [
             11630,
             10760,
             34079,
             26187,
             21144,
             31987,
             31418,
             39361,
             724,
             19136,
             20991,
             20350,
             26777,
             26036,
             29102,
             27413,
             23325,
             15510,
             10664
            ],
            "sizemode": "area",
            "sizeref": 13.132231404958677,
            "symbol": "circle"
           },
           "mode": "markers",
           "name": "",
           "showlegend": false,
           "type": "scatter",
           "x": [
            71319,
            40647,
            46059,
            163802,
            69508,
            106044,
            77512,
            45016,
            209063,
            26953,
            35884,
            92844,
            27871,
            32391,
            37361,
            65524,
            21335,
            82038,
            71078
           ],
           "xaxis": "x",
           "y": [
            33.2,
            31.2,
            29,
            38.7,
            35.4,
            34.3,
            35.5,
            34,
            43.6,
            32.8,
            31.7,
            37.9,
            32.9,
            33.7,
            31.9,
            35.3,
            33.1,
            36.7,
            32.5
           ],
           "yaxis": "y"
          }
         ],
         "name": "2014"
        },
        {
         "data": [
          {
           "hoverlabel": {
            "namelength": 0
           },
           "hovertemplate": "<b>%{hovertext}</b><br><br>Year=2015<br>Household Income=%{x}<br>Median Age=%{y}<br>Population=%{marker.size}<br>Zipcode=%{marker.color}",
           "hovertext": [
            77002,
            77003,
            77004,
            77005,
            77006,
            77007,
            77008,
            77009,
            77010,
            77011,
            77012,
            77019,
            77020,
            77021,
            77023,
            77025,
            77026,
            77027,
            77030
           ],
           "ids": [
            77002,
            77003,
            77004,
            77005,
            77006,
            77007,
            77008,
            77009,
            77010,
            77011,
            77012,
            77019,
            77020,
            77021,
            77023,
            77025,
            77026,
            77027,
            77030
           ],
           "legendgroup": "",
           "marker": {
            "color": [
             77002,
             77003,
             77004,
             77005,
             77006,
             77007,
             77008,
             77009,
             77010,
             77011,
             77012,
             77019,
             77020,
             77021,
             77023,
             77025,
             77026,
             77027,
             77030
            ],
            "coloraxis": "coloraxis",
            "size": [
             11922,
             10438,
             35739,
             27187,
             21795,
             33029,
             31868,
             39260,
             809,
             19303,
             20494,
             20644,
             26005,
             26209,
             28316,
             28305,
             22485,
             15749,
             10279
            ],
            "sizemode": "area",
            "sizeref": 13.132231404958677,
            "symbol": "circle"
           },
           "mode": "markers",
           "name": "",
           "showlegend": false,
           "type": "scatter",
           "x": [
            62089,
            39039,
            47523,
            166203,
            71158,
            107580,
            82058,
            43830,
            250001,
            26922,
            34891,
            101297,
            27052,
            32800,
            36065,
            66559,
            22242,
            89276,
            71883
           ],
           "xaxis": "x",
           "y": [
            33.8,
            32.7,
            28.1,
            38,
            34.8,
            33.5,
            35.5,
            34.1,
            42.7,
            33,
            32.3,
            38.8,
            32.4,
            33.8,
            33.4,
            35.2,
            35.3,
            36.8,
            32.6
           ],
           "yaxis": "y"
          }
         ],
         "name": "2015"
        },
        {
         "data": [
          {
           "hoverlabel": {
            "namelength": 0
           },
           "hovertemplate": "<b>%{hovertext}</b><br><br>Year=2016<br>Household Income=%{x}<br>Median Age=%{y}<br>Population=%{marker.size}<br>Zipcode=%{marker.color}",
           "hovertext": [
            77002,
            77003,
            77004,
            77005,
            77006,
            77007,
            77008,
            77009,
            77010,
            77011,
            77012,
            77019,
            77020,
            77021,
            77023,
            77025,
            77026,
            77027,
            77030
           ],
           "ids": [
            77002,
            77003,
            77004,
            77005,
            77006,
            77007,
            77008,
            77009,
            77010,
            77011,
            77012,
            77019,
            77020,
            77021,
            77023,
            77025,
            77026,
            77027,
            77030
           ],
           "legendgroup": "",
           "marker": {
            "color": [
             77002,
             77003,
             77004,
             77005,
             77006,
             77007,
             77008,
             77009,
             77010,
             77011,
             77012,
             77019,
             77020,
             77021,
             77023,
             77025,
             77026,
             77027,
             77030
            ],
            "coloraxis": "coloraxis",
            "size": [
             11861,
             10097,
             36879,
             27707,
             21849,
             35185,
             32588,
             38019,
             831,
             18558,
             20534,
             21067,
             25908,
             26374,
             27973,
             28103,
             23030,
             15498,
             10735
            ],
            "sizemode": "area",
            "sizeref": 13.132231404958677,
            "symbol": "circle"
           },
           "mode": "markers",
           "name": "",
           "showlegend": false,
           "type": "scatter",
           "x": [
            68229,
            46267,
            50681,
            174153,
            80908,
            113361,
            88248,
            47011,
            250001,
            29544,
            34617,
            102521,
            26896,
            32404,
            35723,
            67548,
            25354,
            88471,
            73689
           ],
           "xaxis": "x",
           "y": [
            33.9,
            33,
            28.3,
            37.5,
            34.9,
            33.6,
            35.5,
            34.5,
            48.5,
            32.9,
            32,
            38.4,
            32.9,
            33.8,
            33.4,
            36.1,
            35.9,
            35.1,
            32.7
           ],
           "yaxis": "y"
          }
         ],
         "name": "2016"
        },
        {
         "data": [
          {
           "hoverlabel": {
            "namelength": 0
           },
           "hovertemplate": "<b>%{hovertext}</b><br><br>Year=2017<br>Household Income=%{x}<br>Median Age=%{y}<br>Population=%{marker.size}<br>Zipcode=%{marker.color}",
           "hovertext": [
            77002,
            77003,
            77004,
            77005,
            77006,
            77007,
            77008,
            77009,
            77010,
            77011,
            77012,
            77019,
            77020,
            77021,
            77023,
            77025,
            77026,
            77027,
            77030
           ],
           "ids": [
            77002,
            77003,
            77004,
            77005,
            77006,
            77007,
            77008,
            77009,
            77010,
            77011,
            77012,
            77019,
            77020,
            77021,
            77023,
            77025,
            77026,
            77027,
            77030
           ],
           "legendgroup": "",
           "marker": {
            "color": [
             77002,
             77003,
             77004,
             77005,
             77006,
             77007,
             77008,
             77009,
             77010,
             77011,
             77012,
             77019,
             77020,
             77021,
             77023,
             77025,
             77026,
             77027,
             77030
            ],
            "coloraxis": "coloraxis",
            "size": [
             12370,
             9646,
             37642,
             28233,
             21945,
             35822,
             34491,
             37751,
             915,
             18598,
             20085,
             21572,
             25898,
             26654,
             28528,
             28922,
             22799,
             16012,
             10813
            ],
            "sizemode": "area",
            "sizeref": 13.132231404958677,
            "symbol": "circle"
           },
           "mode": "markers",
           "name": "",
           "showlegend": false,
           "type": "scatter",
           "x": [
            72306,
            59575,
            48592,
            180758,
            82878,
            121458,
            97690,
            49383,
            250001,
            30665,
            36537,
            112243,
            27587,
            35126,
            37462,
            71990,
            26644,
            91296,
            75290
           ],
           "xaxis": "x",
           "y": [
            34.1,
            34.1,
            28.3,
            36.5,
            34.3,
            33.8,
            34.9,
            35.1,
            44.6,
            34,
            33,
            39.4,
            33,
            33.6,
            33.2,
            36.3,
            35.2,
            33.3,
            33.9
           ],
           "yaxis": "y"
          }
         ],
         "name": "2017"
        }
       ],
       "layout": {
        "coloraxis": {
         "colorbar": {
          "title": {
           "text": "Zipcode"
          }
         },
         "colorscale": [
          [
           0,
           "#0d0887"
          ],
          [
           0.1111111111111111,
           "#46039f"
          ],
          [
           0.2222222222222222,
           "#7201a8"
          ],
          [
           0.3333333333333333,
           "#9c179e"
          ],
          [
           0.4444444444444444,
           "#bd3786"
          ],
          [
           0.5555555555555556,
           "#d8576b"
          ],
          [
           0.6666666666666666,
           "#ed7953"
          ],
          [
           0.7777777777777778,
           "#fb9f3a"
          ],
          [
           0.8888888888888888,
           "#fdca26"
          ],
          [
           1,
           "#f0f921"
          ]
         ]
        },
        "height": 600,
        "legend": {
         "itemsizing": "constant",
         "tracegroupgap": 0
        },
        "margin": {
         "t": 60
        },
        "sliders": [
         {
          "active": 0,
          "currentvalue": {
           "prefix": "Year="
          },
          "len": 0.9,
          "pad": {
           "b": 10,
           "t": 60
          },
          "steps": [
           {
            "args": [
             [
              "2012"
             ],
             {
              "frame": {
               "duration": 0,
               "redraw": false
              },
              "fromcurrent": true,
              "mode": "immediate",
              "transition": {
               "duration": 0,
               "easing": "linear"
              }
             }
            ],
            "label": "2012",
            "method": "animate"
           },
           {
            "args": [
             [
              "2013"
             ],
             {
              "frame": {
               "duration": 0,
               "redraw": false
              },
              "fromcurrent": true,
              "mode": "immediate",
              "transition": {
               "duration": 0,
               "easing": "linear"
              }
             }
            ],
            "label": "2013",
            "method": "animate"
           },
           {
            "args": [
             [
              "2014"
             ],
             {
              "frame": {
               "duration": 0,
               "redraw": false
              },
              "fromcurrent": true,
              "mode": "immediate",
              "transition": {
               "duration": 0,
               "easing": "linear"
              }
             }
            ],
            "label": "2014",
            "method": "animate"
           },
           {
            "args": [
             [
              "2015"
             ],
             {
              "frame": {
               "duration": 0,
               "redraw": false
              },
              "fromcurrent": true,
              "mode": "immediate",
              "transition": {
               "duration": 0,
               "easing": "linear"
              }
             }
            ],
            "label": "2015",
            "method": "animate"
           },
           {
            "args": [
             [
              "2016"
             ],
             {
              "frame": {
               "duration": 0,
               "redraw": false
              },
              "fromcurrent": true,
              "mode": "immediate",
              "transition": {
               "duration": 0,
               "easing": "linear"
              }
             }
            ],
            "label": "2016",
            "method": "animate"
           },
           {
            "args": [
             [
              "2017"
             ],
             {
              "frame": {
               "duration": 0,
               "redraw": false
              },
              "fromcurrent": true,
              "mode": "immediate",
              "transition": {
               "duration": 0,
               "easing": "linear"
              }
             }
            ],
            "label": "2017",
            "method": "animate"
           }
          ],
          "x": 0.1,
          "xanchor": "left",
          "y": 0,
          "yanchor": "top"
         }
        ],
        "template": {
         "data": {
          "bar": [
           {
            "error_x": {
             "color": "#2a3f5f"
            },
            "error_y": {
             "color": "#2a3f5f"
            },
            "marker": {
             "line": {
              "color": "#E5ECF6",
              "width": 0.5
             }
            },
            "type": "bar"
           }
          ],
          "barpolar": [
           {
            "marker": {
             "line": {
              "color": "#E5ECF6",
              "width": 0.5
             }
            },
            "type": "barpolar"
           }
          ],
          "carpet": [
           {
            "aaxis": {
             "endlinecolor": "#2a3f5f",
             "gridcolor": "white",
             "linecolor": "white",
             "minorgridcolor": "white",
             "startlinecolor": "#2a3f5f"
            },
            "baxis": {
             "endlinecolor": "#2a3f5f",
             "gridcolor": "white",
             "linecolor": "white",
             "minorgridcolor": "white",
             "startlinecolor": "#2a3f5f"
            },
            "type": "carpet"
           }
          ],
          "choropleth": [
           {
            "colorbar": {
             "outlinewidth": 0,
             "ticks": ""
            },
            "type": "choropleth"
           }
          ],
          "contour": [
           {
            "colorbar": {
             "outlinewidth": 0,
             "ticks": ""
            },
            "colorscale": [
             [
              0,
              "#0d0887"
             ],
             [
              0.1111111111111111,
              "#46039f"
             ],
             [
              0.2222222222222222,
              "#7201a8"
             ],
             [
              0.3333333333333333,
              "#9c179e"
             ],
             [
              0.4444444444444444,
              "#bd3786"
             ],
             [
              0.5555555555555556,
              "#d8576b"
             ],
             [
              0.6666666666666666,
              "#ed7953"
             ],
             [
              0.7777777777777778,
              "#fb9f3a"
             ],
             [
              0.8888888888888888,
              "#fdca26"
             ],
             [
              1,
              "#f0f921"
             ]
            ],
            "type": "contour"
           }
          ],
          "contourcarpet": [
           {
            "colorbar": {
             "outlinewidth": 0,
             "ticks": ""
            },
            "type": "contourcarpet"
           }
          ],
          "heatmap": [
           {
            "colorbar": {
             "outlinewidth": 0,
             "ticks": ""
            },
            "colorscale": [
             [
              0,
              "#0d0887"
             ],
             [
              0.1111111111111111,
              "#46039f"
             ],
             [
              0.2222222222222222,
              "#7201a8"
             ],
             [
              0.3333333333333333,
              "#9c179e"
             ],
             [
              0.4444444444444444,
              "#bd3786"
             ],
             [
              0.5555555555555556,
              "#d8576b"
             ],
             [
              0.6666666666666666,
              "#ed7953"
             ],
             [
              0.7777777777777778,
              "#fb9f3a"
             ],
             [
              0.8888888888888888,
              "#fdca26"
             ],
             [
              1,
              "#f0f921"
             ]
            ],
            "type": "heatmap"
           }
          ],
          "heatmapgl": [
           {
            "colorbar": {
             "outlinewidth": 0,
             "ticks": ""
            },
            "colorscale": [
             [
              0,
              "#0d0887"
             ],
             [
              0.1111111111111111,
              "#46039f"
             ],
             [
              0.2222222222222222,
              "#7201a8"
             ],
             [
              0.3333333333333333,
              "#9c179e"
             ],
             [
              0.4444444444444444,
              "#bd3786"
             ],
             [
              0.5555555555555556,
              "#d8576b"
             ],
             [
              0.6666666666666666,
              "#ed7953"
             ],
             [
              0.7777777777777778,
              "#fb9f3a"
             ],
             [
              0.8888888888888888,
              "#fdca26"
             ],
             [
              1,
              "#f0f921"
             ]
            ],
            "type": "heatmapgl"
           }
          ],
          "histogram": [
           {
            "marker": {
             "colorbar": {
              "outlinewidth": 0,
              "ticks": ""
             }
            },
            "type": "histogram"
           }
          ],
          "histogram2d": [
           {
            "colorbar": {
             "outlinewidth": 0,
             "ticks": ""
            },
            "colorscale": [
             [
              0,
              "#0d0887"
             ],
             [
              0.1111111111111111,
              "#46039f"
             ],
             [
              0.2222222222222222,
              "#7201a8"
             ],
             [
              0.3333333333333333,
              "#9c179e"
             ],
             [
              0.4444444444444444,
              "#bd3786"
             ],
             [
              0.5555555555555556,
              "#d8576b"
             ],
             [
              0.6666666666666666,
              "#ed7953"
             ],
             [
              0.7777777777777778,
              "#fb9f3a"
             ],
             [
              0.8888888888888888,
              "#fdca26"
             ],
             [
              1,
              "#f0f921"
             ]
            ],
            "type": "histogram2d"
           }
          ],
          "histogram2dcontour": [
           {
            "colorbar": {
             "outlinewidth": 0,
             "ticks": ""
            },
            "colorscale": [
             [
              0,
              "#0d0887"
             ],
             [
              0.1111111111111111,
              "#46039f"
             ],
             [
              0.2222222222222222,
              "#7201a8"
             ],
             [
              0.3333333333333333,
              "#9c179e"
             ],
             [
              0.4444444444444444,
              "#bd3786"
             ],
             [
              0.5555555555555556,
              "#d8576b"
             ],
             [
              0.6666666666666666,
              "#ed7953"
             ],
             [
              0.7777777777777778,
              "#fb9f3a"
             ],
             [
              0.8888888888888888,
              "#fdca26"
             ],
             [
              1,
              "#f0f921"
             ]
            ],
            "type": "histogram2dcontour"
           }
          ],
          "mesh3d": [
           {
            "colorbar": {
             "outlinewidth": 0,
             "ticks": ""
            },
            "type": "mesh3d"
           }
          ],
          "parcoords": [
           {
            "line": {
             "colorbar": {
              "outlinewidth": 0,
              "ticks": ""
             }
            },
            "type": "parcoords"
           }
          ],
          "scatter": [
           {
            "marker": {
             "colorbar": {
              "outlinewidth": 0,
              "ticks": ""
             }
            },
            "type": "scatter"
           }
          ],
          "scatter3d": [
           {
            "line": {
             "colorbar": {
              "outlinewidth": 0,
              "ticks": ""
             }
            },
            "marker": {
             "colorbar": {
              "outlinewidth": 0,
              "ticks": ""
             }
            },
            "type": "scatter3d"
           }
          ],
          "scattercarpet": [
           {
            "marker": {
             "colorbar": {
              "outlinewidth": 0,
              "ticks": ""
             }
            },
            "type": "scattercarpet"
           }
          ],
          "scattergeo": [
           {
            "marker": {
             "colorbar": {
              "outlinewidth": 0,
              "ticks": ""
             }
            },
            "type": "scattergeo"
           }
          ],
          "scattergl": [
           {
            "marker": {
             "colorbar": {
              "outlinewidth": 0,
              "ticks": ""
             }
            },
            "type": "scattergl"
           }
          ],
          "scattermapbox": [
           {
            "marker": {
             "colorbar": {
              "outlinewidth": 0,
              "ticks": ""
             }
            },
            "type": "scattermapbox"
           }
          ],
          "scatterpolar": [
           {
            "marker": {
             "colorbar": {
              "outlinewidth": 0,
              "ticks": ""
             }
            },
            "type": "scatterpolar"
           }
          ],
          "scatterpolargl": [
           {
            "marker": {
             "colorbar": {
              "outlinewidth": 0,
              "ticks": ""
             }
            },
            "type": "scatterpolargl"
           }
          ],
          "scatterternary": [
           {
            "marker": {
             "colorbar": {
              "outlinewidth": 0,
              "ticks": ""
             }
            },
            "type": "scatterternary"
           }
          ],
          "surface": [
           {
            "colorbar": {
             "outlinewidth": 0,
             "ticks": ""
            },
            "colorscale": [
             [
              0,
              "#0d0887"
             ],
             [
              0.1111111111111111,
              "#46039f"
             ],
             [
              0.2222222222222222,
              "#7201a8"
             ],
             [
              0.3333333333333333,
              "#9c179e"
             ],
             [
              0.4444444444444444,
              "#bd3786"
             ],
             [
              0.5555555555555556,
              "#d8576b"
             ],
             [
              0.6666666666666666,
              "#ed7953"
             ],
             [
              0.7777777777777778,
              "#fb9f3a"
             ],
             [
              0.8888888888888888,
              "#fdca26"
             ],
             [
              1,
              "#f0f921"
             ]
            ],
            "type": "surface"
           }
          ],
          "table": [
           {
            "cells": {
             "fill": {
              "color": "#EBF0F8"
             },
             "line": {
              "color": "white"
             }
            },
            "header": {
             "fill": {
              "color": "#C8D4E3"
             },
             "line": {
              "color": "white"
             }
            },
            "type": "table"
           }
          ]
         },
         "layout": {
          "annotationdefaults": {
           "arrowcolor": "#2a3f5f",
           "arrowhead": 0,
           "arrowwidth": 1
          },
          "colorscale": {
           "diverging": [
            [
             0,
             "#8e0152"
            ],
            [
             0.1,
             "#c51b7d"
            ],
            [
             0.2,
             "#de77ae"
            ],
            [
             0.3,
             "#f1b6da"
            ],
            [
             0.4,
             "#fde0ef"
            ],
            [
             0.5,
             "#f7f7f7"
            ],
            [
             0.6,
             "#e6f5d0"
            ],
            [
             0.7,
             "#b8e186"
            ],
            [
             0.8,
             "#7fbc41"
            ],
            [
             0.9,
             "#4d9221"
            ],
            [
             1,
             "#276419"
            ]
           ],
           "sequential": [
            [
             0,
             "#0d0887"
            ],
            [
             0.1111111111111111,
             "#46039f"
            ],
            [
             0.2222222222222222,
             "#7201a8"
            ],
            [
             0.3333333333333333,
             "#9c179e"
            ],
            [
             0.4444444444444444,
             "#bd3786"
            ],
            [
             0.5555555555555556,
             "#d8576b"
            ],
            [
             0.6666666666666666,
             "#ed7953"
            ],
            [
             0.7777777777777778,
             "#fb9f3a"
            ],
            [
             0.8888888888888888,
             "#fdca26"
            ],
            [
             1,
             "#f0f921"
            ]
           ],
           "sequentialminus": [
            [
             0,
             "#0d0887"
            ],
            [
             0.1111111111111111,
             "#46039f"
            ],
            [
             0.2222222222222222,
             "#7201a8"
            ],
            [
             0.3333333333333333,
             "#9c179e"
            ],
            [
             0.4444444444444444,
             "#bd3786"
            ],
            [
             0.5555555555555556,
             "#d8576b"
            ],
            [
             0.6666666666666666,
             "#ed7953"
            ],
            [
             0.7777777777777778,
             "#fb9f3a"
            ],
            [
             0.8888888888888888,
             "#fdca26"
            ],
            [
             1,
             "#f0f921"
            ]
           ]
          },
          "colorway": [
           "#636efa",
           "#EF553B",
           "#00cc96",
           "#ab63fa",
           "#FFA15A",
           "#19d3f3",
           "#FF6692",
           "#B6E880",
           "#FF97FF",
           "#FECB52"
          ],
          "font": {
           "color": "#2a3f5f"
          },
          "geo": {
           "bgcolor": "white",
           "lakecolor": "white",
           "landcolor": "#E5ECF6",
           "showlakes": true,
           "showland": true,
           "subunitcolor": "white"
          },
          "hoverlabel": {
           "align": "left"
          },
          "hovermode": "closest",
          "mapbox": {
           "style": "light"
          },
          "paper_bgcolor": "white",
          "plot_bgcolor": "#E5ECF6",
          "polar": {
           "angularaxis": {
            "gridcolor": "white",
            "linecolor": "white",
            "ticks": ""
           },
           "bgcolor": "#E5ECF6",
           "radialaxis": {
            "gridcolor": "white",
            "linecolor": "white",
            "ticks": ""
           }
          },
          "scene": {
           "xaxis": {
            "backgroundcolor": "#E5ECF6",
            "gridcolor": "white",
            "gridwidth": 2,
            "linecolor": "white",
            "showbackground": true,
            "ticks": "",
            "zerolinecolor": "white"
           },
           "yaxis": {
            "backgroundcolor": "#E5ECF6",
            "gridcolor": "white",
            "gridwidth": 2,
            "linecolor": "white",
            "showbackground": true,
            "ticks": "",
            "zerolinecolor": "white"
           },
           "zaxis": {
            "backgroundcolor": "#E5ECF6",
            "gridcolor": "white",
            "gridwidth": 2,
            "linecolor": "white",
            "showbackground": true,
            "ticks": "",
            "zerolinecolor": "white"
           }
          },
          "shapedefaults": {
           "line": {
            "color": "#2a3f5f"
           }
          },
          "ternary": {
           "aaxis": {
            "gridcolor": "white",
            "linecolor": "white",
            "ticks": ""
           },
           "baxis": {
            "gridcolor": "white",
            "linecolor": "white",
            "ticks": ""
           },
           "bgcolor": "#E5ECF6",
           "caxis": {
            "gridcolor": "white",
            "linecolor": "white",
            "ticks": ""
           }
          },
          "title": {
           "x": 0.05
          },
          "xaxis": {
           "automargin": true,
           "gridcolor": "white",
           "linecolor": "white",
           "ticks": "",
           "zerolinecolor": "white",
           "zerolinewidth": 2
          },
          "yaxis": {
           "automargin": true,
           "gridcolor": "white",
           "linecolor": "white",
           "ticks": "",
           "zerolinecolor": "white",
           "zerolinewidth": 2
          }
         }
        },
        "updatemenus": [
         {
          "buttons": [
           {
            "args": [
             null,
             {
              "frame": {
               "duration": 500,
               "redraw": false
              },
              "fromcurrent": true,
              "mode": "immediate",
              "transition": {
               "duration": 500,
               "easing": "linear"
              }
             }
            ],
            "label": "&#9654;",
            "method": "animate"
           },
           {
            "args": [
             [
              null
             ],
             {
              "frame": {
               "duration": 0,
               "redraw": false
              },
              "fromcurrent": true,
              "mode": "immediate",
              "transition": {
               "duration": 0,
               "easing": "linear"
              }
             }
            ],
            "label": "&#9724;",
            "method": "animate"
           }
          ],
          "direction": "left",
          "pad": {
           "r": 10,
           "t": 70
          },
          "showactive": false,
          "type": "buttons",
          "x": 0.1,
          "xanchor": "right",
          "y": 0,
          "yanchor": "top"
         }
        ],
        "xaxis": {
         "anchor": "y",
         "domain": [
          0,
          0.98
         ],
         "range": [
          4.30102999566398,
          5.477121254719662
         ],
         "title": {
          "text": "Household Income"
         },
         "type": "log"
        },
        "yaxis": {
         "anchor": "x",
         "domain": [
          0,
          1
         ],
         "range": [
          21,
          50
         ],
         "title": {
          "text": "Median Age"
         }
        }
       }
      },
      "text/html": [
       "<div>\n",
       "        \n",
       "        \n",
       "            <div id=\"dd09950d-1e1b-40fa-a929-600ba5a0b908\" class=\"plotly-graph-div\" style=\"height:600px; width:100%;\"></div>\n",
       "            <script type=\"text/javascript\">\n",
       "                require([\"plotly\"], function(Plotly) {\n",
       "                    window.PLOTLYENV=window.PLOTLYENV || {};\n",
       "                    \n",
       "                if (document.getElementById(\"dd09950d-1e1b-40fa-a929-600ba5a0b908\")) {\n",
       "                    Plotly.newPlot(\n",
       "                        'dd09950d-1e1b-40fa-a929-600ba5a0b908',\n",
       "                        [{\"hoverlabel\": {\"namelength\": 0}, \"hovertemplate\": \"<b>%{hovertext}</b><br><br>Year=2012<br>Household Income=%{x}<br>Median Age=%{y}<br>Population=%{marker.size}<br>Zipcode=%{marker.color}\", \"hovertext\": [77002.0, 77003.0, 77004.0, 77005.0, 77006.0, 77007.0, 77008.0, 77009.0, 77010.0, 77011.0, 77012.0, 77019.0, 77020.0, 77021.0, 77023.0, 77025.0, 77026.0, 77027.0, 77030.0], \"ids\": [77002, 77003, 77004, 77005, 77006, 77007, 77008, 77009, 77010, 77011, 77012, 77019, 77020, 77021, 77023, 77025, 77026, 77027, 77030], \"legendgroup\": \"\", \"marker\": {\"color\": [77002, 77003, 77004, 77005, 77006, 77007, 77008, 77009, 77010, 77011, 77012, 77019, 77020, 77021, 77023, 77025, 77026, 77027, 77030], \"coloraxis\": \"coloraxis\", \"size\": [11473.0, 10215.0, 29853.0, 25740.0, 19856.0, 29545.0, 29424.0, 39050.0, 342.0, 19396.0, 21619.0, 19450.0, 26381.0, 25640.0, 30696.0, 25935.0, 23963.0, 14745.0, 11184.0], \"sizemode\": \"area\", \"sizeref\": 13.132231404958677, \"symbol\": \"circle\"}, \"mode\": \"markers\", \"name\": \"\", \"showlegend\": false, \"type\": \"scatter\", \"x\": [57165.0, 37664.0, 39804.0, 153041.0, 63360.0, 90860.0, 65457.0, 42944.0, 149444.0, 27458.0, 33035.0, 87582.0, 28217.0, 32096.0, 37735.0, 64202.0, 20200.0, 81202.0, 67790.0], \"xaxis\": \"x\", \"y\": [31.8, 32.9, 31.6, 38.5, 36.9, 34.6, 37.1, 33.6, 50.6, 32.7, 30.1, 36.8, 31.7, 34.4, 30.9, 33.8, 32.8, 37.9, 32.8], \"yaxis\": \"y\"}],\n",
       "                        {\"coloraxis\": {\"colorbar\": {\"title\": {\"text\": \"Zipcode\"}}, \"colorscale\": [[0.0, \"#0d0887\"], [0.1111111111111111, \"#46039f\"], [0.2222222222222222, \"#7201a8\"], [0.3333333333333333, \"#9c179e\"], [0.4444444444444444, \"#bd3786\"], [0.5555555555555556, \"#d8576b\"], [0.6666666666666666, \"#ed7953\"], [0.7777777777777778, \"#fb9f3a\"], [0.8888888888888888, \"#fdca26\"], [1.0, \"#f0f921\"]]}, \"height\": 600, \"legend\": {\"itemsizing\": \"constant\", \"tracegroupgap\": 0}, \"margin\": {\"t\": 60}, \"sliders\": [{\"active\": 0, \"currentvalue\": {\"prefix\": \"Year=\"}, \"len\": 0.9, \"pad\": {\"b\": 10, \"t\": 60}, \"steps\": [{\"args\": [[\"2012\"], {\"frame\": {\"duration\": 0, \"redraw\": false}, \"fromcurrent\": true, \"mode\": \"immediate\", \"transition\": {\"duration\": 0, \"easing\": \"linear\"}}], \"label\": \"2012\", \"method\": \"animate\"}, {\"args\": [[\"2013\"], {\"frame\": {\"duration\": 0, \"redraw\": false}, \"fromcurrent\": true, \"mode\": \"immediate\", \"transition\": {\"duration\": 0, \"easing\": \"linear\"}}], \"label\": \"2013\", \"method\": \"animate\"}, {\"args\": [[\"2014\"], {\"frame\": {\"duration\": 0, \"redraw\": false}, \"fromcurrent\": true, \"mode\": \"immediate\", \"transition\": {\"duration\": 0, \"easing\": \"linear\"}}], \"label\": \"2014\", \"method\": \"animate\"}, {\"args\": [[\"2015\"], {\"frame\": {\"duration\": 0, \"redraw\": false}, \"fromcurrent\": true, \"mode\": \"immediate\", \"transition\": {\"duration\": 0, \"easing\": \"linear\"}}], \"label\": \"2015\", \"method\": \"animate\"}, {\"args\": [[\"2016\"], {\"frame\": {\"duration\": 0, \"redraw\": false}, \"fromcurrent\": true, \"mode\": \"immediate\", \"transition\": {\"duration\": 0, \"easing\": \"linear\"}}], \"label\": \"2016\", \"method\": \"animate\"}, {\"args\": [[\"2017\"], {\"frame\": {\"duration\": 0, \"redraw\": false}, \"fromcurrent\": true, \"mode\": \"immediate\", \"transition\": {\"duration\": 0, \"easing\": \"linear\"}}], \"label\": \"2017\", \"method\": \"animate\"}], \"x\": 0.1, \"xanchor\": \"left\", \"y\": 0, \"yanchor\": \"top\"}], \"template\": {\"data\": {\"bar\": [{\"error_x\": {\"color\": \"#2a3f5f\"}, \"error_y\": {\"color\": \"#2a3f5f\"}, \"marker\": {\"line\": {\"color\": \"#E5ECF6\", \"width\": 0.5}}, \"type\": \"bar\"}], \"barpolar\": [{\"marker\": {\"line\": {\"color\": \"#E5ECF6\", \"width\": 0.5}}, \"type\": \"barpolar\"}], \"carpet\": [{\"aaxis\": {\"endlinecolor\": \"#2a3f5f\", \"gridcolor\": \"white\", \"linecolor\": \"white\", \"minorgridcolor\": \"white\", \"startlinecolor\": \"#2a3f5f\"}, \"baxis\": {\"endlinecolor\": \"#2a3f5f\", \"gridcolor\": \"white\", \"linecolor\": \"white\", \"minorgridcolor\": \"white\", \"startlinecolor\": \"#2a3f5f\"}, \"type\": \"carpet\"}], \"choropleth\": [{\"colorbar\": {\"outlinewidth\": 0, \"ticks\": \"\"}, \"type\": \"choropleth\"}], \"contour\": [{\"colorbar\": {\"outlinewidth\": 0, \"ticks\": \"\"}, \"colorscale\": [[0.0, \"#0d0887\"], [0.1111111111111111, \"#46039f\"], [0.2222222222222222, \"#7201a8\"], [0.3333333333333333, \"#9c179e\"], [0.4444444444444444, \"#bd3786\"], [0.5555555555555556, \"#d8576b\"], [0.6666666666666666, \"#ed7953\"], [0.7777777777777778, \"#fb9f3a\"], [0.8888888888888888, \"#fdca26\"], [1.0, \"#f0f921\"]], \"type\": \"contour\"}], \"contourcarpet\": [{\"colorbar\": {\"outlinewidth\": 0, \"ticks\": \"\"}, \"type\": \"contourcarpet\"}], \"heatmap\": [{\"colorbar\": {\"outlinewidth\": 0, \"ticks\": \"\"}, \"colorscale\": [[0.0, \"#0d0887\"], [0.1111111111111111, \"#46039f\"], [0.2222222222222222, \"#7201a8\"], [0.3333333333333333, \"#9c179e\"], [0.4444444444444444, \"#bd3786\"], [0.5555555555555556, \"#d8576b\"], [0.6666666666666666, \"#ed7953\"], [0.7777777777777778, \"#fb9f3a\"], [0.8888888888888888, \"#fdca26\"], [1.0, \"#f0f921\"]], \"type\": \"heatmap\"}], \"heatmapgl\": [{\"colorbar\": {\"outlinewidth\": 0, \"ticks\": \"\"}, \"colorscale\": [[0.0, \"#0d0887\"], [0.1111111111111111, \"#46039f\"], [0.2222222222222222, \"#7201a8\"], [0.3333333333333333, \"#9c179e\"], [0.4444444444444444, \"#bd3786\"], [0.5555555555555556, \"#d8576b\"], [0.6666666666666666, \"#ed7953\"], [0.7777777777777778, \"#fb9f3a\"], [0.8888888888888888, \"#fdca26\"], [1.0, \"#f0f921\"]], \"type\": \"heatmapgl\"}], \"histogram\": [{\"marker\": {\"colorbar\": {\"outlinewidth\": 0, \"ticks\": \"\"}}, \"type\": \"histogram\"}], \"histogram2d\": [{\"colorbar\": {\"outlinewidth\": 0, \"ticks\": \"\"}, \"colorscale\": [[0.0, \"#0d0887\"], [0.1111111111111111, \"#46039f\"], [0.2222222222222222, \"#7201a8\"], [0.3333333333333333, \"#9c179e\"], [0.4444444444444444, \"#bd3786\"], [0.5555555555555556, \"#d8576b\"], [0.6666666666666666, \"#ed7953\"], [0.7777777777777778, \"#fb9f3a\"], [0.8888888888888888, \"#fdca26\"], [1.0, \"#f0f921\"]], \"type\": \"histogram2d\"}], \"histogram2dcontour\": [{\"colorbar\": {\"outlinewidth\": 0, \"ticks\": \"\"}, \"colorscale\": [[0.0, \"#0d0887\"], [0.1111111111111111, \"#46039f\"], [0.2222222222222222, \"#7201a8\"], [0.3333333333333333, \"#9c179e\"], [0.4444444444444444, \"#bd3786\"], [0.5555555555555556, \"#d8576b\"], [0.6666666666666666, \"#ed7953\"], [0.7777777777777778, \"#fb9f3a\"], [0.8888888888888888, \"#fdca26\"], [1.0, \"#f0f921\"]], \"type\": \"histogram2dcontour\"}], \"mesh3d\": [{\"colorbar\": {\"outlinewidth\": 0, \"ticks\": \"\"}, \"type\": \"mesh3d\"}], \"parcoords\": [{\"line\": {\"colorbar\": {\"outlinewidth\": 0, \"ticks\": \"\"}}, \"type\": \"parcoords\"}], \"scatter\": [{\"marker\": {\"colorbar\": {\"outlinewidth\": 0, \"ticks\": \"\"}}, \"type\": \"scatter\"}], \"scatter3d\": [{\"line\": {\"colorbar\": {\"outlinewidth\": 0, \"ticks\": \"\"}}, \"marker\": {\"colorbar\": {\"outlinewidth\": 0, \"ticks\": \"\"}}, \"type\": \"scatter3d\"}], \"scattercarpet\": [{\"marker\": {\"colorbar\": {\"outlinewidth\": 0, \"ticks\": \"\"}}, \"type\": \"scattercarpet\"}], \"scattergeo\": [{\"marker\": {\"colorbar\": {\"outlinewidth\": 0, \"ticks\": \"\"}}, \"type\": \"scattergeo\"}], \"scattergl\": [{\"marker\": {\"colorbar\": {\"outlinewidth\": 0, \"ticks\": \"\"}}, \"type\": \"scattergl\"}], \"scattermapbox\": [{\"marker\": {\"colorbar\": {\"outlinewidth\": 0, \"ticks\": \"\"}}, \"type\": \"scattermapbox\"}], \"scatterpolar\": [{\"marker\": {\"colorbar\": {\"outlinewidth\": 0, \"ticks\": \"\"}}, \"type\": \"scatterpolar\"}], \"scatterpolargl\": [{\"marker\": {\"colorbar\": {\"outlinewidth\": 0, \"ticks\": \"\"}}, \"type\": \"scatterpolargl\"}], \"scatterternary\": [{\"marker\": {\"colorbar\": {\"outlinewidth\": 0, \"ticks\": \"\"}}, \"type\": \"scatterternary\"}], \"surface\": [{\"colorbar\": {\"outlinewidth\": 0, \"ticks\": \"\"}, \"colorscale\": [[0.0, \"#0d0887\"], [0.1111111111111111, \"#46039f\"], [0.2222222222222222, \"#7201a8\"], [0.3333333333333333, \"#9c179e\"], [0.4444444444444444, \"#bd3786\"], [0.5555555555555556, \"#d8576b\"], [0.6666666666666666, \"#ed7953\"], [0.7777777777777778, \"#fb9f3a\"], [0.8888888888888888, \"#fdca26\"], [1.0, \"#f0f921\"]], \"type\": \"surface\"}], \"table\": [{\"cells\": {\"fill\": {\"color\": \"#EBF0F8\"}, \"line\": {\"color\": \"white\"}}, \"header\": {\"fill\": {\"color\": \"#C8D4E3\"}, \"line\": {\"color\": \"white\"}}, \"type\": \"table\"}]}, \"layout\": {\"annotationdefaults\": {\"arrowcolor\": \"#2a3f5f\", \"arrowhead\": 0, \"arrowwidth\": 1}, \"colorscale\": {\"diverging\": [[0, \"#8e0152\"], [0.1, \"#c51b7d\"], [0.2, \"#de77ae\"], [0.3, \"#f1b6da\"], [0.4, \"#fde0ef\"], [0.5, \"#f7f7f7\"], [0.6, \"#e6f5d0\"], [0.7, \"#b8e186\"], [0.8, \"#7fbc41\"], [0.9, \"#4d9221\"], [1, \"#276419\"]], \"sequential\": [[0.0, \"#0d0887\"], [0.1111111111111111, \"#46039f\"], [0.2222222222222222, \"#7201a8\"], [0.3333333333333333, \"#9c179e\"], [0.4444444444444444, \"#bd3786\"], [0.5555555555555556, \"#d8576b\"], [0.6666666666666666, \"#ed7953\"], [0.7777777777777778, \"#fb9f3a\"], [0.8888888888888888, \"#fdca26\"], [1.0, \"#f0f921\"]], \"sequentialminus\": [[0.0, \"#0d0887\"], [0.1111111111111111, \"#46039f\"], [0.2222222222222222, \"#7201a8\"], [0.3333333333333333, \"#9c179e\"], [0.4444444444444444, \"#bd3786\"], [0.5555555555555556, \"#d8576b\"], [0.6666666666666666, \"#ed7953\"], [0.7777777777777778, \"#fb9f3a\"], [0.8888888888888888, \"#fdca26\"], [1.0, \"#f0f921\"]]}, \"colorway\": [\"#636efa\", \"#EF553B\", \"#00cc96\", \"#ab63fa\", \"#FFA15A\", \"#19d3f3\", \"#FF6692\", \"#B6E880\", \"#FF97FF\", \"#FECB52\"], \"font\": {\"color\": \"#2a3f5f\"}, \"geo\": {\"bgcolor\": \"white\", \"lakecolor\": \"white\", \"landcolor\": \"#E5ECF6\", \"showlakes\": true, \"showland\": true, \"subunitcolor\": \"white\"}, \"hoverlabel\": {\"align\": \"left\"}, \"hovermode\": \"closest\", \"mapbox\": {\"style\": \"light\"}, \"paper_bgcolor\": \"white\", \"plot_bgcolor\": \"#E5ECF6\", \"polar\": {\"angularaxis\": {\"gridcolor\": \"white\", \"linecolor\": \"white\", \"ticks\": \"\"}, \"bgcolor\": \"#E5ECF6\", \"radialaxis\": {\"gridcolor\": \"white\", \"linecolor\": \"white\", \"ticks\": \"\"}}, \"scene\": {\"xaxis\": {\"backgroundcolor\": \"#E5ECF6\", \"gridcolor\": \"white\", \"gridwidth\": 2, \"linecolor\": \"white\", \"showbackground\": true, \"ticks\": \"\", \"zerolinecolor\": \"white\"}, \"yaxis\": {\"backgroundcolor\": \"#E5ECF6\", \"gridcolor\": \"white\", \"gridwidth\": 2, \"linecolor\": \"white\", \"showbackground\": true, \"ticks\": \"\", \"zerolinecolor\": \"white\"}, \"zaxis\": {\"backgroundcolor\": \"#E5ECF6\", \"gridcolor\": \"white\", \"gridwidth\": 2, \"linecolor\": \"white\", \"showbackground\": true, \"ticks\": \"\", \"zerolinecolor\": \"white\"}}, \"shapedefaults\": {\"line\": {\"color\": \"#2a3f5f\"}}, \"ternary\": {\"aaxis\": {\"gridcolor\": \"white\", \"linecolor\": \"white\", \"ticks\": \"\"}, \"baxis\": {\"gridcolor\": \"white\", \"linecolor\": \"white\", \"ticks\": \"\"}, \"bgcolor\": \"#E5ECF6\", \"caxis\": {\"gridcolor\": \"white\", \"linecolor\": \"white\", \"ticks\": \"\"}}, \"title\": {\"x\": 0.05}, \"xaxis\": {\"automargin\": true, \"gridcolor\": \"white\", \"linecolor\": \"white\", \"ticks\": \"\", \"zerolinecolor\": \"white\", \"zerolinewidth\": 2}, \"yaxis\": {\"automargin\": true, \"gridcolor\": \"white\", \"linecolor\": \"white\", \"ticks\": \"\", \"zerolinecolor\": \"white\", \"zerolinewidth\": 2}}}, \"updatemenus\": [{\"buttons\": [{\"args\": [null, {\"frame\": {\"duration\": 500, \"redraw\": false}, \"fromcurrent\": true, \"mode\": \"immediate\", \"transition\": {\"duration\": 500, \"easing\": \"linear\"}}], \"label\": \"&#9654;\", \"method\": \"animate\"}, {\"args\": [[null], {\"frame\": {\"duration\": 0, \"redraw\": false}, \"fromcurrent\": true, \"mode\": \"immediate\", \"transition\": {\"duration\": 0, \"easing\": \"linear\"}}], \"label\": \"&#9724;\", \"method\": \"animate\"}], \"direction\": \"left\", \"pad\": {\"r\": 10, \"t\": 70}, \"showactive\": false, \"type\": \"buttons\", \"x\": 0.1, \"xanchor\": \"right\", \"y\": 0, \"yanchor\": \"top\"}], \"xaxis\": {\"anchor\": \"y\", \"domain\": [0.0, 0.98], \"range\": [4.30102999566398, 5.477121254719662], \"title\": {\"text\": \"Household Income\"}, \"type\": \"log\"}, \"yaxis\": {\"anchor\": \"x\", \"domain\": [0.0, 1.0], \"range\": [21, 50], \"title\": {\"text\": \"Median Age\"}}},\n",
       "                        {\"responsive\": true}\n",
       "                    ).then(function(){\n",
       "                            Plotly.addFrames('dd09950d-1e1b-40fa-a929-600ba5a0b908', [{\"data\": [{\"hoverlabel\": {\"namelength\": 0}, \"hovertemplate\": \"<b>%{hovertext}</b><br><br>Year=2012<br>Household Income=%{x}<br>Median Age=%{y}<br>Population=%{marker.size}<br>Zipcode=%{marker.color}\", \"hovertext\": [77002.0, 77003.0, 77004.0, 77005.0, 77006.0, 77007.0, 77008.0, 77009.0, 77010.0, 77011.0, 77012.0, 77019.0, 77020.0, 77021.0, 77023.0, 77025.0, 77026.0, 77027.0, 77030.0], \"ids\": [77002, 77003, 77004, 77005, 77006, 77007, 77008, 77009, 77010, 77011, 77012, 77019, 77020, 77021, 77023, 77025, 77026, 77027, 77030], \"legendgroup\": \"\", \"marker\": {\"color\": [77002, 77003, 77004, 77005, 77006, 77007, 77008, 77009, 77010, 77011, 77012, 77019, 77020, 77021, 77023, 77025, 77026, 77027, 77030], \"coloraxis\": \"coloraxis\", \"size\": [11473.0, 10215.0, 29853.0, 25740.0, 19856.0, 29545.0, 29424.0, 39050.0, 342.0, 19396.0, 21619.0, 19450.0, 26381.0, 25640.0, 30696.0, 25935.0, 23963.0, 14745.0, 11184.0], \"sizemode\": \"area\", \"sizeref\": 13.132231404958677, \"symbol\": \"circle\"}, \"mode\": \"markers\", \"name\": \"\", \"showlegend\": false, \"x\": [57165.0, 37664.0, 39804.0, 153041.0, 63360.0, 90860.0, 65457.0, 42944.0, 149444.0, 27458.0, 33035.0, 87582.0, 28217.0, 32096.0, 37735.0, 64202.0, 20200.0, 81202.0, 67790.0], \"xaxis\": \"x\", \"y\": [31.8, 32.9, 31.6, 38.5, 36.9, 34.6, 37.1, 33.6, 50.6, 32.7, 30.1, 36.8, 31.7, 34.4, 30.9, 33.8, 32.8, 37.9, 32.8], \"yaxis\": \"y\", \"type\": \"scatter\"}], \"name\": \"2012\"}, {\"data\": [{\"hoverlabel\": {\"namelength\": 0}, \"hovertemplate\": \"<b>%{hovertext}</b><br><br>Year=2013<br>Household Income=%{x}<br>Median Age=%{y}<br>Population=%{marker.size}<br>Zipcode=%{marker.color}\", \"hovertext\": [77002.0, 77003.0, 77004.0, 77005.0, 77006.0, 77007.0, 77008.0, 77009.0, 77010.0, 77011.0, 77012.0, 77019.0, 77020.0, 77021.0, 77023.0, 77025.0, 77026.0, 77027.0, 77030.0], \"ids\": [77002, 77003, 77004, 77005, 77006, 77007, 77008, 77009, 77010, 77011, 77012, 77019, 77020, 77021, 77023, 77025, 77026, 77027, 77030], \"legendgroup\": \"\", \"marker\": {\"color\": [77002, 77003, 77004, 77005, 77006, 77007, 77008, 77009, 77010, 77011, 77012, 77019, 77020, 77021, 77023, 77025, 77026, 77027, 77030], \"coloraxis\": \"coloraxis\", \"size\": [11602.0, 10617.0, 31593.0, 25752.0, 20573.0, 30868.0, 30807.0, 39725.0, 564.0, 19442.0, 21868.0, 19995.0, 26889.0, 25479.0, 29871.0, 26379.0, 22909.0, 15455.0, 11031.0], \"sizemode\": \"area\", \"sizeref\": 13.132231404958677, \"symbol\": \"circle\"}, \"mode\": \"markers\", \"name\": \"\", \"showlegend\": false, \"x\": [64093.0, 36412.0, 41983.0, 159732.0, 67458.0, 98725.0, 70293.0, 44651.0, 250001.0, 26838.0, 34975.0, 87394.0, 29401.0, 31103.0, 36033.0, 65828.0, 20024.0, 81661.0, 68980.0], \"xaxis\": \"x\", \"y\": [32.5, 30.8, 30.3, 38.5, 35.1, 34.6, 35.9, 34.1, 41.7, 33.2, 30.5, 35.6, 32.5, 35.0, 31.2, 35.3, 33.5, 37.4, 32.8], \"yaxis\": \"y\", \"type\": \"scatter\"}], \"name\": \"2013\"}, {\"data\": [{\"hoverlabel\": {\"namelength\": 0}, \"hovertemplate\": \"<b>%{hovertext}</b><br><br>Year=2014<br>Household Income=%{x}<br>Median Age=%{y}<br>Population=%{marker.size}<br>Zipcode=%{marker.color}\", \"hovertext\": [77002.0, 77003.0, 77004.0, 77005.0, 77006.0, 77007.0, 77008.0, 77009.0, 77010.0, 77011.0, 77012.0, 77019.0, 77020.0, 77021.0, 77023.0, 77025.0, 77026.0, 77027.0, 77030.0], \"ids\": [77002, 77003, 77004, 77005, 77006, 77007, 77008, 77009, 77010, 77011, 77012, 77019, 77020, 77021, 77023, 77025, 77026, 77027, 77030], \"legendgroup\": \"\", \"marker\": {\"color\": [77002, 77003, 77004, 77005, 77006, 77007, 77008, 77009, 77010, 77011, 77012, 77019, 77020, 77021, 77023, 77025, 77026, 77027, 77030], \"coloraxis\": \"coloraxis\", \"size\": [11630.0, 10760.0, 34079.0, 26187.0, 21144.0, 31987.0, 31418.0, 39361.0, 724.0, 19136.0, 20991.0, 20350.0, 26777.0, 26036.0, 29102.0, 27413.0, 23325.0, 15510.0, 10664.0], \"sizemode\": \"area\", \"sizeref\": 13.132231404958677, \"symbol\": \"circle\"}, \"mode\": \"markers\", \"name\": \"\", \"showlegend\": false, \"x\": [71319.0, 40647.0, 46059.0, 163802.0, 69508.0, 106044.0, 77512.0, 45016.0, 209063.0, 26953.0, 35884.0, 92844.0, 27871.0, 32391.0, 37361.0, 65524.0, 21335.0, 82038.0, 71078.0], \"xaxis\": \"x\", \"y\": [33.2, 31.2, 29.0, 38.7, 35.4, 34.3, 35.5, 34.0, 43.6, 32.8, 31.7, 37.9, 32.9, 33.7, 31.9, 35.3, 33.1, 36.7, 32.5], \"yaxis\": \"y\", \"type\": \"scatter\"}], \"name\": \"2014\"}, {\"data\": [{\"hoverlabel\": {\"namelength\": 0}, \"hovertemplate\": \"<b>%{hovertext}</b><br><br>Year=2015<br>Household Income=%{x}<br>Median Age=%{y}<br>Population=%{marker.size}<br>Zipcode=%{marker.color}\", \"hovertext\": [77002.0, 77003.0, 77004.0, 77005.0, 77006.0, 77007.0, 77008.0, 77009.0, 77010.0, 77011.0, 77012.0, 77019.0, 77020.0, 77021.0, 77023.0, 77025.0, 77026.0, 77027.0, 77030.0], \"ids\": [77002, 77003, 77004, 77005, 77006, 77007, 77008, 77009, 77010, 77011, 77012, 77019, 77020, 77021, 77023, 77025, 77026, 77027, 77030], \"legendgroup\": \"\", \"marker\": {\"color\": [77002, 77003, 77004, 77005, 77006, 77007, 77008, 77009, 77010, 77011, 77012, 77019, 77020, 77021, 77023, 77025, 77026, 77027, 77030], \"coloraxis\": \"coloraxis\", \"size\": [11922.0, 10438.0, 35739.0, 27187.0, 21795.0, 33029.0, 31868.0, 39260.0, 809.0, 19303.0, 20494.0, 20644.0, 26005.0, 26209.0, 28316.0, 28305.0, 22485.0, 15749.0, 10279.0], \"sizemode\": \"area\", \"sizeref\": 13.132231404958677, \"symbol\": \"circle\"}, \"mode\": \"markers\", \"name\": \"\", \"showlegend\": false, \"x\": [62089.0, 39039.0, 47523.0, 166203.0, 71158.0, 107580.0, 82058.0, 43830.0, 250001.0, 26922.0, 34891.0, 101297.0, 27052.0, 32800.0, 36065.0, 66559.0, 22242.0, 89276.0, 71883.0], \"xaxis\": \"x\", \"y\": [33.8, 32.7, 28.1, 38.0, 34.8, 33.5, 35.5, 34.1, 42.7, 33.0, 32.3, 38.8, 32.4, 33.8, 33.4, 35.2, 35.3, 36.8, 32.6], \"yaxis\": \"y\", \"type\": \"scatter\"}], \"name\": \"2015\"}, {\"data\": [{\"hoverlabel\": {\"namelength\": 0}, \"hovertemplate\": \"<b>%{hovertext}</b><br><br>Year=2016<br>Household Income=%{x}<br>Median Age=%{y}<br>Population=%{marker.size}<br>Zipcode=%{marker.color}\", \"hovertext\": [77002.0, 77003.0, 77004.0, 77005.0, 77006.0, 77007.0, 77008.0, 77009.0, 77010.0, 77011.0, 77012.0, 77019.0, 77020.0, 77021.0, 77023.0, 77025.0, 77026.0, 77027.0, 77030.0], \"ids\": [77002, 77003, 77004, 77005, 77006, 77007, 77008, 77009, 77010, 77011, 77012, 77019, 77020, 77021, 77023, 77025, 77026, 77027, 77030], \"legendgroup\": \"\", \"marker\": {\"color\": [77002, 77003, 77004, 77005, 77006, 77007, 77008, 77009, 77010, 77011, 77012, 77019, 77020, 77021, 77023, 77025, 77026, 77027, 77030], \"coloraxis\": \"coloraxis\", \"size\": [11861.0, 10097.0, 36879.0, 27707.0, 21849.0, 35185.0, 32588.0, 38019.0, 831.0, 18558.0, 20534.0, 21067.0, 25908.0, 26374.0, 27973.0, 28103.0, 23030.0, 15498.0, 10735.0], \"sizemode\": \"area\", \"sizeref\": 13.132231404958677, \"symbol\": \"circle\"}, \"mode\": \"markers\", \"name\": \"\", \"showlegend\": false, \"x\": [68229.0, 46267.0, 50681.0, 174153.0, 80908.0, 113361.0, 88248.0, 47011.0, 250001.0, 29544.0, 34617.0, 102521.0, 26896.0, 32404.0, 35723.0, 67548.0, 25354.0, 88471.0, 73689.0], \"xaxis\": \"x\", \"y\": [33.9, 33.0, 28.3, 37.5, 34.9, 33.6, 35.5, 34.5, 48.5, 32.9, 32.0, 38.4, 32.9, 33.8, 33.4, 36.1, 35.9, 35.1, 32.7], \"yaxis\": \"y\", \"type\": \"scatter\"}], \"name\": \"2016\"}, {\"data\": [{\"hoverlabel\": {\"namelength\": 0}, \"hovertemplate\": \"<b>%{hovertext}</b><br><br>Year=2017<br>Household Income=%{x}<br>Median Age=%{y}<br>Population=%{marker.size}<br>Zipcode=%{marker.color}\", \"hovertext\": [77002.0, 77003.0, 77004.0, 77005.0, 77006.0, 77007.0, 77008.0, 77009.0, 77010.0, 77011.0, 77012.0, 77019.0, 77020.0, 77021.0, 77023.0, 77025.0, 77026.0, 77027.0, 77030.0], \"ids\": [77002, 77003, 77004, 77005, 77006, 77007, 77008, 77009, 77010, 77011, 77012, 77019, 77020, 77021, 77023, 77025, 77026, 77027, 77030], \"legendgroup\": \"\", \"marker\": {\"color\": [77002, 77003, 77004, 77005, 77006, 77007, 77008, 77009, 77010, 77011, 77012, 77019, 77020, 77021, 77023, 77025, 77026, 77027, 77030], \"coloraxis\": \"coloraxis\", \"size\": [12370.0, 9646.0, 37642.0, 28233.0, 21945.0, 35822.0, 34491.0, 37751.0, 915.0, 18598.0, 20085.0, 21572.0, 25898.0, 26654.0, 28528.0, 28922.0, 22799.0, 16012.0, 10813.0], \"sizemode\": \"area\", \"sizeref\": 13.132231404958677, \"symbol\": \"circle\"}, \"mode\": \"markers\", \"name\": \"\", \"showlegend\": false, \"x\": [72306.0, 59575.0, 48592.0, 180758.0, 82878.0, 121458.0, 97690.0, 49383.0, 250001.0, 30665.0, 36537.0, 112243.0, 27587.0, 35126.0, 37462.0, 71990.0, 26644.0, 91296.0, 75290.0], \"xaxis\": \"x\", \"y\": [34.1, 34.1, 28.3, 36.5, 34.3, 33.8, 34.9, 35.1, 44.6, 34.0, 33.0, 39.4, 33.0, 33.6, 33.2, 36.3, 35.2, 33.3, 33.9], \"yaxis\": \"y\", \"type\": \"scatter\"}], \"name\": \"2017\"}]);\n",
       "                        }).then(function(){\n",
       "                            \n",
       "var gd = document.getElementById('dd09950d-1e1b-40fa-a929-600ba5a0b908');\n",
       "var x = new MutationObserver(function (mutations, observer) {{\n",
       "        var display = window.getComputedStyle(gd).display;\n",
       "        if (!display || display === 'none') {{\n",
       "            console.log([gd, 'removed!']);\n",
       "            Plotly.purge(gd);\n",
       "            observer.disconnect();\n",
       "        }}\n",
       "}});\n",
       "\n",
       "// Listen for the removal of the full notebook cells\n",
       "var notebookContainer = gd.closest('#notebook-container');\n",
       "if (notebookContainer) {{\n",
       "    x.observe(notebookContainer, {childList: true});\n",
       "}}\n",
       "\n",
       "// Listen for the clearing of the current output cell\n",
       "var outputEl = gd.closest('.output');\n",
       "if (outputEl) {{\n",
       "    x.observe(outputEl, {childList: true});\n",
       "}}\n",
       "\n",
       "                        })\n",
       "                };\n",
       "                });\n",
       "            </script>\n",
       "        </div>"
      ]
     },
     "metadata": {},
     "output_type": "display_data"
    }
   ],
   "source": [
    "px.scatter(census_df, x=\"Household Income\", y=\"Median Age\", animation_frame=\"Year\", animation_group=\"Zipcode\",\n",
    "           size=\"Population\", color=\"Zipcode\", hover_name=\"Zipcode\",\n",
    "           log_x=True, size_max=55, range_x=[20000,300000], range_y=[21,50])"
   ]
  },
  {
   "cell_type": "code",
   "execution_count": 52,
   "metadata": {
    "scrolled": true
   },
   "outputs": [
    {
     "data": {
      "application/vnd.plotly.v1+json": {
       "config": {
        "plotlyServerURL": "https://plot.ly"
       },
       "data": [
        {
         "marker": {
          "size": [
           11473
          ],
          "sizemode": "area",
          "sizeref": 100
         },
         "mode": "markers",
         "name": "77002",
         "text": [
          "77002"
         ],
         "type": "scatter",
         "x": [
          57165
         ],
         "y": [
          31.8
         ]
        },
        {
         "marker": {
          "size": [
           10215
          ],
          "sizemode": "area",
          "sizeref": 100
         },
         "mode": "markers",
         "name": "77003",
         "text": [
          "77003"
         ],
         "type": "scatter",
         "x": [
          37664
         ],
         "y": [
          32.9
         ]
        },
        {
         "marker": {
          "size": [
           29853
          ],
          "sizemode": "area",
          "sizeref": 100
         },
         "mode": "markers",
         "name": "77004",
         "text": [
          "77004"
         ],
         "type": "scatter",
         "x": [
          39804
         ],
         "y": [
          31.6
         ]
        },
        {
         "marker": {
          "size": [
           25740
          ],
          "sizemode": "area",
          "sizeref": 100
         },
         "mode": "markers",
         "name": "77005",
         "text": [
          "77005"
         ],
         "type": "scatter",
         "x": [
          153041
         ],
         "y": [
          38.5
         ]
        },
        {
         "marker": {
          "size": [
           19856
          ],
          "sizemode": "area",
          "sizeref": 100
         },
         "mode": "markers",
         "name": "77006",
         "text": [
          "77006"
         ],
         "type": "scatter",
         "x": [
          63360
         ],
         "y": [
          36.9
         ]
        },
        {
         "marker": {
          "size": [
           29545
          ],
          "sizemode": "area",
          "sizeref": 100
         },
         "mode": "markers",
         "name": "77007",
         "text": [
          "77007"
         ],
         "type": "scatter",
         "x": [
          90860
         ],
         "y": [
          34.6
         ]
        },
        {
         "marker": {
          "size": [
           29424
          ],
          "sizemode": "area",
          "sizeref": 100
         },
         "mode": "markers",
         "name": "77008",
         "text": [
          "77008"
         ],
         "type": "scatter",
         "x": [
          65457
         ],
         "y": [
          37.1
         ]
        },
        {
         "marker": {
          "size": [
           39050
          ],
          "sizemode": "area",
          "sizeref": 100
         },
         "mode": "markers",
         "name": "77009",
         "text": [
          "77009"
         ],
         "type": "scatter",
         "x": [
          42944
         ],
         "y": [
          33.6
         ]
        },
        {
         "marker": {
          "size": [
           342
          ],
          "sizemode": "area",
          "sizeref": 100
         },
         "mode": "markers",
         "name": "77010",
         "text": [
          "77010"
         ],
         "type": "scatter",
         "x": [
          149444
         ],
         "y": [
          50.6
         ]
        },
        {
         "marker": {
          "size": [
           19396
          ],
          "sizemode": "area",
          "sizeref": 100
         },
         "mode": "markers",
         "name": "77011",
         "text": [
          "77011"
         ],
         "type": "scatter",
         "x": [
          27458
         ],
         "y": [
          32.7
         ]
        },
        {
         "marker": {
          "size": [
           21619
          ],
          "sizemode": "area",
          "sizeref": 100
         },
         "mode": "markers",
         "name": "77012",
         "text": [
          "77012"
         ],
         "type": "scatter",
         "x": [
          33035
         ],
         "y": [
          30.1
         ]
        },
        {
         "marker": {
          "size": [
           19450
          ],
          "sizemode": "area",
          "sizeref": 100
         },
         "mode": "markers",
         "name": "77019",
         "text": [
          "77019"
         ],
         "type": "scatter",
         "x": [
          87582
         ],
         "y": [
          36.8
         ]
        },
        {
         "marker": {
          "size": [
           26381
          ],
          "sizemode": "area",
          "sizeref": 100
         },
         "mode": "markers",
         "name": "77020",
         "text": [
          "77020"
         ],
         "type": "scatter",
         "x": [
          28217
         ],
         "y": [
          31.7
         ]
        },
        {
         "marker": {
          "size": [
           25640
          ],
          "sizemode": "area",
          "sizeref": 100
         },
         "mode": "markers",
         "name": "77021",
         "text": [
          "77021"
         ],
         "type": "scatter",
         "x": [
          32096
         ],
         "y": [
          34.4
         ]
        },
        {
         "marker": {
          "size": [
           30696
          ],
          "sizemode": "area",
          "sizeref": 100
         },
         "mode": "markers",
         "name": "77023",
         "text": [
          "77023"
         ],
         "type": "scatter",
         "x": [
          37735
         ],
         "y": [
          30.9
         ]
        },
        {
         "marker": {
          "size": [
           25935
          ],
          "sizemode": "area",
          "sizeref": 100
         },
         "mode": "markers",
         "name": "77025",
         "text": [
          "77025"
         ],
         "type": "scatter",
         "x": [
          64202
         ],
         "y": [
          33.8
         ]
        },
        {
         "marker": {
          "size": [
           23963
          ],
          "sizemode": "area",
          "sizeref": 100
         },
         "mode": "markers",
         "name": "77026",
         "text": [
          "77026"
         ],
         "type": "scatter",
         "x": [
          20200
         ],
         "y": [
          32.8
         ]
        },
        {
         "marker": {
          "size": [
           14745
          ],
          "sizemode": "area",
          "sizeref": 100
         },
         "mode": "markers",
         "name": "77027",
         "text": [
          "77027"
         ],
         "type": "scatter",
         "x": [
          81202
         ],
         "y": [
          37.9
         ]
        },
        {
         "marker": {
          "size": [
           11184
          ],
          "sizemode": "area",
          "sizeref": 100
         },
         "mode": "markers",
         "name": "77030",
         "text": [
          "77030"
         ],
         "type": "scatter",
         "x": [
          67790
         ],
         "y": [
          32.8
         ]
        }
       ],
       "frames": [
        {
         "data": [
          {
           "marker": {
            "size": [
             11473
            ],
            "sizemode": "area",
            "sizeref": 100
           },
           "mode": "markers",
           "name": "77002",
           "text": [
            "77002"
           ],
           "type": "scatter",
           "x": [
            57165
           ],
           "y": [
            31.8
           ]
          },
          {
           "marker": {
            "size": [
             10215
            ],
            "sizemode": "area",
            "sizeref": 100
           },
           "mode": "markers",
           "name": "77003",
           "text": [
            "77003"
           ],
           "type": "scatter",
           "x": [
            37664
           ],
           "y": [
            32.9
           ]
          },
          {
           "marker": {
            "size": [
             29853
            ],
            "sizemode": "area",
            "sizeref": 100
           },
           "mode": "markers",
           "name": "77004",
           "text": [
            "77004"
           ],
           "type": "scatter",
           "x": [
            39804
           ],
           "y": [
            31.6
           ]
          },
          {
           "marker": {
            "size": [
             25740
            ],
            "sizemode": "area",
            "sizeref": 100
           },
           "mode": "markers",
           "name": "77005",
           "text": [
            "77005"
           ],
           "type": "scatter",
           "x": [
            153041
           ],
           "y": [
            38.5
           ]
          },
          {
           "marker": {
            "size": [
             19856
            ],
            "sizemode": "area",
            "sizeref": 100
           },
           "mode": "markers",
           "name": "77006",
           "text": [
            "77006"
           ],
           "type": "scatter",
           "x": [
            63360
           ],
           "y": [
            36.9
           ]
          },
          {
           "marker": {
            "size": [
             29545
            ],
            "sizemode": "area",
            "sizeref": 100
           },
           "mode": "markers",
           "name": "77007",
           "text": [
            "77007"
           ],
           "type": "scatter",
           "x": [
            90860
           ],
           "y": [
            34.6
           ]
          },
          {
           "marker": {
            "size": [
             29424
            ],
            "sizemode": "area",
            "sizeref": 100
           },
           "mode": "markers",
           "name": "77008",
           "text": [
            "77008"
           ],
           "type": "scatter",
           "x": [
            65457
           ],
           "y": [
            37.1
           ]
          },
          {
           "marker": {
            "size": [
             39050
            ],
            "sizemode": "area",
            "sizeref": 100
           },
           "mode": "markers",
           "name": "77009",
           "text": [
            "77009"
           ],
           "type": "scatter",
           "x": [
            42944
           ],
           "y": [
            33.6
           ]
          },
          {
           "marker": {
            "size": [
             342
            ],
            "sizemode": "area",
            "sizeref": 100
           },
           "mode": "markers",
           "name": "77010",
           "text": [
            "77010"
           ],
           "type": "scatter",
           "x": [
            149444
           ],
           "y": [
            50.6
           ]
          },
          {
           "marker": {
            "size": [
             19396
            ],
            "sizemode": "area",
            "sizeref": 100
           },
           "mode": "markers",
           "name": "77011",
           "text": [
            "77011"
           ],
           "type": "scatter",
           "x": [
            27458
           ],
           "y": [
            32.7
           ]
          },
          {
           "marker": {
            "size": [
             21619
            ],
            "sizemode": "area",
            "sizeref": 100
           },
           "mode": "markers",
           "name": "77012",
           "text": [
            "77012"
           ],
           "type": "scatter",
           "x": [
            33035
           ],
           "y": [
            30.1
           ]
          },
          {
           "marker": {
            "size": [
             19450
            ],
            "sizemode": "area",
            "sizeref": 100
           },
           "mode": "markers",
           "name": "77019",
           "text": [
            "77019"
           ],
           "type": "scatter",
           "x": [
            87582
           ],
           "y": [
            36.8
           ]
          },
          {
           "marker": {
            "size": [
             26381
            ],
            "sizemode": "area",
            "sizeref": 100
           },
           "mode": "markers",
           "name": "77020",
           "text": [
            "77020"
           ],
           "type": "scatter",
           "x": [
            28217
           ],
           "y": [
            31.7
           ]
          },
          {
           "marker": {
            "size": [
             25640
            ],
            "sizemode": "area",
            "sizeref": 100
           },
           "mode": "markers",
           "name": "77021",
           "text": [
            "77021"
           ],
           "type": "scatter",
           "x": [
            32096
           ],
           "y": [
            34.4
           ]
          },
          {
           "marker": {
            "size": [
             30696
            ],
            "sizemode": "area",
            "sizeref": 100
           },
           "mode": "markers",
           "name": "77023",
           "text": [
            "77023"
           ],
           "type": "scatter",
           "x": [
            37735
           ],
           "y": [
            30.9
           ]
          },
          {
           "marker": {
            "size": [
             25935
            ],
            "sizemode": "area",
            "sizeref": 100
           },
           "mode": "markers",
           "name": "77025",
           "text": [
            "77025"
           ],
           "type": "scatter",
           "x": [
            64202
           ],
           "y": [
            33.8
           ]
          },
          {
           "marker": {
            "size": [
             23963
            ],
            "sizemode": "area",
            "sizeref": 100
           },
           "mode": "markers",
           "name": "77026",
           "text": [
            "77026"
           ],
           "type": "scatter",
           "x": [
            20200
           ],
           "y": [
            32.8
           ]
          },
          {
           "marker": {
            "size": [
             14745
            ],
            "sizemode": "area",
            "sizeref": 100
           },
           "mode": "markers",
           "name": "77027",
           "text": [
            "77027"
           ],
           "type": "scatter",
           "x": [
            81202
           ],
           "y": [
            37.9
           ]
          },
          {
           "marker": {
            "size": [
             11184
            ],
            "sizemode": "area",
            "sizeref": 100
           },
           "mode": "markers",
           "name": "77030",
           "text": [
            "77030"
           ],
           "type": "scatter",
           "x": [
            67790
           ],
           "y": [
            32.8
           ]
          }
         ],
         "name": "2012"
        },
        {
         "data": [
          {
           "marker": {
            "size": [
             11602
            ],
            "sizemode": "area",
            "sizeref": 100
           },
           "mode": "markers",
           "name": "77002",
           "text": [
            "77002"
           ],
           "type": "scatter",
           "x": [
            64093
           ],
           "y": [
            32.5
           ]
          },
          {
           "marker": {
            "size": [
             10617
            ],
            "sizemode": "area",
            "sizeref": 100
           },
           "mode": "markers",
           "name": "77003",
           "text": [
            "77003"
           ],
           "type": "scatter",
           "x": [
            36412
           ],
           "y": [
            30.8
           ]
          },
          {
           "marker": {
            "size": [
             31593
            ],
            "sizemode": "area",
            "sizeref": 100
           },
           "mode": "markers",
           "name": "77004",
           "text": [
            "77004"
           ],
           "type": "scatter",
           "x": [
            41983
           ],
           "y": [
            30.3
           ]
          },
          {
           "marker": {
            "size": [
             25752
            ],
            "sizemode": "area",
            "sizeref": 100
           },
           "mode": "markers",
           "name": "77005",
           "text": [
            "77005"
           ],
           "type": "scatter",
           "x": [
            159732
           ],
           "y": [
            38.5
           ]
          },
          {
           "marker": {
            "size": [
             20573
            ],
            "sizemode": "area",
            "sizeref": 100
           },
           "mode": "markers",
           "name": "77006",
           "text": [
            "77006"
           ],
           "type": "scatter",
           "x": [
            67458
           ],
           "y": [
            35.1
           ]
          },
          {
           "marker": {
            "size": [
             30868
            ],
            "sizemode": "area",
            "sizeref": 100
           },
           "mode": "markers",
           "name": "77007",
           "text": [
            "77007"
           ],
           "type": "scatter",
           "x": [
            98725
           ],
           "y": [
            34.6
           ]
          },
          {
           "marker": {
            "size": [
             30807
            ],
            "sizemode": "area",
            "sizeref": 100
           },
           "mode": "markers",
           "name": "77008",
           "text": [
            "77008"
           ],
           "type": "scatter",
           "x": [
            70293
           ],
           "y": [
            35.9
           ]
          },
          {
           "marker": {
            "size": [
             39725
            ],
            "sizemode": "area",
            "sizeref": 100
           },
           "mode": "markers",
           "name": "77009",
           "text": [
            "77009"
           ],
           "type": "scatter",
           "x": [
            44651
           ],
           "y": [
            34.1
           ]
          },
          {
           "marker": {
            "size": [
             564
            ],
            "sizemode": "area",
            "sizeref": 100
           },
           "mode": "markers",
           "name": "77010",
           "text": [
            "77010"
           ],
           "type": "scatter",
           "x": [
            250001
           ],
           "y": [
            41.7
           ]
          },
          {
           "marker": {
            "size": [
             19442
            ],
            "sizemode": "area",
            "sizeref": 100
           },
           "mode": "markers",
           "name": "77011",
           "text": [
            "77011"
           ],
           "type": "scatter",
           "x": [
            26838
           ],
           "y": [
            33.2
           ]
          },
          {
           "marker": {
            "size": [
             21868
            ],
            "sizemode": "area",
            "sizeref": 100
           },
           "mode": "markers",
           "name": "77012",
           "text": [
            "77012"
           ],
           "type": "scatter",
           "x": [
            34975
           ],
           "y": [
            30.5
           ]
          },
          {
           "marker": {
            "size": [
             19995
            ],
            "sizemode": "area",
            "sizeref": 100
           },
           "mode": "markers",
           "name": "77019",
           "text": [
            "77019"
           ],
           "type": "scatter",
           "x": [
            87394
           ],
           "y": [
            35.6
           ]
          },
          {
           "marker": {
            "size": [
             26889
            ],
            "sizemode": "area",
            "sizeref": 100
           },
           "mode": "markers",
           "name": "77020",
           "text": [
            "77020"
           ],
           "type": "scatter",
           "x": [
            29401
           ],
           "y": [
            32.5
           ]
          },
          {
           "marker": {
            "size": [
             25479
            ],
            "sizemode": "area",
            "sizeref": 100
           },
           "mode": "markers",
           "name": "77021",
           "text": [
            "77021"
           ],
           "type": "scatter",
           "x": [
            31103
           ],
           "y": [
            35
           ]
          },
          {
           "marker": {
            "size": [
             29871
            ],
            "sizemode": "area",
            "sizeref": 100
           },
           "mode": "markers",
           "name": "77023",
           "text": [
            "77023"
           ],
           "type": "scatter",
           "x": [
            36033
           ],
           "y": [
            31.2
           ]
          },
          {
           "marker": {
            "size": [
             26379
            ],
            "sizemode": "area",
            "sizeref": 100
           },
           "mode": "markers",
           "name": "77025",
           "text": [
            "77025"
           ],
           "type": "scatter",
           "x": [
            65828
           ],
           "y": [
            35.3
           ]
          },
          {
           "marker": {
            "size": [
             22909
            ],
            "sizemode": "area",
            "sizeref": 100
           },
           "mode": "markers",
           "name": "77026",
           "text": [
            "77026"
           ],
           "type": "scatter",
           "x": [
            20024
           ],
           "y": [
            33.5
           ]
          },
          {
           "marker": {
            "size": [
             15455
            ],
            "sizemode": "area",
            "sizeref": 100
           },
           "mode": "markers",
           "name": "77027",
           "text": [
            "77027"
           ],
           "type": "scatter",
           "x": [
            81661
           ],
           "y": [
            37.4
           ]
          },
          {
           "marker": {
            "size": [
             11031
            ],
            "sizemode": "area",
            "sizeref": 100
           },
           "mode": "markers",
           "name": "77030",
           "text": [
            "77030"
           ],
           "type": "scatter",
           "x": [
            68980
           ],
           "y": [
            32.8
           ]
          }
         ],
         "name": "2013"
        },
        {
         "data": [
          {
           "marker": {
            "size": [
             11630
            ],
            "sizemode": "area",
            "sizeref": 100
           },
           "mode": "markers",
           "name": "77002",
           "text": [
            "77002"
           ],
           "type": "scatter",
           "x": [
            71319
           ],
           "y": [
            33.2
           ]
          },
          {
           "marker": {
            "size": [
             10760
            ],
            "sizemode": "area",
            "sizeref": 100
           },
           "mode": "markers",
           "name": "77003",
           "text": [
            "77003"
           ],
           "type": "scatter",
           "x": [
            40647
           ],
           "y": [
            31.2
           ]
          },
          {
           "marker": {
            "size": [
             34079
            ],
            "sizemode": "area",
            "sizeref": 100
           },
           "mode": "markers",
           "name": "77004",
           "text": [
            "77004"
           ],
           "type": "scatter",
           "x": [
            46059
           ],
           "y": [
            29
           ]
          },
          {
           "marker": {
            "size": [
             26187
            ],
            "sizemode": "area",
            "sizeref": 100
           },
           "mode": "markers",
           "name": "77005",
           "text": [
            "77005"
           ],
           "type": "scatter",
           "x": [
            163802
           ],
           "y": [
            38.7
           ]
          },
          {
           "marker": {
            "size": [
             21144
            ],
            "sizemode": "area",
            "sizeref": 100
           },
           "mode": "markers",
           "name": "77006",
           "text": [
            "77006"
           ],
           "type": "scatter",
           "x": [
            69508
           ],
           "y": [
            35.4
           ]
          },
          {
           "marker": {
            "size": [
             31987
            ],
            "sizemode": "area",
            "sizeref": 100
           },
           "mode": "markers",
           "name": "77007",
           "text": [
            "77007"
           ],
           "type": "scatter",
           "x": [
            106044
           ],
           "y": [
            34.3
           ]
          },
          {
           "marker": {
            "size": [
             31418
            ],
            "sizemode": "area",
            "sizeref": 100
           },
           "mode": "markers",
           "name": "77008",
           "text": [
            "77008"
           ],
           "type": "scatter",
           "x": [
            77512
           ],
           "y": [
            35.5
           ]
          },
          {
           "marker": {
            "size": [
             39361
            ],
            "sizemode": "area",
            "sizeref": 100
           },
           "mode": "markers",
           "name": "77009",
           "text": [
            "77009"
           ],
           "type": "scatter",
           "x": [
            45016
           ],
           "y": [
            34
           ]
          },
          {
           "marker": {
            "size": [
             724
            ],
            "sizemode": "area",
            "sizeref": 100
           },
           "mode": "markers",
           "name": "77010",
           "text": [
            "77010"
           ],
           "type": "scatter",
           "x": [
            209063
           ],
           "y": [
            43.6
           ]
          },
          {
           "marker": {
            "size": [
             19136
            ],
            "sizemode": "area",
            "sizeref": 100
           },
           "mode": "markers",
           "name": "77011",
           "text": [
            "77011"
           ],
           "type": "scatter",
           "x": [
            26953
           ],
           "y": [
            32.8
           ]
          },
          {
           "marker": {
            "size": [
             20991
            ],
            "sizemode": "area",
            "sizeref": 100
           },
           "mode": "markers",
           "name": "77012",
           "text": [
            "77012"
           ],
           "type": "scatter",
           "x": [
            35884
           ],
           "y": [
            31.7
           ]
          },
          {
           "marker": {
            "size": [
             20350
            ],
            "sizemode": "area",
            "sizeref": 100
           },
           "mode": "markers",
           "name": "77019",
           "text": [
            "77019"
           ],
           "type": "scatter",
           "x": [
            92844
           ],
           "y": [
            37.9
           ]
          },
          {
           "marker": {
            "size": [
             26777
            ],
            "sizemode": "area",
            "sizeref": 100
           },
           "mode": "markers",
           "name": "77020",
           "text": [
            "77020"
           ],
           "type": "scatter",
           "x": [
            27871
           ],
           "y": [
            32.9
           ]
          },
          {
           "marker": {
            "size": [
             26036
            ],
            "sizemode": "area",
            "sizeref": 100
           },
           "mode": "markers",
           "name": "77021",
           "text": [
            "77021"
           ],
           "type": "scatter",
           "x": [
            32391
           ],
           "y": [
            33.7
           ]
          },
          {
           "marker": {
            "size": [
             29102
            ],
            "sizemode": "area",
            "sizeref": 100
           },
           "mode": "markers",
           "name": "77023",
           "text": [
            "77023"
           ],
           "type": "scatter",
           "x": [
            37361
           ],
           "y": [
            31.9
           ]
          },
          {
           "marker": {
            "size": [
             27413
            ],
            "sizemode": "area",
            "sizeref": 100
           },
           "mode": "markers",
           "name": "77025",
           "text": [
            "77025"
           ],
           "type": "scatter",
           "x": [
            65524
           ],
           "y": [
            35.3
           ]
          },
          {
           "marker": {
            "size": [
             23325
            ],
            "sizemode": "area",
            "sizeref": 100
           },
           "mode": "markers",
           "name": "77026",
           "text": [
            "77026"
           ],
           "type": "scatter",
           "x": [
            21335
           ],
           "y": [
            33.1
           ]
          },
          {
           "marker": {
            "size": [
             15510
            ],
            "sizemode": "area",
            "sizeref": 100
           },
           "mode": "markers",
           "name": "77027",
           "text": [
            "77027"
           ],
           "type": "scatter",
           "x": [
            82038
           ],
           "y": [
            36.7
           ]
          },
          {
           "marker": {
            "size": [
             10664
            ],
            "sizemode": "area",
            "sizeref": 100
           },
           "mode": "markers",
           "name": "77030",
           "text": [
            "77030"
           ],
           "type": "scatter",
           "x": [
            71078
           ],
           "y": [
            32.5
           ]
          }
         ],
         "name": "2014"
        },
        {
         "data": [
          {
           "marker": {
            "size": [
             11922
            ],
            "sizemode": "area",
            "sizeref": 100
           },
           "mode": "markers",
           "name": "77002",
           "text": [
            "77002"
           ],
           "type": "scatter",
           "x": [
            62089
           ],
           "y": [
            33.8
           ]
          },
          {
           "marker": {
            "size": [
             10438
            ],
            "sizemode": "area",
            "sizeref": 100
           },
           "mode": "markers",
           "name": "77003",
           "text": [
            "77003"
           ],
           "type": "scatter",
           "x": [
            39039
           ],
           "y": [
            32.7
           ]
          },
          {
           "marker": {
            "size": [
             35739
            ],
            "sizemode": "area",
            "sizeref": 100
           },
           "mode": "markers",
           "name": "77004",
           "text": [
            "77004"
           ],
           "type": "scatter",
           "x": [
            47523
           ],
           "y": [
            28.1
           ]
          },
          {
           "marker": {
            "size": [
             27187
            ],
            "sizemode": "area",
            "sizeref": 100
           },
           "mode": "markers",
           "name": "77005",
           "text": [
            "77005"
           ],
           "type": "scatter",
           "x": [
            166203
           ],
           "y": [
            38
           ]
          },
          {
           "marker": {
            "size": [
             21795
            ],
            "sizemode": "area",
            "sizeref": 100
           },
           "mode": "markers",
           "name": "77006",
           "text": [
            "77006"
           ],
           "type": "scatter",
           "x": [
            71158
           ],
           "y": [
            34.8
           ]
          },
          {
           "marker": {
            "size": [
             33029
            ],
            "sizemode": "area",
            "sizeref": 100
           },
           "mode": "markers",
           "name": "77007",
           "text": [
            "77007"
           ],
           "type": "scatter",
           "x": [
            107580
           ],
           "y": [
            33.5
           ]
          },
          {
           "marker": {
            "size": [
             31868
            ],
            "sizemode": "area",
            "sizeref": 100
           },
           "mode": "markers",
           "name": "77008",
           "text": [
            "77008"
           ],
           "type": "scatter",
           "x": [
            82058
           ],
           "y": [
            35.5
           ]
          },
          {
           "marker": {
            "size": [
             39260
            ],
            "sizemode": "area",
            "sizeref": 100
           },
           "mode": "markers",
           "name": "77009",
           "text": [
            "77009"
           ],
           "type": "scatter",
           "x": [
            43830
           ],
           "y": [
            34.1
           ]
          },
          {
           "marker": {
            "size": [
             809
            ],
            "sizemode": "area",
            "sizeref": 100
           },
           "mode": "markers",
           "name": "77010",
           "text": [
            "77010"
           ],
           "type": "scatter",
           "x": [
            250001
           ],
           "y": [
            42.7
           ]
          },
          {
           "marker": {
            "size": [
             19303
            ],
            "sizemode": "area",
            "sizeref": 100
           },
           "mode": "markers",
           "name": "77011",
           "text": [
            "77011"
           ],
           "type": "scatter",
           "x": [
            26922
           ],
           "y": [
            33
           ]
          },
          {
           "marker": {
            "size": [
             20494
            ],
            "sizemode": "area",
            "sizeref": 100
           },
           "mode": "markers",
           "name": "77012",
           "text": [
            "77012"
           ],
           "type": "scatter",
           "x": [
            34891
           ],
           "y": [
            32.3
           ]
          },
          {
           "marker": {
            "size": [
             20644
            ],
            "sizemode": "area",
            "sizeref": 100
           },
           "mode": "markers",
           "name": "77019",
           "text": [
            "77019"
           ],
           "type": "scatter",
           "x": [
            101297
           ],
           "y": [
            38.8
           ]
          },
          {
           "marker": {
            "size": [
             26005
            ],
            "sizemode": "area",
            "sizeref": 100
           },
           "mode": "markers",
           "name": "77020",
           "text": [
            "77020"
           ],
           "type": "scatter",
           "x": [
            27052
           ],
           "y": [
            32.4
           ]
          },
          {
           "marker": {
            "size": [
             26209
            ],
            "sizemode": "area",
            "sizeref": 100
           },
           "mode": "markers",
           "name": "77021",
           "text": [
            "77021"
           ],
           "type": "scatter",
           "x": [
            32800
           ],
           "y": [
            33.8
           ]
          },
          {
           "marker": {
            "size": [
             28316
            ],
            "sizemode": "area",
            "sizeref": 100
           },
           "mode": "markers",
           "name": "77023",
           "text": [
            "77023"
           ],
           "type": "scatter",
           "x": [
            36065
           ],
           "y": [
            33.4
           ]
          },
          {
           "marker": {
            "size": [
             28305
            ],
            "sizemode": "area",
            "sizeref": 100
           },
           "mode": "markers",
           "name": "77025",
           "text": [
            "77025"
           ],
           "type": "scatter",
           "x": [
            66559
           ],
           "y": [
            35.2
           ]
          },
          {
           "marker": {
            "size": [
             22485
            ],
            "sizemode": "area",
            "sizeref": 100
           },
           "mode": "markers",
           "name": "77026",
           "text": [
            "77026"
           ],
           "type": "scatter",
           "x": [
            22242
           ],
           "y": [
            35.3
           ]
          },
          {
           "marker": {
            "size": [
             15749
            ],
            "sizemode": "area",
            "sizeref": 100
           },
           "mode": "markers",
           "name": "77027",
           "text": [
            "77027"
           ],
           "type": "scatter",
           "x": [
            89276
           ],
           "y": [
            36.8
           ]
          },
          {
           "marker": {
            "size": [
             10279
            ],
            "sizemode": "area",
            "sizeref": 100
           },
           "mode": "markers",
           "name": "77030",
           "text": [
            "77030"
           ],
           "type": "scatter",
           "x": [
            71883
           ],
           "y": [
            32.6
           ]
          }
         ],
         "name": "2015"
        },
        {
         "data": [
          {
           "marker": {
            "size": [
             11861
            ],
            "sizemode": "area",
            "sizeref": 100
           },
           "mode": "markers",
           "name": "77002",
           "text": [
            "77002"
           ],
           "type": "scatter",
           "x": [
            68229
           ],
           "y": [
            33.9
           ]
          },
          {
           "marker": {
            "size": [
             10097
            ],
            "sizemode": "area",
            "sizeref": 100
           },
           "mode": "markers",
           "name": "77003",
           "text": [
            "77003"
           ],
           "type": "scatter",
           "x": [
            46267
           ],
           "y": [
            33
           ]
          },
          {
           "marker": {
            "size": [
             36879
            ],
            "sizemode": "area",
            "sizeref": 100
           },
           "mode": "markers",
           "name": "77004",
           "text": [
            "77004"
           ],
           "type": "scatter",
           "x": [
            50681
           ],
           "y": [
            28.3
           ]
          },
          {
           "marker": {
            "size": [
             27707
            ],
            "sizemode": "area",
            "sizeref": 100
           },
           "mode": "markers",
           "name": "77005",
           "text": [
            "77005"
           ],
           "type": "scatter",
           "x": [
            174153
           ],
           "y": [
            37.5
           ]
          },
          {
           "marker": {
            "size": [
             21849
            ],
            "sizemode": "area",
            "sizeref": 100
           },
           "mode": "markers",
           "name": "77006",
           "text": [
            "77006"
           ],
           "type": "scatter",
           "x": [
            80908
           ],
           "y": [
            34.9
           ]
          },
          {
           "marker": {
            "size": [
             35185
            ],
            "sizemode": "area",
            "sizeref": 100
           },
           "mode": "markers",
           "name": "77007",
           "text": [
            "77007"
           ],
           "type": "scatter",
           "x": [
            113361
           ],
           "y": [
            33.6
           ]
          },
          {
           "marker": {
            "size": [
             32588
            ],
            "sizemode": "area",
            "sizeref": 100
           },
           "mode": "markers",
           "name": "77008",
           "text": [
            "77008"
           ],
           "type": "scatter",
           "x": [
            88248
           ],
           "y": [
            35.5
           ]
          },
          {
           "marker": {
            "size": [
             38019
            ],
            "sizemode": "area",
            "sizeref": 100
           },
           "mode": "markers",
           "name": "77009",
           "text": [
            "77009"
           ],
           "type": "scatter",
           "x": [
            47011
           ],
           "y": [
            34.5
           ]
          },
          {
           "marker": {
            "size": [
             831
            ],
            "sizemode": "area",
            "sizeref": 100
           },
           "mode": "markers",
           "name": "77010",
           "text": [
            "77010"
           ],
           "type": "scatter",
           "x": [
            250001
           ],
           "y": [
            48.5
           ]
          },
          {
           "marker": {
            "size": [
             18558
            ],
            "sizemode": "area",
            "sizeref": 100
           },
           "mode": "markers",
           "name": "77011",
           "text": [
            "77011"
           ],
           "type": "scatter",
           "x": [
            29544
           ],
           "y": [
            32.9
           ]
          },
          {
           "marker": {
            "size": [
             20534
            ],
            "sizemode": "area",
            "sizeref": 100
           },
           "mode": "markers",
           "name": "77012",
           "text": [
            "77012"
           ],
           "type": "scatter",
           "x": [
            34617
           ],
           "y": [
            32
           ]
          },
          {
           "marker": {
            "size": [
             21067
            ],
            "sizemode": "area",
            "sizeref": 100
           },
           "mode": "markers",
           "name": "77019",
           "text": [
            "77019"
           ],
           "type": "scatter",
           "x": [
            102521
           ],
           "y": [
            38.4
           ]
          },
          {
           "marker": {
            "size": [
             25908
            ],
            "sizemode": "area",
            "sizeref": 100
           },
           "mode": "markers",
           "name": "77020",
           "text": [
            "77020"
           ],
           "type": "scatter",
           "x": [
            26896
           ],
           "y": [
            32.9
           ]
          },
          {
           "marker": {
            "size": [
             26374
            ],
            "sizemode": "area",
            "sizeref": 100
           },
           "mode": "markers",
           "name": "77021",
           "text": [
            "77021"
           ],
           "type": "scatter",
           "x": [
            32404
           ],
           "y": [
            33.8
           ]
          },
          {
           "marker": {
            "size": [
             27973
            ],
            "sizemode": "area",
            "sizeref": 100
           },
           "mode": "markers",
           "name": "77023",
           "text": [
            "77023"
           ],
           "type": "scatter",
           "x": [
            35723
           ],
           "y": [
            33.4
           ]
          },
          {
           "marker": {
            "size": [
             28103
            ],
            "sizemode": "area",
            "sizeref": 100
           },
           "mode": "markers",
           "name": "77025",
           "text": [
            "77025"
           ],
           "type": "scatter",
           "x": [
            67548
           ],
           "y": [
            36.1
           ]
          },
          {
           "marker": {
            "size": [
             23030
            ],
            "sizemode": "area",
            "sizeref": 100
           },
           "mode": "markers",
           "name": "77026",
           "text": [
            "77026"
           ],
           "type": "scatter",
           "x": [
            25354
           ],
           "y": [
            35.9
           ]
          },
          {
           "marker": {
            "size": [
             15498
            ],
            "sizemode": "area",
            "sizeref": 100
           },
           "mode": "markers",
           "name": "77027",
           "text": [
            "77027"
           ],
           "type": "scatter",
           "x": [
            88471
           ],
           "y": [
            35.1
           ]
          },
          {
           "marker": {
            "size": [
             10735
            ],
            "sizemode": "area",
            "sizeref": 100
           },
           "mode": "markers",
           "name": "77030",
           "text": [
            "77030"
           ],
           "type": "scatter",
           "x": [
            73689
           ],
           "y": [
            32.7
           ]
          }
         ],
         "name": "2016"
        },
        {
         "data": [
          {
           "marker": {
            "size": [
             12370
            ],
            "sizemode": "area",
            "sizeref": 100
           },
           "mode": "markers",
           "name": "77002",
           "text": [
            "77002"
           ],
           "type": "scatter",
           "x": [
            72306
           ],
           "y": [
            34.1
           ]
          },
          {
           "marker": {
            "size": [
             9646
            ],
            "sizemode": "area",
            "sizeref": 100
           },
           "mode": "markers",
           "name": "77003",
           "text": [
            "77003"
           ],
           "type": "scatter",
           "x": [
            59575
           ],
           "y": [
            34.1
           ]
          },
          {
           "marker": {
            "size": [
             37642
            ],
            "sizemode": "area",
            "sizeref": 100
           },
           "mode": "markers",
           "name": "77004",
           "text": [
            "77004"
           ],
           "type": "scatter",
           "x": [
            48592
           ],
           "y": [
            28.3
           ]
          },
          {
           "marker": {
            "size": [
             28233
            ],
            "sizemode": "area",
            "sizeref": 100
           },
           "mode": "markers",
           "name": "77005",
           "text": [
            "77005"
           ],
           "type": "scatter",
           "x": [
            180758
           ],
           "y": [
            36.5
           ]
          },
          {
           "marker": {
            "size": [
             21945
            ],
            "sizemode": "area",
            "sizeref": 100
           },
           "mode": "markers",
           "name": "77006",
           "text": [
            "77006"
           ],
           "type": "scatter",
           "x": [
            82878
           ],
           "y": [
            34.3
           ]
          },
          {
           "marker": {
            "size": [
             35822
            ],
            "sizemode": "area",
            "sizeref": 100
           },
           "mode": "markers",
           "name": "77007",
           "text": [
            "77007"
           ],
           "type": "scatter",
           "x": [
            121458
           ],
           "y": [
            33.8
           ]
          },
          {
           "marker": {
            "size": [
             34491
            ],
            "sizemode": "area",
            "sizeref": 100
           },
           "mode": "markers",
           "name": "77008",
           "text": [
            "77008"
           ],
           "type": "scatter",
           "x": [
            97690
           ],
           "y": [
            34.9
           ]
          },
          {
           "marker": {
            "size": [
             37751
            ],
            "sizemode": "area",
            "sizeref": 100
           },
           "mode": "markers",
           "name": "77009",
           "text": [
            "77009"
           ],
           "type": "scatter",
           "x": [
            49383
           ],
           "y": [
            35.1
           ]
          },
          {
           "marker": {
            "size": [
             915
            ],
            "sizemode": "area",
            "sizeref": 100
           },
           "mode": "markers",
           "name": "77010",
           "text": [
            "77010"
           ],
           "type": "scatter",
           "x": [
            250001
           ],
           "y": [
            44.6
           ]
          },
          {
           "marker": {
            "size": [
             18598
            ],
            "sizemode": "area",
            "sizeref": 100
           },
           "mode": "markers",
           "name": "77011",
           "text": [
            "77011"
           ],
           "type": "scatter",
           "x": [
            30665
           ],
           "y": [
            34
           ]
          },
          {
           "marker": {
            "size": [
             20085
            ],
            "sizemode": "area",
            "sizeref": 100
           },
           "mode": "markers",
           "name": "77012",
           "text": [
            "77012"
           ],
           "type": "scatter",
           "x": [
            36537
           ],
           "y": [
            33
           ]
          },
          {
           "marker": {
            "size": [
             21572
            ],
            "sizemode": "area",
            "sizeref": 100
           },
           "mode": "markers",
           "name": "77019",
           "text": [
            "77019"
           ],
           "type": "scatter",
           "x": [
            112243
           ],
           "y": [
            39.4
           ]
          },
          {
           "marker": {
            "size": [
             25898
            ],
            "sizemode": "area",
            "sizeref": 100
           },
           "mode": "markers",
           "name": "77020",
           "text": [
            "77020"
           ],
           "type": "scatter",
           "x": [
            27587
           ],
           "y": [
            33
           ]
          },
          {
           "marker": {
            "size": [
             26654
            ],
            "sizemode": "area",
            "sizeref": 100
           },
           "mode": "markers",
           "name": "77021",
           "text": [
            "77021"
           ],
           "type": "scatter",
           "x": [
            35126
           ],
           "y": [
            33.6
           ]
          },
          {
           "marker": {
            "size": [
             28528
            ],
            "sizemode": "area",
            "sizeref": 100
           },
           "mode": "markers",
           "name": "77023",
           "text": [
            "77023"
           ],
           "type": "scatter",
           "x": [
            37462
           ],
           "y": [
            33.2
           ]
          },
          {
           "marker": {
            "size": [
             28922
            ],
            "sizemode": "area",
            "sizeref": 100
           },
           "mode": "markers",
           "name": "77025",
           "text": [
            "77025"
           ],
           "type": "scatter",
           "x": [
            71990
           ],
           "y": [
            36.3
           ]
          },
          {
           "marker": {
            "size": [
             22799
            ],
            "sizemode": "area",
            "sizeref": 100
           },
           "mode": "markers",
           "name": "77026",
           "text": [
            "77026"
           ],
           "type": "scatter",
           "x": [
            26644
           ],
           "y": [
            35.2
           ]
          },
          {
           "marker": {
            "size": [
             16012
            ],
            "sizemode": "area",
            "sizeref": 100
           },
           "mode": "markers",
           "name": "77027",
           "text": [
            "77027"
           ],
           "type": "scatter",
           "x": [
            91296
           ],
           "y": [
            33.3
           ]
          },
          {
           "marker": {
            "size": [
             10813
            ],
            "sizemode": "area",
            "sizeref": 100
           },
           "mode": "markers",
           "name": "77030",
           "text": [
            "77030"
           ],
           "type": "scatter",
           "x": [
            75290
           ],
           "y": [
            33.9
           ]
          }
         ],
         "name": "2017"
        }
       ],
       "layout": {
        "hovermode": "closest",
        "sliders": [
         {
          "active": 0,
          "currentvalue": {
           "font": {
            "size": 20
           },
           "prefix": "Year:",
           "visible": true,
           "xanchor": "right"
          },
          "len": 0.9,
          "pad": {
           "b": 10,
           "t": 50
          },
          "steps": [
           {
            "args": [
             [
              "2012"
             ],
             {
              "frame": {
               "duration": 300,
               "redraw": false
              },
              "mode": "immediate",
              "transition": {
               "duration": 300
              }
             }
            ],
            "label": "2012",
            "method": "animate"
           },
           {
            "args": [
             [
              "2013"
             ],
             {
              "frame": {
               "duration": 300,
               "redraw": false
              },
              "mode": "immediate",
              "transition": {
               "duration": 300
              }
             }
            ],
            "label": "2013",
            "method": "animate"
           },
           {
            "args": [
             [
              "2014"
             ],
             {
              "frame": {
               "duration": 300,
               "redraw": false
              },
              "mode": "immediate",
              "transition": {
               "duration": 300
              }
             }
            ],
            "label": "2014",
            "method": "animate"
           },
           {
            "args": [
             [
              "2015"
             ],
             {
              "frame": {
               "duration": 300,
               "redraw": false
              },
              "mode": "immediate",
              "transition": {
               "duration": 300
              }
             }
            ],
            "label": "2015",
            "method": "animate"
           },
           {
            "args": [
             [
              "2016"
             ],
             {
              "frame": {
               "duration": 300,
               "redraw": false
              },
              "mode": "immediate",
              "transition": {
               "duration": 300
              }
             }
            ],
            "label": "2016",
            "method": "animate"
           },
           {
            "args": [
             [
              "2017"
             ],
             {
              "frame": {
               "duration": 300,
               "redraw": false
              },
              "mode": "immediate",
              "transition": {
               "duration": 300
              }
             }
            ],
            "label": "2017",
            "method": "animate"
           }
          ],
          "transition": {
           "duration": 300,
           "easing": "cubic-in-out"
          },
          "x": 0.1,
          "xanchor": "left",
          "y": 0,
          "yanchor": "top"
         }
        ],
        "template": {
         "data": {
          "bar": [
           {
            "error_x": {
             "color": "#2a3f5f"
            },
            "error_y": {
             "color": "#2a3f5f"
            },
            "marker": {
             "line": {
              "color": "#E5ECF6",
              "width": 0.5
             }
            },
            "type": "bar"
           }
          ],
          "barpolar": [
           {
            "marker": {
             "line": {
              "color": "#E5ECF6",
              "width": 0.5
             }
            },
            "type": "barpolar"
           }
          ],
          "carpet": [
           {
            "aaxis": {
             "endlinecolor": "#2a3f5f",
             "gridcolor": "white",
             "linecolor": "white",
             "minorgridcolor": "white",
             "startlinecolor": "#2a3f5f"
            },
            "baxis": {
             "endlinecolor": "#2a3f5f",
             "gridcolor": "white",
             "linecolor": "white",
             "minorgridcolor": "white",
             "startlinecolor": "#2a3f5f"
            },
            "type": "carpet"
           }
          ],
          "choropleth": [
           {
            "colorbar": {
             "outlinewidth": 0,
             "ticks": ""
            },
            "type": "choropleth"
           }
          ],
          "contour": [
           {
            "colorbar": {
             "outlinewidth": 0,
             "ticks": ""
            },
            "colorscale": [
             [
              0,
              "#0d0887"
             ],
             [
              0.1111111111111111,
              "#46039f"
             ],
             [
              0.2222222222222222,
              "#7201a8"
             ],
             [
              0.3333333333333333,
              "#9c179e"
             ],
             [
              0.4444444444444444,
              "#bd3786"
             ],
             [
              0.5555555555555556,
              "#d8576b"
             ],
             [
              0.6666666666666666,
              "#ed7953"
             ],
             [
              0.7777777777777778,
              "#fb9f3a"
             ],
             [
              0.8888888888888888,
              "#fdca26"
             ],
             [
              1,
              "#f0f921"
             ]
            ],
            "type": "contour"
           }
          ],
          "contourcarpet": [
           {
            "colorbar": {
             "outlinewidth": 0,
             "ticks": ""
            },
            "type": "contourcarpet"
           }
          ],
          "heatmap": [
           {
            "colorbar": {
             "outlinewidth": 0,
             "ticks": ""
            },
            "colorscale": [
             [
              0,
              "#0d0887"
             ],
             [
              0.1111111111111111,
              "#46039f"
             ],
             [
              0.2222222222222222,
              "#7201a8"
             ],
             [
              0.3333333333333333,
              "#9c179e"
             ],
             [
              0.4444444444444444,
              "#bd3786"
             ],
             [
              0.5555555555555556,
              "#d8576b"
             ],
             [
              0.6666666666666666,
              "#ed7953"
             ],
             [
              0.7777777777777778,
              "#fb9f3a"
             ],
             [
              0.8888888888888888,
              "#fdca26"
             ],
             [
              1,
              "#f0f921"
             ]
            ],
            "type": "heatmap"
           }
          ],
          "heatmapgl": [
           {
            "colorbar": {
             "outlinewidth": 0,
             "ticks": ""
            },
            "colorscale": [
             [
              0,
              "#0d0887"
             ],
             [
              0.1111111111111111,
              "#46039f"
             ],
             [
              0.2222222222222222,
              "#7201a8"
             ],
             [
              0.3333333333333333,
              "#9c179e"
             ],
             [
              0.4444444444444444,
              "#bd3786"
             ],
             [
              0.5555555555555556,
              "#d8576b"
             ],
             [
              0.6666666666666666,
              "#ed7953"
             ],
             [
              0.7777777777777778,
              "#fb9f3a"
             ],
             [
              0.8888888888888888,
              "#fdca26"
             ],
             [
              1,
              "#f0f921"
             ]
            ],
            "type": "heatmapgl"
           }
          ],
          "histogram": [
           {
            "marker": {
             "colorbar": {
              "outlinewidth": 0,
              "ticks": ""
             }
            },
            "type": "histogram"
           }
          ],
          "histogram2d": [
           {
            "colorbar": {
             "outlinewidth": 0,
             "ticks": ""
            },
            "colorscale": [
             [
              0,
              "#0d0887"
             ],
             [
              0.1111111111111111,
              "#46039f"
             ],
             [
              0.2222222222222222,
              "#7201a8"
             ],
             [
              0.3333333333333333,
              "#9c179e"
             ],
             [
              0.4444444444444444,
              "#bd3786"
             ],
             [
              0.5555555555555556,
              "#d8576b"
             ],
             [
              0.6666666666666666,
              "#ed7953"
             ],
             [
              0.7777777777777778,
              "#fb9f3a"
             ],
             [
              0.8888888888888888,
              "#fdca26"
             ],
             [
              1,
              "#f0f921"
             ]
            ],
            "type": "histogram2d"
           }
          ],
          "histogram2dcontour": [
           {
            "colorbar": {
             "outlinewidth": 0,
             "ticks": ""
            },
            "colorscale": [
             [
              0,
              "#0d0887"
             ],
             [
              0.1111111111111111,
              "#46039f"
             ],
             [
              0.2222222222222222,
              "#7201a8"
             ],
             [
              0.3333333333333333,
              "#9c179e"
             ],
             [
              0.4444444444444444,
              "#bd3786"
             ],
             [
              0.5555555555555556,
              "#d8576b"
             ],
             [
              0.6666666666666666,
              "#ed7953"
             ],
             [
              0.7777777777777778,
              "#fb9f3a"
             ],
             [
              0.8888888888888888,
              "#fdca26"
             ],
             [
              1,
              "#f0f921"
             ]
            ],
            "type": "histogram2dcontour"
           }
          ],
          "mesh3d": [
           {
            "colorbar": {
             "outlinewidth": 0,
             "ticks": ""
            },
            "type": "mesh3d"
           }
          ],
          "parcoords": [
           {
            "line": {
             "colorbar": {
              "outlinewidth": 0,
              "ticks": ""
             }
            },
            "type": "parcoords"
           }
          ],
          "scatter": [
           {
            "marker": {
             "colorbar": {
              "outlinewidth": 0,
              "ticks": ""
             }
            },
            "type": "scatter"
           }
          ],
          "scatter3d": [
           {
            "line": {
             "colorbar": {
              "outlinewidth": 0,
              "ticks": ""
             }
            },
            "marker": {
             "colorbar": {
              "outlinewidth": 0,
              "ticks": ""
             }
            },
            "type": "scatter3d"
           }
          ],
          "scattercarpet": [
           {
            "marker": {
             "colorbar": {
              "outlinewidth": 0,
              "ticks": ""
             }
            },
            "type": "scattercarpet"
           }
          ],
          "scattergeo": [
           {
            "marker": {
             "colorbar": {
              "outlinewidth": 0,
              "ticks": ""
             }
            },
            "type": "scattergeo"
           }
          ],
          "scattergl": [
           {
            "marker": {
             "colorbar": {
              "outlinewidth": 0,
              "ticks": ""
             }
            },
            "type": "scattergl"
           }
          ],
          "scattermapbox": [
           {
            "marker": {
             "colorbar": {
              "outlinewidth": 0,
              "ticks": ""
             }
            },
            "type": "scattermapbox"
           }
          ],
          "scatterpolar": [
           {
            "marker": {
             "colorbar": {
              "outlinewidth": 0,
              "ticks": ""
             }
            },
            "type": "scatterpolar"
           }
          ],
          "scatterpolargl": [
           {
            "marker": {
             "colorbar": {
              "outlinewidth": 0,
              "ticks": ""
             }
            },
            "type": "scatterpolargl"
           }
          ],
          "scatterternary": [
           {
            "marker": {
             "colorbar": {
              "outlinewidth": 0,
              "ticks": ""
             }
            },
            "type": "scatterternary"
           }
          ],
          "surface": [
           {
            "colorbar": {
             "outlinewidth": 0,
             "ticks": ""
            },
            "colorscale": [
             [
              0,
              "#0d0887"
             ],
             [
              0.1111111111111111,
              "#46039f"
             ],
             [
              0.2222222222222222,
              "#7201a8"
             ],
             [
              0.3333333333333333,
              "#9c179e"
             ],
             [
              0.4444444444444444,
              "#bd3786"
             ],
             [
              0.5555555555555556,
              "#d8576b"
             ],
             [
              0.6666666666666666,
              "#ed7953"
             ],
             [
              0.7777777777777778,
              "#fb9f3a"
             ],
             [
              0.8888888888888888,
              "#fdca26"
             ],
             [
              1,
              "#f0f921"
             ]
            ],
            "type": "surface"
           }
          ],
          "table": [
           {
            "cells": {
             "fill": {
              "color": "#EBF0F8"
             },
             "line": {
              "color": "white"
             }
            },
            "header": {
             "fill": {
              "color": "#C8D4E3"
             },
             "line": {
              "color": "white"
             }
            },
            "type": "table"
           }
          ]
         },
         "layout": {
          "annotationdefaults": {
           "arrowcolor": "#2a3f5f",
           "arrowhead": 0,
           "arrowwidth": 1
          },
          "colorscale": {
           "diverging": [
            [
             0,
             "#8e0152"
            ],
            [
             0.1,
             "#c51b7d"
            ],
            [
             0.2,
             "#de77ae"
            ],
            [
             0.3,
             "#f1b6da"
            ],
            [
             0.4,
             "#fde0ef"
            ],
            [
             0.5,
             "#f7f7f7"
            ],
            [
             0.6,
             "#e6f5d0"
            ],
            [
             0.7,
             "#b8e186"
            ],
            [
             0.8,
             "#7fbc41"
            ],
            [
             0.9,
             "#4d9221"
            ],
            [
             1,
             "#276419"
            ]
           ],
           "sequential": [
            [
             0,
             "#0d0887"
            ],
            [
             0.1111111111111111,
             "#46039f"
            ],
            [
             0.2222222222222222,
             "#7201a8"
            ],
            [
             0.3333333333333333,
             "#9c179e"
            ],
            [
             0.4444444444444444,
             "#bd3786"
            ],
            [
             0.5555555555555556,
             "#d8576b"
            ],
            [
             0.6666666666666666,
             "#ed7953"
            ],
            [
             0.7777777777777778,
             "#fb9f3a"
            ],
            [
             0.8888888888888888,
             "#fdca26"
            ],
            [
             1,
             "#f0f921"
            ]
           ],
           "sequentialminus": [
            [
             0,
             "#0d0887"
            ],
            [
             0.1111111111111111,
             "#46039f"
            ],
            [
             0.2222222222222222,
             "#7201a8"
            ],
            [
             0.3333333333333333,
             "#9c179e"
            ],
            [
             0.4444444444444444,
             "#bd3786"
            ],
            [
             0.5555555555555556,
             "#d8576b"
            ],
            [
             0.6666666666666666,
             "#ed7953"
            ],
            [
             0.7777777777777778,
             "#fb9f3a"
            ],
            [
             0.8888888888888888,
             "#fdca26"
            ],
            [
             1,
             "#f0f921"
            ]
           ]
          },
          "colorway": [
           "#636efa",
           "#EF553B",
           "#00cc96",
           "#ab63fa",
           "#FFA15A",
           "#19d3f3",
           "#FF6692",
           "#B6E880",
           "#FF97FF",
           "#FECB52"
          ],
          "font": {
           "color": "#2a3f5f"
          },
          "geo": {
           "bgcolor": "white",
           "lakecolor": "white",
           "landcolor": "#E5ECF6",
           "showlakes": true,
           "showland": true,
           "subunitcolor": "white"
          },
          "hoverlabel": {
           "align": "left"
          },
          "hovermode": "closest",
          "mapbox": {
           "style": "light"
          },
          "paper_bgcolor": "white",
          "plot_bgcolor": "#E5ECF6",
          "polar": {
           "angularaxis": {
            "gridcolor": "white",
            "linecolor": "white",
            "ticks": ""
           },
           "bgcolor": "#E5ECF6",
           "radialaxis": {
            "gridcolor": "white",
            "linecolor": "white",
            "ticks": ""
           }
          },
          "scene": {
           "xaxis": {
            "backgroundcolor": "#E5ECF6",
            "gridcolor": "white",
            "gridwidth": 2,
            "linecolor": "white",
            "showbackground": true,
            "ticks": "",
            "zerolinecolor": "white"
           },
           "yaxis": {
            "backgroundcolor": "#E5ECF6",
            "gridcolor": "white",
            "gridwidth": 2,
            "linecolor": "white",
            "showbackground": true,
            "ticks": "",
            "zerolinecolor": "white"
           },
           "zaxis": {
            "backgroundcolor": "#E5ECF6",
            "gridcolor": "white",
            "gridwidth": 2,
            "linecolor": "white",
            "showbackground": true,
            "ticks": "",
            "zerolinecolor": "white"
           }
          },
          "shapedefaults": {
           "line": {
            "color": "#2a3f5f"
           }
          },
          "ternary": {
           "aaxis": {
            "gridcolor": "white",
            "linecolor": "white",
            "ticks": ""
           },
           "baxis": {
            "gridcolor": "white",
            "linecolor": "white",
            "ticks": ""
           },
           "bgcolor": "#E5ECF6",
           "caxis": {
            "gridcolor": "white",
            "linecolor": "white",
            "ticks": ""
           }
          },
          "title": {
           "x": 0.05
          },
          "xaxis": {
           "automargin": true,
           "gridcolor": "white",
           "linecolor": "white",
           "ticks": "",
           "zerolinecolor": "white",
           "zerolinewidth": 2
          },
          "yaxis": {
           "automargin": true,
           "gridcolor": "white",
           "linecolor": "white",
           "ticks": "",
           "zerolinecolor": "white",
           "zerolinewidth": 2
          }
         }
        },
        "updatemenus": [
         {
          "buttons": [
           {
            "args": [
             null,
             {
              "frame": {
               "duration": 500,
               "redraw": false
              },
              "fromcurrent": true,
              "transition": {
               "duration": 300,
               "easing": "quadratic-in-out"
              }
             }
            ],
            "label": "Play",
            "method": "animate"
           },
           {
            "args": [
             [
              null
             ],
             {
              "frame": {
               "duration": 0,
               "redraw": false
              },
              "mode": "immediate",
              "transition": {
               "duration": 0
              }
             }
            ],
            "label": "Pause",
            "method": "animate"
           }
          ],
          "direction": "left",
          "pad": {
           "r": 10,
           "t": 87
          },
          "showactive": false,
          "type": "buttons",
          "x": 0.1,
          "xanchor": "right",
          "y": 0,
          "yanchor": "top"
         }
        ],
        "xaxis": {
         "range": [
          10000,
          300000
         ],
         "title": {
          "text": "Household Income"
         }
        },
        "yaxis": {
         "title": {
          "text": "Median Age"
         },
         "type": "log"
        }
       }
      },
      "text/html": [
       "<div>\n",
       "        \n",
       "        \n",
       "            <div id=\"bb7f2d8a-3307-45a2-b1de-158280e9ebfd\" class=\"plotly-graph-div\" style=\"height:525px; width:100%;\"></div>\n",
       "            <script type=\"text/javascript\">\n",
       "                require([\"plotly\"], function(Plotly) {\n",
       "                    window.PLOTLYENV=window.PLOTLYENV || {};\n",
       "                    \n",
       "                if (document.getElementById(\"bb7f2d8a-3307-45a2-b1de-158280e9ebfd\")) {\n",
       "                    Plotly.newPlot(\n",
       "                        'bb7f2d8a-3307-45a2-b1de-158280e9ebfd',\n",
       "                        [{\"marker\": {\"size\": [11473.0], \"sizemode\": \"area\", \"sizeref\": 100}, \"mode\": \"markers\", \"name\": \"77002\", \"text\": [\"77002\"], \"type\": \"scatter\", \"x\": [57165.0], \"y\": [31.8]}, {\"marker\": {\"size\": [10215.0], \"sizemode\": \"area\", \"sizeref\": 100}, \"mode\": \"markers\", \"name\": \"77003\", \"text\": [\"77003\"], \"type\": \"scatter\", \"x\": [37664.0], \"y\": [32.9]}, {\"marker\": {\"size\": [29853.0], \"sizemode\": \"area\", \"sizeref\": 100}, \"mode\": \"markers\", \"name\": \"77004\", \"text\": [\"77004\"], \"type\": \"scatter\", \"x\": [39804.0], \"y\": [31.6]}, {\"marker\": {\"size\": [25740.0], \"sizemode\": \"area\", \"sizeref\": 100}, \"mode\": \"markers\", \"name\": \"77005\", \"text\": [\"77005\"], \"type\": \"scatter\", \"x\": [153041.0], \"y\": [38.5]}, {\"marker\": {\"size\": [19856.0], \"sizemode\": \"area\", \"sizeref\": 100}, \"mode\": \"markers\", \"name\": \"77006\", \"text\": [\"77006\"], \"type\": \"scatter\", \"x\": [63360.0], \"y\": [36.9]}, {\"marker\": {\"size\": [29545.0], \"sizemode\": \"area\", \"sizeref\": 100}, \"mode\": \"markers\", \"name\": \"77007\", \"text\": [\"77007\"], \"type\": \"scatter\", \"x\": [90860.0], \"y\": [34.6]}, {\"marker\": {\"size\": [29424.0], \"sizemode\": \"area\", \"sizeref\": 100}, \"mode\": \"markers\", \"name\": \"77008\", \"text\": [\"77008\"], \"type\": \"scatter\", \"x\": [65457.0], \"y\": [37.1]}, {\"marker\": {\"size\": [39050.0], \"sizemode\": \"area\", \"sizeref\": 100}, \"mode\": \"markers\", \"name\": \"77009\", \"text\": [\"77009\"], \"type\": \"scatter\", \"x\": [42944.0], \"y\": [33.6]}, {\"marker\": {\"size\": [342.0], \"sizemode\": \"area\", \"sizeref\": 100}, \"mode\": \"markers\", \"name\": \"77010\", \"text\": [\"77010\"], \"type\": \"scatter\", \"x\": [149444.0], \"y\": [50.6]}, {\"marker\": {\"size\": [19396.0], \"sizemode\": \"area\", \"sizeref\": 100}, \"mode\": \"markers\", \"name\": \"77011\", \"text\": [\"77011\"], \"type\": \"scatter\", \"x\": [27458.0], \"y\": [32.7]}, {\"marker\": {\"size\": [21619.0], \"sizemode\": \"area\", \"sizeref\": 100}, \"mode\": \"markers\", \"name\": \"77012\", \"text\": [\"77012\"], \"type\": \"scatter\", \"x\": [33035.0], \"y\": [30.1]}, {\"marker\": {\"size\": [19450.0], \"sizemode\": \"area\", \"sizeref\": 100}, \"mode\": \"markers\", \"name\": \"77019\", \"text\": [\"77019\"], \"type\": \"scatter\", \"x\": [87582.0], \"y\": [36.8]}, {\"marker\": {\"size\": [26381.0], \"sizemode\": \"area\", \"sizeref\": 100}, \"mode\": \"markers\", \"name\": \"77020\", \"text\": [\"77020\"], \"type\": \"scatter\", \"x\": [28217.0], \"y\": [31.7]}, {\"marker\": {\"size\": [25640.0], \"sizemode\": \"area\", \"sizeref\": 100}, \"mode\": \"markers\", \"name\": \"77021\", \"text\": [\"77021\"], \"type\": \"scatter\", \"x\": [32096.0], \"y\": [34.4]}, {\"marker\": {\"size\": [30696.0], \"sizemode\": \"area\", \"sizeref\": 100}, \"mode\": \"markers\", \"name\": \"77023\", \"text\": [\"77023\"], \"type\": \"scatter\", \"x\": [37735.0], \"y\": [30.9]}, {\"marker\": {\"size\": [25935.0], \"sizemode\": \"area\", \"sizeref\": 100}, \"mode\": \"markers\", \"name\": \"77025\", \"text\": [\"77025\"], \"type\": \"scatter\", \"x\": [64202.0], \"y\": [33.8]}, {\"marker\": {\"size\": [23963.0], \"sizemode\": \"area\", \"sizeref\": 100}, \"mode\": \"markers\", \"name\": \"77026\", \"text\": [\"77026\"], \"type\": \"scatter\", \"x\": [20200.0], \"y\": [32.8]}, {\"marker\": {\"size\": [14745.0], \"sizemode\": \"area\", \"sizeref\": 100}, \"mode\": \"markers\", \"name\": \"77027\", \"text\": [\"77027\"], \"type\": \"scatter\", \"x\": [81202.0], \"y\": [37.9]}, {\"marker\": {\"size\": [11184.0], \"sizemode\": \"area\", \"sizeref\": 100}, \"mode\": \"markers\", \"name\": \"77030\", \"text\": [\"77030\"], \"type\": \"scatter\", \"x\": [67790.0], \"y\": [32.8]}],\n",
       "                        {\"hovermode\": \"closest\", \"sliders\": [{\"active\": 0, \"currentvalue\": {\"font\": {\"size\": 20}, \"prefix\": \"Year:\", \"visible\": true, \"xanchor\": \"right\"}, \"len\": 0.9, \"pad\": {\"b\": 10, \"t\": 50}, \"steps\": [{\"args\": [[\"2012\"], {\"frame\": {\"duration\": 300, \"redraw\": false}, \"mode\": \"immediate\", \"transition\": {\"duration\": 300}}], \"label\": \"2012\", \"method\": \"animate\"}, {\"args\": [[\"2013\"], {\"frame\": {\"duration\": 300, \"redraw\": false}, \"mode\": \"immediate\", \"transition\": {\"duration\": 300}}], \"label\": \"2013\", \"method\": \"animate\"}, {\"args\": [[\"2014\"], {\"frame\": {\"duration\": 300, \"redraw\": false}, \"mode\": \"immediate\", \"transition\": {\"duration\": 300}}], \"label\": \"2014\", \"method\": \"animate\"}, {\"args\": [[\"2015\"], {\"frame\": {\"duration\": 300, \"redraw\": false}, \"mode\": \"immediate\", \"transition\": {\"duration\": 300}}], \"label\": \"2015\", \"method\": \"animate\"}, {\"args\": [[\"2016\"], {\"frame\": {\"duration\": 300, \"redraw\": false}, \"mode\": \"immediate\", \"transition\": {\"duration\": 300}}], \"label\": \"2016\", \"method\": \"animate\"}, {\"args\": [[\"2017\"], {\"frame\": {\"duration\": 300, \"redraw\": false}, \"mode\": \"immediate\", \"transition\": {\"duration\": 300}}], \"label\": \"2017\", \"method\": \"animate\"}], \"transition\": {\"duration\": 300, \"easing\": \"cubic-in-out\"}, \"x\": 0.1, \"xanchor\": \"left\", \"y\": 0, \"yanchor\": \"top\"}], \"template\": {\"data\": {\"bar\": [{\"error_x\": {\"color\": \"#2a3f5f\"}, \"error_y\": {\"color\": \"#2a3f5f\"}, \"marker\": {\"line\": {\"color\": \"#E5ECF6\", \"width\": 0.5}}, \"type\": \"bar\"}], \"barpolar\": [{\"marker\": {\"line\": {\"color\": \"#E5ECF6\", \"width\": 0.5}}, \"type\": \"barpolar\"}], \"carpet\": [{\"aaxis\": {\"endlinecolor\": \"#2a3f5f\", \"gridcolor\": \"white\", \"linecolor\": \"white\", \"minorgridcolor\": \"white\", \"startlinecolor\": \"#2a3f5f\"}, \"baxis\": {\"endlinecolor\": \"#2a3f5f\", \"gridcolor\": \"white\", \"linecolor\": \"white\", \"minorgridcolor\": \"white\", \"startlinecolor\": \"#2a3f5f\"}, \"type\": \"carpet\"}], \"choropleth\": [{\"colorbar\": {\"outlinewidth\": 0, \"ticks\": \"\"}, \"type\": \"choropleth\"}], \"contour\": [{\"colorbar\": {\"outlinewidth\": 0, \"ticks\": \"\"}, \"colorscale\": [[0.0, \"#0d0887\"], [0.1111111111111111, \"#46039f\"], [0.2222222222222222, \"#7201a8\"], [0.3333333333333333, \"#9c179e\"], [0.4444444444444444, \"#bd3786\"], [0.5555555555555556, \"#d8576b\"], [0.6666666666666666, \"#ed7953\"], [0.7777777777777778, \"#fb9f3a\"], [0.8888888888888888, \"#fdca26\"], [1.0, \"#f0f921\"]], \"type\": \"contour\"}], \"contourcarpet\": [{\"colorbar\": {\"outlinewidth\": 0, \"ticks\": \"\"}, \"type\": \"contourcarpet\"}], \"heatmap\": [{\"colorbar\": {\"outlinewidth\": 0, \"ticks\": \"\"}, \"colorscale\": [[0.0, \"#0d0887\"], [0.1111111111111111, \"#46039f\"], [0.2222222222222222, \"#7201a8\"], [0.3333333333333333, \"#9c179e\"], [0.4444444444444444, \"#bd3786\"], [0.5555555555555556, \"#d8576b\"], [0.6666666666666666, \"#ed7953\"], [0.7777777777777778, \"#fb9f3a\"], [0.8888888888888888, \"#fdca26\"], [1.0, \"#f0f921\"]], \"type\": \"heatmap\"}], \"heatmapgl\": [{\"colorbar\": {\"outlinewidth\": 0, \"ticks\": \"\"}, \"colorscale\": [[0.0, \"#0d0887\"], [0.1111111111111111, \"#46039f\"], [0.2222222222222222, \"#7201a8\"], [0.3333333333333333, \"#9c179e\"], [0.4444444444444444, \"#bd3786\"], [0.5555555555555556, \"#d8576b\"], [0.6666666666666666, \"#ed7953\"], [0.7777777777777778, \"#fb9f3a\"], [0.8888888888888888, \"#fdca26\"], [1.0, \"#f0f921\"]], \"type\": \"heatmapgl\"}], \"histogram\": [{\"marker\": {\"colorbar\": {\"outlinewidth\": 0, \"ticks\": \"\"}}, \"type\": \"histogram\"}], \"histogram2d\": [{\"colorbar\": {\"outlinewidth\": 0, \"ticks\": \"\"}, \"colorscale\": [[0.0, \"#0d0887\"], [0.1111111111111111, \"#46039f\"], [0.2222222222222222, \"#7201a8\"], [0.3333333333333333, \"#9c179e\"], [0.4444444444444444, \"#bd3786\"], [0.5555555555555556, \"#d8576b\"], [0.6666666666666666, \"#ed7953\"], [0.7777777777777778, \"#fb9f3a\"], [0.8888888888888888, \"#fdca26\"], [1.0, \"#f0f921\"]], \"type\": \"histogram2d\"}], \"histogram2dcontour\": [{\"colorbar\": {\"outlinewidth\": 0, \"ticks\": \"\"}, \"colorscale\": [[0.0, \"#0d0887\"], [0.1111111111111111, \"#46039f\"], [0.2222222222222222, \"#7201a8\"], [0.3333333333333333, \"#9c179e\"], [0.4444444444444444, \"#bd3786\"], [0.5555555555555556, \"#d8576b\"], [0.6666666666666666, \"#ed7953\"], [0.7777777777777778, \"#fb9f3a\"], [0.8888888888888888, \"#fdca26\"], [1.0, \"#f0f921\"]], \"type\": \"histogram2dcontour\"}], \"mesh3d\": [{\"colorbar\": {\"outlinewidth\": 0, \"ticks\": \"\"}, \"type\": \"mesh3d\"}], \"parcoords\": [{\"line\": {\"colorbar\": {\"outlinewidth\": 0, \"ticks\": \"\"}}, \"type\": \"parcoords\"}], \"scatter\": [{\"marker\": {\"colorbar\": {\"outlinewidth\": 0, \"ticks\": \"\"}}, \"type\": \"scatter\"}], \"scatter3d\": [{\"line\": {\"colorbar\": {\"outlinewidth\": 0, \"ticks\": \"\"}}, \"marker\": {\"colorbar\": {\"outlinewidth\": 0, \"ticks\": \"\"}}, \"type\": \"scatter3d\"}], \"scattercarpet\": [{\"marker\": {\"colorbar\": {\"outlinewidth\": 0, \"ticks\": \"\"}}, \"type\": \"scattercarpet\"}], \"scattergeo\": [{\"marker\": {\"colorbar\": {\"outlinewidth\": 0, \"ticks\": \"\"}}, \"type\": \"scattergeo\"}], \"scattergl\": [{\"marker\": {\"colorbar\": {\"outlinewidth\": 0, \"ticks\": \"\"}}, \"type\": \"scattergl\"}], \"scattermapbox\": [{\"marker\": {\"colorbar\": {\"outlinewidth\": 0, \"ticks\": \"\"}}, \"type\": \"scattermapbox\"}], \"scatterpolar\": [{\"marker\": {\"colorbar\": {\"outlinewidth\": 0, \"ticks\": \"\"}}, \"type\": \"scatterpolar\"}], \"scatterpolargl\": [{\"marker\": {\"colorbar\": {\"outlinewidth\": 0, \"ticks\": \"\"}}, \"type\": \"scatterpolargl\"}], \"scatterternary\": [{\"marker\": {\"colorbar\": {\"outlinewidth\": 0, \"ticks\": \"\"}}, \"type\": \"scatterternary\"}], \"surface\": [{\"colorbar\": {\"outlinewidth\": 0, \"ticks\": \"\"}, \"colorscale\": [[0.0, \"#0d0887\"], [0.1111111111111111, \"#46039f\"], [0.2222222222222222, \"#7201a8\"], [0.3333333333333333, \"#9c179e\"], [0.4444444444444444, \"#bd3786\"], [0.5555555555555556, \"#d8576b\"], [0.6666666666666666, \"#ed7953\"], [0.7777777777777778, \"#fb9f3a\"], [0.8888888888888888, \"#fdca26\"], [1.0, \"#f0f921\"]], \"type\": \"surface\"}], \"table\": [{\"cells\": {\"fill\": {\"color\": \"#EBF0F8\"}, \"line\": {\"color\": \"white\"}}, \"header\": {\"fill\": {\"color\": \"#C8D4E3\"}, \"line\": {\"color\": \"white\"}}, \"type\": \"table\"}]}, \"layout\": {\"annotationdefaults\": {\"arrowcolor\": \"#2a3f5f\", \"arrowhead\": 0, \"arrowwidth\": 1}, \"colorscale\": {\"diverging\": [[0, \"#8e0152\"], [0.1, \"#c51b7d\"], [0.2, \"#de77ae\"], [0.3, \"#f1b6da\"], [0.4, \"#fde0ef\"], [0.5, \"#f7f7f7\"], [0.6, \"#e6f5d0\"], [0.7, \"#b8e186\"], [0.8, \"#7fbc41\"], [0.9, \"#4d9221\"], [1, \"#276419\"]], \"sequential\": [[0.0, \"#0d0887\"], [0.1111111111111111, \"#46039f\"], [0.2222222222222222, \"#7201a8\"], [0.3333333333333333, \"#9c179e\"], [0.4444444444444444, \"#bd3786\"], [0.5555555555555556, \"#d8576b\"], [0.6666666666666666, \"#ed7953\"], [0.7777777777777778, \"#fb9f3a\"], [0.8888888888888888, \"#fdca26\"], [1.0, \"#f0f921\"]], \"sequentialminus\": [[0.0, \"#0d0887\"], [0.1111111111111111, \"#46039f\"], [0.2222222222222222, \"#7201a8\"], [0.3333333333333333, \"#9c179e\"], [0.4444444444444444, \"#bd3786\"], [0.5555555555555556, \"#d8576b\"], [0.6666666666666666, \"#ed7953\"], [0.7777777777777778, \"#fb9f3a\"], [0.8888888888888888, \"#fdca26\"], [1.0, \"#f0f921\"]]}, \"colorway\": [\"#636efa\", \"#EF553B\", \"#00cc96\", \"#ab63fa\", \"#FFA15A\", \"#19d3f3\", \"#FF6692\", \"#B6E880\", \"#FF97FF\", \"#FECB52\"], \"font\": {\"color\": \"#2a3f5f\"}, \"geo\": {\"bgcolor\": \"white\", \"lakecolor\": \"white\", \"landcolor\": \"#E5ECF6\", \"showlakes\": true, \"showland\": true, \"subunitcolor\": \"white\"}, \"hoverlabel\": {\"align\": \"left\"}, \"hovermode\": \"closest\", \"mapbox\": {\"style\": \"light\"}, \"paper_bgcolor\": \"white\", \"plot_bgcolor\": \"#E5ECF6\", \"polar\": {\"angularaxis\": {\"gridcolor\": \"white\", \"linecolor\": \"white\", \"ticks\": \"\"}, \"bgcolor\": \"#E5ECF6\", \"radialaxis\": {\"gridcolor\": \"white\", \"linecolor\": \"white\", \"ticks\": \"\"}}, \"scene\": {\"xaxis\": {\"backgroundcolor\": \"#E5ECF6\", \"gridcolor\": \"white\", \"gridwidth\": 2, \"linecolor\": \"white\", \"showbackground\": true, \"ticks\": \"\", \"zerolinecolor\": \"white\"}, \"yaxis\": {\"backgroundcolor\": \"#E5ECF6\", \"gridcolor\": \"white\", \"gridwidth\": 2, \"linecolor\": \"white\", \"showbackground\": true, \"ticks\": \"\", \"zerolinecolor\": \"white\"}, \"zaxis\": {\"backgroundcolor\": \"#E5ECF6\", \"gridcolor\": \"white\", \"gridwidth\": 2, \"linecolor\": \"white\", \"showbackground\": true, \"ticks\": \"\", \"zerolinecolor\": \"white\"}}, \"shapedefaults\": {\"line\": {\"color\": \"#2a3f5f\"}}, \"ternary\": {\"aaxis\": {\"gridcolor\": \"white\", \"linecolor\": \"white\", \"ticks\": \"\"}, \"baxis\": {\"gridcolor\": \"white\", \"linecolor\": \"white\", \"ticks\": \"\"}, \"bgcolor\": \"#E5ECF6\", \"caxis\": {\"gridcolor\": \"white\", \"linecolor\": \"white\", \"ticks\": \"\"}}, \"title\": {\"x\": 0.05}, \"xaxis\": {\"automargin\": true, \"gridcolor\": \"white\", \"linecolor\": \"white\", \"ticks\": \"\", \"zerolinecolor\": \"white\", \"zerolinewidth\": 2}, \"yaxis\": {\"automargin\": true, \"gridcolor\": \"white\", \"linecolor\": \"white\", \"ticks\": \"\", \"zerolinecolor\": \"white\", \"zerolinewidth\": 2}}}, \"updatemenus\": [{\"buttons\": [{\"args\": [null, {\"frame\": {\"duration\": 500, \"redraw\": false}, \"fromcurrent\": true, \"transition\": {\"duration\": 300, \"easing\": \"quadratic-in-out\"}}], \"label\": \"Play\", \"method\": \"animate\"}, {\"args\": [[null], {\"frame\": {\"duration\": 0, \"redraw\": false}, \"mode\": \"immediate\", \"transition\": {\"duration\": 0}}], \"label\": \"Pause\", \"method\": \"animate\"}], \"direction\": \"left\", \"pad\": {\"r\": 10, \"t\": 87}, \"showactive\": false, \"type\": \"buttons\", \"x\": 0.1, \"xanchor\": \"right\", \"y\": 0, \"yanchor\": \"top\"}], \"xaxis\": {\"range\": [10000, 300000], \"title\": {\"text\": \"Household Income\"}}, \"yaxis\": {\"title\": {\"text\": \"Median Age\"}, \"type\": \"log\"}},\n",
       "                        {\"responsive\": true}\n",
       "                    ).then(function(){\n",
       "                            Plotly.addFrames('bb7f2d8a-3307-45a2-b1de-158280e9ebfd', [{\"data\": [{\"marker\": {\"size\": [11473.0], \"sizemode\": \"area\", \"sizeref\": 100}, \"mode\": \"markers\", \"name\": \"77002\", \"text\": [\"77002\"], \"x\": [57165.0], \"y\": [31.8], \"type\": \"scatter\"}, {\"marker\": {\"size\": [10215.0], \"sizemode\": \"area\", \"sizeref\": 100}, \"mode\": \"markers\", \"name\": \"77003\", \"text\": [\"77003\"], \"x\": [37664.0], \"y\": [32.9], \"type\": \"scatter\"}, {\"marker\": {\"size\": [29853.0], \"sizemode\": \"area\", \"sizeref\": 100}, \"mode\": \"markers\", \"name\": \"77004\", \"text\": [\"77004\"], \"x\": [39804.0], \"y\": [31.6], \"type\": \"scatter\"}, {\"marker\": {\"size\": [25740.0], \"sizemode\": \"area\", \"sizeref\": 100}, \"mode\": \"markers\", \"name\": \"77005\", \"text\": [\"77005\"], \"x\": [153041.0], \"y\": [38.5], \"type\": \"scatter\"}, {\"marker\": {\"size\": [19856.0], \"sizemode\": \"area\", \"sizeref\": 100}, \"mode\": \"markers\", \"name\": \"77006\", \"text\": [\"77006\"], \"x\": [63360.0], \"y\": [36.9], \"type\": \"scatter\"}, {\"marker\": {\"size\": [29545.0], \"sizemode\": \"area\", \"sizeref\": 100}, \"mode\": \"markers\", \"name\": \"77007\", \"text\": [\"77007\"], \"x\": [90860.0], \"y\": [34.6], \"type\": \"scatter\"}, {\"marker\": {\"size\": [29424.0], \"sizemode\": \"area\", \"sizeref\": 100}, \"mode\": \"markers\", \"name\": \"77008\", \"text\": [\"77008\"], \"x\": [65457.0], \"y\": [37.1], \"type\": \"scatter\"}, {\"marker\": {\"size\": [39050.0], \"sizemode\": \"area\", \"sizeref\": 100}, \"mode\": \"markers\", \"name\": \"77009\", \"text\": [\"77009\"], \"x\": [42944.0], \"y\": [33.6], \"type\": \"scatter\"}, {\"marker\": {\"size\": [342.0], \"sizemode\": \"area\", \"sizeref\": 100}, \"mode\": \"markers\", \"name\": \"77010\", \"text\": [\"77010\"], \"x\": [149444.0], \"y\": [50.6], \"type\": \"scatter\"}, {\"marker\": {\"size\": [19396.0], \"sizemode\": \"area\", \"sizeref\": 100}, \"mode\": \"markers\", \"name\": \"77011\", \"text\": [\"77011\"], \"x\": [27458.0], \"y\": [32.7], \"type\": \"scatter\"}, {\"marker\": {\"size\": [21619.0], \"sizemode\": \"area\", \"sizeref\": 100}, \"mode\": \"markers\", \"name\": \"77012\", \"text\": [\"77012\"], \"x\": [33035.0], \"y\": [30.1], \"type\": \"scatter\"}, {\"marker\": {\"size\": [19450.0], \"sizemode\": \"area\", \"sizeref\": 100}, \"mode\": \"markers\", \"name\": \"77019\", \"text\": [\"77019\"], \"x\": [87582.0], \"y\": [36.8], \"type\": \"scatter\"}, {\"marker\": {\"size\": [26381.0], \"sizemode\": \"area\", \"sizeref\": 100}, \"mode\": \"markers\", \"name\": \"77020\", \"text\": [\"77020\"], \"x\": [28217.0], \"y\": [31.7], \"type\": \"scatter\"}, {\"marker\": {\"size\": [25640.0], \"sizemode\": \"area\", \"sizeref\": 100}, \"mode\": \"markers\", \"name\": \"77021\", \"text\": [\"77021\"], \"x\": [32096.0], \"y\": [34.4], \"type\": \"scatter\"}, {\"marker\": {\"size\": [30696.0], \"sizemode\": \"area\", \"sizeref\": 100}, \"mode\": \"markers\", \"name\": \"77023\", \"text\": [\"77023\"], \"x\": [37735.0], \"y\": [30.9], \"type\": \"scatter\"}, {\"marker\": {\"size\": [25935.0], \"sizemode\": \"area\", \"sizeref\": 100}, \"mode\": \"markers\", \"name\": \"77025\", \"text\": [\"77025\"], \"x\": [64202.0], \"y\": [33.8], \"type\": \"scatter\"}, {\"marker\": {\"size\": [23963.0], \"sizemode\": \"area\", \"sizeref\": 100}, \"mode\": \"markers\", \"name\": \"77026\", \"text\": [\"77026\"], \"x\": [20200.0], \"y\": [32.8], \"type\": \"scatter\"}, {\"marker\": {\"size\": [14745.0], \"sizemode\": \"area\", \"sizeref\": 100}, \"mode\": \"markers\", \"name\": \"77027\", \"text\": [\"77027\"], \"x\": [81202.0], \"y\": [37.9], \"type\": \"scatter\"}, {\"marker\": {\"size\": [11184.0], \"sizemode\": \"area\", \"sizeref\": 100}, \"mode\": \"markers\", \"name\": \"77030\", \"text\": [\"77030\"], \"x\": [67790.0], \"y\": [32.8], \"type\": \"scatter\"}], \"name\": \"2012\"}, {\"data\": [{\"marker\": {\"size\": [11602.0], \"sizemode\": \"area\", \"sizeref\": 100}, \"mode\": \"markers\", \"name\": \"77002\", \"text\": [\"77002\"], \"x\": [64093.0], \"y\": [32.5], \"type\": \"scatter\"}, {\"marker\": {\"size\": [10617.0], \"sizemode\": \"area\", \"sizeref\": 100}, \"mode\": \"markers\", \"name\": \"77003\", \"text\": [\"77003\"], \"x\": [36412.0], \"y\": [30.8], \"type\": \"scatter\"}, {\"marker\": {\"size\": [31593.0], \"sizemode\": \"area\", \"sizeref\": 100}, \"mode\": \"markers\", \"name\": \"77004\", \"text\": [\"77004\"], \"x\": [41983.0], \"y\": [30.3], \"type\": \"scatter\"}, {\"marker\": {\"size\": [25752.0], \"sizemode\": \"area\", \"sizeref\": 100}, \"mode\": \"markers\", \"name\": \"77005\", \"text\": [\"77005\"], \"x\": [159732.0], \"y\": [38.5], \"type\": \"scatter\"}, {\"marker\": {\"size\": [20573.0], \"sizemode\": \"area\", \"sizeref\": 100}, \"mode\": \"markers\", \"name\": \"77006\", \"text\": [\"77006\"], \"x\": [67458.0], \"y\": [35.1], \"type\": \"scatter\"}, {\"marker\": {\"size\": [30868.0], \"sizemode\": \"area\", \"sizeref\": 100}, \"mode\": \"markers\", \"name\": \"77007\", \"text\": [\"77007\"], \"x\": [98725.0], \"y\": [34.6], \"type\": \"scatter\"}, {\"marker\": {\"size\": [30807.0], \"sizemode\": \"area\", \"sizeref\": 100}, \"mode\": \"markers\", \"name\": \"77008\", \"text\": [\"77008\"], \"x\": [70293.0], \"y\": [35.9], \"type\": \"scatter\"}, {\"marker\": {\"size\": [39725.0], \"sizemode\": \"area\", \"sizeref\": 100}, \"mode\": \"markers\", \"name\": \"77009\", \"text\": [\"77009\"], \"x\": [44651.0], \"y\": [34.1], \"type\": \"scatter\"}, {\"marker\": {\"size\": [564.0], \"sizemode\": \"area\", \"sizeref\": 100}, \"mode\": \"markers\", \"name\": \"77010\", \"text\": [\"77010\"], \"x\": [250001.0], \"y\": [41.7], \"type\": \"scatter\"}, {\"marker\": {\"size\": [19442.0], \"sizemode\": \"area\", \"sizeref\": 100}, \"mode\": \"markers\", \"name\": \"77011\", \"text\": [\"77011\"], \"x\": [26838.0], \"y\": [33.2], \"type\": \"scatter\"}, {\"marker\": {\"size\": [21868.0], \"sizemode\": \"area\", \"sizeref\": 100}, \"mode\": \"markers\", \"name\": \"77012\", \"text\": [\"77012\"], \"x\": [34975.0], \"y\": [30.5], \"type\": \"scatter\"}, {\"marker\": {\"size\": [19995.0], \"sizemode\": \"area\", \"sizeref\": 100}, \"mode\": \"markers\", \"name\": \"77019\", \"text\": [\"77019\"], \"x\": [87394.0], \"y\": [35.6], \"type\": \"scatter\"}, {\"marker\": {\"size\": [26889.0], \"sizemode\": \"area\", \"sizeref\": 100}, \"mode\": \"markers\", \"name\": \"77020\", \"text\": [\"77020\"], \"x\": [29401.0], \"y\": [32.5], \"type\": \"scatter\"}, {\"marker\": {\"size\": [25479.0], \"sizemode\": \"area\", \"sizeref\": 100}, \"mode\": \"markers\", \"name\": \"77021\", \"text\": [\"77021\"], \"x\": [31103.0], \"y\": [35.0], \"type\": \"scatter\"}, {\"marker\": {\"size\": [29871.0], \"sizemode\": \"area\", \"sizeref\": 100}, \"mode\": \"markers\", \"name\": \"77023\", \"text\": [\"77023\"], \"x\": [36033.0], \"y\": [31.2], \"type\": \"scatter\"}, {\"marker\": {\"size\": [26379.0], \"sizemode\": \"area\", \"sizeref\": 100}, \"mode\": \"markers\", \"name\": \"77025\", \"text\": [\"77025\"], \"x\": [65828.0], \"y\": [35.3], \"type\": \"scatter\"}, {\"marker\": {\"size\": [22909.0], \"sizemode\": \"area\", \"sizeref\": 100}, \"mode\": \"markers\", \"name\": \"77026\", \"text\": [\"77026\"], \"x\": [20024.0], \"y\": [33.5], \"type\": \"scatter\"}, {\"marker\": {\"size\": [15455.0], \"sizemode\": \"area\", \"sizeref\": 100}, \"mode\": \"markers\", \"name\": \"77027\", \"text\": [\"77027\"], \"x\": [81661.0], \"y\": [37.4], \"type\": \"scatter\"}, {\"marker\": {\"size\": [11031.0], \"sizemode\": \"area\", \"sizeref\": 100}, \"mode\": \"markers\", \"name\": \"77030\", \"text\": [\"77030\"], \"x\": [68980.0], \"y\": [32.8], \"type\": \"scatter\"}], \"name\": \"2013\"}, {\"data\": [{\"marker\": {\"size\": [11630.0], \"sizemode\": \"area\", \"sizeref\": 100}, \"mode\": \"markers\", \"name\": \"77002\", \"text\": [\"77002\"], \"x\": [71319.0], \"y\": [33.2], \"type\": \"scatter\"}, {\"marker\": {\"size\": [10760.0], \"sizemode\": \"area\", \"sizeref\": 100}, \"mode\": \"markers\", \"name\": \"77003\", \"text\": [\"77003\"], \"x\": [40647.0], \"y\": [31.2], \"type\": \"scatter\"}, {\"marker\": {\"size\": [34079.0], \"sizemode\": \"area\", \"sizeref\": 100}, \"mode\": \"markers\", \"name\": \"77004\", \"text\": [\"77004\"], \"x\": [46059.0], \"y\": [29.0], \"type\": \"scatter\"}, {\"marker\": {\"size\": [26187.0], \"sizemode\": \"area\", \"sizeref\": 100}, \"mode\": \"markers\", \"name\": \"77005\", \"text\": [\"77005\"], \"x\": [163802.0], \"y\": [38.7], \"type\": \"scatter\"}, {\"marker\": {\"size\": [21144.0], \"sizemode\": \"area\", \"sizeref\": 100}, \"mode\": \"markers\", \"name\": \"77006\", \"text\": [\"77006\"], \"x\": [69508.0], \"y\": [35.4], \"type\": \"scatter\"}, {\"marker\": {\"size\": [31987.0], \"sizemode\": \"area\", \"sizeref\": 100}, \"mode\": \"markers\", \"name\": \"77007\", \"text\": [\"77007\"], \"x\": [106044.0], \"y\": [34.3], \"type\": \"scatter\"}, {\"marker\": {\"size\": [31418.0], \"sizemode\": \"area\", \"sizeref\": 100}, \"mode\": \"markers\", \"name\": \"77008\", \"text\": [\"77008\"], \"x\": [77512.0], \"y\": [35.5], \"type\": \"scatter\"}, {\"marker\": {\"size\": [39361.0], \"sizemode\": \"area\", \"sizeref\": 100}, \"mode\": \"markers\", \"name\": \"77009\", \"text\": [\"77009\"], \"x\": [45016.0], \"y\": [34.0], \"type\": \"scatter\"}, {\"marker\": {\"size\": [724.0], \"sizemode\": \"area\", \"sizeref\": 100}, \"mode\": \"markers\", \"name\": \"77010\", \"text\": [\"77010\"], \"x\": [209063.0], \"y\": [43.6], \"type\": \"scatter\"}, {\"marker\": {\"size\": [19136.0], \"sizemode\": \"area\", \"sizeref\": 100}, \"mode\": \"markers\", \"name\": \"77011\", \"text\": [\"77011\"], \"x\": [26953.0], \"y\": [32.8], \"type\": \"scatter\"}, {\"marker\": {\"size\": [20991.0], \"sizemode\": \"area\", \"sizeref\": 100}, \"mode\": \"markers\", \"name\": \"77012\", \"text\": [\"77012\"], \"x\": [35884.0], \"y\": [31.7], \"type\": \"scatter\"}, {\"marker\": {\"size\": [20350.0], \"sizemode\": \"area\", \"sizeref\": 100}, \"mode\": \"markers\", \"name\": \"77019\", \"text\": [\"77019\"], \"x\": [92844.0], \"y\": [37.9], \"type\": \"scatter\"}, {\"marker\": {\"size\": [26777.0], \"sizemode\": \"area\", \"sizeref\": 100}, \"mode\": \"markers\", \"name\": \"77020\", \"text\": [\"77020\"], \"x\": [27871.0], \"y\": [32.9], \"type\": \"scatter\"}, {\"marker\": {\"size\": [26036.0], \"sizemode\": \"area\", \"sizeref\": 100}, \"mode\": \"markers\", \"name\": \"77021\", \"text\": [\"77021\"], \"x\": [32391.0], \"y\": [33.7], \"type\": \"scatter\"}, {\"marker\": {\"size\": [29102.0], \"sizemode\": \"area\", \"sizeref\": 100}, \"mode\": \"markers\", \"name\": \"77023\", \"text\": [\"77023\"], \"x\": [37361.0], \"y\": [31.9], \"type\": \"scatter\"}, {\"marker\": {\"size\": [27413.0], \"sizemode\": \"area\", \"sizeref\": 100}, \"mode\": \"markers\", \"name\": \"77025\", \"text\": [\"77025\"], \"x\": [65524.0], \"y\": [35.3], \"type\": \"scatter\"}, {\"marker\": {\"size\": [23325.0], \"sizemode\": \"area\", \"sizeref\": 100}, \"mode\": \"markers\", \"name\": \"77026\", \"text\": [\"77026\"], \"x\": [21335.0], \"y\": [33.1], \"type\": \"scatter\"}, {\"marker\": {\"size\": [15510.0], \"sizemode\": \"area\", \"sizeref\": 100}, \"mode\": \"markers\", \"name\": \"77027\", \"text\": [\"77027\"], \"x\": [82038.0], \"y\": [36.7], \"type\": \"scatter\"}, {\"marker\": {\"size\": [10664.0], \"sizemode\": \"area\", \"sizeref\": 100}, \"mode\": \"markers\", \"name\": \"77030\", \"text\": [\"77030\"], \"x\": [71078.0], \"y\": [32.5], \"type\": \"scatter\"}], \"name\": \"2014\"}, {\"data\": [{\"marker\": {\"size\": [11922.0], \"sizemode\": \"area\", \"sizeref\": 100}, \"mode\": \"markers\", \"name\": \"77002\", \"text\": [\"77002\"], \"x\": [62089.0], \"y\": [33.8], \"type\": \"scatter\"}, {\"marker\": {\"size\": [10438.0], \"sizemode\": \"area\", \"sizeref\": 100}, \"mode\": \"markers\", \"name\": \"77003\", \"text\": [\"77003\"], \"x\": [39039.0], \"y\": [32.7], \"type\": \"scatter\"}, {\"marker\": {\"size\": [35739.0], \"sizemode\": \"area\", \"sizeref\": 100}, \"mode\": \"markers\", \"name\": \"77004\", \"text\": [\"77004\"], \"x\": [47523.0], \"y\": [28.1], \"type\": \"scatter\"}, {\"marker\": {\"size\": [27187.0], \"sizemode\": \"area\", \"sizeref\": 100}, \"mode\": \"markers\", \"name\": \"77005\", \"text\": [\"77005\"], \"x\": [166203.0], \"y\": [38.0], \"type\": \"scatter\"}, {\"marker\": {\"size\": [21795.0], \"sizemode\": \"area\", \"sizeref\": 100}, \"mode\": \"markers\", \"name\": \"77006\", \"text\": [\"77006\"], \"x\": [71158.0], \"y\": [34.8], \"type\": \"scatter\"}, {\"marker\": {\"size\": [33029.0], \"sizemode\": \"area\", \"sizeref\": 100}, \"mode\": \"markers\", \"name\": \"77007\", \"text\": [\"77007\"], \"x\": [107580.0], \"y\": [33.5], \"type\": \"scatter\"}, {\"marker\": {\"size\": [31868.0], \"sizemode\": \"area\", \"sizeref\": 100}, \"mode\": \"markers\", \"name\": \"77008\", \"text\": [\"77008\"], \"x\": [82058.0], \"y\": [35.5], \"type\": \"scatter\"}, {\"marker\": {\"size\": [39260.0], \"sizemode\": \"area\", \"sizeref\": 100}, \"mode\": \"markers\", \"name\": \"77009\", \"text\": [\"77009\"], \"x\": [43830.0], \"y\": [34.1], \"type\": \"scatter\"}, {\"marker\": {\"size\": [809.0], \"sizemode\": \"area\", \"sizeref\": 100}, \"mode\": \"markers\", \"name\": \"77010\", \"text\": [\"77010\"], \"x\": [250001.0], \"y\": [42.7], \"type\": \"scatter\"}, {\"marker\": {\"size\": [19303.0], \"sizemode\": \"area\", \"sizeref\": 100}, \"mode\": \"markers\", \"name\": \"77011\", \"text\": [\"77011\"], \"x\": [26922.0], \"y\": [33.0], \"type\": \"scatter\"}, {\"marker\": {\"size\": [20494.0], \"sizemode\": \"area\", \"sizeref\": 100}, \"mode\": \"markers\", \"name\": \"77012\", \"text\": [\"77012\"], \"x\": [34891.0], \"y\": [32.3], \"type\": \"scatter\"}, {\"marker\": {\"size\": [20644.0], \"sizemode\": \"area\", \"sizeref\": 100}, \"mode\": \"markers\", \"name\": \"77019\", \"text\": [\"77019\"], \"x\": [101297.0], \"y\": [38.8], \"type\": \"scatter\"}, {\"marker\": {\"size\": [26005.0], \"sizemode\": \"area\", \"sizeref\": 100}, \"mode\": \"markers\", \"name\": \"77020\", \"text\": [\"77020\"], \"x\": [27052.0], \"y\": [32.4], \"type\": \"scatter\"}, {\"marker\": {\"size\": [26209.0], \"sizemode\": \"area\", \"sizeref\": 100}, \"mode\": \"markers\", \"name\": \"77021\", \"text\": [\"77021\"], \"x\": [32800.0], \"y\": [33.8], \"type\": \"scatter\"}, {\"marker\": {\"size\": [28316.0], \"sizemode\": \"area\", \"sizeref\": 100}, \"mode\": \"markers\", \"name\": \"77023\", \"text\": [\"77023\"], \"x\": [36065.0], \"y\": [33.4], \"type\": \"scatter\"}, {\"marker\": {\"size\": [28305.0], \"sizemode\": \"area\", \"sizeref\": 100}, \"mode\": \"markers\", \"name\": \"77025\", \"text\": [\"77025\"], \"x\": [66559.0], \"y\": [35.2], \"type\": \"scatter\"}, {\"marker\": {\"size\": [22485.0], \"sizemode\": \"area\", \"sizeref\": 100}, \"mode\": \"markers\", \"name\": \"77026\", \"text\": [\"77026\"], \"x\": [22242.0], \"y\": [35.3], \"type\": \"scatter\"}, {\"marker\": {\"size\": [15749.0], \"sizemode\": \"area\", \"sizeref\": 100}, \"mode\": \"markers\", \"name\": \"77027\", \"text\": [\"77027\"], \"x\": [89276.0], \"y\": [36.8], \"type\": \"scatter\"}, {\"marker\": {\"size\": [10279.0], \"sizemode\": \"area\", \"sizeref\": 100}, \"mode\": \"markers\", \"name\": \"77030\", \"text\": [\"77030\"], \"x\": [71883.0], \"y\": [32.6], \"type\": \"scatter\"}], \"name\": \"2015\"}, {\"data\": [{\"marker\": {\"size\": [11861.0], \"sizemode\": \"area\", \"sizeref\": 100}, \"mode\": \"markers\", \"name\": \"77002\", \"text\": [\"77002\"], \"x\": [68229.0], \"y\": [33.9], \"type\": \"scatter\"}, {\"marker\": {\"size\": [10097.0], \"sizemode\": \"area\", \"sizeref\": 100}, \"mode\": \"markers\", \"name\": \"77003\", \"text\": [\"77003\"], \"x\": [46267.0], \"y\": [33.0], \"type\": \"scatter\"}, {\"marker\": {\"size\": [36879.0], \"sizemode\": \"area\", \"sizeref\": 100}, \"mode\": \"markers\", \"name\": \"77004\", \"text\": [\"77004\"], \"x\": [50681.0], \"y\": [28.3], \"type\": \"scatter\"}, {\"marker\": {\"size\": [27707.0], \"sizemode\": \"area\", \"sizeref\": 100}, \"mode\": \"markers\", \"name\": \"77005\", \"text\": [\"77005\"], \"x\": [174153.0], \"y\": [37.5], \"type\": \"scatter\"}, {\"marker\": {\"size\": [21849.0], \"sizemode\": \"area\", \"sizeref\": 100}, \"mode\": \"markers\", \"name\": \"77006\", \"text\": [\"77006\"], \"x\": [80908.0], \"y\": [34.9], \"type\": \"scatter\"}, {\"marker\": {\"size\": [35185.0], \"sizemode\": \"area\", \"sizeref\": 100}, \"mode\": \"markers\", \"name\": \"77007\", \"text\": [\"77007\"], \"x\": [113361.0], \"y\": [33.6], \"type\": \"scatter\"}, {\"marker\": {\"size\": [32588.0], \"sizemode\": \"area\", \"sizeref\": 100}, \"mode\": \"markers\", \"name\": \"77008\", \"text\": [\"77008\"], \"x\": [88248.0], \"y\": [35.5], \"type\": \"scatter\"}, {\"marker\": {\"size\": [38019.0], \"sizemode\": \"area\", \"sizeref\": 100}, \"mode\": \"markers\", \"name\": \"77009\", \"text\": [\"77009\"], \"x\": [47011.0], \"y\": [34.5], \"type\": \"scatter\"}, {\"marker\": {\"size\": [831.0], \"sizemode\": \"area\", \"sizeref\": 100}, \"mode\": \"markers\", \"name\": \"77010\", \"text\": [\"77010\"], \"x\": [250001.0], \"y\": [48.5], \"type\": \"scatter\"}, {\"marker\": {\"size\": [18558.0], \"sizemode\": \"area\", \"sizeref\": 100}, \"mode\": \"markers\", \"name\": \"77011\", \"text\": [\"77011\"], \"x\": [29544.0], \"y\": [32.9], \"type\": \"scatter\"}, {\"marker\": {\"size\": [20534.0], \"sizemode\": \"area\", \"sizeref\": 100}, \"mode\": \"markers\", \"name\": \"77012\", \"text\": [\"77012\"], \"x\": [34617.0], \"y\": [32.0], \"type\": \"scatter\"}, {\"marker\": {\"size\": [21067.0], \"sizemode\": \"area\", \"sizeref\": 100}, \"mode\": \"markers\", \"name\": \"77019\", \"text\": [\"77019\"], \"x\": [102521.0], \"y\": [38.4], \"type\": \"scatter\"}, {\"marker\": {\"size\": [25908.0], \"sizemode\": \"area\", \"sizeref\": 100}, \"mode\": \"markers\", \"name\": \"77020\", \"text\": [\"77020\"], \"x\": [26896.0], \"y\": [32.9], \"type\": \"scatter\"}, {\"marker\": {\"size\": [26374.0], \"sizemode\": \"area\", \"sizeref\": 100}, \"mode\": \"markers\", \"name\": \"77021\", \"text\": [\"77021\"], \"x\": [32404.0], \"y\": [33.8], \"type\": \"scatter\"}, {\"marker\": {\"size\": [27973.0], \"sizemode\": \"area\", \"sizeref\": 100}, \"mode\": \"markers\", \"name\": \"77023\", \"text\": [\"77023\"], \"x\": [35723.0], \"y\": [33.4], \"type\": \"scatter\"}, {\"marker\": {\"size\": [28103.0], \"sizemode\": \"area\", \"sizeref\": 100}, \"mode\": \"markers\", \"name\": \"77025\", \"text\": [\"77025\"], \"x\": [67548.0], \"y\": [36.1], \"type\": \"scatter\"}, {\"marker\": {\"size\": [23030.0], \"sizemode\": \"area\", \"sizeref\": 100}, \"mode\": \"markers\", \"name\": \"77026\", \"text\": [\"77026\"], \"x\": [25354.0], \"y\": [35.9], \"type\": \"scatter\"}, {\"marker\": {\"size\": [15498.0], \"sizemode\": \"area\", \"sizeref\": 100}, \"mode\": \"markers\", \"name\": \"77027\", \"text\": [\"77027\"], \"x\": [88471.0], \"y\": [35.1], \"type\": \"scatter\"}, {\"marker\": {\"size\": [10735.0], \"sizemode\": \"area\", \"sizeref\": 100}, \"mode\": \"markers\", \"name\": \"77030\", \"text\": [\"77030\"], \"x\": [73689.0], \"y\": [32.7], \"type\": \"scatter\"}], \"name\": \"2016\"}, {\"data\": [{\"marker\": {\"size\": [12370.0], \"sizemode\": \"area\", \"sizeref\": 100}, \"mode\": \"markers\", \"name\": \"77002\", \"text\": [\"77002\"], \"x\": [72306.0], \"y\": [34.1], \"type\": \"scatter\"}, {\"marker\": {\"size\": [9646.0], \"sizemode\": \"area\", \"sizeref\": 100}, \"mode\": \"markers\", \"name\": \"77003\", \"text\": [\"77003\"], \"x\": [59575.0], \"y\": [34.1], \"type\": \"scatter\"}, {\"marker\": {\"size\": [37642.0], \"sizemode\": \"area\", \"sizeref\": 100}, \"mode\": \"markers\", \"name\": \"77004\", \"text\": [\"77004\"], \"x\": [48592.0], \"y\": [28.3], \"type\": \"scatter\"}, {\"marker\": {\"size\": [28233.0], \"sizemode\": \"area\", \"sizeref\": 100}, \"mode\": \"markers\", \"name\": \"77005\", \"text\": [\"77005\"], \"x\": [180758.0], \"y\": [36.5], \"type\": \"scatter\"}, {\"marker\": {\"size\": [21945.0], \"sizemode\": \"area\", \"sizeref\": 100}, \"mode\": \"markers\", \"name\": \"77006\", \"text\": [\"77006\"], \"x\": [82878.0], \"y\": [34.3], \"type\": \"scatter\"}, {\"marker\": {\"size\": [35822.0], \"sizemode\": \"area\", \"sizeref\": 100}, \"mode\": \"markers\", \"name\": \"77007\", \"text\": [\"77007\"], \"x\": [121458.0], \"y\": [33.8], \"type\": \"scatter\"}, {\"marker\": {\"size\": [34491.0], \"sizemode\": \"area\", \"sizeref\": 100}, \"mode\": \"markers\", \"name\": \"77008\", \"text\": [\"77008\"], \"x\": [97690.0], \"y\": [34.9], \"type\": \"scatter\"}, {\"marker\": {\"size\": [37751.0], \"sizemode\": \"area\", \"sizeref\": 100}, \"mode\": \"markers\", \"name\": \"77009\", \"text\": [\"77009\"], \"x\": [49383.0], \"y\": [35.1], \"type\": \"scatter\"}, {\"marker\": {\"size\": [915.0], \"sizemode\": \"area\", \"sizeref\": 100}, \"mode\": \"markers\", \"name\": \"77010\", \"text\": [\"77010\"], \"x\": [250001.0], \"y\": [44.6], \"type\": \"scatter\"}, {\"marker\": {\"size\": [18598.0], \"sizemode\": \"area\", \"sizeref\": 100}, \"mode\": \"markers\", \"name\": \"77011\", \"text\": [\"77011\"], \"x\": [30665.0], \"y\": [34.0], \"type\": \"scatter\"}, {\"marker\": {\"size\": [20085.0], \"sizemode\": \"area\", \"sizeref\": 100}, \"mode\": \"markers\", \"name\": \"77012\", \"text\": [\"77012\"], \"x\": [36537.0], \"y\": [33.0], \"type\": \"scatter\"}, {\"marker\": {\"size\": [21572.0], \"sizemode\": \"area\", \"sizeref\": 100}, \"mode\": \"markers\", \"name\": \"77019\", \"text\": [\"77019\"], \"x\": [112243.0], \"y\": [39.4], \"type\": \"scatter\"}, {\"marker\": {\"size\": [25898.0], \"sizemode\": \"area\", \"sizeref\": 100}, \"mode\": \"markers\", \"name\": \"77020\", \"text\": [\"77020\"], \"x\": [27587.0], \"y\": [33.0], \"type\": \"scatter\"}, {\"marker\": {\"size\": [26654.0], \"sizemode\": \"area\", \"sizeref\": 100}, \"mode\": \"markers\", \"name\": \"77021\", \"text\": [\"77021\"], \"x\": [35126.0], \"y\": [33.6], \"type\": \"scatter\"}, {\"marker\": {\"size\": [28528.0], \"sizemode\": \"area\", \"sizeref\": 100}, \"mode\": \"markers\", \"name\": \"77023\", \"text\": [\"77023\"], \"x\": [37462.0], \"y\": [33.2], \"type\": \"scatter\"}, {\"marker\": {\"size\": [28922.0], \"sizemode\": \"area\", \"sizeref\": 100}, \"mode\": \"markers\", \"name\": \"77025\", \"text\": [\"77025\"], \"x\": [71990.0], \"y\": [36.3], \"type\": \"scatter\"}, {\"marker\": {\"size\": [22799.0], \"sizemode\": \"area\", \"sizeref\": 100}, \"mode\": \"markers\", \"name\": \"77026\", \"text\": [\"77026\"], \"x\": [26644.0], \"y\": [35.2], \"type\": \"scatter\"}, {\"marker\": {\"size\": [16012.0], \"sizemode\": \"area\", \"sizeref\": 100}, \"mode\": \"markers\", \"name\": \"77027\", \"text\": [\"77027\"], \"x\": [91296.0], \"y\": [33.3], \"type\": \"scatter\"}, {\"marker\": {\"size\": [10813.0], \"sizemode\": \"area\", \"sizeref\": 100}, \"mode\": \"markers\", \"name\": \"77030\", \"text\": [\"77030\"], \"x\": [75290.0], \"y\": [33.9], \"type\": \"scatter\"}], \"name\": \"2017\"}]);\n",
       "                        }).then(function(){\n",
       "                            \n",
       "var gd = document.getElementById('bb7f2d8a-3307-45a2-b1de-158280e9ebfd');\n",
       "var x = new MutationObserver(function (mutations, observer) {{\n",
       "        var display = window.getComputedStyle(gd).display;\n",
       "        if (!display || display === 'none') {{\n",
       "            console.log([gd, 'removed!']);\n",
       "            Plotly.purge(gd);\n",
       "            observer.disconnect();\n",
       "        }}\n",
       "}});\n",
       "\n",
       "// Listen for the removal of the full notebook cells\n",
       "var notebookContainer = gd.closest('#notebook-container');\n",
       "if (notebookContainer) {{\n",
       "    x.observe(notebookContainer, {childList: true});\n",
       "}}\n",
       "\n",
       "// Listen for the clearing of the current output cell\n",
       "var outputEl = gd.closest('.output');\n",
       "if (outputEl) {{\n",
       "    x.observe(outputEl, {childList: true});\n",
       "}}\n",
       "\n",
       "                        })\n",
       "                };\n",
       "                });\n",
       "            </script>\n",
       "        </div>"
      ]
     },
     "metadata": {},
     "output_type": "display_data"
    }
   ],
   "source": [
    "#get years for our data\n",
    "years = [\"2012\", \"2013\", \"2014\", \"2015\", \"2016\", \"2017\"]\n",
    "\n",
    "# make list of zips\n",
    "zipcodes = []\n",
    "for zipcode in census_df[\"Zipcode\"]:\n",
    "    if zipcode not in zipcodes:\n",
    "        zipcodes.append(zipcode)\n",
    "# make figure\n",
    "fig_dict = {\n",
    "    \"data\": [],\n",
    "    \"layout\": {},\n",
    "    \"frames\": []\n",
    "}\n",
    "\n",
    "\n",
    "# fill in most of layout\n",
    "fig_dict[\"layout\"][\"xaxis\"] = {\"range\": [10000, 300000], \"title\": \"Household Income\"}\n",
    "fig_dict[\"layout\"][\"yaxis\"] = {\"title\": \"Median Age\", \"type\": \"log\"}\n",
    "fig_dict[\"layout\"][\"hovermode\"] = \"closest\"\n",
    "fig_dict[\"layout\"][\"sliders\"] = {\n",
    "    \"args\": [\n",
    "        \"transition\", {\n",
    "            \"duration\": 400,\n",
    "            \"easing\": \"cubic-in-out\"\n",
    "        }\n",
    "    ],\n",
    "    \"initialValue\": \"2012\",\n",
    "    \"plotlycommand\": \"animate\",\n",
    "    \"values\": years,\n",
    "    \"visible\": True\n",
    "}\n",
    "fig_dict[\"layout\"][\"updatemenus\"] = [\n",
    "    {\n",
    "        \"buttons\": [\n",
    "            {\n",
    "                \"args\": [None, {\"frame\": {\"duration\": 500, \"redraw\": False},\n",
    "                                \"fromcurrent\": True, \"transition\": {\"duration\": 300,\n",
    "                                                                    \"easing\": \"quadratic-in-out\"}}],\n",
    "                \"label\": \"Play\",\n",
    "                \"method\": \"animate\"\n",
    "            },\n",
    "            {\n",
    "                \"args\": [[None], {\"frame\": {\"duration\": 0, \"redraw\": False},\n",
    "                                  \"mode\": \"immediate\",\n",
    "                                  \"transition\": {\"duration\": 0}}],\n",
    "                \"label\": \"Pause\",\n",
    "                \"method\": \"animate\"\n",
    "            }\n",
    "        ],\n",
    "        \"direction\": \"left\",\n",
    "        \"pad\": {\"r\": 10, \"t\": 87},\n",
    "        \"showactive\": False,\n",
    "        \"type\": \"buttons\",\n",
    "        \"x\": 0.1,\n",
    "        \"xanchor\": \"right\",\n",
    "        \"y\": 0,\n",
    "        \"yanchor\": \"top\"\n",
    "    }\n",
    "]\n",
    "\n",
    "sliders_dict = {\n",
    "    \"active\": 0,\n",
    "    \"yanchor\": \"top\",\n",
    "    \"xanchor\": \"left\",\n",
    "    \"currentvalue\": {\n",
    "        \"font\": {\"size\": 20},\n",
    "        \"prefix\": \"Year:\",\n",
    "        \"visible\": True,\n",
    "        \"xanchor\": \"right\"\n",
    "    },\n",
    "    \"transition\": {\"duration\": 300, \"easing\": \"cubic-in-out\"},\n",
    "    \"pad\": {\"b\": 10, \"t\": 50},\n",
    "    \"len\": 0.9,\n",
    "    \"x\": 0.1,\n",
    "    \"y\": 0,\n",
    "    \"steps\": []\n",
    "}\n",
    "\n",
    "#make data\n",
    "year = 2012\n",
    "for zipcode in zipcodes:\n",
    "    dataset_by_year = census_df[census_df[\"Year\"] == year]\n",
    "    dataset_by_year_and_zip = dataset_by_year[\n",
    "        dataset_by_year[\"Zipcode\"] == zipcode]\n",
    "\n",
    "    data_dict = {\n",
    "        \"x\": list(dataset_by_year_and_zip[\"Household Income\"]),\n",
    "        \"y\": list(dataset_by_year_and_zip[\"Median Age\"]),\n",
    "        \"mode\": \"markers\",\n",
    "        \"text\": list(dataset_by_year_and_zip[\"Zipcode\"]),\n",
    "        \"marker\": {\n",
    "            \"sizemode\": \"area\",\n",
    "            \"sizeref\": 100,\n",
    "            \"size\": list(dataset_by_year_and_zip[\"Population\"])\n",
    "        },\n",
    "        \"name\": zipcode\n",
    "    }\n",
    "    fig_dict[\"data\"].append(data_dict)\n",
    "        \n",
    "    \n",
    "# make frames \n",
    "for year in years:\n",
    "    frame = {\"data\": [], \"name\": str(year)}\n",
    "    for zipcode in zipcodes:\n",
    "        dataset_by_year = census_df[census_df[\"Year\"] == int(year)]\n",
    "        dataset_by_year_and_zip = dataset_by_year[\n",
    "            dataset_by_year[\"Zipcode\"] == zipcode]\n",
    "\n",
    "        data_dict = {\n",
    "            \"x\": list(dataset_by_year_and_zip[\"Household Income\"]),\n",
    "            \"y\": list(dataset_by_year_and_zip[\"Median Age\"]),\n",
    "            \"mode\": \"markers\",\n",
    "            \"text\": list(dataset_by_year_and_zip[\"Zipcode\"]),\n",
    "            \"marker\": {\n",
    "                \"sizemode\": \"area\",\n",
    "                \"sizeref\": 100,\n",
    "                \"size\": list(dataset_by_year_and_zip[\"Population\"])\n",
    "            },\n",
    "            \"name\": zipcode\n",
    "        }\n",
    "        frame[\"data\"].append(data_dict)\n",
    "\n",
    "    fig_dict[\"frames\"].append(frame)\n",
    "    slider_step = {\"args\": [\n",
    "        [year],\n",
    "        {\"frame\": {\"duration\": 300, \"redraw\": False},\n",
    "         \"mode\": \"immediate\",\n",
    "         \"transition\": {\"duration\": 300}}\n",
    "    ],\n",
    "        \"label\": year,\n",
    "        \"method\": \"animate\"}\n",
    "    sliders_dict[\"steps\"].append(slider_step)\n",
    "\n",
    "\n",
    "fig_dict[\"layout\"][\"sliders\"] = [sliders_dict]\n",
    "\n",
    "fig = go.Figure(fig_dict)\n",
    "\n",
    "fig.show()\n"
   ]
  },
  {
   "cell_type": "code",
   "execution_count": 49,
   "metadata": {},
   "outputs": [
    {
     "data": {
      "text/plain": [
       "{'data': [{'x': [57165.0],\n",
       "   'y': [31.8],\n",
       "   'mode': 'markers',\n",
       "   'text': [77002],\n",
       "   'marker': {'sizemode': 'area', 'sizeref': 200000, 'size': [11473.0]},\n",
       "   'name': 77002},\n",
       "  {'x': [37664.0],\n",
       "   'y': [32.9],\n",
       "   'mode': 'markers',\n",
       "   'text': [77003],\n",
       "   'marker': {'sizemode': 'area', 'sizeref': 200000, 'size': [10215.0]},\n",
       "   'name': 77003},\n",
       "  {'x': [39804.0],\n",
       "   'y': [31.6],\n",
       "   'mode': 'markers',\n",
       "   'text': [77004],\n",
       "   'marker': {'sizemode': 'area', 'sizeref': 200000, 'size': [29853.0]},\n",
       "   'name': 77004},\n",
       "  {'x': [153041.0],\n",
       "   'y': [38.5],\n",
       "   'mode': 'markers',\n",
       "   'text': [77005],\n",
       "   'marker': {'sizemode': 'area', 'sizeref': 200000, 'size': [25740.0]},\n",
       "   'name': 77005},\n",
       "  {'x': [63360.0],\n",
       "   'y': [36.9],\n",
       "   'mode': 'markers',\n",
       "   'text': [77006],\n",
       "   'marker': {'sizemode': 'area', 'sizeref': 200000, 'size': [19856.0]},\n",
       "   'name': 77006},\n",
       "  {'x': [90860.0],\n",
       "   'y': [34.6],\n",
       "   'mode': 'markers',\n",
       "   'text': [77007],\n",
       "   'marker': {'sizemode': 'area', 'sizeref': 200000, 'size': [29545.0]},\n",
       "   'name': 77007},\n",
       "  {'x': [65457.0],\n",
       "   'y': [37.1],\n",
       "   'mode': 'markers',\n",
       "   'text': [77008],\n",
       "   'marker': {'sizemode': 'area', 'sizeref': 200000, 'size': [29424.0]},\n",
       "   'name': 77008},\n",
       "  {'x': [42944.0],\n",
       "   'y': [33.6],\n",
       "   'mode': 'markers',\n",
       "   'text': [77009],\n",
       "   'marker': {'sizemode': 'area', 'sizeref': 200000, 'size': [39050.0]},\n",
       "   'name': 77009},\n",
       "  {'x': [149444.0],\n",
       "   'y': [50.6],\n",
       "   'mode': 'markers',\n",
       "   'text': [77010],\n",
       "   'marker': {'sizemode': 'area', 'sizeref': 200000, 'size': [342.0]},\n",
       "   'name': 77010},\n",
       "  {'x': [27458.0],\n",
       "   'y': [32.7],\n",
       "   'mode': 'markers',\n",
       "   'text': [77011],\n",
       "   'marker': {'sizemode': 'area', 'sizeref': 200000, 'size': [19396.0]},\n",
       "   'name': 77011},\n",
       "  {'x': [33035.0],\n",
       "   'y': [30.1],\n",
       "   'mode': 'markers',\n",
       "   'text': [77012],\n",
       "   'marker': {'sizemode': 'area', 'sizeref': 200000, 'size': [21619.0]},\n",
       "   'name': 77012},\n",
       "  {'x': [87582.0],\n",
       "   'y': [36.8],\n",
       "   'mode': 'markers',\n",
       "   'text': [77019],\n",
       "   'marker': {'sizemode': 'area', 'sizeref': 200000, 'size': [19450.0]},\n",
       "   'name': 77019},\n",
       "  {'x': [28217.0],\n",
       "   'y': [31.7],\n",
       "   'mode': 'markers',\n",
       "   'text': [77020],\n",
       "   'marker': {'sizemode': 'area', 'sizeref': 200000, 'size': [26381.0]},\n",
       "   'name': 77020},\n",
       "  {'x': [32096.0],\n",
       "   'y': [34.4],\n",
       "   'mode': 'markers',\n",
       "   'text': [77021],\n",
       "   'marker': {'sizemode': 'area', 'sizeref': 200000, 'size': [25640.0]},\n",
       "   'name': 77021},\n",
       "  {'x': [37735.0],\n",
       "   'y': [30.9],\n",
       "   'mode': 'markers',\n",
       "   'text': [77023],\n",
       "   'marker': {'sizemode': 'area', 'sizeref': 200000, 'size': [30696.0]},\n",
       "   'name': 77023},\n",
       "  {'x': [64202.0],\n",
       "   'y': [33.8],\n",
       "   'mode': 'markers',\n",
       "   'text': [77025],\n",
       "   'marker': {'sizemode': 'area', 'sizeref': 200000, 'size': [25935.0]},\n",
       "   'name': 77025},\n",
       "  {'x': [20200.0],\n",
       "   'y': [32.8],\n",
       "   'mode': 'markers',\n",
       "   'text': [77026],\n",
       "   'marker': {'sizemode': 'area', 'sizeref': 200000, 'size': [23963.0]},\n",
       "   'name': 77026},\n",
       "  {'x': [81202.0],\n",
       "   'y': [37.9],\n",
       "   'mode': 'markers',\n",
       "   'text': [77027],\n",
       "   'marker': {'sizemode': 'area', 'sizeref': 200000, 'size': [14745.0]},\n",
       "   'name': 77027},\n",
       "  {'x': [67790.0],\n",
       "   'y': [32.8],\n",
       "   'mode': 'markers',\n",
       "   'text': [77030],\n",
       "   'marker': {'sizemode': 'area', 'sizeref': 200000, 'size': [11184.0]},\n",
       "   'name': 77030}],\n",
       " 'layout': {'xaxis': {'range': [20000, 300000], 'title': 'Household Income'},\n",
       "  'yaxis': {'title': 'Median Age', 'type': 'log'},\n",
       "  'hovermode': 'closest',\n",
       "  'sliders': [{'active': 0,\n",
       "    'yanchor': 'top',\n",
       "    'xanchor': 'left',\n",
       "    'currentvalue': {'font': {'size': 20},\n",
       "     'prefix': 'Year:',\n",
       "     'visible': True,\n",
       "     'xanchor': 'right'},\n",
       "    'transition': {'duration': 300, 'easing': 'cubic-in-out'},\n",
       "    'pad': {'b': 10, 't': 50},\n",
       "    'len': 0.9,\n",
       "    'x': 0.1,\n",
       "    'y': 0,\n",
       "    'steps': [{'args': [['2012'],\n",
       "       {'frame': {'duration': 300, 'redraw': False},\n",
       "        'mode': 'immediate',\n",
       "        'transition': {'duration': 300}}],\n",
       "      'label': '2012',\n",
       "      'method': 'animate'},\n",
       "     {'args': [['2013'],\n",
       "       {'frame': {'duration': 300, 'redraw': False},\n",
       "        'mode': 'immediate',\n",
       "        'transition': {'duration': 300}}],\n",
       "      'label': '2013',\n",
       "      'method': 'animate'},\n",
       "     {'args': [['2014'],\n",
       "       {'frame': {'duration': 300, 'redraw': False},\n",
       "        'mode': 'immediate',\n",
       "        'transition': {'duration': 300}}],\n",
       "      'label': '2014',\n",
       "      'method': 'animate'},\n",
       "     {'args': [['2015'],\n",
       "       {'frame': {'duration': 300, 'redraw': False},\n",
       "        'mode': 'immediate',\n",
       "        'transition': {'duration': 300}}],\n",
       "      'label': '2015',\n",
       "      'method': 'animate'},\n",
       "     {'args': [['2016'],\n",
       "       {'frame': {'duration': 300, 'redraw': False},\n",
       "        'mode': 'immediate',\n",
       "        'transition': {'duration': 300}}],\n",
       "      'label': '2016',\n",
       "      'method': 'animate'},\n",
       "     {'args': [['2017'],\n",
       "       {'frame': {'duration': 300, 'redraw': False},\n",
       "        'mode': 'immediate',\n",
       "        'transition': {'duration': 300}}],\n",
       "      'label': '2017',\n",
       "      'method': 'animate'}]}],\n",
       "  'updatemenus': [{'buttons': [{'args': [None,\n",
       "       {'frame': {'duration': 500, 'redraw': False},\n",
       "        'fromcurrent': True,\n",
       "        'transition': {'duration': 300, 'easing': 'quadratic-in-out'}}],\n",
       "      'label': 'Play',\n",
       "      'method': 'animate'},\n",
       "     {'args': [[None],\n",
       "       {'frame': {'duration': 0, 'redraw': False},\n",
       "        'mode': 'immediate',\n",
       "        'transition': {'duration': 0}}],\n",
       "      'label': 'Pause',\n",
       "      'method': 'animate'}],\n",
       "    'direction': 'left',\n",
       "    'pad': {'r': 10, 't': 87},\n",
       "    'showactive': False,\n",
       "    'type': 'buttons',\n",
       "    'x': 0.1,\n",
       "    'xanchor': 'right',\n",
       "    'y': 0,\n",
       "    'yanchor': 'top'}]},\n",
       " 'frames': [{'data': [{'x': [57165.0],\n",
       "     'y': [31.8],\n",
       "     'mode': 'markers',\n",
       "     'text': [77002],\n",
       "     'marker': {'sizemode': 'area', 'sizeref': 200000, 'size': [11473.0]},\n",
       "     'name': 77002},\n",
       "    {'x': [37664.0],\n",
       "     'y': [32.9],\n",
       "     'mode': 'markers',\n",
       "     'text': [77003],\n",
       "     'marker': {'sizemode': 'area', 'sizeref': 200000, 'size': [10215.0]},\n",
       "     'name': 77003},\n",
       "    {'x': [39804.0],\n",
       "     'y': [31.6],\n",
       "     'mode': 'markers',\n",
       "     'text': [77004],\n",
       "     'marker': {'sizemode': 'area', 'sizeref': 200000, 'size': [29853.0]},\n",
       "     'name': 77004},\n",
       "    {'x': [153041.0],\n",
       "     'y': [38.5],\n",
       "     'mode': 'markers',\n",
       "     'text': [77005],\n",
       "     'marker': {'sizemode': 'area', 'sizeref': 200000, 'size': [25740.0]},\n",
       "     'name': 77005},\n",
       "    {'x': [63360.0],\n",
       "     'y': [36.9],\n",
       "     'mode': 'markers',\n",
       "     'text': [77006],\n",
       "     'marker': {'sizemode': 'area', 'sizeref': 200000, 'size': [19856.0]},\n",
       "     'name': 77006},\n",
       "    {'x': [90860.0],\n",
       "     'y': [34.6],\n",
       "     'mode': 'markers',\n",
       "     'text': [77007],\n",
       "     'marker': {'sizemode': 'area', 'sizeref': 200000, 'size': [29545.0]},\n",
       "     'name': 77007},\n",
       "    {'x': [65457.0],\n",
       "     'y': [37.1],\n",
       "     'mode': 'markers',\n",
       "     'text': [77008],\n",
       "     'marker': {'sizemode': 'area', 'sizeref': 200000, 'size': [29424.0]},\n",
       "     'name': 77008},\n",
       "    {'x': [42944.0],\n",
       "     'y': [33.6],\n",
       "     'mode': 'markers',\n",
       "     'text': [77009],\n",
       "     'marker': {'sizemode': 'area', 'sizeref': 200000, 'size': [39050.0]},\n",
       "     'name': 77009},\n",
       "    {'x': [149444.0],\n",
       "     'y': [50.6],\n",
       "     'mode': 'markers',\n",
       "     'text': [77010],\n",
       "     'marker': {'sizemode': 'area', 'sizeref': 200000, 'size': [342.0]},\n",
       "     'name': 77010},\n",
       "    {'x': [27458.0],\n",
       "     'y': [32.7],\n",
       "     'mode': 'markers',\n",
       "     'text': [77011],\n",
       "     'marker': {'sizemode': 'area', 'sizeref': 200000, 'size': [19396.0]},\n",
       "     'name': 77011},\n",
       "    {'x': [33035.0],\n",
       "     'y': [30.1],\n",
       "     'mode': 'markers',\n",
       "     'text': [77012],\n",
       "     'marker': {'sizemode': 'area', 'sizeref': 200000, 'size': [21619.0]},\n",
       "     'name': 77012},\n",
       "    {'x': [87582.0],\n",
       "     'y': [36.8],\n",
       "     'mode': 'markers',\n",
       "     'text': [77019],\n",
       "     'marker': {'sizemode': 'area', 'sizeref': 200000, 'size': [19450.0]},\n",
       "     'name': 77019},\n",
       "    {'x': [28217.0],\n",
       "     'y': [31.7],\n",
       "     'mode': 'markers',\n",
       "     'text': [77020],\n",
       "     'marker': {'sizemode': 'area', 'sizeref': 200000, 'size': [26381.0]},\n",
       "     'name': 77020},\n",
       "    {'x': [32096.0],\n",
       "     'y': [34.4],\n",
       "     'mode': 'markers',\n",
       "     'text': [77021],\n",
       "     'marker': {'sizemode': 'area', 'sizeref': 200000, 'size': [25640.0]},\n",
       "     'name': 77021},\n",
       "    {'x': [37735.0],\n",
       "     'y': [30.9],\n",
       "     'mode': 'markers',\n",
       "     'text': [77023],\n",
       "     'marker': {'sizemode': 'area', 'sizeref': 200000, 'size': [30696.0]},\n",
       "     'name': 77023},\n",
       "    {'x': [64202.0],\n",
       "     'y': [33.8],\n",
       "     'mode': 'markers',\n",
       "     'text': [77025],\n",
       "     'marker': {'sizemode': 'area', 'sizeref': 200000, 'size': [25935.0]},\n",
       "     'name': 77025},\n",
       "    {'x': [20200.0],\n",
       "     'y': [32.8],\n",
       "     'mode': 'markers',\n",
       "     'text': [77026],\n",
       "     'marker': {'sizemode': 'area', 'sizeref': 200000, 'size': [23963.0]},\n",
       "     'name': 77026},\n",
       "    {'x': [81202.0],\n",
       "     'y': [37.9],\n",
       "     'mode': 'markers',\n",
       "     'text': [77027],\n",
       "     'marker': {'sizemode': 'area', 'sizeref': 200000, 'size': [14745.0]},\n",
       "     'name': 77027},\n",
       "    {'x': [67790.0],\n",
       "     'y': [32.8],\n",
       "     'mode': 'markers',\n",
       "     'text': [77030],\n",
       "     'marker': {'sizemode': 'area', 'sizeref': 200000, 'size': [11184.0]},\n",
       "     'name': 77030}],\n",
       "   'name': '2012'},\n",
       "  {'data': [{'x': [64093.0],\n",
       "     'y': [32.5],\n",
       "     'mode': 'markers',\n",
       "     'text': [77002],\n",
       "     'marker': {'sizemode': 'area', 'sizeref': 200000, 'size': [11602.0]},\n",
       "     'name': 77002},\n",
       "    {'x': [36412.0],\n",
       "     'y': [30.8],\n",
       "     'mode': 'markers',\n",
       "     'text': [77003],\n",
       "     'marker': {'sizemode': 'area', 'sizeref': 200000, 'size': [10617.0]},\n",
       "     'name': 77003},\n",
       "    {'x': [41983.0],\n",
       "     'y': [30.3],\n",
       "     'mode': 'markers',\n",
       "     'text': [77004],\n",
       "     'marker': {'sizemode': 'area', 'sizeref': 200000, 'size': [31593.0]},\n",
       "     'name': 77004},\n",
       "    {'x': [159732.0],\n",
       "     'y': [38.5],\n",
       "     'mode': 'markers',\n",
       "     'text': [77005],\n",
       "     'marker': {'sizemode': 'area', 'sizeref': 200000, 'size': [25752.0]},\n",
       "     'name': 77005},\n",
       "    {'x': [67458.0],\n",
       "     'y': [35.1],\n",
       "     'mode': 'markers',\n",
       "     'text': [77006],\n",
       "     'marker': {'sizemode': 'area', 'sizeref': 200000, 'size': [20573.0]},\n",
       "     'name': 77006},\n",
       "    {'x': [98725.0],\n",
       "     'y': [34.6],\n",
       "     'mode': 'markers',\n",
       "     'text': [77007],\n",
       "     'marker': {'sizemode': 'area', 'sizeref': 200000, 'size': [30868.0]},\n",
       "     'name': 77007},\n",
       "    {'x': [70293.0],\n",
       "     'y': [35.9],\n",
       "     'mode': 'markers',\n",
       "     'text': [77008],\n",
       "     'marker': {'sizemode': 'area', 'sizeref': 200000, 'size': [30807.0]},\n",
       "     'name': 77008},\n",
       "    {'x': [44651.0],\n",
       "     'y': [34.1],\n",
       "     'mode': 'markers',\n",
       "     'text': [77009],\n",
       "     'marker': {'sizemode': 'area', 'sizeref': 200000, 'size': [39725.0]},\n",
       "     'name': 77009},\n",
       "    {'x': [250001.0],\n",
       "     'y': [41.7],\n",
       "     'mode': 'markers',\n",
       "     'text': [77010],\n",
       "     'marker': {'sizemode': 'area', 'sizeref': 200000, 'size': [564.0]},\n",
       "     'name': 77010},\n",
       "    {'x': [26838.0],\n",
       "     'y': [33.2],\n",
       "     'mode': 'markers',\n",
       "     'text': [77011],\n",
       "     'marker': {'sizemode': 'area', 'sizeref': 200000, 'size': [19442.0]},\n",
       "     'name': 77011},\n",
       "    {'x': [34975.0],\n",
       "     'y': [30.5],\n",
       "     'mode': 'markers',\n",
       "     'text': [77012],\n",
       "     'marker': {'sizemode': 'area', 'sizeref': 200000, 'size': [21868.0]},\n",
       "     'name': 77012},\n",
       "    {'x': [87394.0],\n",
       "     'y': [35.6],\n",
       "     'mode': 'markers',\n",
       "     'text': [77019],\n",
       "     'marker': {'sizemode': 'area', 'sizeref': 200000, 'size': [19995.0]},\n",
       "     'name': 77019},\n",
       "    {'x': [29401.0],\n",
       "     'y': [32.5],\n",
       "     'mode': 'markers',\n",
       "     'text': [77020],\n",
       "     'marker': {'sizemode': 'area', 'sizeref': 200000, 'size': [26889.0]},\n",
       "     'name': 77020},\n",
       "    {'x': [31103.0],\n",
       "     'y': [35.0],\n",
       "     'mode': 'markers',\n",
       "     'text': [77021],\n",
       "     'marker': {'sizemode': 'area', 'sizeref': 200000, 'size': [25479.0]},\n",
       "     'name': 77021},\n",
       "    {'x': [36033.0],\n",
       "     'y': [31.2],\n",
       "     'mode': 'markers',\n",
       "     'text': [77023],\n",
       "     'marker': {'sizemode': 'area', 'sizeref': 200000, 'size': [29871.0]},\n",
       "     'name': 77023},\n",
       "    {'x': [65828.0],\n",
       "     'y': [35.3],\n",
       "     'mode': 'markers',\n",
       "     'text': [77025],\n",
       "     'marker': {'sizemode': 'area', 'sizeref': 200000, 'size': [26379.0]},\n",
       "     'name': 77025},\n",
       "    {'x': [20024.0],\n",
       "     'y': [33.5],\n",
       "     'mode': 'markers',\n",
       "     'text': [77026],\n",
       "     'marker': {'sizemode': 'area', 'sizeref': 200000, 'size': [22909.0]},\n",
       "     'name': 77026},\n",
       "    {'x': [81661.0],\n",
       "     'y': [37.4],\n",
       "     'mode': 'markers',\n",
       "     'text': [77027],\n",
       "     'marker': {'sizemode': 'area', 'sizeref': 200000, 'size': [15455.0]},\n",
       "     'name': 77027},\n",
       "    {'x': [68980.0],\n",
       "     'y': [32.8],\n",
       "     'mode': 'markers',\n",
       "     'text': [77030],\n",
       "     'marker': {'sizemode': 'area', 'sizeref': 200000, 'size': [11031.0]},\n",
       "     'name': 77030}],\n",
       "   'name': '2013'},\n",
       "  {'data': [{'x': [71319.0],\n",
       "     'y': [33.2],\n",
       "     'mode': 'markers',\n",
       "     'text': [77002],\n",
       "     'marker': {'sizemode': 'area', 'sizeref': 200000, 'size': [11630.0]},\n",
       "     'name': 77002},\n",
       "    {'x': [40647.0],\n",
       "     'y': [31.2],\n",
       "     'mode': 'markers',\n",
       "     'text': [77003],\n",
       "     'marker': {'sizemode': 'area', 'sizeref': 200000, 'size': [10760.0]},\n",
       "     'name': 77003},\n",
       "    {'x': [46059.0],\n",
       "     'y': [29.0],\n",
       "     'mode': 'markers',\n",
       "     'text': [77004],\n",
       "     'marker': {'sizemode': 'area', 'sizeref': 200000, 'size': [34079.0]},\n",
       "     'name': 77004},\n",
       "    {'x': [163802.0],\n",
       "     'y': [38.7],\n",
       "     'mode': 'markers',\n",
       "     'text': [77005],\n",
       "     'marker': {'sizemode': 'area', 'sizeref': 200000, 'size': [26187.0]},\n",
       "     'name': 77005},\n",
       "    {'x': [69508.0],\n",
       "     'y': [35.4],\n",
       "     'mode': 'markers',\n",
       "     'text': [77006],\n",
       "     'marker': {'sizemode': 'area', 'sizeref': 200000, 'size': [21144.0]},\n",
       "     'name': 77006},\n",
       "    {'x': [106044.0],\n",
       "     'y': [34.3],\n",
       "     'mode': 'markers',\n",
       "     'text': [77007],\n",
       "     'marker': {'sizemode': 'area', 'sizeref': 200000, 'size': [31987.0]},\n",
       "     'name': 77007},\n",
       "    {'x': [77512.0],\n",
       "     'y': [35.5],\n",
       "     'mode': 'markers',\n",
       "     'text': [77008],\n",
       "     'marker': {'sizemode': 'area', 'sizeref': 200000, 'size': [31418.0]},\n",
       "     'name': 77008},\n",
       "    {'x': [45016.0],\n",
       "     'y': [34.0],\n",
       "     'mode': 'markers',\n",
       "     'text': [77009],\n",
       "     'marker': {'sizemode': 'area', 'sizeref': 200000, 'size': [39361.0]},\n",
       "     'name': 77009},\n",
       "    {'x': [209063.0],\n",
       "     'y': [43.6],\n",
       "     'mode': 'markers',\n",
       "     'text': [77010],\n",
       "     'marker': {'sizemode': 'area', 'sizeref': 200000, 'size': [724.0]},\n",
       "     'name': 77010},\n",
       "    {'x': [26953.0],\n",
       "     'y': [32.8],\n",
       "     'mode': 'markers',\n",
       "     'text': [77011],\n",
       "     'marker': {'sizemode': 'area', 'sizeref': 200000, 'size': [19136.0]},\n",
       "     'name': 77011},\n",
       "    {'x': [35884.0],\n",
       "     'y': [31.7],\n",
       "     'mode': 'markers',\n",
       "     'text': [77012],\n",
       "     'marker': {'sizemode': 'area', 'sizeref': 200000, 'size': [20991.0]},\n",
       "     'name': 77012},\n",
       "    {'x': [92844.0],\n",
       "     'y': [37.9],\n",
       "     'mode': 'markers',\n",
       "     'text': [77019],\n",
       "     'marker': {'sizemode': 'area', 'sizeref': 200000, 'size': [20350.0]},\n",
       "     'name': 77019},\n",
       "    {'x': [27871.0],\n",
       "     'y': [32.9],\n",
       "     'mode': 'markers',\n",
       "     'text': [77020],\n",
       "     'marker': {'sizemode': 'area', 'sizeref': 200000, 'size': [26777.0]},\n",
       "     'name': 77020},\n",
       "    {'x': [32391.0],\n",
       "     'y': [33.7],\n",
       "     'mode': 'markers',\n",
       "     'text': [77021],\n",
       "     'marker': {'sizemode': 'area', 'sizeref': 200000, 'size': [26036.0]},\n",
       "     'name': 77021},\n",
       "    {'x': [37361.0],\n",
       "     'y': [31.9],\n",
       "     'mode': 'markers',\n",
       "     'text': [77023],\n",
       "     'marker': {'sizemode': 'area', 'sizeref': 200000, 'size': [29102.0]},\n",
       "     'name': 77023},\n",
       "    {'x': [65524.0],\n",
       "     'y': [35.3],\n",
       "     'mode': 'markers',\n",
       "     'text': [77025],\n",
       "     'marker': {'sizemode': 'area', 'sizeref': 200000, 'size': [27413.0]},\n",
       "     'name': 77025},\n",
       "    {'x': [21335.0],\n",
       "     'y': [33.1],\n",
       "     'mode': 'markers',\n",
       "     'text': [77026],\n",
       "     'marker': {'sizemode': 'area', 'sizeref': 200000, 'size': [23325.0]},\n",
       "     'name': 77026},\n",
       "    {'x': [82038.0],\n",
       "     'y': [36.7],\n",
       "     'mode': 'markers',\n",
       "     'text': [77027],\n",
       "     'marker': {'sizemode': 'area', 'sizeref': 200000, 'size': [15510.0]},\n",
       "     'name': 77027},\n",
       "    {'x': [71078.0],\n",
       "     'y': [32.5],\n",
       "     'mode': 'markers',\n",
       "     'text': [77030],\n",
       "     'marker': {'sizemode': 'area', 'sizeref': 200000, 'size': [10664.0]},\n",
       "     'name': 77030}],\n",
       "   'name': '2014'},\n",
       "  {'data': [{'x': [62089.0],\n",
       "     'y': [33.8],\n",
       "     'mode': 'markers',\n",
       "     'text': [77002],\n",
       "     'marker': {'sizemode': 'area', 'sizeref': 200000, 'size': [11922.0]},\n",
       "     'name': 77002},\n",
       "    {'x': [39039.0],\n",
       "     'y': [32.7],\n",
       "     'mode': 'markers',\n",
       "     'text': [77003],\n",
       "     'marker': {'sizemode': 'area', 'sizeref': 200000, 'size': [10438.0]},\n",
       "     'name': 77003},\n",
       "    {'x': [47523.0],\n",
       "     'y': [28.1],\n",
       "     'mode': 'markers',\n",
       "     'text': [77004],\n",
       "     'marker': {'sizemode': 'area', 'sizeref': 200000, 'size': [35739.0]},\n",
       "     'name': 77004},\n",
       "    {'x': [166203.0],\n",
       "     'y': [38.0],\n",
       "     'mode': 'markers',\n",
       "     'text': [77005],\n",
       "     'marker': {'sizemode': 'area', 'sizeref': 200000, 'size': [27187.0]},\n",
       "     'name': 77005},\n",
       "    {'x': [71158.0],\n",
       "     'y': [34.8],\n",
       "     'mode': 'markers',\n",
       "     'text': [77006],\n",
       "     'marker': {'sizemode': 'area', 'sizeref': 200000, 'size': [21795.0]},\n",
       "     'name': 77006},\n",
       "    {'x': [107580.0],\n",
       "     'y': [33.5],\n",
       "     'mode': 'markers',\n",
       "     'text': [77007],\n",
       "     'marker': {'sizemode': 'area', 'sizeref': 200000, 'size': [33029.0]},\n",
       "     'name': 77007},\n",
       "    {'x': [82058.0],\n",
       "     'y': [35.5],\n",
       "     'mode': 'markers',\n",
       "     'text': [77008],\n",
       "     'marker': {'sizemode': 'area', 'sizeref': 200000, 'size': [31868.0]},\n",
       "     'name': 77008},\n",
       "    {'x': [43830.0],\n",
       "     'y': [34.1],\n",
       "     'mode': 'markers',\n",
       "     'text': [77009],\n",
       "     'marker': {'sizemode': 'area', 'sizeref': 200000, 'size': [39260.0]},\n",
       "     'name': 77009},\n",
       "    {'x': [250001.0],\n",
       "     'y': [42.7],\n",
       "     'mode': 'markers',\n",
       "     'text': [77010],\n",
       "     'marker': {'sizemode': 'area', 'sizeref': 200000, 'size': [809.0]},\n",
       "     'name': 77010},\n",
       "    {'x': [26922.0],\n",
       "     'y': [33.0],\n",
       "     'mode': 'markers',\n",
       "     'text': [77011],\n",
       "     'marker': {'sizemode': 'area', 'sizeref': 200000, 'size': [19303.0]},\n",
       "     'name': 77011},\n",
       "    {'x': [34891.0],\n",
       "     'y': [32.3],\n",
       "     'mode': 'markers',\n",
       "     'text': [77012],\n",
       "     'marker': {'sizemode': 'area', 'sizeref': 200000, 'size': [20494.0]},\n",
       "     'name': 77012},\n",
       "    {'x': [101297.0],\n",
       "     'y': [38.8],\n",
       "     'mode': 'markers',\n",
       "     'text': [77019],\n",
       "     'marker': {'sizemode': 'area', 'sizeref': 200000, 'size': [20644.0]},\n",
       "     'name': 77019},\n",
       "    {'x': [27052.0],\n",
       "     'y': [32.4],\n",
       "     'mode': 'markers',\n",
       "     'text': [77020],\n",
       "     'marker': {'sizemode': 'area', 'sizeref': 200000, 'size': [26005.0]},\n",
       "     'name': 77020},\n",
       "    {'x': [32800.0],\n",
       "     'y': [33.8],\n",
       "     'mode': 'markers',\n",
       "     'text': [77021],\n",
       "     'marker': {'sizemode': 'area', 'sizeref': 200000, 'size': [26209.0]},\n",
       "     'name': 77021},\n",
       "    {'x': [36065.0],\n",
       "     'y': [33.4],\n",
       "     'mode': 'markers',\n",
       "     'text': [77023],\n",
       "     'marker': {'sizemode': 'area', 'sizeref': 200000, 'size': [28316.0]},\n",
       "     'name': 77023},\n",
       "    {'x': [66559.0],\n",
       "     'y': [35.2],\n",
       "     'mode': 'markers',\n",
       "     'text': [77025],\n",
       "     'marker': {'sizemode': 'area', 'sizeref': 200000, 'size': [28305.0]},\n",
       "     'name': 77025},\n",
       "    {'x': [22242.0],\n",
       "     'y': [35.3],\n",
       "     'mode': 'markers',\n",
       "     'text': [77026],\n",
       "     'marker': {'sizemode': 'area', 'sizeref': 200000, 'size': [22485.0]},\n",
       "     'name': 77026},\n",
       "    {'x': [89276.0],\n",
       "     'y': [36.8],\n",
       "     'mode': 'markers',\n",
       "     'text': [77027],\n",
       "     'marker': {'sizemode': 'area', 'sizeref': 200000, 'size': [15749.0]},\n",
       "     'name': 77027},\n",
       "    {'x': [71883.0],\n",
       "     'y': [32.6],\n",
       "     'mode': 'markers',\n",
       "     'text': [77030],\n",
       "     'marker': {'sizemode': 'area', 'sizeref': 200000, 'size': [10279.0]},\n",
       "     'name': 77030}],\n",
       "   'name': '2015'},\n",
       "  {'data': [{'x': [68229.0],\n",
       "     'y': [33.9],\n",
       "     'mode': 'markers',\n",
       "     'text': [77002],\n",
       "     'marker': {'sizemode': 'area', 'sizeref': 200000, 'size': [11861.0]},\n",
       "     'name': 77002},\n",
       "    {'x': [46267.0],\n",
       "     'y': [33.0],\n",
       "     'mode': 'markers',\n",
       "     'text': [77003],\n",
       "     'marker': {'sizemode': 'area', 'sizeref': 200000, 'size': [10097.0]},\n",
       "     'name': 77003},\n",
       "    {'x': [50681.0],\n",
       "     'y': [28.3],\n",
       "     'mode': 'markers',\n",
       "     'text': [77004],\n",
       "     'marker': {'sizemode': 'area', 'sizeref': 200000, 'size': [36879.0]},\n",
       "     'name': 77004},\n",
       "    {'x': [174153.0],\n",
       "     'y': [37.5],\n",
       "     'mode': 'markers',\n",
       "     'text': [77005],\n",
       "     'marker': {'sizemode': 'area', 'sizeref': 200000, 'size': [27707.0]},\n",
       "     'name': 77005},\n",
       "    {'x': [80908.0],\n",
       "     'y': [34.9],\n",
       "     'mode': 'markers',\n",
       "     'text': [77006],\n",
       "     'marker': {'sizemode': 'area', 'sizeref': 200000, 'size': [21849.0]},\n",
       "     'name': 77006},\n",
       "    {'x': [113361.0],\n",
       "     'y': [33.6],\n",
       "     'mode': 'markers',\n",
       "     'text': [77007],\n",
       "     'marker': {'sizemode': 'area', 'sizeref': 200000, 'size': [35185.0]},\n",
       "     'name': 77007},\n",
       "    {'x': [88248.0],\n",
       "     'y': [35.5],\n",
       "     'mode': 'markers',\n",
       "     'text': [77008],\n",
       "     'marker': {'sizemode': 'area', 'sizeref': 200000, 'size': [32588.0]},\n",
       "     'name': 77008},\n",
       "    {'x': [47011.0],\n",
       "     'y': [34.5],\n",
       "     'mode': 'markers',\n",
       "     'text': [77009],\n",
       "     'marker': {'sizemode': 'area', 'sizeref': 200000, 'size': [38019.0]},\n",
       "     'name': 77009},\n",
       "    {'x': [250001.0],\n",
       "     'y': [48.5],\n",
       "     'mode': 'markers',\n",
       "     'text': [77010],\n",
       "     'marker': {'sizemode': 'area', 'sizeref': 200000, 'size': [831.0]},\n",
       "     'name': 77010},\n",
       "    {'x': [29544.0],\n",
       "     'y': [32.9],\n",
       "     'mode': 'markers',\n",
       "     'text': [77011],\n",
       "     'marker': {'sizemode': 'area', 'sizeref': 200000, 'size': [18558.0]},\n",
       "     'name': 77011},\n",
       "    {'x': [34617.0],\n",
       "     'y': [32.0],\n",
       "     'mode': 'markers',\n",
       "     'text': [77012],\n",
       "     'marker': {'sizemode': 'area', 'sizeref': 200000, 'size': [20534.0]},\n",
       "     'name': 77012},\n",
       "    {'x': [102521.0],\n",
       "     'y': [38.4],\n",
       "     'mode': 'markers',\n",
       "     'text': [77019],\n",
       "     'marker': {'sizemode': 'area', 'sizeref': 200000, 'size': [21067.0]},\n",
       "     'name': 77019},\n",
       "    {'x': [26896.0],\n",
       "     'y': [32.9],\n",
       "     'mode': 'markers',\n",
       "     'text': [77020],\n",
       "     'marker': {'sizemode': 'area', 'sizeref': 200000, 'size': [25908.0]},\n",
       "     'name': 77020},\n",
       "    {'x': [32404.0],\n",
       "     'y': [33.8],\n",
       "     'mode': 'markers',\n",
       "     'text': [77021],\n",
       "     'marker': {'sizemode': 'area', 'sizeref': 200000, 'size': [26374.0]},\n",
       "     'name': 77021},\n",
       "    {'x': [35723.0],\n",
       "     'y': [33.4],\n",
       "     'mode': 'markers',\n",
       "     'text': [77023],\n",
       "     'marker': {'sizemode': 'area', 'sizeref': 200000, 'size': [27973.0]},\n",
       "     'name': 77023},\n",
       "    {'x': [67548.0],\n",
       "     'y': [36.1],\n",
       "     'mode': 'markers',\n",
       "     'text': [77025],\n",
       "     'marker': {'sizemode': 'area', 'sizeref': 200000, 'size': [28103.0]},\n",
       "     'name': 77025},\n",
       "    {'x': [25354.0],\n",
       "     'y': [35.9],\n",
       "     'mode': 'markers',\n",
       "     'text': [77026],\n",
       "     'marker': {'sizemode': 'area', 'sizeref': 200000, 'size': [23030.0]},\n",
       "     'name': 77026},\n",
       "    {'x': [88471.0],\n",
       "     'y': [35.1],\n",
       "     'mode': 'markers',\n",
       "     'text': [77027],\n",
       "     'marker': {'sizemode': 'area', 'sizeref': 200000, 'size': [15498.0]},\n",
       "     'name': 77027},\n",
       "    {'x': [73689.0],\n",
       "     'y': [32.7],\n",
       "     'mode': 'markers',\n",
       "     'text': [77030],\n",
       "     'marker': {'sizemode': 'area', 'sizeref': 200000, 'size': [10735.0]},\n",
       "     'name': 77030}],\n",
       "   'name': '2016'},\n",
       "  {'data': [{'x': [72306.0],\n",
       "     'y': [34.1],\n",
       "     'mode': 'markers',\n",
       "     'text': [77002],\n",
       "     'marker': {'sizemode': 'area', 'sizeref': 200000, 'size': [12370.0]},\n",
       "     'name': 77002},\n",
       "    {'x': [59575.0],\n",
       "     'y': [34.1],\n",
       "     'mode': 'markers',\n",
       "     'text': [77003],\n",
       "     'marker': {'sizemode': 'area', 'sizeref': 200000, 'size': [9646.0]},\n",
       "     'name': 77003},\n",
       "    {'x': [48592.0],\n",
       "     'y': [28.3],\n",
       "     'mode': 'markers',\n",
       "     'text': [77004],\n",
       "     'marker': {'sizemode': 'area', 'sizeref': 200000, 'size': [37642.0]},\n",
       "     'name': 77004},\n",
       "    {'x': [180758.0],\n",
       "     'y': [36.5],\n",
       "     'mode': 'markers',\n",
       "     'text': [77005],\n",
       "     'marker': {'sizemode': 'area', 'sizeref': 200000, 'size': [28233.0]},\n",
       "     'name': 77005},\n",
       "    {'x': [82878.0],\n",
       "     'y': [34.3],\n",
       "     'mode': 'markers',\n",
       "     'text': [77006],\n",
       "     'marker': {'sizemode': 'area', 'sizeref': 200000, 'size': [21945.0]},\n",
       "     'name': 77006},\n",
       "    {'x': [121458.0],\n",
       "     'y': [33.8],\n",
       "     'mode': 'markers',\n",
       "     'text': [77007],\n",
       "     'marker': {'sizemode': 'area', 'sizeref': 200000, 'size': [35822.0]},\n",
       "     'name': 77007},\n",
       "    {'x': [97690.0],\n",
       "     'y': [34.9],\n",
       "     'mode': 'markers',\n",
       "     'text': [77008],\n",
       "     'marker': {'sizemode': 'area', 'sizeref': 200000, 'size': [34491.0]},\n",
       "     'name': 77008},\n",
       "    {'x': [49383.0],\n",
       "     'y': [35.1],\n",
       "     'mode': 'markers',\n",
       "     'text': [77009],\n",
       "     'marker': {'sizemode': 'area', 'sizeref': 200000, 'size': [37751.0]},\n",
       "     'name': 77009},\n",
       "    {'x': [250001.0],\n",
       "     'y': [44.6],\n",
       "     'mode': 'markers',\n",
       "     'text': [77010],\n",
       "     'marker': {'sizemode': 'area', 'sizeref': 200000, 'size': [915.0]},\n",
       "     'name': 77010},\n",
       "    {'x': [30665.0],\n",
       "     'y': [34.0],\n",
       "     'mode': 'markers',\n",
       "     'text': [77011],\n",
       "     'marker': {'sizemode': 'area', 'sizeref': 200000, 'size': [18598.0]},\n",
       "     'name': 77011},\n",
       "    {'x': [36537.0],\n",
       "     'y': [33.0],\n",
       "     'mode': 'markers',\n",
       "     'text': [77012],\n",
       "     'marker': {'sizemode': 'area', 'sizeref': 200000, 'size': [20085.0]},\n",
       "     'name': 77012},\n",
       "    {'x': [112243.0],\n",
       "     'y': [39.4],\n",
       "     'mode': 'markers',\n",
       "     'text': [77019],\n",
       "     'marker': {'sizemode': 'area', 'sizeref': 200000, 'size': [21572.0]},\n",
       "     'name': 77019},\n",
       "    {'x': [27587.0],\n",
       "     'y': [33.0],\n",
       "     'mode': 'markers',\n",
       "     'text': [77020],\n",
       "     'marker': {'sizemode': 'area', 'sizeref': 200000, 'size': [25898.0]},\n",
       "     'name': 77020},\n",
       "    {'x': [35126.0],\n",
       "     'y': [33.6],\n",
       "     'mode': 'markers',\n",
       "     'text': [77021],\n",
       "     'marker': {'sizemode': 'area', 'sizeref': 200000, 'size': [26654.0]},\n",
       "     'name': 77021},\n",
       "    {'x': [37462.0],\n",
       "     'y': [33.2],\n",
       "     'mode': 'markers',\n",
       "     'text': [77023],\n",
       "     'marker': {'sizemode': 'area', 'sizeref': 200000, 'size': [28528.0]},\n",
       "     'name': 77023},\n",
       "    {'x': [71990.0],\n",
       "     'y': [36.3],\n",
       "     'mode': 'markers',\n",
       "     'text': [77025],\n",
       "     'marker': {'sizemode': 'area', 'sizeref': 200000, 'size': [28922.0]},\n",
       "     'name': 77025},\n",
       "    {'x': [26644.0],\n",
       "     'y': [35.2],\n",
       "     'mode': 'markers',\n",
       "     'text': [77026],\n",
       "     'marker': {'sizemode': 'area', 'sizeref': 200000, 'size': [22799.0]},\n",
       "     'name': 77026},\n",
       "    {'x': [91296.0],\n",
       "     'y': [33.3],\n",
       "     'mode': 'markers',\n",
       "     'text': [77027],\n",
       "     'marker': {'sizemode': 'area', 'sizeref': 200000, 'size': [16012.0]},\n",
       "     'name': 77027},\n",
       "    {'x': [75290.0],\n",
       "     'y': [33.9],\n",
       "     'mode': 'markers',\n",
       "     'text': [77030],\n",
       "     'marker': {'sizemode': 'area', 'sizeref': 200000, 'size': [10813.0]},\n",
       "     'name': 77030}],\n",
       "   'name': '2017'}]}"
      ]
     },
     "execution_count": 49,
     "metadata": {},
     "output_type": "execute_result"
    }
   ],
   "source": [
    "fig_dict"
   ]
  },
  {
   "cell_type": "code",
   "execution_count": 31,
   "metadata": {},
   "outputs": [
    {
     "data": {
      "text/html": [
       "<div>\n",
       "<style scoped>\n",
       "    .dataframe tbody tr th:only-of-type {\n",
       "        vertical-align: middle;\n",
       "    }\n",
       "\n",
       "    .dataframe tbody tr th {\n",
       "        vertical-align: top;\n",
       "    }\n",
       "\n",
       "    .dataframe thead th {\n",
       "        text-align: right;\n",
       "    }\n",
       "</style>\n",
       "<table border=\"1\" class=\"dataframe\">\n",
       "  <thead>\n",
       "    <tr style=\"text-align: right;\">\n",
       "      <th></th>\n",
       "      <th>country</th>\n",
       "      <th>year</th>\n",
       "      <th>pop</th>\n",
       "      <th>continent</th>\n",
       "      <th>lifeExp</th>\n",
       "      <th>gdpPercap</th>\n",
       "    </tr>\n",
       "  </thead>\n",
       "  <tbody>\n",
       "    <tr>\n",
       "      <th>0</th>\n",
       "      <td>Afghanistan</td>\n",
       "      <td>1952</td>\n",
       "      <td>8425333.0</td>\n",
       "      <td>Asia</td>\n",
       "      <td>28.801</td>\n",
       "      <td>779.445314</td>\n",
       "    </tr>\n",
       "    <tr>\n",
       "      <th>1</th>\n",
       "      <td>Afghanistan</td>\n",
       "      <td>1957</td>\n",
       "      <td>9240934.0</td>\n",
       "      <td>Asia</td>\n",
       "      <td>30.332</td>\n",
       "      <td>820.853030</td>\n",
       "    </tr>\n",
       "    <tr>\n",
       "      <th>2</th>\n",
       "      <td>Afghanistan</td>\n",
       "      <td>1962</td>\n",
       "      <td>10267083.0</td>\n",
       "      <td>Asia</td>\n",
       "      <td>31.997</td>\n",
       "      <td>853.100710</td>\n",
       "    </tr>\n",
       "    <tr>\n",
       "      <th>3</th>\n",
       "      <td>Afghanistan</td>\n",
       "      <td>1967</td>\n",
       "      <td>11537966.0</td>\n",
       "      <td>Asia</td>\n",
       "      <td>34.020</td>\n",
       "      <td>836.197138</td>\n",
       "    </tr>\n",
       "    <tr>\n",
       "      <th>4</th>\n",
       "      <td>Afghanistan</td>\n",
       "      <td>1972</td>\n",
       "      <td>13079460.0</td>\n",
       "      <td>Asia</td>\n",
       "      <td>36.088</td>\n",
       "      <td>739.981106</td>\n",
       "    </tr>\n",
       "  </tbody>\n",
       "</table>\n",
       "</div>"
      ],
      "text/plain": [
       "       country  year         pop continent  lifeExp   gdpPercap\n",
       "0  Afghanistan  1952   8425333.0      Asia   28.801  779.445314\n",
       "1  Afghanistan  1957   9240934.0      Asia   30.332  820.853030\n",
       "2  Afghanistan  1962  10267083.0      Asia   31.997  853.100710\n",
       "3  Afghanistan  1967  11537966.0      Asia   34.020  836.197138\n",
       "4  Afghanistan  1972  13079460.0      Asia   36.088  739.981106"
      ]
     },
     "execution_count": 31,
     "metadata": {},
     "output_type": "execute_result"
    }
   ],
   "source": [
    "url = \"https://raw.githubusercontent.com/plotly/datasets/master/gapminderDataFiveYear.csv\"\n",
    "dataset = pd.read_csv(url)\n",
    "\n",
    "dataset.head()\n",
    "# years = [\"1952\", \"1962\", \"1967\", \"1972\", \"1977\", \"1982\", \"1987\", \"1992\", \"1997\", \"2002\",\n",
    "#          \"2007\"]\n",
    "\n",
    "# # make list of continents\n",
    "# continents = []\n",
    "# for continent in dataset[\"continent\"]:\n",
    "#     if continent not in continents:\n",
    "#         continents.append(continent)\n",
    "# # make figure\n",
    "# fig_dict = {\n",
    "#     \"data\": [],\n",
    "#     \"layout\": {},\n",
    "#     \"frames\": []\n",
    "# }\n",
    "\n",
    "# # fill in most of layout\n",
    "# fig_dict[\"layout\"][\"xaxis\"] = {\"range\": [30, 85], \"title\": \"Life Expectancy\"}\n",
    "# fig_dict[\"layout\"][\"yaxis\"] = {\"title\": \"GDP per Capita\", \"type\": \"log\"}\n",
    "# fig_dict[\"layout\"][\"hovermode\"] = \"closest\"\n",
    "# fig_dict[\"layout\"][\"sliders\"] = {\n",
    "#     \"args\": [\n",
    "#         \"transition\", {\n",
    "#             \"duration\": 400,\n",
    "#             \"easing\": \"cubic-in-out\"\n",
    "#         }\n",
    "#     ],\n",
    "#     \"initialValue\": \"1952\",\n",
    "#     \"plotlycommand\": \"animate\",\n",
    "#     \"values\": years,\n",
    "#     \"visible\": True\n",
    "# }\n",
    "# fig_dict[\"layout\"][\"updatemenus\"] = [\n",
    "#     {\n",
    "#         \"buttons\": [\n",
    "#             {\n",
    "#                 \"args\": [None, {\"frame\": {\"duration\": 500, \"redraw\": False},\n",
    "#                                 \"fromcurrent\": True, \"transition\": {\"duration\": 300,\n",
    "#                                                                     \"easing\": \"quadratic-in-out\"}}],\n",
    "#                 \"label\": \"Play\",\n",
    "#                 \"method\": \"animate\"\n",
    "#             },\n",
    "#             {\n",
    "#                 \"args\": [[None], {\"frame\": {\"duration\": 0, \"redraw\": False},\n",
    "#                                   \"mode\": \"immediate\",\n",
    "#                                   \"transition\": {\"duration\": 0}}],\n",
    "#                 \"label\": \"Pause\",\n",
    "#                 \"method\": \"animate\"\n",
    "#             }\n",
    "#         ],\n",
    "#         \"direction\": \"left\",\n",
    "#         \"pad\": {\"r\": 10, \"t\": 87},\n",
    "#         \"showactive\": False,\n",
    "#         \"type\": \"buttons\",\n",
    "#         \"x\": 0.1,\n",
    "#         \"xanchor\": \"right\",\n",
    "#         \"y\": 0,\n",
    "#         \"yanchor\": \"top\"\n",
    "#     }\n",
    "# ]\n",
    "\n",
    "# sliders_dict = {\n",
    "#     \"active\": 0,\n",
    "#     \"yanchor\": \"top\",\n",
    "#     \"xanchor\": \"left\",\n",
    "#     \"currentvalue\": {\n",
    "#         \"font\": {\"size\": 20},\n",
    "#         \"prefix\": \"Year:\",\n",
    "#         \"visible\": True,\n",
    "#         \"xanchor\": \"right\"\n",
    "#     },\n",
    "#     \"transition\": {\"duration\": 300, \"easing\": \"cubic-in-out\"},\n",
    "#     \"pad\": {\"b\": 10, \"t\": 50},\n",
    "#     \"len\": 0.9,\n",
    "#     \"x\": 0.1,\n",
    "#     \"y\": 0,\n",
    "#     \"steps\": []\n",
    "# }\n",
    "\n",
    "# # make data\n",
    "# year = 1952\n",
    "# for continent in continents:\n",
    "#     dataset_by_year = dataset[dataset[\"year\"] == year]\n",
    "#     dataset_by_year_and_cont = dataset_by_year[\n",
    "#         dataset_by_year[\"continent\"] == continent]\n",
    "\n",
    "#     data_dict = {\n",
    "#         \"x\": list(dataset_by_year_and_cont[\"lifeExp\"]),\n",
    "#         \"y\": list(dataset_by_year_and_cont[\"gdpPercap\"]),\n",
    "#         \"mode\": \"markers\",\n",
    "#         \"text\": list(dataset_by_year_and_cont[\"country\"]),\n",
    "#         \"marker\": {\n",
    "#             \"sizemode\": \"area\",\n",
    "#             \"sizeref\": 200000,\n",
    "#             \"size\": list(dataset_by_year_and_cont[\"pop\"])\n",
    "#         },\n",
    "#         \"name\": continent\n",
    "#     }\n",
    "#     fig_dict[\"data\"].append(data_dict)\n",
    "\n",
    "# # make frames\n",
    "# for year in years:\n",
    "#     frame = {\"data\": [], \"name\": str(year)}\n",
    "#     for continent in continents:\n",
    "#         dataset_by_year = dataset[dataset[\"year\"] == int(year)]\n",
    "#         dataset_by_year_and_cont = dataset_by_year[\n",
    "#             dataset_by_year[\"continent\"] == continent]\n",
    "\n",
    "#         data_dict = {\n",
    "#             \"x\": list(dataset_by_year_and_cont[\"lifeExp\"]),\n",
    "#             \"y\": list(dataset_by_year_and_cont[\"gdpPercap\"]),\n",
    "#             \"mode\": \"markers\",\n",
    "#             \"text\": list(dataset_by_year_and_cont[\"country\"]),\n",
    "#             \"marker\": {\n",
    "#                 \"sizemode\": \"area\",\n",
    "#                 \"sizeref\": 200000,\n",
    "#                 \"size\": list(dataset_by_year_and_cont[\"pop\"])\n",
    "#             },\n",
    "#             \"name\": continent\n",
    "#         }\n",
    "#         frame[\"data\"].append(data_dict)\n",
    "\n",
    "#     fig_dict[\"frames\"].append(frame)\n",
    "#     slider_step = {\"args\": [\n",
    "#         [year],\n",
    "#         {\"frame\": {\"duration\": 300, \"redraw\": False},\n",
    "#          \"mode\": \"immediate\",\n",
    "#          \"transition\": {\"duration\": 300}}\n",
    "#     ],\n",
    "#         \"label\": year,\n",
    "#         \"method\": \"animate\"}\n",
    "#     sliders_dict[\"steps\"].append(slider_step)\n",
    "\n",
    "\n",
    "# fig_dict[\"layout\"][\"sliders\"] = [sliders_dict]\n",
    "\n",
    "# fig = go.Figure(fig_dict)\n",
    "\n",
    "# fig.show()"
   ]
  },
  {
   "cell_type": "code",
   "execution_count": null,
   "metadata": {},
   "outputs": [],
   "source": []
  }
 ],
 "metadata": {
  "kernelspec": {
   "display_name": "Python 3",
   "language": "python",
   "name": "python3"
  },
  "language_info": {
   "codemirror_mode": {
    "name": "ipython",
    "version": 3
   },
   "file_extension": ".py",
   "mimetype": "text/x-python",
   "name": "python",
   "nbconvert_exporter": "python",
   "pygments_lexer": "ipython3",
   "version": "3.7.3"
  }
 },
 "nbformat": 4,
 "nbformat_minor": 2
}
