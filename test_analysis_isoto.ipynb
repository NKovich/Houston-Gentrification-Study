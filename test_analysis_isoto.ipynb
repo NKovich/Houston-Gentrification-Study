{
 "cells": [
  {
   "cell_type": "code",
   "execution_count": 1,
   "metadata": {},
   "outputs": [],
   "source": [
    "import warnings\n",
    "warnings.filterwarnings('ignore')"
   ]
  },
  {
   "cell_type": "code",
   "execution_count": 63,
   "metadata": {},
   "outputs": [],
   "source": [
    "#import dependencies\n",
    "import numpy as np\n",
    "import pandas as pd\n",
    "import matplotlib.pyplot as plt\n",
    "import scipy.stats as stats\n",
    "import seaborn as sns \n",
    "import plotly.express as px"
   ]
  },
  {
   "cell_type": "code",
   "execution_count": 55,
   "metadata": {},
   "outputs": [
    {
     "data": {
      "text/html": [
       "<div>\n",
       "<style scoped>\n",
       "    .dataframe tbody tr th:only-of-type {\n",
       "        vertical-align: middle;\n",
       "    }\n",
       "\n",
       "    .dataframe tbody tr th {\n",
       "        vertical-align: top;\n",
       "    }\n",
       "\n",
       "    .dataframe thead th {\n",
       "        text-align: right;\n",
       "    }\n",
       "</style>\n",
       "<table border=\"1\" class=\"dataframe\">\n",
       "  <thead>\n",
       "    <tr style=\"text-align: right;\">\n",
       "      <th></th>\n",
       "      <th>Unnamed: 0</th>\n",
       "      <th>Name</th>\n",
       "      <th>Year</th>\n",
       "      <th>Household Income</th>\n",
       "      <th>Population</th>\n",
       "      <th>Median Age</th>\n",
       "      <th>Per Capita Income</th>\n",
       "      <th>Poverty Count</th>\n",
       "      <th>Count Hisp/Latino</th>\n",
       "      <th>Counb Black/AfAm</th>\n",
       "      <th>Count AmIndian</th>\n",
       "      <th>Count Asian</th>\n",
       "      <th>Count White</th>\n",
       "      <th>Count Other Race</th>\n",
       "      <th>Zipcode</th>\n",
       "    </tr>\n",
       "  </thead>\n",
       "  <tbody>\n",
       "    <tr>\n",
       "      <th>0</th>\n",
       "      <td>0</td>\n",
       "      <td>ZCTA5 77002</td>\n",
       "      <td>2012</td>\n",
       "      <td>57165.0</td>\n",
       "      <td>11473.0</td>\n",
       "      <td>31.8</td>\n",
       "      <td>32514.0</td>\n",
       "      <td>813.0</td>\n",
       "      <td>3175.0</td>\n",
       "      <td>4002.0</td>\n",
       "      <td>6.0</td>\n",
       "      <td>232.0</td>\n",
       "      <td>4018.0</td>\n",
       "      <td>0.0</td>\n",
       "      <td>77002</td>\n",
       "    </tr>\n",
       "    <tr>\n",
       "      <th>1</th>\n",
       "      <td>1</td>\n",
       "      <td>ZCTA5 77003</td>\n",
       "      <td>2012</td>\n",
       "      <td>37664.0</td>\n",
       "      <td>10215.0</td>\n",
       "      <td>32.9</td>\n",
       "      <td>27248.0</td>\n",
       "      <td>3868.0</td>\n",
       "      <td>5351.0</td>\n",
       "      <td>2063.0</td>\n",
       "      <td>0.0</td>\n",
       "      <td>443.0</td>\n",
       "      <td>2318.0</td>\n",
       "      <td>26.0</td>\n",
       "      <td>77003</td>\n",
       "    </tr>\n",
       "    <tr>\n",
       "      <th>2</th>\n",
       "      <td>2</td>\n",
       "      <td>ZCTA5 77004</td>\n",
       "      <td>2012</td>\n",
       "      <td>39804.0</td>\n",
       "      <td>29853.0</td>\n",
       "      <td>31.6</td>\n",
       "      <td>29787.0</td>\n",
       "      <td>6957.0</td>\n",
       "      <td>3358.0</td>\n",
       "      <td>16520.0</td>\n",
       "      <td>10.0</td>\n",
       "      <td>2149.0</td>\n",
       "      <td>7198.0</td>\n",
       "      <td>120.0</td>\n",
       "      <td>77004</td>\n",
       "    </tr>\n",
       "    <tr>\n",
       "      <th>3</th>\n",
       "      <td>3</td>\n",
       "      <td>ZCTA5 77005</td>\n",
       "      <td>2012</td>\n",
       "      <td>153041.0</td>\n",
       "      <td>25740.0</td>\n",
       "      <td>38.5</td>\n",
       "      <td>88579.0</td>\n",
       "      <td>635.0</td>\n",
       "      <td>2076.0</td>\n",
       "      <td>746.0</td>\n",
       "      <td>25.0</td>\n",
       "      <td>2484.0</td>\n",
       "      <td>19856.0</td>\n",
       "      <td>60.0</td>\n",
       "      <td>77005</td>\n",
       "    </tr>\n",
       "    <tr>\n",
       "      <th>4</th>\n",
       "      <td>4</td>\n",
       "      <td>ZCTA5 77006</td>\n",
       "      <td>2012</td>\n",
       "      <td>63360.0</td>\n",
       "      <td>19856.0</td>\n",
       "      <td>36.9</td>\n",
       "      <td>60795.0</td>\n",
       "      <td>2647.0</td>\n",
       "      <td>3816.0</td>\n",
       "      <td>695.0</td>\n",
       "      <td>38.0</td>\n",
       "      <td>1127.0</td>\n",
       "      <td>13874.0</td>\n",
       "      <td>66.0</td>\n",
       "      <td>77006</td>\n",
       "    </tr>\n",
       "  </tbody>\n",
       "</table>\n",
       "</div>"
      ],
      "text/plain": [
       "   Unnamed: 0         Name  Year  Household Income  Population  Median Age  \\\n",
       "0           0  ZCTA5 77002  2012           57165.0     11473.0        31.8   \n",
       "1           1  ZCTA5 77003  2012           37664.0     10215.0        32.9   \n",
       "2           2  ZCTA5 77004  2012           39804.0     29853.0        31.6   \n",
       "3           3  ZCTA5 77005  2012          153041.0     25740.0        38.5   \n",
       "4           4  ZCTA5 77006  2012           63360.0     19856.0        36.9   \n",
       "\n",
       "   Per Capita Income  Poverty Count  Count Hisp/Latino  Counb Black/AfAm  \\\n",
       "0            32514.0          813.0             3175.0            4002.0   \n",
       "1            27248.0         3868.0             5351.0            2063.0   \n",
       "2            29787.0         6957.0             3358.0           16520.0   \n",
       "3            88579.0          635.0             2076.0             746.0   \n",
       "4            60795.0         2647.0             3816.0             695.0   \n",
       "\n",
       "   Count AmIndian  Count Asian  Count White  Count Other Race  Zipcode  \n",
       "0             6.0        232.0       4018.0               0.0    77002  \n",
       "1             0.0        443.0       2318.0              26.0    77003  \n",
       "2            10.0       2149.0       7198.0             120.0    77004  \n",
       "3            25.0       2484.0      19856.0              60.0    77005  \n",
       "4            38.0       1127.0      13874.0              66.0    77006  "
      ]
     },
     "execution_count": 55,
     "metadata": {},
     "output_type": "execute_result"
    }
   ],
   "source": [
    "#bring in CSV \n",
    "census_df = pd.read_csv(\"census_df_isoto-Copy1.csv\")\n",
    "census_df.head()\n"
   ]
  },
  {
   "cell_type": "code",
   "execution_count": 4,
   "metadata": {},
   "outputs": [
    {
     "data": {
      "text/plain": [
       "False"
      ]
     },
     "execution_count": 4,
     "metadata": {},
     "output_type": "execute_result"
    }
   ],
   "source": [
    "#see if there are null values in data\n",
    "census_df.isnull().values.any()"
   ]
  },
  {
   "cell_type": "code",
   "execution_count": 5,
   "metadata": {},
   "outputs": [
    {
     "data": {
      "text/html": [
       "<div>\n",
       "<style scoped>\n",
       "    .dataframe tbody tr th:only-of-type {\n",
       "        vertical-align: middle;\n",
       "    }\n",
       "\n",
       "    .dataframe tbody tr th {\n",
       "        vertical-align: top;\n",
       "    }\n",
       "\n",
       "    .dataframe thead th {\n",
       "        text-align: right;\n",
       "    }\n",
       "</style>\n",
       "<table border=\"1\" class=\"dataframe\">\n",
       "  <thead>\n",
       "    <tr style=\"text-align: right;\">\n",
       "      <th></th>\n",
       "      <th>Unnamed: 0</th>\n",
       "      <th>Name</th>\n",
       "      <th>Year</th>\n",
       "      <th>Household Income</th>\n",
       "      <th>Population</th>\n",
       "      <th>Median Age</th>\n",
       "      <th>Per Capita Income</th>\n",
       "      <th>Poverty Count</th>\n",
       "      <th>Count Hisp/Latino</th>\n",
       "      <th>Counb Black/AfAm</th>\n",
       "      <th>Count AmIndian</th>\n",
       "      <th>Count Asian</th>\n",
       "      <th>Count White</th>\n",
       "      <th>Count Other Race</th>\n",
       "      <th>Zipcode</th>\n",
       "    </tr>\n",
       "  </thead>\n",
       "  <tbody>\n",
       "    <tr>\n",
       "      <th>0</th>\n",
       "      <td>0</td>\n",
       "      <td>ZCTA5 77002</td>\n",
       "      <td>2012</td>\n",
       "      <td>57165.0</td>\n",
       "      <td>11473.0</td>\n",
       "      <td>31.8</td>\n",
       "      <td>32514.0</td>\n",
       "      <td>813.0</td>\n",
       "      <td>3175.0</td>\n",
       "      <td>4002.0</td>\n",
       "      <td>6.0</td>\n",
       "      <td>232.0</td>\n",
       "      <td>4018.0</td>\n",
       "      <td>0.0</td>\n",
       "      <td>77002</td>\n",
       "    </tr>\n",
       "    <tr>\n",
       "      <th>1</th>\n",
       "      <td>1</td>\n",
       "      <td>ZCTA5 77003</td>\n",
       "      <td>2012</td>\n",
       "      <td>37664.0</td>\n",
       "      <td>10215.0</td>\n",
       "      <td>32.9</td>\n",
       "      <td>27248.0</td>\n",
       "      <td>3868.0</td>\n",
       "      <td>5351.0</td>\n",
       "      <td>2063.0</td>\n",
       "      <td>0.0</td>\n",
       "      <td>443.0</td>\n",
       "      <td>2318.0</td>\n",
       "      <td>26.0</td>\n",
       "      <td>77003</td>\n",
       "    </tr>\n",
       "    <tr>\n",
       "      <th>2</th>\n",
       "      <td>2</td>\n",
       "      <td>ZCTA5 77004</td>\n",
       "      <td>2012</td>\n",
       "      <td>39804.0</td>\n",
       "      <td>29853.0</td>\n",
       "      <td>31.6</td>\n",
       "      <td>29787.0</td>\n",
       "      <td>6957.0</td>\n",
       "      <td>3358.0</td>\n",
       "      <td>16520.0</td>\n",
       "      <td>10.0</td>\n",
       "      <td>2149.0</td>\n",
       "      <td>7198.0</td>\n",
       "      <td>120.0</td>\n",
       "      <td>77004</td>\n",
       "    </tr>\n",
       "    <tr>\n",
       "      <th>3</th>\n",
       "      <td>3</td>\n",
       "      <td>ZCTA5 77005</td>\n",
       "      <td>2012</td>\n",
       "      <td>153041.0</td>\n",
       "      <td>25740.0</td>\n",
       "      <td>38.5</td>\n",
       "      <td>88579.0</td>\n",
       "      <td>635.0</td>\n",
       "      <td>2076.0</td>\n",
       "      <td>746.0</td>\n",
       "      <td>25.0</td>\n",
       "      <td>2484.0</td>\n",
       "      <td>19856.0</td>\n",
       "      <td>60.0</td>\n",
       "      <td>77005</td>\n",
       "    </tr>\n",
       "    <tr>\n",
       "      <th>4</th>\n",
       "      <td>4</td>\n",
       "      <td>ZCTA5 77006</td>\n",
       "      <td>2012</td>\n",
       "      <td>63360.0</td>\n",
       "      <td>19856.0</td>\n",
       "      <td>36.9</td>\n",
       "      <td>60795.0</td>\n",
       "      <td>2647.0</td>\n",
       "      <td>3816.0</td>\n",
       "      <td>695.0</td>\n",
       "      <td>38.0</td>\n",
       "      <td>1127.0</td>\n",
       "      <td>13874.0</td>\n",
       "      <td>66.0</td>\n",
       "      <td>77006</td>\n",
       "    </tr>\n",
       "  </tbody>\n",
       "</table>\n",
       "</div>"
      ],
      "text/plain": [
       "   Unnamed: 0         Name  Year  Household Income  Population  Median Age  \\\n",
       "0           0  ZCTA5 77002  2012           57165.0     11473.0        31.8   \n",
       "1           1  ZCTA5 77003  2012           37664.0     10215.0        32.9   \n",
       "2           2  ZCTA5 77004  2012           39804.0     29853.0        31.6   \n",
       "3           3  ZCTA5 77005  2012          153041.0     25740.0        38.5   \n",
       "4           4  ZCTA5 77006  2012           63360.0     19856.0        36.9   \n",
       "\n",
       "   Per Capita Income  Poverty Count  Count Hisp/Latino  Counb Black/AfAm  \\\n",
       "0            32514.0          813.0             3175.0            4002.0   \n",
       "1            27248.0         3868.0             5351.0            2063.0   \n",
       "2            29787.0         6957.0             3358.0           16520.0   \n",
       "3            88579.0          635.0             2076.0             746.0   \n",
       "4            60795.0         2647.0             3816.0             695.0   \n",
       "\n",
       "   Count AmIndian  Count Asian  Count White  Count Other Race  Zipcode  \n",
       "0             6.0        232.0       4018.0               0.0    77002  \n",
       "1             0.0        443.0       2318.0              26.0    77003  \n",
       "2            10.0       2149.0       7198.0             120.0    77004  \n",
       "3            25.0       2484.0      19856.0              60.0    77005  \n",
       "4            38.0       1127.0      13874.0              66.0    77006  "
      ]
     },
     "execution_count": 5,
     "metadata": {},
     "output_type": "execute_result"
    }
   ],
   "source": [
    "#do an ANOVA test! look at zip codes, and the household income changes per race\n",
    "\n",
    "#want to look at differences etween group means, the groups being years and changes of race and income in those zips\n",
    "#split up data into years\n",
    "yr2012 = census_df[census_df[\"Year\"] ==2012]\n",
    "# yr2013 = census_df[census_df[\"Year\"]==2013]\n",
    "# yr2014 = census_df[census_df[\"Year\"] ==2014]\n",
    "# yr2015 = census_df[census_df[\"Year\"]==2015]\n",
    "# yr2016 = census_df[census_df[\"Year\"]==2016]\n",
    "# yr2017 = census_df[census_df[\"Year\"]==2017]\n",
    "\n",
    "df_test = yr2012.groupby([\"Zipcode\"])\n",
    "hisp_lat_count = df_test[\"Count Hisp/Latino\"].sum()\n",
    "af_am_count = df_test[\"Counb Black/AfAm\"].sum()\n",
    "\n",
    "\n",
    "# group2 = census_pd[census_pd[\"Zipcode\"]== \"77003\"][\"Counb Black/AfAm\"]\n",
    "# group3 = census_pd[census_pd[\"Zipcode\"]== \"77030\"][\"Counb Black/AfAm\"]\n",
    "\n",
    "#df=yr2012.pivot_table(df,index='Count Hisp/Latino',columns='platform',values='count')\n",
    "\n",
    "yr2012.head()"
   ]
  },
  {
   "cell_type": "code",
   "execution_count": 6,
   "metadata": {},
   "outputs": [
    {
     "data": {
      "text/html": [
       "<div>\n",
       "<style scoped>\n",
       "    .dataframe tbody tr th:only-of-type {\n",
       "        vertical-align: middle;\n",
       "    }\n",
       "\n",
       "    .dataframe tbody tr th {\n",
       "        vertical-align: top;\n",
       "    }\n",
       "\n",
       "    .dataframe thead th {\n",
       "        text-align: right;\n",
       "    }\n",
       "</style>\n",
       "<table border=\"1\" class=\"dataframe\">\n",
       "  <thead>\n",
       "    <tr style=\"text-align: right;\">\n",
       "      <th></th>\n",
       "      <th>Zipcode</th>\n",
       "      <th>Year</th>\n",
       "      <th>Household Income</th>\n",
       "      <th>Population</th>\n",
       "      <th>Median Age</th>\n",
       "      <th>Per Capita Income</th>\n",
       "      <th>Poverty Count</th>\n",
       "      <th>Race</th>\n",
       "      <th>Race Count</th>\n",
       "    </tr>\n",
       "  </thead>\n",
       "  <tbody>\n",
       "    <tr>\n",
       "      <th>0</th>\n",
       "      <td>77002</td>\n",
       "      <td>2012</td>\n",
       "      <td>57165.0</td>\n",
       "      <td>11473.0</td>\n",
       "      <td>31.8</td>\n",
       "      <td>32514.0</td>\n",
       "      <td>813.0</td>\n",
       "      <td>Count Hisp/Latino</td>\n",
       "      <td>3175.0</td>\n",
       "    </tr>\n",
       "    <tr>\n",
       "      <th>1</th>\n",
       "      <td>77002</td>\n",
       "      <td>2012</td>\n",
       "      <td>57165.0</td>\n",
       "      <td>11473.0</td>\n",
       "      <td>31.8</td>\n",
       "      <td>32514.0</td>\n",
       "      <td>813.0</td>\n",
       "      <td>Counb Black/AfAm</td>\n",
       "      <td>4002.0</td>\n",
       "    </tr>\n",
       "    <tr>\n",
       "      <th>2</th>\n",
       "      <td>77002</td>\n",
       "      <td>2012</td>\n",
       "      <td>57165.0</td>\n",
       "      <td>11473.0</td>\n",
       "      <td>31.8</td>\n",
       "      <td>32514.0</td>\n",
       "      <td>813.0</td>\n",
       "      <td>Count AmIndian</td>\n",
       "      <td>6.0</td>\n",
       "    </tr>\n",
       "    <tr>\n",
       "      <th>3</th>\n",
       "      <td>77002</td>\n",
       "      <td>2012</td>\n",
       "      <td>57165.0</td>\n",
       "      <td>11473.0</td>\n",
       "      <td>31.8</td>\n",
       "      <td>32514.0</td>\n",
       "      <td>813.0</td>\n",
       "      <td>Count Asian</td>\n",
       "      <td>232.0</td>\n",
       "    </tr>\n",
       "    <tr>\n",
       "      <th>4</th>\n",
       "      <td>77002</td>\n",
       "      <td>2012</td>\n",
       "      <td>57165.0</td>\n",
       "      <td>11473.0</td>\n",
       "      <td>31.8</td>\n",
       "      <td>32514.0</td>\n",
       "      <td>813.0</td>\n",
       "      <td>Count White</td>\n",
       "      <td>4018.0</td>\n",
       "    </tr>\n",
       "  </tbody>\n",
       "</table>\n",
       "</div>"
      ],
      "text/plain": [
       "   Zipcode  Year  Household Income  Population  Median Age  Per Capita Income  \\\n",
       "0    77002  2012           57165.0     11473.0        31.8            32514.0   \n",
       "1    77002  2012           57165.0     11473.0        31.8            32514.0   \n",
       "2    77002  2012           57165.0     11473.0        31.8            32514.0   \n",
       "3    77002  2012           57165.0     11473.0        31.8            32514.0   \n",
       "4    77002  2012           57165.0     11473.0        31.8            32514.0   \n",
       "\n",
       "   Poverty Count               Race  Race Count  \n",
       "0          813.0  Count Hisp/Latino      3175.0  \n",
       "1          813.0   Counb Black/AfAm      4002.0  \n",
       "2          813.0     Count AmIndian         6.0  \n",
       "3          813.0        Count Asian       232.0  \n",
       "4          813.0        Count White      4018.0  "
      ]
     },
     "execution_count": 6,
     "metadata": {},
     "output_type": "execute_result"
    }
   ],
   "source": [
    "# drop unnamed and name columns \n",
    "data = census_df[['Zipcode', 'Year',\n",
    "            'Count Hisp/Latino',\n",
    "            'Counb Black/AfAm', \n",
    "             'Count AmIndian', \n",
    "             'Count Asian', \n",
    "             'Count White',\n",
    "            'Count Other Race','Household Income', 'Population', 'Median Age',\n",
    "            'Per Capita Income', 'Poverty Count', ]]\n",
    "\n",
    "# MELT the data\n",
    "melted_df = data.melt(id_vars=['Zipcode','Year', 'Household Income', \n",
    "                               'Population','Median Age',\n",
    "                               'Per Capita Income', 'Poverty Count'], var_name='Race', value_name='Race Count')\n",
    "\n",
    "# sort it back by zipcode and Year \n",
    "final_df = melted_df.sort_values(['Zipcode', 'Year'], ascending=[True, True])\n",
    "# reset index\n",
    "final_df = final_df.reset_index(drop=True)\n",
    "\n",
    "# print first five rows\n",
    "final_df.head()\n"
   ]
  },
  {
   "cell_type": "code",
   "execution_count": 40,
   "metadata": {},
   "outputs": [
    {
     "data": {
      "text/html": [
       "<div>\n",
       "<style scoped>\n",
       "    .dataframe tbody tr th:only-of-type {\n",
       "        vertical-align: middle;\n",
       "    }\n",
       "\n",
       "    .dataframe tbody tr th {\n",
       "        vertical-align: top;\n",
       "    }\n",
       "\n",
       "    .dataframe thead th {\n",
       "        text-align: right;\n",
       "    }\n",
       "</style>\n",
       "<table border=\"1\" class=\"dataframe\">\n",
       "  <thead>\n",
       "    <tr style=\"text-align: right;\">\n",
       "      <th></th>\n",
       "      <th>Zipcode</th>\n",
       "      <th>Year</th>\n",
       "      <th>Household Income</th>\n",
       "      <th>Population</th>\n",
       "      <th>Median Age</th>\n",
       "      <th>Per Capita Income</th>\n",
       "      <th>Poverty Count</th>\n",
       "      <th>Race</th>\n",
       "      <th>Race Count</th>\n",
       "    </tr>\n",
       "  </thead>\n",
       "  <tbody>\n",
       "    <tr>\n",
       "      <th>216</th>\n",
       "      <td>77008</td>\n",
       "      <td>2012</td>\n",
       "      <td>65457.0</td>\n",
       "      <td>29424.0</td>\n",
       "      <td>37.1</td>\n",
       "      <td>47859.0</td>\n",
       "      <td>3018.0</td>\n",
       "      <td>Count Hisp/Latino</td>\n",
       "      <td>9830.0</td>\n",
       "    </tr>\n",
       "    <tr>\n",
       "      <th>217</th>\n",
       "      <td>77008</td>\n",
       "      <td>2012</td>\n",
       "      <td>65457.0</td>\n",
       "      <td>29424.0</td>\n",
       "      <td>37.1</td>\n",
       "      <td>47859.0</td>\n",
       "      <td>3018.0</td>\n",
       "      <td>Counb Black/AfAm</td>\n",
       "      <td>1022.0</td>\n",
       "    </tr>\n",
       "    <tr>\n",
       "      <th>218</th>\n",
       "      <td>77008</td>\n",
       "      <td>2012</td>\n",
       "      <td>65457.0</td>\n",
       "      <td>29424.0</td>\n",
       "      <td>37.1</td>\n",
       "      <td>47859.0</td>\n",
       "      <td>3018.0</td>\n",
       "      <td>Count AmIndian</td>\n",
       "      <td>66.0</td>\n",
       "    </tr>\n",
       "    <tr>\n",
       "      <th>219</th>\n",
       "      <td>77008</td>\n",
       "      <td>2012</td>\n",
       "      <td>65457.0</td>\n",
       "      <td>29424.0</td>\n",
       "      <td>37.1</td>\n",
       "      <td>47859.0</td>\n",
       "      <td>3018.0</td>\n",
       "      <td>Count Asian</td>\n",
       "      <td>1109.0</td>\n",
       "    </tr>\n",
       "    <tr>\n",
       "      <th>220</th>\n",
       "      <td>77008</td>\n",
       "      <td>2012</td>\n",
       "      <td>65457.0</td>\n",
       "      <td>29424.0</td>\n",
       "      <td>37.1</td>\n",
       "      <td>47859.0</td>\n",
       "      <td>3018.0</td>\n",
       "      <td>Count White</td>\n",
       "      <td>16924.0</td>\n",
       "    </tr>\n",
       "    <tr>\n",
       "      <th>221</th>\n",
       "      <td>77008</td>\n",
       "      <td>2012</td>\n",
       "      <td>65457.0</td>\n",
       "      <td>29424.0</td>\n",
       "      <td>37.1</td>\n",
       "      <td>47859.0</td>\n",
       "      <td>3018.0</td>\n",
       "      <td>Count Other Race</td>\n",
       "      <td>30.0</td>\n",
       "    </tr>\n",
       "    <tr>\n",
       "      <th>222</th>\n",
       "      <td>77008</td>\n",
       "      <td>2013</td>\n",
       "      <td>70293.0</td>\n",
       "      <td>30807.0</td>\n",
       "      <td>35.9</td>\n",
       "      <td>52350.0</td>\n",
       "      <td>2811.0</td>\n",
       "      <td>Count Hisp/Latino</td>\n",
       "      <td>10171.0</td>\n",
       "    </tr>\n",
       "    <tr>\n",
       "      <th>223</th>\n",
       "      <td>77008</td>\n",
       "      <td>2013</td>\n",
       "      <td>70293.0</td>\n",
       "      <td>30807.0</td>\n",
       "      <td>35.9</td>\n",
       "      <td>52350.0</td>\n",
       "      <td>2811.0</td>\n",
       "      <td>Counb Black/AfAm</td>\n",
       "      <td>1181.0</td>\n",
       "    </tr>\n",
       "    <tr>\n",
       "      <th>224</th>\n",
       "      <td>77008</td>\n",
       "      <td>2013</td>\n",
       "      <td>70293.0</td>\n",
       "      <td>30807.0</td>\n",
       "      <td>35.9</td>\n",
       "      <td>52350.0</td>\n",
       "      <td>2811.0</td>\n",
       "      <td>Count AmIndian</td>\n",
       "      <td>92.0</td>\n",
       "    </tr>\n",
       "    <tr>\n",
       "      <th>225</th>\n",
       "      <td>77008</td>\n",
       "      <td>2013</td>\n",
       "      <td>70293.0</td>\n",
       "      <td>30807.0</td>\n",
       "      <td>35.9</td>\n",
       "      <td>52350.0</td>\n",
       "      <td>2811.0</td>\n",
       "      <td>Count Asian</td>\n",
       "      <td>1258.0</td>\n",
       "    </tr>\n",
       "    <tr>\n",
       "      <th>226</th>\n",
       "      <td>77008</td>\n",
       "      <td>2013</td>\n",
       "      <td>70293.0</td>\n",
       "      <td>30807.0</td>\n",
       "      <td>35.9</td>\n",
       "      <td>52350.0</td>\n",
       "      <td>2811.0</td>\n",
       "      <td>Count White</td>\n",
       "      <td>17534.0</td>\n",
       "    </tr>\n",
       "    <tr>\n",
       "      <th>227</th>\n",
       "      <td>77008</td>\n",
       "      <td>2013</td>\n",
       "      <td>70293.0</td>\n",
       "      <td>30807.0</td>\n",
       "      <td>35.9</td>\n",
       "      <td>52350.0</td>\n",
       "      <td>2811.0</td>\n",
       "      <td>Count Other Race</td>\n",
       "      <td>23.0</td>\n",
       "    </tr>\n",
       "    <tr>\n",
       "      <th>228</th>\n",
       "      <td>77008</td>\n",
       "      <td>2014</td>\n",
       "      <td>77512.0</td>\n",
       "      <td>31418.0</td>\n",
       "      <td>35.5</td>\n",
       "      <td>53951.0</td>\n",
       "      <td>2860.0</td>\n",
       "      <td>Count Hisp/Latino</td>\n",
       "      <td>10338.0</td>\n",
       "    </tr>\n",
       "    <tr>\n",
       "      <th>229</th>\n",
       "      <td>77008</td>\n",
       "      <td>2014</td>\n",
       "      <td>77512.0</td>\n",
       "      <td>31418.0</td>\n",
       "      <td>35.5</td>\n",
       "      <td>53951.0</td>\n",
       "      <td>2860.0</td>\n",
       "      <td>Counb Black/AfAm</td>\n",
       "      <td>1087.0</td>\n",
       "    </tr>\n",
       "    <tr>\n",
       "      <th>230</th>\n",
       "      <td>77008</td>\n",
       "      <td>2014</td>\n",
       "      <td>77512.0</td>\n",
       "      <td>31418.0</td>\n",
       "      <td>35.5</td>\n",
       "      <td>53951.0</td>\n",
       "      <td>2860.0</td>\n",
       "      <td>Count AmIndian</td>\n",
       "      <td>109.0</td>\n",
       "    </tr>\n",
       "    <tr>\n",
       "      <th>231</th>\n",
       "      <td>77008</td>\n",
       "      <td>2014</td>\n",
       "      <td>77512.0</td>\n",
       "      <td>31418.0</td>\n",
       "      <td>35.5</td>\n",
       "      <td>53951.0</td>\n",
       "      <td>2860.0</td>\n",
       "      <td>Count Asian</td>\n",
       "      <td>1272.0</td>\n",
       "    </tr>\n",
       "    <tr>\n",
       "      <th>232</th>\n",
       "      <td>77008</td>\n",
       "      <td>2014</td>\n",
       "      <td>77512.0</td>\n",
       "      <td>31418.0</td>\n",
       "      <td>35.5</td>\n",
       "      <td>53951.0</td>\n",
       "      <td>2860.0</td>\n",
       "      <td>Count White</td>\n",
       "      <td>17955.0</td>\n",
       "    </tr>\n",
       "    <tr>\n",
       "      <th>233</th>\n",
       "      <td>77008</td>\n",
       "      <td>2014</td>\n",
       "      <td>77512.0</td>\n",
       "      <td>31418.0</td>\n",
       "      <td>35.5</td>\n",
       "      <td>53951.0</td>\n",
       "      <td>2860.0</td>\n",
       "      <td>Count Other Race</td>\n",
       "      <td>27.0</td>\n",
       "    </tr>\n",
       "    <tr>\n",
       "      <th>234</th>\n",
       "      <td>77008</td>\n",
       "      <td>2015</td>\n",
       "      <td>82058.0</td>\n",
       "      <td>31868.0</td>\n",
       "      <td>35.5</td>\n",
       "      <td>57264.0</td>\n",
       "      <td>2792.0</td>\n",
       "      <td>Count Hisp/Latino</td>\n",
       "      <td>9663.0</td>\n",
       "    </tr>\n",
       "    <tr>\n",
       "      <th>235</th>\n",
       "      <td>77008</td>\n",
       "      <td>2015</td>\n",
       "      <td>82058.0</td>\n",
       "      <td>31868.0</td>\n",
       "      <td>35.5</td>\n",
       "      <td>57264.0</td>\n",
       "      <td>2792.0</td>\n",
       "      <td>Counb Black/AfAm</td>\n",
       "      <td>962.0</td>\n",
       "    </tr>\n",
       "    <tr>\n",
       "      <th>236</th>\n",
       "      <td>77008</td>\n",
       "      <td>2015</td>\n",
       "      <td>82058.0</td>\n",
       "      <td>31868.0</td>\n",
       "      <td>35.5</td>\n",
       "      <td>57264.0</td>\n",
       "      <td>2792.0</td>\n",
       "      <td>Count AmIndian</td>\n",
       "      <td>132.0</td>\n",
       "    </tr>\n",
       "    <tr>\n",
       "      <th>237</th>\n",
       "      <td>77008</td>\n",
       "      <td>2015</td>\n",
       "      <td>82058.0</td>\n",
       "      <td>31868.0</td>\n",
       "      <td>35.5</td>\n",
       "      <td>57264.0</td>\n",
       "      <td>2792.0</td>\n",
       "      <td>Count Asian</td>\n",
       "      <td>1447.0</td>\n",
       "    </tr>\n",
       "    <tr>\n",
       "      <th>238</th>\n",
       "      <td>77008</td>\n",
       "      <td>2015</td>\n",
       "      <td>82058.0</td>\n",
       "      <td>31868.0</td>\n",
       "      <td>35.5</td>\n",
       "      <td>57264.0</td>\n",
       "      <td>2792.0</td>\n",
       "      <td>Count White</td>\n",
       "      <td>18972.0</td>\n",
       "    </tr>\n",
       "    <tr>\n",
       "      <th>239</th>\n",
       "      <td>77008</td>\n",
       "      <td>2015</td>\n",
       "      <td>82058.0</td>\n",
       "      <td>31868.0</td>\n",
       "      <td>35.5</td>\n",
       "      <td>57264.0</td>\n",
       "      <td>2792.0</td>\n",
       "      <td>Count Other Race</td>\n",
       "      <td>24.0</td>\n",
       "    </tr>\n",
       "    <tr>\n",
       "      <th>240</th>\n",
       "      <td>77008</td>\n",
       "      <td>2016</td>\n",
       "      <td>88248.0</td>\n",
       "      <td>32588.0</td>\n",
       "      <td>35.5</td>\n",
       "      <td>60908.0</td>\n",
       "      <td>2299.0</td>\n",
       "      <td>Count Hisp/Latino</td>\n",
       "      <td>9044.0</td>\n",
       "    </tr>\n",
       "    <tr>\n",
       "      <th>241</th>\n",
       "      <td>77008</td>\n",
       "      <td>2016</td>\n",
       "      <td>88248.0</td>\n",
       "      <td>32588.0</td>\n",
       "      <td>35.5</td>\n",
       "      <td>60908.0</td>\n",
       "      <td>2299.0</td>\n",
       "      <td>Counb Black/AfAm</td>\n",
       "      <td>883.0</td>\n",
       "    </tr>\n",
       "    <tr>\n",
       "      <th>242</th>\n",
       "      <td>77008</td>\n",
       "      <td>2016</td>\n",
       "      <td>88248.0</td>\n",
       "      <td>32588.0</td>\n",
       "      <td>35.5</td>\n",
       "      <td>60908.0</td>\n",
       "      <td>2299.0</td>\n",
       "      <td>Count AmIndian</td>\n",
       "      <td>15.0</td>\n",
       "    </tr>\n",
       "    <tr>\n",
       "      <th>243</th>\n",
       "      <td>77008</td>\n",
       "      <td>2016</td>\n",
       "      <td>88248.0</td>\n",
       "      <td>32588.0</td>\n",
       "      <td>35.5</td>\n",
       "      <td>60908.0</td>\n",
       "      <td>2299.0</td>\n",
       "      <td>Count Asian</td>\n",
       "      <td>1627.0</td>\n",
       "    </tr>\n",
       "    <tr>\n",
       "      <th>244</th>\n",
       "      <td>77008</td>\n",
       "      <td>2016</td>\n",
       "      <td>88248.0</td>\n",
       "      <td>32588.0</td>\n",
       "      <td>35.5</td>\n",
       "      <td>60908.0</td>\n",
       "      <td>2299.0</td>\n",
       "      <td>Count White</td>\n",
       "      <td>20440.0</td>\n",
       "    </tr>\n",
       "    <tr>\n",
       "      <th>245</th>\n",
       "      <td>77008</td>\n",
       "      <td>2016</td>\n",
       "      <td>88248.0</td>\n",
       "      <td>32588.0</td>\n",
       "      <td>35.5</td>\n",
       "      <td>60908.0</td>\n",
       "      <td>2299.0</td>\n",
       "      <td>Count Other Race</td>\n",
       "      <td>26.0</td>\n",
       "    </tr>\n",
       "    <tr>\n",
       "      <th>246</th>\n",
       "      <td>77008</td>\n",
       "      <td>2017</td>\n",
       "      <td>97690.0</td>\n",
       "      <td>34491.0</td>\n",
       "      <td>34.9</td>\n",
       "      <td>65444.0</td>\n",
       "      <td>2053.0</td>\n",
       "      <td>Count Hisp/Latino</td>\n",
       "      <td>9621.0</td>\n",
       "    </tr>\n",
       "    <tr>\n",
       "      <th>247</th>\n",
       "      <td>77008</td>\n",
       "      <td>2017</td>\n",
       "      <td>97690.0</td>\n",
       "      <td>34491.0</td>\n",
       "      <td>34.9</td>\n",
       "      <td>65444.0</td>\n",
       "      <td>2053.0</td>\n",
       "      <td>Counb Black/AfAm</td>\n",
       "      <td>1022.0</td>\n",
       "    </tr>\n",
       "    <tr>\n",
       "      <th>248</th>\n",
       "      <td>77008</td>\n",
       "      <td>2017</td>\n",
       "      <td>97690.0</td>\n",
       "      <td>34491.0</td>\n",
       "      <td>34.9</td>\n",
       "      <td>65444.0</td>\n",
       "      <td>2053.0</td>\n",
       "      <td>Count AmIndian</td>\n",
       "      <td>20.0</td>\n",
       "    </tr>\n",
       "    <tr>\n",
       "      <th>249</th>\n",
       "      <td>77008</td>\n",
       "      <td>2017</td>\n",
       "      <td>97690.0</td>\n",
       "      <td>34491.0</td>\n",
       "      <td>34.9</td>\n",
       "      <td>65444.0</td>\n",
       "      <td>2053.0</td>\n",
       "      <td>Count Asian</td>\n",
       "      <td>1985.0</td>\n",
       "    </tr>\n",
       "    <tr>\n",
       "      <th>250</th>\n",
       "      <td>77008</td>\n",
       "      <td>2017</td>\n",
       "      <td>97690.0</td>\n",
       "      <td>34491.0</td>\n",
       "      <td>34.9</td>\n",
       "      <td>65444.0</td>\n",
       "      <td>2053.0</td>\n",
       "      <td>Count White</td>\n",
       "      <td>21182.0</td>\n",
       "    </tr>\n",
       "    <tr>\n",
       "      <th>251</th>\n",
       "      <td>77008</td>\n",
       "      <td>2017</td>\n",
       "      <td>97690.0</td>\n",
       "      <td>34491.0</td>\n",
       "      <td>34.9</td>\n",
       "      <td>65444.0</td>\n",
       "      <td>2053.0</td>\n",
       "      <td>Count Other Race</td>\n",
       "      <td>18.0</td>\n",
       "    </tr>\n",
       "  </tbody>\n",
       "</table>\n",
       "</div>"
      ],
      "text/plain": [
       "     Zipcode  Year  Household Income  Population  Median Age  \\\n",
       "216    77008  2012           65457.0     29424.0        37.1   \n",
       "217    77008  2012           65457.0     29424.0        37.1   \n",
       "218    77008  2012           65457.0     29424.0        37.1   \n",
       "219    77008  2012           65457.0     29424.0        37.1   \n",
       "220    77008  2012           65457.0     29424.0        37.1   \n",
       "221    77008  2012           65457.0     29424.0        37.1   \n",
       "222    77008  2013           70293.0     30807.0        35.9   \n",
       "223    77008  2013           70293.0     30807.0        35.9   \n",
       "224    77008  2013           70293.0     30807.0        35.9   \n",
       "225    77008  2013           70293.0     30807.0        35.9   \n",
       "226    77008  2013           70293.0     30807.0        35.9   \n",
       "227    77008  2013           70293.0     30807.0        35.9   \n",
       "228    77008  2014           77512.0     31418.0        35.5   \n",
       "229    77008  2014           77512.0     31418.0        35.5   \n",
       "230    77008  2014           77512.0     31418.0        35.5   \n",
       "231    77008  2014           77512.0     31418.0        35.5   \n",
       "232    77008  2014           77512.0     31418.0        35.5   \n",
       "233    77008  2014           77512.0     31418.0        35.5   \n",
       "234    77008  2015           82058.0     31868.0        35.5   \n",
       "235    77008  2015           82058.0     31868.0        35.5   \n",
       "236    77008  2015           82058.0     31868.0        35.5   \n",
       "237    77008  2015           82058.0     31868.0        35.5   \n",
       "238    77008  2015           82058.0     31868.0        35.5   \n",
       "239    77008  2015           82058.0     31868.0        35.5   \n",
       "240    77008  2016           88248.0     32588.0        35.5   \n",
       "241    77008  2016           88248.0     32588.0        35.5   \n",
       "242    77008  2016           88248.0     32588.0        35.5   \n",
       "243    77008  2016           88248.0     32588.0        35.5   \n",
       "244    77008  2016           88248.0     32588.0        35.5   \n",
       "245    77008  2016           88248.0     32588.0        35.5   \n",
       "246    77008  2017           97690.0     34491.0        34.9   \n",
       "247    77008  2017           97690.0     34491.0        34.9   \n",
       "248    77008  2017           97690.0     34491.0        34.9   \n",
       "249    77008  2017           97690.0     34491.0        34.9   \n",
       "250    77008  2017           97690.0     34491.0        34.9   \n",
       "251    77008  2017           97690.0     34491.0        34.9   \n",
       "\n",
       "     Per Capita Income  Poverty Count               Race  Race Count  \n",
       "216            47859.0         3018.0  Count Hisp/Latino      9830.0  \n",
       "217            47859.0         3018.0   Counb Black/AfAm      1022.0  \n",
       "218            47859.0         3018.0     Count AmIndian        66.0  \n",
       "219            47859.0         3018.0        Count Asian      1109.0  \n",
       "220            47859.0         3018.0        Count White     16924.0  \n",
       "221            47859.0         3018.0   Count Other Race        30.0  \n",
       "222            52350.0         2811.0  Count Hisp/Latino     10171.0  \n",
       "223            52350.0         2811.0   Counb Black/AfAm      1181.0  \n",
       "224            52350.0         2811.0     Count AmIndian        92.0  \n",
       "225            52350.0         2811.0        Count Asian      1258.0  \n",
       "226            52350.0         2811.0        Count White     17534.0  \n",
       "227            52350.0         2811.0   Count Other Race        23.0  \n",
       "228            53951.0         2860.0  Count Hisp/Latino     10338.0  \n",
       "229            53951.0         2860.0   Counb Black/AfAm      1087.0  \n",
       "230            53951.0         2860.0     Count AmIndian       109.0  \n",
       "231            53951.0         2860.0        Count Asian      1272.0  \n",
       "232            53951.0         2860.0        Count White     17955.0  \n",
       "233            53951.0         2860.0   Count Other Race        27.0  \n",
       "234            57264.0         2792.0  Count Hisp/Latino      9663.0  \n",
       "235            57264.0         2792.0   Counb Black/AfAm       962.0  \n",
       "236            57264.0         2792.0     Count AmIndian       132.0  \n",
       "237            57264.0         2792.0        Count Asian      1447.0  \n",
       "238            57264.0         2792.0        Count White     18972.0  \n",
       "239            57264.0         2792.0   Count Other Race        24.0  \n",
       "240            60908.0         2299.0  Count Hisp/Latino      9044.0  \n",
       "241            60908.0         2299.0   Counb Black/AfAm       883.0  \n",
       "242            60908.0         2299.0     Count AmIndian        15.0  \n",
       "243            60908.0         2299.0        Count Asian      1627.0  \n",
       "244            60908.0         2299.0        Count White     20440.0  \n",
       "245            60908.0         2299.0   Count Other Race        26.0  \n",
       "246            65444.0         2053.0  Count Hisp/Latino      9621.0  \n",
       "247            65444.0         2053.0   Counb Black/AfAm      1022.0  \n",
       "248            65444.0         2053.0     Count AmIndian        20.0  \n",
       "249            65444.0         2053.0        Count Asian      1985.0  \n",
       "250            65444.0         2053.0        Count White     21182.0  \n",
       "251            65444.0         2053.0   Count Other Race        18.0  "
      ]
     },
     "execution_count": 40,
     "metadata": {},
     "output_type": "execute_result"
    }
   ],
   "source": [
    "#the three zip codes we want to look at\n",
    "zip_003 = final_df[final_df[\"Zipcode\"] ==77003]\n",
    "zip_007 = final_df[final_df[\"Zipcode\"]==77007]\n",
    "zip_008 = final_df[final_df[\"Zipcode\"]==77008]\n",
    "zip_026 = final_df[final_df[\"Zipcode\"]==77026]\n"
   ]
  },
  {
   "cell_type": "code",
   "execution_count": 35,
   "metadata": {},
   "outputs": [
    {
     "data": {
      "text/html": [
       "<div>\n",
       "<style scoped>\n",
       "    .dataframe tbody tr th:only-of-type {\n",
       "        vertical-align: middle;\n",
       "    }\n",
       "\n",
       "    .dataframe tbody tr th {\n",
       "        vertical-align: top;\n",
       "    }\n",
       "\n",
       "    .dataframe thead th {\n",
       "        text-align: right;\n",
       "    }\n",
       "</style>\n",
       "<table border=\"1\" class=\"dataframe\">\n",
       "  <thead>\n",
       "    <tr style=\"text-align: right;\">\n",
       "      <th></th>\n",
       "      <th>Zipcode</th>\n",
       "      <th>Year</th>\n",
       "      <th>Household Income</th>\n",
       "      <th>Population</th>\n",
       "      <th>Median Age</th>\n",
       "      <th>Per Capita Income</th>\n",
       "      <th>Poverty Count</th>\n",
       "      <th>Race</th>\n",
       "      <th>Race Count</th>\n",
       "    </tr>\n",
       "  </thead>\n",
       "  <tbody>\n",
       "    <tr>\n",
       "      <th>36</th>\n",
       "      <td>77003</td>\n",
       "      <td>2012</td>\n",
       "      <td>37664.0</td>\n",
       "      <td>10215.0</td>\n",
       "      <td>32.9</td>\n",
       "      <td>27248.0</td>\n",
       "      <td>3868.0</td>\n",
       "      <td>Count Hisp/Latino</td>\n",
       "      <td>5351.0</td>\n",
       "    </tr>\n",
       "    <tr>\n",
       "      <th>37</th>\n",
       "      <td>77003</td>\n",
       "      <td>2012</td>\n",
       "      <td>37664.0</td>\n",
       "      <td>10215.0</td>\n",
       "      <td>32.9</td>\n",
       "      <td>27248.0</td>\n",
       "      <td>3868.0</td>\n",
       "      <td>Counb Black/AfAm</td>\n",
       "      <td>2063.0</td>\n",
       "    </tr>\n",
       "    <tr>\n",
       "      <th>38</th>\n",
       "      <td>77003</td>\n",
       "      <td>2012</td>\n",
       "      <td>37664.0</td>\n",
       "      <td>10215.0</td>\n",
       "      <td>32.9</td>\n",
       "      <td>27248.0</td>\n",
       "      <td>3868.0</td>\n",
       "      <td>Count AmIndian</td>\n",
       "      <td>0.0</td>\n",
       "    </tr>\n",
       "    <tr>\n",
       "      <th>39</th>\n",
       "      <td>77003</td>\n",
       "      <td>2012</td>\n",
       "      <td>37664.0</td>\n",
       "      <td>10215.0</td>\n",
       "      <td>32.9</td>\n",
       "      <td>27248.0</td>\n",
       "      <td>3868.0</td>\n",
       "      <td>Count Asian</td>\n",
       "      <td>443.0</td>\n",
       "    </tr>\n",
       "    <tr>\n",
       "      <th>40</th>\n",
       "      <td>77003</td>\n",
       "      <td>2012</td>\n",
       "      <td>37664.0</td>\n",
       "      <td>10215.0</td>\n",
       "      <td>32.9</td>\n",
       "      <td>27248.0</td>\n",
       "      <td>3868.0</td>\n",
       "      <td>Count White</td>\n",
       "      <td>2318.0</td>\n",
       "    </tr>\n",
       "    <tr>\n",
       "      <th>41</th>\n",
       "      <td>77003</td>\n",
       "      <td>2012</td>\n",
       "      <td>37664.0</td>\n",
       "      <td>10215.0</td>\n",
       "      <td>32.9</td>\n",
       "      <td>27248.0</td>\n",
       "      <td>3868.0</td>\n",
       "      <td>Count Other Race</td>\n",
       "      <td>26.0</td>\n",
       "    </tr>\n",
       "    <tr>\n",
       "      <th>42</th>\n",
       "      <td>77003</td>\n",
       "      <td>2013</td>\n",
       "      <td>36412.0</td>\n",
       "      <td>10617.0</td>\n",
       "      <td>30.8</td>\n",
       "      <td>27263.0</td>\n",
       "      <td>4130.0</td>\n",
       "      <td>Count Hisp/Latino</td>\n",
       "      <td>5615.0</td>\n",
       "    </tr>\n",
       "    <tr>\n",
       "      <th>43</th>\n",
       "      <td>77003</td>\n",
       "      <td>2013</td>\n",
       "      <td>36412.0</td>\n",
       "      <td>10617.0</td>\n",
       "      <td>30.8</td>\n",
       "      <td>27263.0</td>\n",
       "      <td>4130.0</td>\n",
       "      <td>Counb Black/AfAm</td>\n",
       "      <td>1885.0</td>\n",
       "    </tr>\n",
       "    <tr>\n",
       "      <th>44</th>\n",
       "      <td>77003</td>\n",
       "      <td>2013</td>\n",
       "      <td>36412.0</td>\n",
       "      <td>10617.0</td>\n",
       "      <td>30.8</td>\n",
       "      <td>27263.0</td>\n",
       "      <td>4130.0</td>\n",
       "      <td>Count AmIndian</td>\n",
       "      <td>0.0</td>\n",
       "    </tr>\n",
       "    <tr>\n",
       "      <th>45</th>\n",
       "      <td>77003</td>\n",
       "      <td>2013</td>\n",
       "      <td>36412.0</td>\n",
       "      <td>10617.0</td>\n",
       "      <td>30.8</td>\n",
       "      <td>27263.0</td>\n",
       "      <td>4130.0</td>\n",
       "      <td>Count Asian</td>\n",
       "      <td>587.0</td>\n",
       "    </tr>\n",
       "    <tr>\n",
       "      <th>46</th>\n",
       "      <td>77003</td>\n",
       "      <td>2013</td>\n",
       "      <td>36412.0</td>\n",
       "      <td>10617.0</td>\n",
       "      <td>30.8</td>\n",
       "      <td>27263.0</td>\n",
       "      <td>4130.0</td>\n",
       "      <td>Count White</td>\n",
       "      <td>2479.0</td>\n",
       "    </tr>\n",
       "    <tr>\n",
       "      <th>47</th>\n",
       "      <td>77003</td>\n",
       "      <td>2013</td>\n",
       "      <td>36412.0</td>\n",
       "      <td>10617.0</td>\n",
       "      <td>30.8</td>\n",
       "      <td>27263.0</td>\n",
       "      <td>4130.0</td>\n",
       "      <td>Count Other Race</td>\n",
       "      <td>29.0</td>\n",
       "    </tr>\n",
       "    <tr>\n",
       "      <th>48</th>\n",
       "      <td>77003</td>\n",
       "      <td>2014</td>\n",
       "      <td>40647.0</td>\n",
       "      <td>10760.0</td>\n",
       "      <td>31.2</td>\n",
       "      <td>30724.0</td>\n",
       "      <td>4145.0</td>\n",
       "      <td>Count Hisp/Latino</td>\n",
       "      <td>5577.0</td>\n",
       "    </tr>\n",
       "    <tr>\n",
       "      <th>49</th>\n",
       "      <td>77003</td>\n",
       "      <td>2014</td>\n",
       "      <td>40647.0</td>\n",
       "      <td>10760.0</td>\n",
       "      <td>31.2</td>\n",
       "      <td>30724.0</td>\n",
       "      <td>4145.0</td>\n",
       "      <td>Counb Black/AfAm</td>\n",
       "      <td>2164.0</td>\n",
       "    </tr>\n",
       "    <tr>\n",
       "      <th>50</th>\n",
       "      <td>77003</td>\n",
       "      <td>2014</td>\n",
       "      <td>40647.0</td>\n",
       "      <td>10760.0</td>\n",
       "      <td>31.2</td>\n",
       "      <td>30724.0</td>\n",
       "      <td>4145.0</td>\n",
       "      <td>Count AmIndian</td>\n",
       "      <td>0.0</td>\n",
       "    </tr>\n",
       "    <tr>\n",
       "      <th>51</th>\n",
       "      <td>77003</td>\n",
       "      <td>2014</td>\n",
       "      <td>40647.0</td>\n",
       "      <td>10760.0</td>\n",
       "      <td>31.2</td>\n",
       "      <td>30724.0</td>\n",
       "      <td>4145.0</td>\n",
       "      <td>Count Asian</td>\n",
       "      <td>426.0</td>\n",
       "    </tr>\n",
       "    <tr>\n",
       "      <th>52</th>\n",
       "      <td>77003</td>\n",
       "      <td>2014</td>\n",
       "      <td>40647.0</td>\n",
       "      <td>10760.0</td>\n",
       "      <td>31.2</td>\n",
       "      <td>30724.0</td>\n",
       "      <td>4145.0</td>\n",
       "      <td>Count White</td>\n",
       "      <td>2477.0</td>\n",
       "    </tr>\n",
       "    <tr>\n",
       "      <th>53</th>\n",
       "      <td>77003</td>\n",
       "      <td>2014</td>\n",
       "      <td>40647.0</td>\n",
       "      <td>10760.0</td>\n",
       "      <td>31.2</td>\n",
       "      <td>30724.0</td>\n",
       "      <td>4145.0</td>\n",
       "      <td>Count Other Race</td>\n",
       "      <td>35.0</td>\n",
       "    </tr>\n",
       "    <tr>\n",
       "      <th>54</th>\n",
       "      <td>77003</td>\n",
       "      <td>2015</td>\n",
       "      <td>39039.0</td>\n",
       "      <td>10438.0</td>\n",
       "      <td>32.7</td>\n",
       "      <td>28746.0</td>\n",
       "      <td>3987.0</td>\n",
       "      <td>Count Hisp/Latino</td>\n",
       "      <td>5320.0</td>\n",
       "    </tr>\n",
       "    <tr>\n",
       "      <th>55</th>\n",
       "      <td>77003</td>\n",
       "      <td>2015</td>\n",
       "      <td>39039.0</td>\n",
       "      <td>10438.0</td>\n",
       "      <td>32.7</td>\n",
       "      <td>28746.0</td>\n",
       "      <td>3987.0</td>\n",
       "      <td>Counb Black/AfAm</td>\n",
       "      <td>2062.0</td>\n",
       "    </tr>\n",
       "    <tr>\n",
       "      <th>56</th>\n",
       "      <td>77003</td>\n",
       "      <td>2015</td>\n",
       "      <td>39039.0</td>\n",
       "      <td>10438.0</td>\n",
       "      <td>32.7</td>\n",
       "      <td>28746.0</td>\n",
       "      <td>3987.0</td>\n",
       "      <td>Count AmIndian</td>\n",
       "      <td>0.0</td>\n",
       "    </tr>\n",
       "    <tr>\n",
       "      <th>57</th>\n",
       "      <td>77003</td>\n",
       "      <td>2015</td>\n",
       "      <td>39039.0</td>\n",
       "      <td>10438.0</td>\n",
       "      <td>32.7</td>\n",
       "      <td>28746.0</td>\n",
       "      <td>3987.0</td>\n",
       "      <td>Count Asian</td>\n",
       "      <td>499.0</td>\n",
       "    </tr>\n",
       "    <tr>\n",
       "      <th>58</th>\n",
       "      <td>77003</td>\n",
       "      <td>2015</td>\n",
       "      <td>39039.0</td>\n",
       "      <td>10438.0</td>\n",
       "      <td>32.7</td>\n",
       "      <td>28746.0</td>\n",
       "      <td>3987.0</td>\n",
       "      <td>Count White</td>\n",
       "      <td>2378.0</td>\n",
       "    </tr>\n",
       "    <tr>\n",
       "      <th>59</th>\n",
       "      <td>77003</td>\n",
       "      <td>2015</td>\n",
       "      <td>39039.0</td>\n",
       "      <td>10438.0</td>\n",
       "      <td>32.7</td>\n",
       "      <td>28746.0</td>\n",
       "      <td>3987.0</td>\n",
       "      <td>Count Other Race</td>\n",
       "      <td>5.0</td>\n",
       "    </tr>\n",
       "    <tr>\n",
       "      <th>60</th>\n",
       "      <td>77003</td>\n",
       "      <td>2016</td>\n",
       "      <td>46267.0</td>\n",
       "      <td>10097.0</td>\n",
       "      <td>33.0</td>\n",
       "      <td>32771.0</td>\n",
       "      <td>3246.0</td>\n",
       "      <td>Count Hisp/Latino</td>\n",
       "      <td>5441.0</td>\n",
       "    </tr>\n",
       "    <tr>\n",
       "      <th>61</th>\n",
       "      <td>77003</td>\n",
       "      <td>2016</td>\n",
       "      <td>46267.0</td>\n",
       "      <td>10097.0</td>\n",
       "      <td>33.0</td>\n",
       "      <td>32771.0</td>\n",
       "      <td>3246.0</td>\n",
       "      <td>Counb Black/AfAm</td>\n",
       "      <td>1843.0</td>\n",
       "    </tr>\n",
       "    <tr>\n",
       "      <th>62</th>\n",
       "      <td>77003</td>\n",
       "      <td>2016</td>\n",
       "      <td>46267.0</td>\n",
       "      <td>10097.0</td>\n",
       "      <td>33.0</td>\n",
       "      <td>32771.0</td>\n",
       "      <td>3246.0</td>\n",
       "      <td>Count AmIndian</td>\n",
       "      <td>0.0</td>\n",
       "    </tr>\n",
       "    <tr>\n",
       "      <th>63</th>\n",
       "      <td>77003</td>\n",
       "      <td>2016</td>\n",
       "      <td>46267.0</td>\n",
       "      <td>10097.0</td>\n",
       "      <td>33.0</td>\n",
       "      <td>32771.0</td>\n",
       "      <td>3246.0</td>\n",
       "      <td>Count Asian</td>\n",
       "      <td>531.0</td>\n",
       "    </tr>\n",
       "    <tr>\n",
       "      <th>64</th>\n",
       "      <td>77003</td>\n",
       "      <td>2016</td>\n",
       "      <td>46267.0</td>\n",
       "      <td>10097.0</td>\n",
       "      <td>33.0</td>\n",
       "      <td>32771.0</td>\n",
       "      <td>3246.0</td>\n",
       "      <td>Count White</td>\n",
       "      <td>2079.0</td>\n",
       "    </tr>\n",
       "    <tr>\n",
       "      <th>65</th>\n",
       "      <td>77003</td>\n",
       "      <td>2016</td>\n",
       "      <td>46267.0</td>\n",
       "      <td>10097.0</td>\n",
       "      <td>33.0</td>\n",
       "      <td>32771.0</td>\n",
       "      <td>3246.0</td>\n",
       "      <td>Count Other Race</td>\n",
       "      <td>5.0</td>\n",
       "    </tr>\n",
       "    <tr>\n",
       "      <th>66</th>\n",
       "      <td>77003</td>\n",
       "      <td>2017</td>\n",
       "      <td>59575.0</td>\n",
       "      <td>9646.0</td>\n",
       "      <td>34.1</td>\n",
       "      <td>37760.0</td>\n",
       "      <td>2665.0</td>\n",
       "      <td>Count Hisp/Latino</td>\n",
       "      <td>4834.0</td>\n",
       "    </tr>\n",
       "    <tr>\n",
       "      <th>67</th>\n",
       "      <td>77003</td>\n",
       "      <td>2017</td>\n",
       "      <td>59575.0</td>\n",
       "      <td>9646.0</td>\n",
       "      <td>34.1</td>\n",
       "      <td>37760.0</td>\n",
       "      <td>2665.0</td>\n",
       "      <td>Counb Black/AfAm</td>\n",
       "      <td>2254.0</td>\n",
       "    </tr>\n",
       "    <tr>\n",
       "      <th>68</th>\n",
       "      <td>77003</td>\n",
       "      <td>2017</td>\n",
       "      <td>59575.0</td>\n",
       "      <td>9646.0</td>\n",
       "      <td>34.1</td>\n",
       "      <td>37760.0</td>\n",
       "      <td>2665.0</td>\n",
       "      <td>Count AmIndian</td>\n",
       "      <td>0.0</td>\n",
       "    </tr>\n",
       "    <tr>\n",
       "      <th>69</th>\n",
       "      <td>77003</td>\n",
       "      <td>2017</td>\n",
       "      <td>59575.0</td>\n",
       "      <td>9646.0</td>\n",
       "      <td>34.1</td>\n",
       "      <td>37760.0</td>\n",
       "      <td>2665.0</td>\n",
       "      <td>Count Asian</td>\n",
       "      <td>507.0</td>\n",
       "    </tr>\n",
       "    <tr>\n",
       "      <th>70</th>\n",
       "      <td>77003</td>\n",
       "      <td>2017</td>\n",
       "      <td>59575.0</td>\n",
       "      <td>9646.0</td>\n",
       "      <td>34.1</td>\n",
       "      <td>37760.0</td>\n",
       "      <td>2665.0</td>\n",
       "      <td>Count White</td>\n",
       "      <td>1807.0</td>\n",
       "    </tr>\n",
       "    <tr>\n",
       "      <th>71</th>\n",
       "      <td>77003</td>\n",
       "      <td>2017</td>\n",
       "      <td>59575.0</td>\n",
       "      <td>9646.0</td>\n",
       "      <td>34.1</td>\n",
       "      <td>37760.0</td>\n",
       "      <td>2665.0</td>\n",
       "      <td>Count Other Race</td>\n",
       "      <td>7.0</td>\n",
       "    </tr>\n",
       "  </tbody>\n",
       "</table>\n",
       "</div>"
      ],
      "text/plain": [
       "    Zipcode  Year  Household Income  Population  Median Age  \\\n",
       "36    77003  2012           37664.0     10215.0        32.9   \n",
       "37    77003  2012           37664.0     10215.0        32.9   \n",
       "38    77003  2012           37664.0     10215.0        32.9   \n",
       "39    77003  2012           37664.0     10215.0        32.9   \n",
       "40    77003  2012           37664.0     10215.0        32.9   \n",
       "41    77003  2012           37664.0     10215.0        32.9   \n",
       "42    77003  2013           36412.0     10617.0        30.8   \n",
       "43    77003  2013           36412.0     10617.0        30.8   \n",
       "44    77003  2013           36412.0     10617.0        30.8   \n",
       "45    77003  2013           36412.0     10617.0        30.8   \n",
       "46    77003  2013           36412.0     10617.0        30.8   \n",
       "47    77003  2013           36412.0     10617.0        30.8   \n",
       "48    77003  2014           40647.0     10760.0        31.2   \n",
       "49    77003  2014           40647.0     10760.0        31.2   \n",
       "50    77003  2014           40647.0     10760.0        31.2   \n",
       "51    77003  2014           40647.0     10760.0        31.2   \n",
       "52    77003  2014           40647.0     10760.0        31.2   \n",
       "53    77003  2014           40647.0     10760.0        31.2   \n",
       "54    77003  2015           39039.0     10438.0        32.7   \n",
       "55    77003  2015           39039.0     10438.0        32.7   \n",
       "56    77003  2015           39039.0     10438.0        32.7   \n",
       "57    77003  2015           39039.0     10438.0        32.7   \n",
       "58    77003  2015           39039.0     10438.0        32.7   \n",
       "59    77003  2015           39039.0     10438.0        32.7   \n",
       "60    77003  2016           46267.0     10097.0        33.0   \n",
       "61    77003  2016           46267.0     10097.0        33.0   \n",
       "62    77003  2016           46267.0     10097.0        33.0   \n",
       "63    77003  2016           46267.0     10097.0        33.0   \n",
       "64    77003  2016           46267.0     10097.0        33.0   \n",
       "65    77003  2016           46267.0     10097.0        33.0   \n",
       "66    77003  2017           59575.0      9646.0        34.1   \n",
       "67    77003  2017           59575.0      9646.0        34.1   \n",
       "68    77003  2017           59575.0      9646.0        34.1   \n",
       "69    77003  2017           59575.0      9646.0        34.1   \n",
       "70    77003  2017           59575.0      9646.0        34.1   \n",
       "71    77003  2017           59575.0      9646.0        34.1   \n",
       "\n",
       "    Per Capita Income  Poverty Count               Race  Race Count  \n",
       "36            27248.0         3868.0  Count Hisp/Latino      5351.0  \n",
       "37            27248.0         3868.0   Counb Black/AfAm      2063.0  \n",
       "38            27248.0         3868.0     Count AmIndian         0.0  \n",
       "39            27248.0         3868.0        Count Asian       443.0  \n",
       "40            27248.0         3868.0        Count White      2318.0  \n",
       "41            27248.0         3868.0   Count Other Race        26.0  \n",
       "42            27263.0         4130.0  Count Hisp/Latino      5615.0  \n",
       "43            27263.0         4130.0   Counb Black/AfAm      1885.0  \n",
       "44            27263.0         4130.0     Count AmIndian         0.0  \n",
       "45            27263.0         4130.0        Count Asian       587.0  \n",
       "46            27263.0         4130.0        Count White      2479.0  \n",
       "47            27263.0         4130.0   Count Other Race        29.0  \n",
       "48            30724.0         4145.0  Count Hisp/Latino      5577.0  \n",
       "49            30724.0         4145.0   Counb Black/AfAm      2164.0  \n",
       "50            30724.0         4145.0     Count AmIndian         0.0  \n",
       "51            30724.0         4145.0        Count Asian       426.0  \n",
       "52            30724.0         4145.0        Count White      2477.0  \n",
       "53            30724.0         4145.0   Count Other Race        35.0  \n",
       "54            28746.0         3987.0  Count Hisp/Latino      5320.0  \n",
       "55            28746.0         3987.0   Counb Black/AfAm      2062.0  \n",
       "56            28746.0         3987.0     Count AmIndian         0.0  \n",
       "57            28746.0         3987.0        Count Asian       499.0  \n",
       "58            28746.0         3987.0        Count White      2378.0  \n",
       "59            28746.0         3987.0   Count Other Race         5.0  \n",
       "60            32771.0         3246.0  Count Hisp/Latino      5441.0  \n",
       "61            32771.0         3246.0   Counb Black/AfAm      1843.0  \n",
       "62            32771.0         3246.0     Count AmIndian         0.0  \n",
       "63            32771.0         3246.0        Count Asian       531.0  \n",
       "64            32771.0         3246.0        Count White      2079.0  \n",
       "65            32771.0         3246.0   Count Other Race         5.0  \n",
       "66            37760.0         2665.0  Count Hisp/Latino      4834.0  \n",
       "67            37760.0         2665.0   Counb Black/AfAm      2254.0  \n",
       "68            37760.0         2665.0     Count AmIndian         0.0  \n",
       "69            37760.0         2665.0        Count Asian       507.0  \n",
       "70            37760.0         2665.0        Count White      1807.0  \n",
       "71            37760.0         2665.0   Count Other Race         7.0  "
      ]
     },
     "execution_count": 35,
     "metadata": {},
     "output_type": "execute_result"
    }
   ],
   "source": [
    "#zip per year\n",
    "zip003_yr2012 = zip_003[zip_003[\"Year\"]== 2012]\n",
    "zip003_yr2013 = zip_003[zip_003[\"Year\"]== 2013]\n",
    "zip003_yr2014 = zip_003[zip_003[\"Year\"]== 2014]\n",
    "zip003_yr2015 = zip_003[zip_003[\"Year\"]== 2015]\n",
    "zip003_yr2016 = zip_003[zip_003[\"Year\"]== 2016]\n",
    "zip003_yr2017 = zip_003[zip_003[\"Year\"]== 2017]\n",
    "# yr2013 = census_df[census_df[\"Year\"]==2013]\n",
    "# yr2014 = census_df[census_df[\"Year\"] ==2014]\n",
    "# yr2015 = census_df[census_df[\"Year\"]==2015]\n",
    "# yr2016 = census_df[census_df[\"Year\"]==2016]\n",
    "# yr2017 = census_df[census_df[\"Year\"]==2017]\n",
    "zip_003\n"
   ]
  },
  {
   "cell_type": "code",
   "execution_count": 9,
   "metadata": {},
   "outputs": [],
   "source": [
    "#analysis of group differences of a race within zip codes per year\n",
    "#EDO HISP LATINO PER YEAR DOESN'T WORK, ASK SATURDAY\n",
    "# test_group1 = zip003_yr2012[zip003_yr2012[\"Race\"] == \"Count Hisp/Latino\"][\"Household Income\"]\n",
    "# test_group2 = zip003_yr2013[zip003_yr2013[\"Race\"] == \"Count Hisp/Latino\"][\"Household Income\"]\n",
    "# test_group3 = zip003_yr2014[zip003_yr2014[\"Race\"] == \"Count Hisp/Latino\"][\"Household Income\"]\n",
    "# test_group4 = zip003_yr2015[zip003_yr2015[\"Race\"] == \"Count Hisp/Latino\"][\"Household Income\"]\n",
    "# test_group5 = zip003_yr2016[zip003_yr2016[\"Race\"] == \"Count Hisp/Latino\"][\"Household Income\"]\n",
    "# test_group6 = zip003_yr2017[zip003_yr2017[\"Race\"] == \"Count Hisp/Latino\"][\"Household Income\"]\n"
   ]
  },
  {
   "cell_type": "code",
   "execution_count": 10,
   "metadata": {},
   "outputs": [],
   "source": [
    "# stats.f_oneway(test_group1, test_group2, test_group3, test_group4, test_group5, test_group6)"
   ]
  },
  {
   "cell_type": "code",
   "execution_count": 11,
   "metadata": {},
   "outputs": [],
   "source": [
    "#Analysis of household income for race per zip 77003\n",
    "## won't work, because we don't have income for each race per zip\n",
    "\n",
    "# group1 = zip_003[zip_003[\"Race\"] == \"Count Hisp/Latino\"][\"Household Income\"]\n",
    "# group2 = zip_003[zip_003[\"Race\"] == \"Counb Black/AfAm\"][\"Household Income\"]\n",
    "# group3 = zip_003[zip_003[\"Race\"] == \"Count White\"][\"Household Income\"]\n",
    "# group4 = zip_003[zip_003[\"Race\"] == \"Count Asian\"][\"Household Income\"]\n",
    "# group5 = zip_003[zip_003[\"Race\"] == \"Count AmIndian\"][\"Household Income\"]\n",
    "# group6 = zip_003[zip_003[\"Race\"] == \"Count Other Race\"][\"Household Income\"]\n",
    "\n",
    "# #analysis of race per zip 77007\n",
    "# group1_007 = zip_007[zip_007[\"Race\"] == \"Count Hisp/Latino\"][\"Household Income\"]\n",
    "# group2_007 = zip_007[zip_007[\"Race\"] == \"Counb Black/AfAm\"][\"Household Income\"]\n",
    "# group3_007 = zip_007[zip_007[\"Race\"] == \"Count White\"][\"Household Income\"]\n",
    "# group4_007 = zip_007[zip_007[\"Race\"] == \"Count Asian\"][\"Household Income\"]\n",
    "# group5_007 = zip_007[zip_007[\"Race\"] == \"Count AmIndian\"][\"Household Income\"]\n",
    "# group6_007 = zip_007[zip_007[\"Race\"] == \"Count Other Race\"][\"Household Income\"]"
   ]
  },
  {
   "cell_type": "code",
   "execution_count": 12,
   "metadata": {},
   "outputs": [],
   "source": [
    "#analysis of group differences of a race within a zip 77003\n",
    "#why does p value equal nan?\n",
    "# ANOVA_003 = stats.f_oneway(group1, group2, group3, group4, group5, group6)\n",
    "# ANOVA_003"
   ]
  },
  {
   "cell_type": "code",
   "execution_count": 13,
   "metadata": {},
   "outputs": [],
   "source": [
    "# ANOVA_007 = stats.f_oneway(group1_007, group2_007, group3_007, group4_007, group5_007, group6_007)\n",
    "# ANOVA_007"
   ]
  },
  {
   "cell_type": "code",
   "execution_count": 21,
   "metadata": {},
   "outputs": [],
   "source": [
    "#analysis of vairance zip and population\n",
    "\n",
    "pop_003 = census_df[census_df[\"Zipcode\"]==77003][\"Population\"]\n",
    "pop_008 = census_df[census_df[\"Zipcode\"]==77008][\"Population\"]\n",
    "pop_007 = census_df[census_df[\"Zipcode\"]==77007][\"Population\"]\n",
    "pop_026 = census_df[census_df[\"Zipcode\"]==77026][\"Population\"]\n"
   ]
  },
  {
   "cell_type": "code",
   "execution_count": 62,
   "metadata": {},
   "outputs": [
    {
     "data": {
      "application/vnd.plotly.v1+json": {
       "config": {
        "plotlyServerURL": "https://plot.ly"
       },
       "data": [
        {
         "alignmentgroup": "True",
         "bingroup": "x",
         "hoverlabel": {
          "namelength": 0
         },
         "hovertemplate": "sex=Female<br>total_bill=%{x}<br>count of tip=%{y}",
         "legendgroup": "sex=Female",
         "marker": {
          "color": "#636efa"
         },
         "name": "sex=Female",
         "offsetgroup": "sex=Female",
         "orientation": "v",
         "showlegend": true,
         "type": "histogram",
         "x": [
          16.99,
          24.59,
          35.26,
          14.83,
          10.33,
          16.97,
          20.29,
          15.77,
          19.65,
          15.06,
          20.69,
          16.93,
          10.29,
          34.81,
          26.41,
          16.45,
          3.07,
          17.07,
          26.86,
          25.28,
          14.73,
          10.07,
          34.83,
          5.75,
          16.32,
          22.75,
          11.35,
          15.38,
          44.3,
          22.42,
          20.92,
          14.31,
          7.25,
          25.71,
          17.31,
          10.65,
          12.43,
          24.08,
          13.42,
          12.48,
          29.8,
          14.52,
          11.38,
          20.27,
          11.17,
          12.26,
          18.26,
          8.51,
          10.33,
          14.15,
          13.16,
          17.47,
          27.05,
          16.43,
          8.35,
          18.64,
          11.87,
          29.85,
          25,
          13.39,
          16.21,
          17.51,
          10.59,
          10.63,
          9.6,
          20.9,
          18.15,
          19.81,
          43.11,
          13,
          12.74,
          13,
          16.4,
          16.47,
          12.76,
          13.27,
          28.17,
          12.9,
          30.14,
          13.42,
          15.98,
          16.27,
          10.09,
          22.12,
          35.83,
          27.18,
          18.78
         ],
         "xaxis": "x",
         "y": [
          1.01,
          3.61,
          5,
          3.02,
          1.67,
          3.5,
          2.75,
          2.23,
          3,
          3,
          2.45,
          3.07,
          2.6,
          5.2,
          1.5,
          2.47,
          1,
          3,
          3.14,
          5,
          2.2,
          1.83,
          5.17,
          1,
          4.3,
          3.25,
          2.5,
          3,
          2.5,
          3.48,
          4.08,
          4,
          1,
          4,
          3.5,
          1.5,
          1.8,
          2.92,
          1.68,
          2.52,
          4.2,
          2,
          2,
          2.83,
          1.5,
          2,
          3.25,
          1.25,
          2,
          2,
          2.75,
          3.5,
          5,
          2.3,
          1.5,
          1.36,
          1.63,
          5.14,
          3.75,
          2.61,
          2,
          3,
          1.61,
          2,
          4,
          3.5,
          3.5,
          4.19,
          5,
          2,
          2.01,
          2,
          2.5,
          3.23,
          2.23,
          2.5,
          6.5,
          1.1,
          3.09,
          3.48,
          3,
          2.5,
          2,
          2.88,
          4.67,
          2,
          3
         ],
         "yaxis": "y"
        },
        {
         "alignmentgroup": "True",
         "bingroup": "x",
         "hoverlabel": {
          "namelength": 0
         },
         "hovertemplate": "sex=Male<br>total_bill=%{x}<br>count of tip=%{y}",
         "legendgroup": "sex=Male",
         "marker": {
          "color": "#EF553B"
         },
         "name": "sex=Male",
         "offsetgroup": "sex=Male",
         "orientation": "v",
         "showlegend": true,
         "type": "histogram",
         "x": [
          10.34,
          21.01,
          23.68,
          25.29,
          8.77,
          26.88,
          15.04,
          14.78,
          10.27,
          15.42,
          18.43,
          21.58,
          16.29,
          20.65,
          17.92,
          39.42,
          19.82,
          17.81,
          13.37,
          12.69,
          21.7,
          9.55,
          18.35,
          17.78,
          24.06,
          16.31,
          18.69,
          31.27,
          16.04,
          17.46,
          13.94,
          9.68,
          30.4,
          18.29,
          22.23,
          32.4,
          28.55,
          18.04,
          12.54,
          9.94,
          25.56,
          19.49,
          38.01,
          11.24,
          48.27,
          20.29,
          13.81,
          11.02,
          18.29,
          17.59,
          20.08,
          20.23,
          15.01,
          12.02,
          10.51,
          17.92,
          27.2,
          22.76,
          17.29,
          19.44,
          16.66,
          32.68,
          15.98,
          13.03,
          18.28,
          24.71,
          21.16,
          28.97,
          22.49,
          40.17,
          27.28,
          12.03,
          21.01,
          12.46,
          15.36,
          20.49,
          25.21,
          18.24,
          14,
          38.07,
          23.95,
          29.93,
          11.69,
          14.26,
          15.95,
          8.52,
          22.82,
          19.08,
          16,
          34.3,
          41.19,
          9.78,
          7.51,
          14.07,
          13.13,
          17.26,
          24.55,
          19.77,
          48.17,
          16.49,
          21.5,
          12.66,
          13.81,
          24.52,
          20.76,
          31.71,
          50.81,
          15.81,
          7.25,
          31.85,
          16.82,
          32.9,
          17.89,
          14.48,
          34.63,
          34.65,
          23.33,
          45.35,
          23.17,
          40.55,
          20.69,
          30.46,
          23.1,
          15.69,
          28.44,
          15.48,
          16.58,
          7.56,
          10.34,
          13.51,
          18.71,
          20.53,
          26.59,
          38.73,
          24.27,
          30.06,
          25.89,
          48.33,
          28.15,
          11.59,
          7.74,
          12.16,
          8.58,
          13.42,
          20.45,
          13.28,
          24.01,
          15.69,
          11.61,
          10.77,
          15.53,
          10.07,
          12.6,
          32.83,
          29.03,
          22.67,
          17.82
         ],
         "xaxis": "x",
         "y": [
          1.66,
          3.5,
          3.31,
          4.71,
          2,
          3.12,
          1.96,
          3.23,
          1.71,
          1.57,
          3,
          3.92,
          3.71,
          3.35,
          4.08,
          7.58,
          3.18,
          2.34,
          2,
          2,
          4.3,
          1.45,
          2.5,
          3.27,
          3.6,
          2,
          2.31,
          5,
          2.24,
          2.54,
          3.06,
          1.32,
          5.6,
          3,
          5,
          6,
          2.05,
          3,
          2.5,
          1.56,
          4.34,
          3.51,
          3,
          1.76,
          6.73,
          3.21,
          2,
          1.98,
          3.76,
          2.64,
          3.15,
          2.01,
          2.09,
          1.97,
          1.25,
          3.08,
          4,
          3,
          2.71,
          3,
          3.4,
          5,
          2.03,
          2,
          4,
          5.85,
          3,
          3,
          3.5,
          4.73,
          4,
          1.5,
          3,
          1.5,
          1.64,
          4.06,
          4.29,
          3.76,
          3,
          4,
          2.55,
          5.07,
          2.31,
          2.5,
          2,
          1.48,
          2.18,
          1.5,
          2,
          6.7,
          5,
          1.73,
          2,
          2.5,
          2,
          2.74,
          2,
          2,
          5,
          2,
          3.5,
          2.5,
          2,
          3.48,
          2.24,
          4.5,
          10,
          3.16,
          5.15,
          3.18,
          4,
          3.11,
          2,
          2,
          3.55,
          3.68,
          5.65,
          3.5,
          6.5,
          3,
          5,
          2,
          4,
          1.5,
          2.56,
          2.02,
          4,
          1.44,
          2,
          2,
          4,
          4,
          3.41,
          3,
          2.03,
          2,
          5.16,
          9,
          3,
          1.5,
          1.44,
          2.2,
          1.92,
          1.58,
          3,
          2.72,
          2,
          3,
          3.39,
          1.47,
          3,
          1.25,
          1,
          1.17,
          5.92,
          2,
          1.75
         ],
         "yaxis": "y"
        }
       ],
       "layout": {
        "barmode": "relative",
        "height": 600,
        "legend": {
         "tracegroupgap": 0
        },
        "margin": {
         "t": 60
        },
        "template": {
         "data": {
          "bar": [
           {
            "error_x": {
             "color": "#2a3f5f"
            },
            "error_y": {
             "color": "#2a3f5f"
            },
            "marker": {
             "line": {
              "color": "#E5ECF6",
              "width": 0.5
             }
            },
            "type": "bar"
           }
          ],
          "barpolar": [
           {
            "marker": {
             "line": {
              "color": "#E5ECF6",
              "width": 0.5
             }
            },
            "type": "barpolar"
           }
          ],
          "carpet": [
           {
            "aaxis": {
             "endlinecolor": "#2a3f5f",
             "gridcolor": "white",
             "linecolor": "white",
             "minorgridcolor": "white",
             "startlinecolor": "#2a3f5f"
            },
            "baxis": {
             "endlinecolor": "#2a3f5f",
             "gridcolor": "white",
             "linecolor": "white",
             "minorgridcolor": "white",
             "startlinecolor": "#2a3f5f"
            },
            "type": "carpet"
           }
          ],
          "choropleth": [
           {
            "colorbar": {
             "outlinewidth": 0,
             "ticks": ""
            },
            "type": "choropleth"
           }
          ],
          "contour": [
           {
            "colorbar": {
             "outlinewidth": 0,
             "ticks": ""
            },
            "colorscale": [
             [
              0,
              "#0d0887"
             ],
             [
              0.1111111111111111,
              "#46039f"
             ],
             [
              0.2222222222222222,
              "#7201a8"
             ],
             [
              0.3333333333333333,
              "#9c179e"
             ],
             [
              0.4444444444444444,
              "#bd3786"
             ],
             [
              0.5555555555555556,
              "#d8576b"
             ],
             [
              0.6666666666666666,
              "#ed7953"
             ],
             [
              0.7777777777777778,
              "#fb9f3a"
             ],
             [
              0.8888888888888888,
              "#fdca26"
             ],
             [
              1,
              "#f0f921"
             ]
            ],
            "type": "contour"
           }
          ],
          "contourcarpet": [
           {
            "colorbar": {
             "outlinewidth": 0,
             "ticks": ""
            },
            "type": "contourcarpet"
           }
          ],
          "heatmap": [
           {
            "colorbar": {
             "outlinewidth": 0,
             "ticks": ""
            },
            "colorscale": [
             [
              0,
              "#0d0887"
             ],
             [
              0.1111111111111111,
              "#46039f"
             ],
             [
              0.2222222222222222,
              "#7201a8"
             ],
             [
              0.3333333333333333,
              "#9c179e"
             ],
             [
              0.4444444444444444,
              "#bd3786"
             ],
             [
              0.5555555555555556,
              "#d8576b"
             ],
             [
              0.6666666666666666,
              "#ed7953"
             ],
             [
              0.7777777777777778,
              "#fb9f3a"
             ],
             [
              0.8888888888888888,
              "#fdca26"
             ],
             [
              1,
              "#f0f921"
             ]
            ],
            "type": "heatmap"
           }
          ],
          "heatmapgl": [
           {
            "colorbar": {
             "outlinewidth": 0,
             "ticks": ""
            },
            "colorscale": [
             [
              0,
              "#0d0887"
             ],
             [
              0.1111111111111111,
              "#46039f"
             ],
             [
              0.2222222222222222,
              "#7201a8"
             ],
             [
              0.3333333333333333,
              "#9c179e"
             ],
             [
              0.4444444444444444,
              "#bd3786"
             ],
             [
              0.5555555555555556,
              "#d8576b"
             ],
             [
              0.6666666666666666,
              "#ed7953"
             ],
             [
              0.7777777777777778,
              "#fb9f3a"
             ],
             [
              0.8888888888888888,
              "#fdca26"
             ],
             [
              1,
              "#f0f921"
             ]
            ],
            "type": "heatmapgl"
           }
          ],
          "histogram": [
           {
            "marker": {
             "colorbar": {
              "outlinewidth": 0,
              "ticks": ""
             }
            },
            "type": "histogram"
           }
          ],
          "histogram2d": [
           {
            "colorbar": {
             "outlinewidth": 0,
             "ticks": ""
            },
            "colorscale": [
             [
              0,
              "#0d0887"
             ],
             [
              0.1111111111111111,
              "#46039f"
             ],
             [
              0.2222222222222222,
              "#7201a8"
             ],
             [
              0.3333333333333333,
              "#9c179e"
             ],
             [
              0.4444444444444444,
              "#bd3786"
             ],
             [
              0.5555555555555556,
              "#d8576b"
             ],
             [
              0.6666666666666666,
              "#ed7953"
             ],
             [
              0.7777777777777778,
              "#fb9f3a"
             ],
             [
              0.8888888888888888,
              "#fdca26"
             ],
             [
              1,
              "#f0f921"
             ]
            ],
            "type": "histogram2d"
           }
          ],
          "histogram2dcontour": [
           {
            "colorbar": {
             "outlinewidth": 0,
             "ticks": ""
            },
            "colorscale": [
             [
              0,
              "#0d0887"
             ],
             [
              0.1111111111111111,
              "#46039f"
             ],
             [
              0.2222222222222222,
              "#7201a8"
             ],
             [
              0.3333333333333333,
              "#9c179e"
             ],
             [
              0.4444444444444444,
              "#bd3786"
             ],
             [
              0.5555555555555556,
              "#d8576b"
             ],
             [
              0.6666666666666666,
              "#ed7953"
             ],
             [
              0.7777777777777778,
              "#fb9f3a"
             ],
             [
              0.8888888888888888,
              "#fdca26"
             ],
             [
              1,
              "#f0f921"
             ]
            ],
            "type": "histogram2dcontour"
           }
          ],
          "mesh3d": [
           {
            "colorbar": {
             "outlinewidth": 0,
             "ticks": ""
            },
            "type": "mesh3d"
           }
          ],
          "parcoords": [
           {
            "line": {
             "colorbar": {
              "outlinewidth": 0,
              "ticks": ""
             }
            },
            "type": "parcoords"
           }
          ],
          "scatter": [
           {
            "marker": {
             "colorbar": {
              "outlinewidth": 0,
              "ticks": ""
             }
            },
            "type": "scatter"
           }
          ],
          "scatter3d": [
           {
            "line": {
             "colorbar": {
              "outlinewidth": 0,
              "ticks": ""
             }
            },
            "marker": {
             "colorbar": {
              "outlinewidth": 0,
              "ticks": ""
             }
            },
            "type": "scatter3d"
           }
          ],
          "scattercarpet": [
           {
            "marker": {
             "colorbar": {
              "outlinewidth": 0,
              "ticks": ""
             }
            },
            "type": "scattercarpet"
           }
          ],
          "scattergeo": [
           {
            "marker": {
             "colorbar": {
              "outlinewidth": 0,
              "ticks": ""
             }
            },
            "type": "scattergeo"
           }
          ],
          "scattergl": [
           {
            "marker": {
             "colorbar": {
              "outlinewidth": 0,
              "ticks": ""
             }
            },
            "type": "scattergl"
           }
          ],
          "scattermapbox": [
           {
            "marker": {
             "colorbar": {
              "outlinewidth": 0,
              "ticks": ""
             }
            },
            "type": "scattermapbox"
           }
          ],
          "scatterpolar": [
           {
            "marker": {
             "colorbar": {
              "outlinewidth": 0,
              "ticks": ""
             }
            },
            "type": "scatterpolar"
           }
          ],
          "scatterpolargl": [
           {
            "marker": {
             "colorbar": {
              "outlinewidth": 0,
              "ticks": ""
             }
            },
            "type": "scatterpolargl"
           }
          ],
          "scatterternary": [
           {
            "marker": {
             "colorbar": {
              "outlinewidth": 0,
              "ticks": ""
             }
            },
            "type": "scatterternary"
           }
          ],
          "surface": [
           {
            "colorbar": {
             "outlinewidth": 0,
             "ticks": ""
            },
            "colorscale": [
             [
              0,
              "#0d0887"
             ],
             [
              0.1111111111111111,
              "#46039f"
             ],
             [
              0.2222222222222222,
              "#7201a8"
             ],
             [
              0.3333333333333333,
              "#9c179e"
             ],
             [
              0.4444444444444444,
              "#bd3786"
             ],
             [
              0.5555555555555556,
              "#d8576b"
             ],
             [
              0.6666666666666666,
              "#ed7953"
             ],
             [
              0.7777777777777778,
              "#fb9f3a"
             ],
             [
              0.8888888888888888,
              "#fdca26"
             ],
             [
              1,
              "#f0f921"
             ]
            ],
            "type": "surface"
           }
          ],
          "table": [
           {
            "cells": {
             "fill": {
              "color": "#EBF0F8"
             },
             "line": {
              "color": "white"
             }
            },
            "header": {
             "fill": {
              "color": "#C8D4E3"
             },
             "line": {
              "color": "white"
             }
            },
            "type": "table"
           }
          ]
         },
         "layout": {
          "annotationdefaults": {
           "arrowcolor": "#2a3f5f",
           "arrowhead": 0,
           "arrowwidth": 1
          },
          "colorscale": {
           "diverging": [
            [
             0,
             "#8e0152"
            ],
            [
             0.1,
             "#c51b7d"
            ],
            [
             0.2,
             "#de77ae"
            ],
            [
             0.3,
             "#f1b6da"
            ],
            [
             0.4,
             "#fde0ef"
            ],
            [
             0.5,
             "#f7f7f7"
            ],
            [
             0.6,
             "#e6f5d0"
            ],
            [
             0.7,
             "#b8e186"
            ],
            [
             0.8,
             "#7fbc41"
            ],
            [
             0.9,
             "#4d9221"
            ],
            [
             1,
             "#276419"
            ]
           ],
           "sequential": [
            [
             0,
             "#0d0887"
            ],
            [
             0.1111111111111111,
             "#46039f"
            ],
            [
             0.2222222222222222,
             "#7201a8"
            ],
            [
             0.3333333333333333,
             "#9c179e"
            ],
            [
             0.4444444444444444,
             "#bd3786"
            ],
            [
             0.5555555555555556,
             "#d8576b"
            ],
            [
             0.6666666666666666,
             "#ed7953"
            ],
            [
             0.7777777777777778,
             "#fb9f3a"
            ],
            [
             0.8888888888888888,
             "#fdca26"
            ],
            [
             1,
             "#f0f921"
            ]
           ],
           "sequentialminus": [
            [
             0,
             "#0d0887"
            ],
            [
             0.1111111111111111,
             "#46039f"
            ],
            [
             0.2222222222222222,
             "#7201a8"
            ],
            [
             0.3333333333333333,
             "#9c179e"
            ],
            [
             0.4444444444444444,
             "#bd3786"
            ],
            [
             0.5555555555555556,
             "#d8576b"
            ],
            [
             0.6666666666666666,
             "#ed7953"
            ],
            [
             0.7777777777777778,
             "#fb9f3a"
            ],
            [
             0.8888888888888888,
             "#fdca26"
            ],
            [
             1,
             "#f0f921"
            ]
           ]
          },
          "colorway": [
           "#636efa",
           "#EF553B",
           "#00cc96",
           "#ab63fa",
           "#FFA15A",
           "#19d3f3",
           "#FF6692",
           "#B6E880",
           "#FF97FF",
           "#FECB52"
          ],
          "font": {
           "color": "#2a3f5f"
          },
          "geo": {
           "bgcolor": "white",
           "lakecolor": "white",
           "landcolor": "#E5ECF6",
           "showlakes": true,
           "showland": true,
           "subunitcolor": "white"
          },
          "hoverlabel": {
           "align": "left"
          },
          "hovermode": "closest",
          "mapbox": {
           "style": "light"
          },
          "paper_bgcolor": "white",
          "plot_bgcolor": "#E5ECF6",
          "polar": {
           "angularaxis": {
            "gridcolor": "white",
            "linecolor": "white",
            "ticks": ""
           },
           "bgcolor": "#E5ECF6",
           "radialaxis": {
            "gridcolor": "white",
            "linecolor": "white",
            "ticks": ""
           }
          },
          "scene": {
           "xaxis": {
            "backgroundcolor": "#E5ECF6",
            "gridcolor": "white",
            "gridwidth": 2,
            "linecolor": "white",
            "showbackground": true,
            "ticks": "",
            "zerolinecolor": "white"
           },
           "yaxis": {
            "backgroundcolor": "#E5ECF6",
            "gridcolor": "white",
            "gridwidth": 2,
            "linecolor": "white",
            "showbackground": true,
            "ticks": "",
            "zerolinecolor": "white"
           },
           "zaxis": {
            "backgroundcolor": "#E5ECF6",
            "gridcolor": "white",
            "gridwidth": 2,
            "linecolor": "white",
            "showbackground": true,
            "ticks": "",
            "zerolinecolor": "white"
           }
          },
          "shapedefaults": {
           "line": {
            "color": "#2a3f5f"
           }
          },
          "ternary": {
           "aaxis": {
            "gridcolor": "white",
            "linecolor": "white",
            "ticks": ""
           },
           "baxis": {
            "gridcolor": "white",
            "linecolor": "white",
            "ticks": ""
           },
           "bgcolor": "#E5ECF6",
           "caxis": {
            "gridcolor": "white",
            "linecolor": "white",
            "ticks": ""
           }
          },
          "title": {
           "x": 0.05
          },
          "xaxis": {
           "automargin": true,
           "gridcolor": "white",
           "linecolor": "white",
           "ticks": "",
           "zerolinecolor": "white",
           "zerolinewidth": 2
          },
          "yaxis": {
           "automargin": true,
           "gridcolor": "white",
           "linecolor": "white",
           "ticks": "",
           "zerolinecolor": "white",
           "zerolinewidth": 2
          }
         }
        },
        "xaxis": {
         "anchor": "y",
         "domain": [
          0,
          0.98
         ],
         "title": {
          "text": "total_bill"
         }
        },
        "yaxis": {
         "anchor": "x",
         "domain": [
          0,
          1
         ],
         "title": {
          "text": "count of tip"
         }
        }
       }
      },
      "text/html": [
       "<div>\n",
       "        \n",
       "        \n",
       "            <div id=\"2ef39897-962a-4a2b-8c2e-bb3f13c23de9\" class=\"plotly-graph-div\" style=\"height:600px; width:100%;\"></div>\n",
       "            <script type=\"text/javascript\">\n",
       "                require([\"plotly\"], function(Plotly) {\n",
       "                    window.PLOTLYENV=window.PLOTLYENV || {};\n",
       "                    \n",
       "                if (document.getElementById(\"2ef39897-962a-4a2b-8c2e-bb3f13c23de9\")) {\n",
       "                    Plotly.newPlot(\n",
       "                        '2ef39897-962a-4a2b-8c2e-bb3f13c23de9',\n",
       "                        [{\"alignmentgroup\": \"True\", \"bingroup\": \"x\", \"hoverlabel\": {\"namelength\": 0}, \"hovertemplate\": \"sex=Female<br>total_bill=%{x}<br>count of tip=%{y}\", \"legendgroup\": \"sex=Female\", \"marker\": {\"color\": \"#636efa\"}, \"name\": \"sex=Female\", \"offsetgroup\": \"sex=Female\", \"orientation\": \"v\", \"showlegend\": true, \"type\": \"histogram\", \"x\": [16.99, 24.59, 35.26, 14.83, 10.33, 16.97, 20.29, 15.77, 19.65, 15.06, 20.69, 16.93, 10.29, 34.81, 26.41, 16.45, 3.07, 17.07, 26.86, 25.28, 14.73, 10.07, 34.83, 5.75, 16.32, 22.75, 11.35, 15.38, 44.3, 22.42, 20.92, 14.31, 7.25, 25.71, 17.31, 10.65, 12.43, 24.08, 13.42, 12.48, 29.8, 14.52, 11.38, 20.27, 11.17, 12.26, 18.26, 8.51, 10.33, 14.15, 13.16, 17.47, 27.05, 16.43, 8.35, 18.64, 11.87, 29.85, 25.0, 13.39, 16.21, 17.51, 10.59, 10.63, 9.6, 20.9, 18.15, 19.81, 43.11, 13.0, 12.74, 13.0, 16.4, 16.47, 12.76, 13.27, 28.17, 12.9, 30.14, 13.42, 15.98, 16.27, 10.09, 22.12, 35.83, 27.18, 18.78], \"xaxis\": \"x\", \"y\": [1.01, 3.61, 5.0, 3.02, 1.67, 3.5, 2.75, 2.23, 3.0, 3.0, 2.45, 3.07, 2.6, 5.2, 1.5, 2.47, 1.0, 3.0, 3.14, 5.0, 2.2, 1.83, 5.17, 1.0, 4.3, 3.25, 2.5, 3.0, 2.5, 3.48, 4.08, 4.0, 1.0, 4.0, 3.5, 1.5, 1.8, 2.92, 1.68, 2.52, 4.2, 2.0, 2.0, 2.83, 1.5, 2.0, 3.25, 1.25, 2.0, 2.0, 2.75, 3.5, 5.0, 2.3, 1.5, 1.36, 1.63, 5.14, 3.75, 2.61, 2.0, 3.0, 1.61, 2.0, 4.0, 3.5, 3.5, 4.19, 5.0, 2.0, 2.01, 2.0, 2.5, 3.23, 2.23, 2.5, 6.5, 1.1, 3.09, 3.48, 3.0, 2.5, 2.0, 2.88, 4.67, 2.0, 3.0], \"yaxis\": \"y\"}, {\"alignmentgroup\": \"True\", \"bingroup\": \"x\", \"hoverlabel\": {\"namelength\": 0}, \"hovertemplate\": \"sex=Male<br>total_bill=%{x}<br>count of tip=%{y}\", \"legendgroup\": \"sex=Male\", \"marker\": {\"color\": \"#EF553B\"}, \"name\": \"sex=Male\", \"offsetgroup\": \"sex=Male\", \"orientation\": \"v\", \"showlegend\": true, \"type\": \"histogram\", \"x\": [10.34, 21.01, 23.68, 25.29, 8.77, 26.88, 15.04, 14.78, 10.27, 15.42, 18.43, 21.58, 16.29, 20.65, 17.92, 39.42, 19.82, 17.81, 13.37, 12.69, 21.7, 9.55, 18.35, 17.78, 24.06, 16.31, 18.69, 31.27, 16.04, 17.46, 13.94, 9.68, 30.4, 18.29, 22.23, 32.4, 28.55, 18.04, 12.54, 9.94, 25.56, 19.49, 38.01, 11.24, 48.27, 20.29, 13.81, 11.02, 18.29, 17.59, 20.08, 20.23, 15.01, 12.02, 10.51, 17.92, 27.2, 22.76, 17.29, 19.44, 16.66, 32.68, 15.98, 13.03, 18.28, 24.71, 21.16, 28.97, 22.49, 40.17, 27.28, 12.03, 21.01, 12.46, 15.36, 20.49, 25.21, 18.24, 14.0, 38.07, 23.95, 29.93, 11.69, 14.26, 15.95, 8.52, 22.82, 19.08, 16.0, 34.3, 41.19, 9.78, 7.51, 14.07, 13.13, 17.26, 24.55, 19.77, 48.17, 16.49, 21.5, 12.66, 13.81, 24.52, 20.76, 31.71, 50.81, 15.81, 7.25, 31.85, 16.82, 32.9, 17.89, 14.48, 34.63, 34.65, 23.33, 45.35, 23.17, 40.55, 20.69, 30.46, 23.1, 15.69, 28.44, 15.48, 16.58, 7.56, 10.34, 13.51, 18.71, 20.53, 26.59, 38.73, 24.27, 30.06, 25.89, 48.33, 28.15, 11.59, 7.74, 12.16, 8.58, 13.42, 20.45, 13.28, 24.01, 15.69, 11.61, 10.77, 15.53, 10.07, 12.6, 32.83, 29.03, 22.67, 17.82], \"xaxis\": \"x\", \"y\": [1.66, 3.5, 3.31, 4.71, 2.0, 3.12, 1.96, 3.23, 1.71, 1.57, 3.0, 3.92, 3.71, 3.35, 4.08, 7.58, 3.18, 2.34, 2.0, 2.0, 4.3, 1.45, 2.5, 3.27, 3.6, 2.0, 2.31, 5.0, 2.24, 2.54, 3.06, 1.32, 5.6, 3.0, 5.0, 6.0, 2.05, 3.0, 2.5, 1.56, 4.34, 3.51, 3.0, 1.76, 6.73, 3.21, 2.0, 1.98, 3.76, 2.64, 3.15, 2.01, 2.09, 1.97, 1.25, 3.08, 4.0, 3.0, 2.71, 3.0, 3.4, 5.0, 2.03, 2.0, 4.0, 5.85, 3.0, 3.0, 3.5, 4.73, 4.0, 1.5, 3.0, 1.5, 1.64, 4.06, 4.29, 3.76, 3.0, 4.0, 2.55, 5.07, 2.31, 2.5, 2.0, 1.48, 2.18, 1.5, 2.0, 6.7, 5.0, 1.73, 2.0, 2.5, 2.0, 2.74, 2.0, 2.0, 5.0, 2.0, 3.5, 2.5, 2.0, 3.48, 2.24, 4.5, 10.0, 3.16, 5.15, 3.18, 4.0, 3.11, 2.0, 2.0, 3.55, 3.68, 5.65, 3.5, 6.5, 3.0, 5.0, 2.0, 4.0, 1.5, 2.56, 2.02, 4.0, 1.44, 2.0, 2.0, 4.0, 4.0, 3.41, 3.0, 2.03, 2.0, 5.16, 9.0, 3.0, 1.5, 1.44, 2.2, 1.92, 1.58, 3.0, 2.72, 2.0, 3.0, 3.39, 1.47, 3.0, 1.25, 1.0, 1.17, 5.92, 2.0, 1.75], \"yaxis\": \"y\"}],\n",
       "                        {\"barmode\": \"relative\", \"height\": 600, \"legend\": {\"tracegroupgap\": 0}, \"margin\": {\"t\": 60}, \"template\": {\"data\": {\"bar\": [{\"error_x\": {\"color\": \"#2a3f5f\"}, \"error_y\": {\"color\": \"#2a3f5f\"}, \"marker\": {\"line\": {\"color\": \"#E5ECF6\", \"width\": 0.5}}, \"type\": \"bar\"}], \"barpolar\": [{\"marker\": {\"line\": {\"color\": \"#E5ECF6\", \"width\": 0.5}}, \"type\": \"barpolar\"}], \"carpet\": [{\"aaxis\": {\"endlinecolor\": \"#2a3f5f\", \"gridcolor\": \"white\", \"linecolor\": \"white\", \"minorgridcolor\": \"white\", \"startlinecolor\": \"#2a3f5f\"}, \"baxis\": {\"endlinecolor\": \"#2a3f5f\", \"gridcolor\": \"white\", \"linecolor\": \"white\", \"minorgridcolor\": \"white\", \"startlinecolor\": \"#2a3f5f\"}, \"type\": \"carpet\"}], \"choropleth\": [{\"colorbar\": {\"outlinewidth\": 0, \"ticks\": \"\"}, \"type\": \"choropleth\"}], \"contour\": [{\"colorbar\": {\"outlinewidth\": 0, \"ticks\": \"\"}, \"colorscale\": [[0.0, \"#0d0887\"], [0.1111111111111111, \"#46039f\"], [0.2222222222222222, \"#7201a8\"], [0.3333333333333333, \"#9c179e\"], [0.4444444444444444, \"#bd3786\"], [0.5555555555555556, \"#d8576b\"], [0.6666666666666666, \"#ed7953\"], [0.7777777777777778, \"#fb9f3a\"], [0.8888888888888888, \"#fdca26\"], [1.0, \"#f0f921\"]], \"type\": \"contour\"}], \"contourcarpet\": [{\"colorbar\": {\"outlinewidth\": 0, \"ticks\": \"\"}, \"type\": \"contourcarpet\"}], \"heatmap\": [{\"colorbar\": {\"outlinewidth\": 0, \"ticks\": \"\"}, \"colorscale\": [[0.0, \"#0d0887\"], [0.1111111111111111, \"#46039f\"], [0.2222222222222222, \"#7201a8\"], [0.3333333333333333, \"#9c179e\"], [0.4444444444444444, \"#bd3786\"], [0.5555555555555556, \"#d8576b\"], [0.6666666666666666, \"#ed7953\"], [0.7777777777777778, \"#fb9f3a\"], [0.8888888888888888, \"#fdca26\"], [1.0, \"#f0f921\"]], \"type\": \"heatmap\"}], \"heatmapgl\": [{\"colorbar\": {\"outlinewidth\": 0, \"ticks\": \"\"}, \"colorscale\": [[0.0, \"#0d0887\"], [0.1111111111111111, \"#46039f\"], [0.2222222222222222, \"#7201a8\"], [0.3333333333333333, \"#9c179e\"], [0.4444444444444444, \"#bd3786\"], [0.5555555555555556, \"#d8576b\"], [0.6666666666666666, \"#ed7953\"], [0.7777777777777778, \"#fb9f3a\"], [0.8888888888888888, \"#fdca26\"], [1.0, \"#f0f921\"]], \"type\": \"heatmapgl\"}], \"histogram\": [{\"marker\": {\"colorbar\": {\"outlinewidth\": 0, \"ticks\": \"\"}}, \"type\": \"histogram\"}], \"histogram2d\": [{\"colorbar\": {\"outlinewidth\": 0, \"ticks\": \"\"}, \"colorscale\": [[0.0, \"#0d0887\"], [0.1111111111111111, \"#46039f\"], [0.2222222222222222, \"#7201a8\"], [0.3333333333333333, \"#9c179e\"], [0.4444444444444444, \"#bd3786\"], [0.5555555555555556, \"#d8576b\"], [0.6666666666666666, \"#ed7953\"], [0.7777777777777778, \"#fb9f3a\"], [0.8888888888888888, \"#fdca26\"], [1.0, \"#f0f921\"]], \"type\": \"histogram2d\"}], \"histogram2dcontour\": [{\"colorbar\": {\"outlinewidth\": 0, \"ticks\": \"\"}, \"colorscale\": [[0.0, \"#0d0887\"], [0.1111111111111111, \"#46039f\"], [0.2222222222222222, \"#7201a8\"], [0.3333333333333333, \"#9c179e\"], [0.4444444444444444, \"#bd3786\"], [0.5555555555555556, \"#d8576b\"], [0.6666666666666666, \"#ed7953\"], [0.7777777777777778, \"#fb9f3a\"], [0.8888888888888888, \"#fdca26\"], [1.0, \"#f0f921\"]], \"type\": \"histogram2dcontour\"}], \"mesh3d\": [{\"colorbar\": {\"outlinewidth\": 0, \"ticks\": \"\"}, \"type\": \"mesh3d\"}], \"parcoords\": [{\"line\": {\"colorbar\": {\"outlinewidth\": 0, \"ticks\": \"\"}}, \"type\": \"parcoords\"}], \"scatter\": [{\"marker\": {\"colorbar\": {\"outlinewidth\": 0, \"ticks\": \"\"}}, \"type\": \"scatter\"}], \"scatter3d\": [{\"line\": {\"colorbar\": {\"outlinewidth\": 0, \"ticks\": \"\"}}, \"marker\": {\"colorbar\": {\"outlinewidth\": 0, \"ticks\": \"\"}}, \"type\": \"scatter3d\"}], \"scattercarpet\": [{\"marker\": {\"colorbar\": {\"outlinewidth\": 0, \"ticks\": \"\"}}, \"type\": \"scattercarpet\"}], \"scattergeo\": [{\"marker\": {\"colorbar\": {\"outlinewidth\": 0, \"ticks\": \"\"}}, \"type\": \"scattergeo\"}], \"scattergl\": [{\"marker\": {\"colorbar\": {\"outlinewidth\": 0, \"ticks\": \"\"}}, \"type\": \"scattergl\"}], \"scattermapbox\": [{\"marker\": {\"colorbar\": {\"outlinewidth\": 0, \"ticks\": \"\"}}, \"type\": \"scattermapbox\"}], \"scatterpolar\": [{\"marker\": {\"colorbar\": {\"outlinewidth\": 0, \"ticks\": \"\"}}, \"type\": \"scatterpolar\"}], \"scatterpolargl\": [{\"marker\": {\"colorbar\": {\"outlinewidth\": 0, \"ticks\": \"\"}}, \"type\": \"scatterpolargl\"}], \"scatterternary\": [{\"marker\": {\"colorbar\": {\"outlinewidth\": 0, \"ticks\": \"\"}}, \"type\": \"scatterternary\"}], \"surface\": [{\"colorbar\": {\"outlinewidth\": 0, \"ticks\": \"\"}, \"colorscale\": [[0.0, \"#0d0887\"], [0.1111111111111111, \"#46039f\"], [0.2222222222222222, \"#7201a8\"], [0.3333333333333333, \"#9c179e\"], [0.4444444444444444, \"#bd3786\"], [0.5555555555555556, \"#d8576b\"], [0.6666666666666666, \"#ed7953\"], [0.7777777777777778, \"#fb9f3a\"], [0.8888888888888888, \"#fdca26\"], [1.0, \"#f0f921\"]], \"type\": \"surface\"}], \"table\": [{\"cells\": {\"fill\": {\"color\": \"#EBF0F8\"}, \"line\": {\"color\": \"white\"}}, \"header\": {\"fill\": {\"color\": \"#C8D4E3\"}, \"line\": {\"color\": \"white\"}}, \"type\": \"table\"}]}, \"layout\": {\"annotationdefaults\": {\"arrowcolor\": \"#2a3f5f\", \"arrowhead\": 0, \"arrowwidth\": 1}, \"colorscale\": {\"diverging\": [[0, \"#8e0152\"], [0.1, \"#c51b7d\"], [0.2, \"#de77ae\"], [0.3, \"#f1b6da\"], [0.4, \"#fde0ef\"], [0.5, \"#f7f7f7\"], [0.6, \"#e6f5d0\"], [0.7, \"#b8e186\"], [0.8, \"#7fbc41\"], [0.9, \"#4d9221\"], [1, \"#276419\"]], \"sequential\": [[0.0, \"#0d0887\"], [0.1111111111111111, \"#46039f\"], [0.2222222222222222, \"#7201a8\"], [0.3333333333333333, \"#9c179e\"], [0.4444444444444444, \"#bd3786\"], [0.5555555555555556, \"#d8576b\"], [0.6666666666666666, \"#ed7953\"], [0.7777777777777778, \"#fb9f3a\"], [0.8888888888888888, \"#fdca26\"], [1.0, \"#f0f921\"]], \"sequentialminus\": [[0.0, \"#0d0887\"], [0.1111111111111111, \"#46039f\"], [0.2222222222222222, \"#7201a8\"], [0.3333333333333333, \"#9c179e\"], [0.4444444444444444, \"#bd3786\"], [0.5555555555555556, \"#d8576b\"], [0.6666666666666666, \"#ed7953\"], [0.7777777777777778, \"#fb9f3a\"], [0.8888888888888888, \"#fdca26\"], [1.0, \"#f0f921\"]]}, \"colorway\": [\"#636efa\", \"#EF553B\", \"#00cc96\", \"#ab63fa\", \"#FFA15A\", \"#19d3f3\", \"#FF6692\", \"#B6E880\", \"#FF97FF\", \"#FECB52\"], \"font\": {\"color\": \"#2a3f5f\"}, \"geo\": {\"bgcolor\": \"white\", \"lakecolor\": \"white\", \"landcolor\": \"#E5ECF6\", \"showlakes\": true, \"showland\": true, \"subunitcolor\": \"white\"}, \"hoverlabel\": {\"align\": \"left\"}, \"hovermode\": \"closest\", \"mapbox\": {\"style\": \"light\"}, \"paper_bgcolor\": \"white\", \"plot_bgcolor\": \"#E5ECF6\", \"polar\": {\"angularaxis\": {\"gridcolor\": \"white\", \"linecolor\": \"white\", \"ticks\": \"\"}, \"bgcolor\": \"#E5ECF6\", \"radialaxis\": {\"gridcolor\": \"white\", \"linecolor\": \"white\", \"ticks\": \"\"}}, \"scene\": {\"xaxis\": {\"backgroundcolor\": \"#E5ECF6\", \"gridcolor\": \"white\", \"gridwidth\": 2, \"linecolor\": \"white\", \"showbackground\": true, \"ticks\": \"\", \"zerolinecolor\": \"white\"}, \"yaxis\": {\"backgroundcolor\": \"#E5ECF6\", \"gridcolor\": \"white\", \"gridwidth\": 2, \"linecolor\": \"white\", \"showbackground\": true, \"ticks\": \"\", \"zerolinecolor\": \"white\"}, \"zaxis\": {\"backgroundcolor\": \"#E5ECF6\", \"gridcolor\": \"white\", \"gridwidth\": 2, \"linecolor\": \"white\", \"showbackground\": true, \"ticks\": \"\", \"zerolinecolor\": \"white\"}}, \"shapedefaults\": {\"line\": {\"color\": \"#2a3f5f\"}}, \"ternary\": {\"aaxis\": {\"gridcolor\": \"white\", \"linecolor\": \"white\", \"ticks\": \"\"}, \"baxis\": {\"gridcolor\": \"white\", \"linecolor\": \"white\", \"ticks\": \"\"}, \"bgcolor\": \"#E5ECF6\", \"caxis\": {\"gridcolor\": \"white\", \"linecolor\": \"white\", \"ticks\": \"\"}}, \"title\": {\"x\": 0.05}, \"xaxis\": {\"automargin\": true, \"gridcolor\": \"white\", \"linecolor\": \"white\", \"ticks\": \"\", \"zerolinecolor\": \"white\", \"zerolinewidth\": 2}, \"yaxis\": {\"automargin\": true, \"gridcolor\": \"white\", \"linecolor\": \"white\", \"ticks\": \"\", \"zerolinecolor\": \"white\", \"zerolinewidth\": 2}}}, \"xaxis\": {\"anchor\": \"y\", \"domain\": [0.0, 0.98], \"title\": {\"text\": \"total_bill\"}}, \"yaxis\": {\"anchor\": \"x\", \"domain\": [0.0, 1.0], \"title\": {\"text\": \"count of tip\"}}},\n",
       "                        {\"responsive\": true}\n",
       "                    ).then(function(){\n",
       "                            \n",
       "var gd = document.getElementById('2ef39897-962a-4a2b-8c2e-bb3f13c23de9');\n",
       "var x = new MutationObserver(function (mutations, observer) {{\n",
       "        var display = window.getComputedStyle(gd).display;\n",
       "        if (!display || display === 'none') {{\n",
       "            console.log([gd, 'removed!']);\n",
       "            Plotly.purge(gd);\n",
       "            observer.disconnect();\n",
       "        }}\n",
       "}});\n",
       "\n",
       "// Listen for the removal of the full notebook cells\n",
       "var notebookContainer = gd.closest('#notebook-container');\n",
       "if (notebookContainer) {{\n",
       "    x.observe(notebookContainer, {childList: true});\n",
       "}}\n",
       "\n",
       "// Listen for the clearing of the current output cell\n",
       "var outputEl = gd.closest('.output');\n",
       "if (outputEl) {{\n",
       "    x.observe(outputEl, {childList: true});\n",
       "}}\n",
       "\n",
       "                        })\n",
       "                };\n",
       "                });\n",
       "            </script>\n",
       "        </div>"
      ]
     },
     "metadata": {},
     "output_type": "display_data"
    }
   ],
   "source": [
    "import plotly.express as px\n",
    "tips = px.data.tips()\n",
    "fig = px.histogram(tips, x=\"total_bill\", y=\"tip\", color=\"sex\",\n",
    "                   hover_data=tips.columns)\n",
    "fig.show()\n",
    "\n"
   ]
  },
  {
   "cell_type": "code",
   "execution_count": 61,
   "metadata": {},
   "outputs": [
    {
     "data": {
      "text/html": [
       "<div>\n",
       "<style scoped>\n",
       "    .dataframe tbody tr th:only-of-type {\n",
       "        vertical-align: middle;\n",
       "    }\n",
       "\n",
       "    .dataframe tbody tr th {\n",
       "        vertical-align: top;\n",
       "    }\n",
       "\n",
       "    .dataframe thead th {\n",
       "        text-align: right;\n",
       "    }\n",
       "</style>\n",
       "<table border=\"1\" class=\"dataframe\">\n",
       "  <thead>\n",
       "    <tr style=\"text-align: right;\">\n",
       "      <th></th>\n",
       "      <th>total_bill</th>\n",
       "      <th>tip</th>\n",
       "      <th>sex</th>\n",
       "      <th>smoker</th>\n",
       "      <th>day</th>\n",
       "      <th>time</th>\n",
       "      <th>size</th>\n",
       "    </tr>\n",
       "  </thead>\n",
       "  <tbody>\n",
       "    <tr>\n",
       "      <th>0</th>\n",
       "      <td>16.99</td>\n",
       "      <td>1.01</td>\n",
       "      <td>Female</td>\n",
       "      <td>No</td>\n",
       "      <td>Sun</td>\n",
       "      <td>Dinner</td>\n",
       "      <td>2</td>\n",
       "    </tr>\n",
       "    <tr>\n",
       "      <th>1</th>\n",
       "      <td>10.34</td>\n",
       "      <td>1.66</td>\n",
       "      <td>Male</td>\n",
       "      <td>No</td>\n",
       "      <td>Sun</td>\n",
       "      <td>Dinner</td>\n",
       "      <td>3</td>\n",
       "    </tr>\n",
       "    <tr>\n",
       "      <th>2</th>\n",
       "      <td>21.01</td>\n",
       "      <td>3.50</td>\n",
       "      <td>Male</td>\n",
       "      <td>No</td>\n",
       "      <td>Sun</td>\n",
       "      <td>Dinner</td>\n",
       "      <td>3</td>\n",
       "    </tr>\n",
       "    <tr>\n",
       "      <th>3</th>\n",
       "      <td>23.68</td>\n",
       "      <td>3.31</td>\n",
       "      <td>Male</td>\n",
       "      <td>No</td>\n",
       "      <td>Sun</td>\n",
       "      <td>Dinner</td>\n",
       "      <td>2</td>\n",
       "    </tr>\n",
       "    <tr>\n",
       "      <th>4</th>\n",
       "      <td>24.59</td>\n",
       "      <td>3.61</td>\n",
       "      <td>Female</td>\n",
       "      <td>No</td>\n",
       "      <td>Sun</td>\n",
       "      <td>Dinner</td>\n",
       "      <td>4</td>\n",
       "    </tr>\n",
       "  </tbody>\n",
       "</table>\n",
       "</div>"
      ],
      "text/plain": [
       "   total_bill   tip     sex smoker  day    time  size\n",
       "0       16.99  1.01  Female     No  Sun  Dinner     2\n",
       "1       10.34  1.66    Male     No  Sun  Dinner     3\n",
       "2       21.01  3.50    Male     No  Sun  Dinner     3\n",
       "3       23.68  3.31    Male     No  Sun  Dinner     2\n",
       "4       24.59  3.61  Female     No  Sun  Dinner     4"
      ]
     },
     "execution_count": 61,
     "metadata": {},
     "output_type": "execute_result"
    }
   ],
   "source": [
    "tips.head()"
   ]
  },
  {
   "cell_type": "code",
   "execution_count": 65,
   "metadata": {},
   "outputs": [],
   "source": [
    "# census_df.boxplot(\"Population\", by=, figsize=(20, 10))"
   ]
  },
  {
   "cell_type": "code",
   "execution_count": 24,
   "metadata": {},
   "outputs": [
    {
     "data": {
      "text/plain": [
       "F_onewayResult(statistic=278.56408336054585, pvalue=1.7810577568661499e-16)"
      ]
     },
     "execution_count": 24,
     "metadata": {},
     "output_type": "execute_result"
    }
   ],
   "source": [
    "ANOVA_pop = stats.f_oneway(pop_003, pop_008, pop_007, pop_026)\n",
    "ANOVA_pop\n",
    "\n",
    "#statistically sigificant difference in population counts between and within zip codes from the years 2012 to 2017"
   ]
  },
  {
   "cell_type": "code",
   "execution_count": 16,
   "metadata": {},
   "outputs": [],
   "source": [
    "#analysis of variance zip and age\n",
    "age_003 = census_df[census_df[\"Zipcode\"]==77003][\"Median Age\"]\n",
    "age_008 = census_df[census_df[\"Zipcode\"]==77008][\"Median Age\"]\n",
    "age_007 = census_df[census_df[\"Zipcode\"]==77007][\"Median Age\"]\n",
    "age_026 = census_df[census_df[\"Zipcode\"]==77026][\"Median Age\"]\n"
   ]
  },
  {
   "cell_type": "code",
   "execution_count": 25,
   "metadata": {},
   "outputs": [
    {
     "data": {
      "text/plain": [
       "F_onewayResult(statistic=10.711387129500133, pvalue=0.0002060830183355059)"
      ]
     },
     "execution_count": 25,
     "metadata": {},
     "output_type": "execute_result"
    }
   ],
   "source": [
    "ANOVA_age = stats.f_oneway(age_003, age_008, age_007, age_026)\n",
    "ANOVA_age\n",
    "#there is a statistically significant difference between and within median age between zip codes fromt the years 2012 to 2017"
   ]
  },
  {
   "cell_type": "code",
   "execution_count": 31,
   "metadata": {},
   "outputs": [
    {
     "data": {
      "text/plain": [
       "16     20200.0\n",
       "35     20024.0\n",
       "54     21335.0\n",
       "73     22242.0\n",
       "92     25354.0\n",
       "111    26644.0\n",
       "Name: Household Income, dtype: float64"
      ]
     },
     "execution_count": 31,
     "metadata": {},
     "output_type": "execute_result"
    }
   ],
   "source": [
    "#analysis of variance zip and household income\n",
    "income_003 = census_df[census_df[\"Zipcode\"]==77003][\"Household Income\"]\n",
    "inocme_008 = census_df[census_df[\"Zipcode\"]==77008][\"Household Income\"]\n",
    "income_007 = census_df[census_df[\"Zipcode\"]==77007][\"Household Income\"]\n",
    "income_026 = census_df[census_df[\"Zipcode\"]==77026][\"Household Income\"]\n",
    "\n",
    "income_026"
   ]
  },
  {
   "cell_type": "code",
   "execution_count": 26,
   "metadata": {},
   "outputs": [
    {
     "data": {
      "text/plain": [
       "F_onewayResult(statistic=99.24201522961962, pvalue=3.5090707198851038e-12)"
      ]
     },
     "execution_count": 26,
     "metadata": {},
     "output_type": "execute_result"
    }
   ],
   "source": [
    "ANOVA_income = stats.f_oneway(income_003, inocme_008, income_007, income_026)\n",
    "ANOVA_income\n",
    "#there is a statistically significant difference between and within median income and zip codes from the years 2012 - 2017"
   ]
  },
  {
   "cell_type": "code",
   "execution_count": 52,
   "metadata": {},
   "outputs": [],
   "source": [
    "#Zip 77003 (EDO) race count changaes\n",
    "race_count_hisp = zip_003 [zip_003 [\"Race\"]== \"Count Hisp/Latino\"][\"Race Count\"]\n",
    "race_count_black = zip_003[zip_003[\"Race\"]== \"Counb Black/AfAm\"][\"Race Count\"]\n",
    "race_count_white = zip_003[zip_003[\"Race\"]== \"Count White\"][\"Race Count\"]\n",
    "race_count_asian = zip_003[zip_003[\"Race\"]== \"Count Asian\"][\"Race Count\"]\n",
    "race_count_AmInd = zip_003[zip_003[\"Race\"]== \"Count AmIndian\"][\"Race Count\"]\n",
    "race_count_other = zip_003[zip_003[\"Race\"]== \"Count Other Race\"][\"Race Count\"]\n",
    "\n",
    "# ZIP 77007 (paper coffe co)\n",
    "zip007_race_count_hisp = zip_007 [zip_007 [\"Race\"]== \"Count Hisp/Latino\"][\"Race Count\"]\n",
    "zip007_race_count_black = zip_007[zip_007[\"Race\"]== \"Counb Black/AfAm\"][\"Race Count\"]\n",
    "zip007_race_count_white = zip_007[zip_007[\"Race\"]== \"Count White\"][\"Race Count\"]\n",
    "zip007_race_count_asian = zip_007[zip_007[\"Race\"]== \"Count Asian\"][\"Race Count\"]\n",
    "zip007_race_count_AmInd = zip_007[zip_007[\"Race\"]== \"Count AmIndian\"][\"Race Count\"]\n",
    "zip007_race_count_other = zip_007[zip_007[\"Race\"]== \"Count Other Race\"][\"Race Count\"]\n",
    "\n",
    "# ZIP 77008 (paper coffe co)\n",
    "zip008_race_count_hisp = zip_008 [zip_008 [\"Race\"]== \"Count Hisp/Latino\"][\"Race Count\"]\n",
    "zip008_race_count_black = zip_008[zip_008[\"Race\"]== \"Counb Black/AfAm\"][\"Race Count\"]\n",
    "zip008_race_count_white = zip_008[zip_008[\"Race\"]== \"Count White\"][\"Race Count\"]\n",
    "zip008_race_count_asian = zip_008[zip_008[\"Race\"]== \"Count Asian\"][\"Race Count\"]\n",
    "zip008_race_count_AmInd = zip_008[zip_008[\"Race\"]== \"Count AmIndian\"][\"Race Count\"]\n",
    "zip008_race_count_other = zip_008[zip_008[\"Race\"]== \"Count Other Race\"][\"Race Count\"]\n",
    "\n",
    "# ZIP 77026 \n",
    "zip026_race_count_hisp = zip_026 [zip_026 [\"Race\"]== \"Count Hisp/Latino\"][\"Race Count\"]\n",
    "zip026_race_count_black = zip_026[zip_026[\"Race\"]== \"Counb Black/AfAm\"][\"Race Count\"]\n",
    "zip026_race_count_white = zip_026[zip_026[\"Race\"]== \"Count White\"][\"Race Count\"]\n",
    "zip026_race_count_asian = zip_026[zip_026[\"Race\"]== \"Count Asian\"][\"Race Count\"]\n",
    "zip026_race_count_AmInd = zip_026[zip_026[\"Race\"]== \"Count AmIndian\"][\"Race Count\"]\n",
    "zip026_race_count_other = zip_026[zip_026[\"Race\"]== \"Count Other Race\"][\"Race Count\"]"
   ]
  },
  {
   "cell_type": "code",
   "execution_count": 54,
   "metadata": {},
   "outputs": [
    {
     "name": "stdout",
     "output_type": "stream",
     "text": [
      "F_onewayResult(statistic=847.5576251174277, pvalue=2.4659496131557764e-31)\n",
      "F_onewayResult(statistic=615.053521180335, pvalue=2.896820800930107e-29)\n",
      "F_onewayResult(statistic=662.4974619257885, pvalue=9.611320166924105e-30)\n",
      "F_onewayResult(statistic=1188.126729265739, pvalue=1.6067634133914838e-33)\n"
     ]
    }
   ],
   "source": [
    "ANOVA_race_count_003 = stats.f_oneway(race_count_hisp, race_count_black, race_count_white, race_count_asian, race_count_AmInd, race_count_other)\n",
    "#there is a statistically significant difference between and within racial groups over the 2012-2017 range in zip code 77003 - EDO\n",
    "print(ANOVA_race_count)\n",
    "\n",
    "ANOVA_race_count_007 = stats.f_oneway(zip007_race_count_hisp, zip007_race_count_black, zip007_race_count_white, zip007_race_count_asian, zip007_race_count_AmInd, zip007_race_count_other)\n",
    "#there is a statistically significant difference between and within racial groups over the 2012-2017 range in zip code 77007\n",
    "print(ANOVA_race_count_007)\n",
    "\n",
    "\n",
    "ANOVA_race_count_008 = stats.f_oneway(zip008_race_count_hisp, zip008_race_count_black, zip008_race_count_white, zip008_race_count_asian, zip008_race_count_AmInd, zip008_race_count_other)\n",
    "#there is a statistically significant difference between and within racial groups over the 2012-2017 range in zip code 77008\n",
    "print(ANOVA_race_count_008)\n",
    "\n",
    "ANOVA_race_count_026 = stats.f_oneway(zip026_race_count_hisp, zip026_race_count_black, zip026_race_count_white, zip026_race_count_asian, zip026_race_count_AmInd, zip026_race_count_other)\n",
    "#there is a statistically significant difference between and within racial groups over the 2012-2017 range in zip code 77026\n",
    "print(ANOVA_race_count_026)"
   ]
  },
  {
   "cell_type": "code",
   "execution_count": 73,
   "metadata": {},
   "outputs": [
    {
     "data": {
      "application/vnd.plotly.v1+json": {
       "config": {
        "plotlyServerURL": "https://plot.ly"
       },
       "data": [
        {
         "hoverlabel": {
          "namelength": 0
         },
         "hovertemplate": "<b>%{hovertext}</b><br><br>Year=2012<br>Household Income=%{x}<br>Median Age=%{y}<br>Population=%{marker.size}<br>Zipcode=%{marker.color}",
         "hovertext": [
          77002,
          77003,
          77004,
          77005,
          77006,
          77007,
          77008,
          77009,
          77010,
          77011,
          77012,
          77019,
          77020,
          77021,
          77023,
          77025,
          77026,
          77027,
          77030
         ],
         "ids": [
          77002,
          77003,
          77004,
          77005,
          77006,
          77007,
          77008,
          77009,
          77010,
          77011,
          77012,
          77019,
          77020,
          77021,
          77023,
          77025,
          77026,
          77027,
          77030
         ],
         "legendgroup": "",
         "marker": {
          "color": [
           77002,
           77003,
           77004,
           77005,
           77006,
           77007,
           77008,
           77009,
           77010,
           77011,
           77012,
           77019,
           77020,
           77021,
           77023,
           77025,
           77026,
           77027,
           77030
          ],
          "coloraxis": "coloraxis",
          "size": [
           11473,
           10215,
           29853,
           25740,
           19856,
           29545,
           29424,
           39050,
           342,
           19396,
           21619,
           19450,
           26381,
           25640,
           30696,
           25935,
           23963,
           14745,
           11184
          ],
          "sizemode": "area",
          "sizeref": 13.132231404958677,
          "symbol": "circle"
         },
         "mode": "markers",
         "name": "",
         "showlegend": false,
         "type": "scatter",
         "x": [
          57165,
          37664,
          39804,
          153041,
          63360,
          90860,
          65457,
          42944,
          149444,
          27458,
          33035,
          87582,
          28217,
          32096,
          37735,
          64202,
          20200,
          81202,
          67790
         ],
         "xaxis": "x",
         "y": [
          31.8,
          32.9,
          31.6,
          38.5,
          36.9,
          34.6,
          37.1,
          33.6,
          50.6,
          32.7,
          30.1,
          36.8,
          31.7,
          34.4,
          30.9,
          33.8,
          32.8,
          37.9,
          32.8
         ],
         "yaxis": "y"
        }
       ],
       "frames": [
        {
         "data": [
          {
           "hoverlabel": {
            "namelength": 0
           },
           "hovertemplate": "<b>%{hovertext}</b><br><br>Year=2012<br>Household Income=%{x}<br>Median Age=%{y}<br>Population=%{marker.size}<br>Zipcode=%{marker.color}",
           "hovertext": [
            77002,
            77003,
            77004,
            77005,
            77006,
            77007,
            77008,
            77009,
            77010,
            77011,
            77012,
            77019,
            77020,
            77021,
            77023,
            77025,
            77026,
            77027,
            77030
           ],
           "ids": [
            77002,
            77003,
            77004,
            77005,
            77006,
            77007,
            77008,
            77009,
            77010,
            77011,
            77012,
            77019,
            77020,
            77021,
            77023,
            77025,
            77026,
            77027,
            77030
           ],
           "legendgroup": "",
           "marker": {
            "color": [
             77002,
             77003,
             77004,
             77005,
             77006,
             77007,
             77008,
             77009,
             77010,
             77011,
             77012,
             77019,
             77020,
             77021,
             77023,
             77025,
             77026,
             77027,
             77030
            ],
            "coloraxis": "coloraxis",
            "size": [
             11473,
             10215,
             29853,
             25740,
             19856,
             29545,
             29424,
             39050,
             342,
             19396,
             21619,
             19450,
             26381,
             25640,
             30696,
             25935,
             23963,
             14745,
             11184
            ],
            "sizemode": "area",
            "sizeref": 13.132231404958677,
            "symbol": "circle"
           },
           "mode": "markers",
           "name": "",
           "showlegend": false,
           "type": "scatter",
           "x": [
            57165,
            37664,
            39804,
            153041,
            63360,
            90860,
            65457,
            42944,
            149444,
            27458,
            33035,
            87582,
            28217,
            32096,
            37735,
            64202,
            20200,
            81202,
            67790
           ],
           "xaxis": "x",
           "y": [
            31.8,
            32.9,
            31.6,
            38.5,
            36.9,
            34.6,
            37.1,
            33.6,
            50.6,
            32.7,
            30.1,
            36.8,
            31.7,
            34.4,
            30.9,
            33.8,
            32.8,
            37.9,
            32.8
           ],
           "yaxis": "y"
          }
         ],
         "name": "2012"
        },
        {
         "data": [
          {
           "hoverlabel": {
            "namelength": 0
           },
           "hovertemplate": "<b>%{hovertext}</b><br><br>Year=2013<br>Household Income=%{x}<br>Median Age=%{y}<br>Population=%{marker.size}<br>Zipcode=%{marker.color}",
           "hovertext": [
            77002,
            77003,
            77004,
            77005,
            77006,
            77007,
            77008,
            77009,
            77010,
            77011,
            77012,
            77019,
            77020,
            77021,
            77023,
            77025,
            77026,
            77027,
            77030
           ],
           "ids": [
            77002,
            77003,
            77004,
            77005,
            77006,
            77007,
            77008,
            77009,
            77010,
            77011,
            77012,
            77019,
            77020,
            77021,
            77023,
            77025,
            77026,
            77027,
            77030
           ],
           "legendgroup": "",
           "marker": {
            "color": [
             77002,
             77003,
             77004,
             77005,
             77006,
             77007,
             77008,
             77009,
             77010,
             77011,
             77012,
             77019,
             77020,
             77021,
             77023,
             77025,
             77026,
             77027,
             77030
            ],
            "coloraxis": "coloraxis",
            "size": [
             11602,
             10617,
             31593,
             25752,
             20573,
             30868,
             30807,
             39725,
             564,
             19442,
             21868,
             19995,
             26889,
             25479,
             29871,
             26379,
             22909,
             15455,
             11031
            ],
            "sizemode": "area",
            "sizeref": 13.132231404958677,
            "symbol": "circle"
           },
           "mode": "markers",
           "name": "",
           "showlegend": false,
           "type": "scatter",
           "x": [
            64093,
            36412,
            41983,
            159732,
            67458,
            98725,
            70293,
            44651,
            250001,
            26838,
            34975,
            87394,
            29401,
            31103,
            36033,
            65828,
            20024,
            81661,
            68980
           ],
           "xaxis": "x",
           "y": [
            32.5,
            30.8,
            30.3,
            38.5,
            35.1,
            34.6,
            35.9,
            34.1,
            41.7,
            33.2,
            30.5,
            35.6,
            32.5,
            35,
            31.2,
            35.3,
            33.5,
            37.4,
            32.8
           ],
           "yaxis": "y"
          }
         ],
         "name": "2013"
        },
        {
         "data": [
          {
           "hoverlabel": {
            "namelength": 0
           },
           "hovertemplate": "<b>%{hovertext}</b><br><br>Year=2014<br>Household Income=%{x}<br>Median Age=%{y}<br>Population=%{marker.size}<br>Zipcode=%{marker.color}",
           "hovertext": [
            77002,
            77003,
            77004,
            77005,
            77006,
            77007,
            77008,
            77009,
            77010,
            77011,
            77012,
            77019,
            77020,
            77021,
            77023,
            77025,
            77026,
            77027,
            77030
           ],
           "ids": [
            77002,
            77003,
            77004,
            77005,
            77006,
            77007,
            77008,
            77009,
            77010,
            77011,
            77012,
            77019,
            77020,
            77021,
            77023,
            77025,
            77026,
            77027,
            77030
           ],
           "legendgroup": "",
           "marker": {
            "color": [
             77002,
             77003,
             77004,
             77005,
             77006,
             77007,
             77008,
             77009,
             77010,
             77011,
             77012,
             77019,
             77020,
             77021,
             77023,
             77025,
             77026,
             77027,
             77030
            ],
            "coloraxis": "coloraxis",
            "size": [
             11630,
             10760,
             34079,
             26187,
             21144,
             31987,
             31418,
             39361,
             724,
             19136,
             20991,
             20350,
             26777,
             26036,
             29102,
             27413,
             23325,
             15510,
             10664
            ],
            "sizemode": "area",
            "sizeref": 13.132231404958677,
            "symbol": "circle"
           },
           "mode": "markers",
           "name": "",
           "showlegend": false,
           "type": "scatter",
           "x": [
            71319,
            40647,
            46059,
            163802,
            69508,
            106044,
            77512,
            45016,
            209063,
            26953,
            35884,
            92844,
            27871,
            32391,
            37361,
            65524,
            21335,
            82038,
            71078
           ],
           "xaxis": "x",
           "y": [
            33.2,
            31.2,
            29,
            38.7,
            35.4,
            34.3,
            35.5,
            34,
            43.6,
            32.8,
            31.7,
            37.9,
            32.9,
            33.7,
            31.9,
            35.3,
            33.1,
            36.7,
            32.5
           ],
           "yaxis": "y"
          }
         ],
         "name": "2014"
        },
        {
         "data": [
          {
           "hoverlabel": {
            "namelength": 0
           },
           "hovertemplate": "<b>%{hovertext}</b><br><br>Year=2015<br>Household Income=%{x}<br>Median Age=%{y}<br>Population=%{marker.size}<br>Zipcode=%{marker.color}",
           "hovertext": [
            77002,
            77003,
            77004,
            77005,
            77006,
            77007,
            77008,
            77009,
            77010,
            77011,
            77012,
            77019,
            77020,
            77021,
            77023,
            77025,
            77026,
            77027,
            77030
           ],
           "ids": [
            77002,
            77003,
            77004,
            77005,
            77006,
            77007,
            77008,
            77009,
            77010,
            77011,
            77012,
            77019,
            77020,
            77021,
            77023,
            77025,
            77026,
            77027,
            77030
           ],
           "legendgroup": "",
           "marker": {
            "color": [
             77002,
             77003,
             77004,
             77005,
             77006,
             77007,
             77008,
             77009,
             77010,
             77011,
             77012,
             77019,
             77020,
             77021,
             77023,
             77025,
             77026,
             77027,
             77030
            ],
            "coloraxis": "coloraxis",
            "size": [
             11922,
             10438,
             35739,
             27187,
             21795,
             33029,
             31868,
             39260,
             809,
             19303,
             20494,
             20644,
             26005,
             26209,
             28316,
             28305,
             22485,
             15749,
             10279
            ],
            "sizemode": "area",
            "sizeref": 13.132231404958677,
            "symbol": "circle"
           },
           "mode": "markers",
           "name": "",
           "showlegend": false,
           "type": "scatter",
           "x": [
            62089,
            39039,
            47523,
            166203,
            71158,
            107580,
            82058,
            43830,
            250001,
            26922,
            34891,
            101297,
            27052,
            32800,
            36065,
            66559,
            22242,
            89276,
            71883
           ],
           "xaxis": "x",
           "y": [
            33.8,
            32.7,
            28.1,
            38,
            34.8,
            33.5,
            35.5,
            34.1,
            42.7,
            33,
            32.3,
            38.8,
            32.4,
            33.8,
            33.4,
            35.2,
            35.3,
            36.8,
            32.6
           ],
           "yaxis": "y"
          }
         ],
         "name": "2015"
        },
        {
         "data": [
          {
           "hoverlabel": {
            "namelength": 0
           },
           "hovertemplate": "<b>%{hovertext}</b><br><br>Year=2016<br>Household Income=%{x}<br>Median Age=%{y}<br>Population=%{marker.size}<br>Zipcode=%{marker.color}",
           "hovertext": [
            77002,
            77003,
            77004,
            77005,
            77006,
            77007,
            77008,
            77009,
            77010,
            77011,
            77012,
            77019,
            77020,
            77021,
            77023,
            77025,
            77026,
            77027,
            77030
           ],
           "ids": [
            77002,
            77003,
            77004,
            77005,
            77006,
            77007,
            77008,
            77009,
            77010,
            77011,
            77012,
            77019,
            77020,
            77021,
            77023,
            77025,
            77026,
            77027,
            77030
           ],
           "legendgroup": "",
           "marker": {
            "color": [
             77002,
             77003,
             77004,
             77005,
             77006,
             77007,
             77008,
             77009,
             77010,
             77011,
             77012,
             77019,
             77020,
             77021,
             77023,
             77025,
             77026,
             77027,
             77030
            ],
            "coloraxis": "coloraxis",
            "size": [
             11861,
             10097,
             36879,
             27707,
             21849,
             35185,
             32588,
             38019,
             831,
             18558,
             20534,
             21067,
             25908,
             26374,
             27973,
             28103,
             23030,
             15498,
             10735
            ],
            "sizemode": "area",
            "sizeref": 13.132231404958677,
            "symbol": "circle"
           },
           "mode": "markers",
           "name": "",
           "showlegend": false,
           "type": "scatter",
           "x": [
            68229,
            46267,
            50681,
            174153,
            80908,
            113361,
            88248,
            47011,
            250001,
            29544,
            34617,
            102521,
            26896,
            32404,
            35723,
            67548,
            25354,
            88471,
            73689
           ],
           "xaxis": "x",
           "y": [
            33.9,
            33,
            28.3,
            37.5,
            34.9,
            33.6,
            35.5,
            34.5,
            48.5,
            32.9,
            32,
            38.4,
            32.9,
            33.8,
            33.4,
            36.1,
            35.9,
            35.1,
            32.7
           ],
           "yaxis": "y"
          }
         ],
         "name": "2016"
        },
        {
         "data": [
          {
           "hoverlabel": {
            "namelength": 0
           },
           "hovertemplate": "<b>%{hovertext}</b><br><br>Year=2017<br>Household Income=%{x}<br>Median Age=%{y}<br>Population=%{marker.size}<br>Zipcode=%{marker.color}",
           "hovertext": [
            77002,
            77003,
            77004,
            77005,
            77006,
            77007,
            77008,
            77009,
            77010,
            77011,
            77012,
            77019,
            77020,
            77021,
            77023,
            77025,
            77026,
            77027,
            77030
           ],
           "ids": [
            77002,
            77003,
            77004,
            77005,
            77006,
            77007,
            77008,
            77009,
            77010,
            77011,
            77012,
            77019,
            77020,
            77021,
            77023,
            77025,
            77026,
            77027,
            77030
           ],
           "legendgroup": "",
           "marker": {
            "color": [
             77002,
             77003,
             77004,
             77005,
             77006,
             77007,
             77008,
             77009,
             77010,
             77011,
             77012,
             77019,
             77020,
             77021,
             77023,
             77025,
             77026,
             77027,
             77030
            ],
            "coloraxis": "coloraxis",
            "size": [
             12370,
             9646,
             37642,
             28233,
             21945,
             35822,
             34491,
             37751,
             915,
             18598,
             20085,
             21572,
             25898,
             26654,
             28528,
             28922,
             22799,
             16012,
             10813
            ],
            "sizemode": "area",
            "sizeref": 13.132231404958677,
            "symbol": "circle"
           },
           "mode": "markers",
           "name": "",
           "showlegend": false,
           "type": "scatter",
           "x": [
            72306,
            59575,
            48592,
            180758,
            82878,
            121458,
            97690,
            49383,
            250001,
            30665,
            36537,
            112243,
            27587,
            35126,
            37462,
            71990,
            26644,
            91296,
            75290
           ],
           "xaxis": "x",
           "y": [
            34.1,
            34.1,
            28.3,
            36.5,
            34.3,
            33.8,
            34.9,
            35.1,
            44.6,
            34,
            33,
            39.4,
            33,
            33.6,
            33.2,
            36.3,
            35.2,
            33.3,
            33.9
           ],
           "yaxis": "y"
          }
         ],
         "name": "2017"
        }
       ],
       "layout": {
        "coloraxis": {
         "colorbar": {
          "title": {
           "text": "Zipcode"
          }
         },
         "colorscale": [
          [
           0,
           "#0d0887"
          ],
          [
           0.1111111111111111,
           "#46039f"
          ],
          [
           0.2222222222222222,
           "#7201a8"
          ],
          [
           0.3333333333333333,
           "#9c179e"
          ],
          [
           0.4444444444444444,
           "#bd3786"
          ],
          [
           0.5555555555555556,
           "#d8576b"
          ],
          [
           0.6666666666666666,
           "#ed7953"
          ],
          [
           0.7777777777777778,
           "#fb9f3a"
          ],
          [
           0.8888888888888888,
           "#fdca26"
          ],
          [
           1,
           "#f0f921"
          ]
         ]
        },
        "height": 600,
        "legend": {
         "itemsizing": "constant",
         "tracegroupgap": 0
        },
        "margin": {
         "t": 60
        },
        "sliders": [
         {
          "active": 0,
          "currentvalue": {
           "prefix": "Year="
          },
          "len": 0.9,
          "pad": {
           "b": 10,
           "t": 60
          },
          "steps": [
           {
            "args": [
             [
              "2012"
             ],
             {
              "frame": {
               "duration": 0,
               "redraw": false
              },
              "fromcurrent": true,
              "mode": "immediate",
              "transition": {
               "duration": 0,
               "easing": "linear"
              }
             }
            ],
            "label": "2012",
            "method": "animate"
           },
           {
            "args": [
             [
              "2013"
             ],
             {
              "frame": {
               "duration": 0,
               "redraw": false
              },
              "fromcurrent": true,
              "mode": "immediate",
              "transition": {
               "duration": 0,
               "easing": "linear"
              }
             }
            ],
            "label": "2013",
            "method": "animate"
           },
           {
            "args": [
             [
              "2014"
             ],
             {
              "frame": {
               "duration": 0,
               "redraw": false
              },
              "fromcurrent": true,
              "mode": "immediate",
              "transition": {
               "duration": 0,
               "easing": "linear"
              }
             }
            ],
            "label": "2014",
            "method": "animate"
           },
           {
            "args": [
             [
              "2015"
             ],
             {
              "frame": {
               "duration": 0,
               "redraw": false
              },
              "fromcurrent": true,
              "mode": "immediate",
              "transition": {
               "duration": 0,
               "easing": "linear"
              }
             }
            ],
            "label": "2015",
            "method": "animate"
           },
           {
            "args": [
             [
              "2016"
             ],
             {
              "frame": {
               "duration": 0,
               "redraw": false
              },
              "fromcurrent": true,
              "mode": "immediate",
              "transition": {
               "duration": 0,
               "easing": "linear"
              }
             }
            ],
            "label": "2016",
            "method": "animate"
           },
           {
            "args": [
             [
              "2017"
             ],
             {
              "frame": {
               "duration": 0,
               "redraw": false
              },
              "fromcurrent": true,
              "mode": "immediate",
              "transition": {
               "duration": 0,
               "easing": "linear"
              }
             }
            ],
            "label": "2017",
            "method": "animate"
           }
          ],
          "x": 0.1,
          "xanchor": "left",
          "y": 0,
          "yanchor": "top"
         }
        ],
        "template": {
         "data": {
          "bar": [
           {
            "error_x": {
             "color": "#2a3f5f"
            },
            "error_y": {
             "color": "#2a3f5f"
            },
            "marker": {
             "line": {
              "color": "#E5ECF6",
              "width": 0.5
             }
            },
            "type": "bar"
           }
          ],
          "barpolar": [
           {
            "marker": {
             "line": {
              "color": "#E5ECF6",
              "width": 0.5
             }
            },
            "type": "barpolar"
           }
          ],
          "carpet": [
           {
            "aaxis": {
             "endlinecolor": "#2a3f5f",
             "gridcolor": "white",
             "linecolor": "white",
             "minorgridcolor": "white",
             "startlinecolor": "#2a3f5f"
            },
            "baxis": {
             "endlinecolor": "#2a3f5f",
             "gridcolor": "white",
             "linecolor": "white",
             "minorgridcolor": "white",
             "startlinecolor": "#2a3f5f"
            },
            "type": "carpet"
           }
          ],
          "choropleth": [
           {
            "colorbar": {
             "outlinewidth": 0,
             "ticks": ""
            },
            "type": "choropleth"
           }
          ],
          "contour": [
           {
            "colorbar": {
             "outlinewidth": 0,
             "ticks": ""
            },
            "colorscale": [
             [
              0,
              "#0d0887"
             ],
             [
              0.1111111111111111,
              "#46039f"
             ],
             [
              0.2222222222222222,
              "#7201a8"
             ],
             [
              0.3333333333333333,
              "#9c179e"
             ],
             [
              0.4444444444444444,
              "#bd3786"
             ],
             [
              0.5555555555555556,
              "#d8576b"
             ],
             [
              0.6666666666666666,
              "#ed7953"
             ],
             [
              0.7777777777777778,
              "#fb9f3a"
             ],
             [
              0.8888888888888888,
              "#fdca26"
             ],
             [
              1,
              "#f0f921"
             ]
            ],
            "type": "contour"
           }
          ],
          "contourcarpet": [
           {
            "colorbar": {
             "outlinewidth": 0,
             "ticks": ""
            },
            "type": "contourcarpet"
           }
          ],
          "heatmap": [
           {
            "colorbar": {
             "outlinewidth": 0,
             "ticks": ""
            },
            "colorscale": [
             [
              0,
              "#0d0887"
             ],
             [
              0.1111111111111111,
              "#46039f"
             ],
             [
              0.2222222222222222,
              "#7201a8"
             ],
             [
              0.3333333333333333,
              "#9c179e"
             ],
             [
              0.4444444444444444,
              "#bd3786"
             ],
             [
              0.5555555555555556,
              "#d8576b"
             ],
             [
              0.6666666666666666,
              "#ed7953"
             ],
             [
              0.7777777777777778,
              "#fb9f3a"
             ],
             [
              0.8888888888888888,
              "#fdca26"
             ],
             [
              1,
              "#f0f921"
             ]
            ],
            "type": "heatmap"
           }
          ],
          "heatmapgl": [
           {
            "colorbar": {
             "outlinewidth": 0,
             "ticks": ""
            },
            "colorscale": [
             [
              0,
              "#0d0887"
             ],
             [
              0.1111111111111111,
              "#46039f"
             ],
             [
              0.2222222222222222,
              "#7201a8"
             ],
             [
              0.3333333333333333,
              "#9c179e"
             ],
             [
              0.4444444444444444,
              "#bd3786"
             ],
             [
              0.5555555555555556,
              "#d8576b"
             ],
             [
              0.6666666666666666,
              "#ed7953"
             ],
             [
              0.7777777777777778,
              "#fb9f3a"
             ],
             [
              0.8888888888888888,
              "#fdca26"
             ],
             [
              1,
              "#f0f921"
             ]
            ],
            "type": "heatmapgl"
           }
          ],
          "histogram": [
           {
            "marker": {
             "colorbar": {
              "outlinewidth": 0,
              "ticks": ""
             }
            },
            "type": "histogram"
           }
          ],
          "histogram2d": [
           {
            "colorbar": {
             "outlinewidth": 0,
             "ticks": ""
            },
            "colorscale": [
             [
              0,
              "#0d0887"
             ],
             [
              0.1111111111111111,
              "#46039f"
             ],
             [
              0.2222222222222222,
              "#7201a8"
             ],
             [
              0.3333333333333333,
              "#9c179e"
             ],
             [
              0.4444444444444444,
              "#bd3786"
             ],
             [
              0.5555555555555556,
              "#d8576b"
             ],
             [
              0.6666666666666666,
              "#ed7953"
             ],
             [
              0.7777777777777778,
              "#fb9f3a"
             ],
             [
              0.8888888888888888,
              "#fdca26"
             ],
             [
              1,
              "#f0f921"
             ]
            ],
            "type": "histogram2d"
           }
          ],
          "histogram2dcontour": [
           {
            "colorbar": {
             "outlinewidth": 0,
             "ticks": ""
            },
            "colorscale": [
             [
              0,
              "#0d0887"
             ],
             [
              0.1111111111111111,
              "#46039f"
             ],
             [
              0.2222222222222222,
              "#7201a8"
             ],
             [
              0.3333333333333333,
              "#9c179e"
             ],
             [
              0.4444444444444444,
              "#bd3786"
             ],
             [
              0.5555555555555556,
              "#d8576b"
             ],
             [
              0.6666666666666666,
              "#ed7953"
             ],
             [
              0.7777777777777778,
              "#fb9f3a"
             ],
             [
              0.8888888888888888,
              "#fdca26"
             ],
             [
              1,
              "#f0f921"
             ]
            ],
            "type": "histogram2dcontour"
           }
          ],
          "mesh3d": [
           {
            "colorbar": {
             "outlinewidth": 0,
             "ticks": ""
            },
            "type": "mesh3d"
           }
          ],
          "parcoords": [
           {
            "line": {
             "colorbar": {
              "outlinewidth": 0,
              "ticks": ""
             }
            },
            "type": "parcoords"
           }
          ],
          "scatter": [
           {
            "marker": {
             "colorbar": {
              "outlinewidth": 0,
              "ticks": ""
             }
            },
            "type": "scatter"
           }
          ],
          "scatter3d": [
           {
            "line": {
             "colorbar": {
              "outlinewidth": 0,
              "ticks": ""
             }
            },
            "marker": {
             "colorbar": {
              "outlinewidth": 0,
              "ticks": ""
             }
            },
            "type": "scatter3d"
           }
          ],
          "scattercarpet": [
           {
            "marker": {
             "colorbar": {
              "outlinewidth": 0,
              "ticks": ""
             }
            },
            "type": "scattercarpet"
           }
          ],
          "scattergeo": [
           {
            "marker": {
             "colorbar": {
              "outlinewidth": 0,
              "ticks": ""
             }
            },
            "type": "scattergeo"
           }
          ],
          "scattergl": [
           {
            "marker": {
             "colorbar": {
              "outlinewidth": 0,
              "ticks": ""
             }
            },
            "type": "scattergl"
           }
          ],
          "scattermapbox": [
           {
            "marker": {
             "colorbar": {
              "outlinewidth": 0,
              "ticks": ""
             }
            },
            "type": "scattermapbox"
           }
          ],
          "scatterpolar": [
           {
            "marker": {
             "colorbar": {
              "outlinewidth": 0,
              "ticks": ""
             }
            },
            "type": "scatterpolar"
           }
          ],
          "scatterpolargl": [
           {
            "marker": {
             "colorbar": {
              "outlinewidth": 0,
              "ticks": ""
             }
            },
            "type": "scatterpolargl"
           }
          ],
          "scatterternary": [
           {
            "marker": {
             "colorbar": {
              "outlinewidth": 0,
              "ticks": ""
             }
            },
            "type": "scatterternary"
           }
          ],
          "surface": [
           {
            "colorbar": {
             "outlinewidth": 0,
             "ticks": ""
            },
            "colorscale": [
             [
              0,
              "#0d0887"
             ],
             [
              0.1111111111111111,
              "#46039f"
             ],
             [
              0.2222222222222222,
              "#7201a8"
             ],
             [
              0.3333333333333333,
              "#9c179e"
             ],
             [
              0.4444444444444444,
              "#bd3786"
             ],
             [
              0.5555555555555556,
              "#d8576b"
             ],
             [
              0.6666666666666666,
              "#ed7953"
             ],
             [
              0.7777777777777778,
              "#fb9f3a"
             ],
             [
              0.8888888888888888,
              "#fdca26"
             ],
             [
              1,
              "#f0f921"
             ]
            ],
            "type": "surface"
           }
          ],
          "table": [
           {
            "cells": {
             "fill": {
              "color": "#EBF0F8"
             },
             "line": {
              "color": "white"
             }
            },
            "header": {
             "fill": {
              "color": "#C8D4E3"
             },
             "line": {
              "color": "white"
             }
            },
            "type": "table"
           }
          ]
         },
         "layout": {
          "annotationdefaults": {
           "arrowcolor": "#2a3f5f",
           "arrowhead": 0,
           "arrowwidth": 1
          },
          "colorscale": {
           "diverging": [
            [
             0,
             "#8e0152"
            ],
            [
             0.1,
             "#c51b7d"
            ],
            [
             0.2,
             "#de77ae"
            ],
            [
             0.3,
             "#f1b6da"
            ],
            [
             0.4,
             "#fde0ef"
            ],
            [
             0.5,
             "#f7f7f7"
            ],
            [
             0.6,
             "#e6f5d0"
            ],
            [
             0.7,
             "#b8e186"
            ],
            [
             0.8,
             "#7fbc41"
            ],
            [
             0.9,
             "#4d9221"
            ],
            [
             1,
             "#276419"
            ]
           ],
           "sequential": [
            [
             0,
             "#0d0887"
            ],
            [
             0.1111111111111111,
             "#46039f"
            ],
            [
             0.2222222222222222,
             "#7201a8"
            ],
            [
             0.3333333333333333,
             "#9c179e"
            ],
            [
             0.4444444444444444,
             "#bd3786"
            ],
            [
             0.5555555555555556,
             "#d8576b"
            ],
            [
             0.6666666666666666,
             "#ed7953"
            ],
            [
             0.7777777777777778,
             "#fb9f3a"
            ],
            [
             0.8888888888888888,
             "#fdca26"
            ],
            [
             1,
             "#f0f921"
            ]
           ],
           "sequentialminus": [
            [
             0,
             "#0d0887"
            ],
            [
             0.1111111111111111,
             "#46039f"
            ],
            [
             0.2222222222222222,
             "#7201a8"
            ],
            [
             0.3333333333333333,
             "#9c179e"
            ],
            [
             0.4444444444444444,
             "#bd3786"
            ],
            [
             0.5555555555555556,
             "#d8576b"
            ],
            [
             0.6666666666666666,
             "#ed7953"
            ],
            [
             0.7777777777777778,
             "#fb9f3a"
            ],
            [
             0.8888888888888888,
             "#fdca26"
            ],
            [
             1,
             "#f0f921"
            ]
           ]
          },
          "colorway": [
           "#636efa",
           "#EF553B",
           "#00cc96",
           "#ab63fa",
           "#FFA15A",
           "#19d3f3",
           "#FF6692",
           "#B6E880",
           "#FF97FF",
           "#FECB52"
          ],
          "font": {
           "color": "#2a3f5f"
          },
          "geo": {
           "bgcolor": "white",
           "lakecolor": "white",
           "landcolor": "#E5ECF6",
           "showlakes": true,
           "showland": true,
           "subunitcolor": "white"
          },
          "hoverlabel": {
           "align": "left"
          },
          "hovermode": "closest",
          "mapbox": {
           "style": "light"
          },
          "paper_bgcolor": "white",
          "plot_bgcolor": "#E5ECF6",
          "polar": {
           "angularaxis": {
            "gridcolor": "white",
            "linecolor": "white",
            "ticks": ""
           },
           "bgcolor": "#E5ECF6",
           "radialaxis": {
            "gridcolor": "white",
            "linecolor": "white",
            "ticks": ""
           }
          },
          "scene": {
           "xaxis": {
            "backgroundcolor": "#E5ECF6",
            "gridcolor": "white",
            "gridwidth": 2,
            "linecolor": "white",
            "showbackground": true,
            "ticks": "",
            "zerolinecolor": "white"
           },
           "yaxis": {
            "backgroundcolor": "#E5ECF6",
            "gridcolor": "white",
            "gridwidth": 2,
            "linecolor": "white",
            "showbackground": true,
            "ticks": "",
            "zerolinecolor": "white"
           },
           "zaxis": {
            "backgroundcolor": "#E5ECF6",
            "gridcolor": "white",
            "gridwidth": 2,
            "linecolor": "white",
            "showbackground": true,
            "ticks": "",
            "zerolinecolor": "white"
           }
          },
          "shapedefaults": {
           "line": {
            "color": "#2a3f5f"
           }
          },
          "ternary": {
           "aaxis": {
            "gridcolor": "white",
            "linecolor": "white",
            "ticks": ""
           },
           "baxis": {
            "gridcolor": "white",
            "linecolor": "white",
            "ticks": ""
           },
           "bgcolor": "#E5ECF6",
           "caxis": {
            "gridcolor": "white",
            "linecolor": "white",
            "ticks": ""
           }
          },
          "title": {
           "x": 0.05
          },
          "xaxis": {
           "automargin": true,
           "gridcolor": "white",
           "linecolor": "white",
           "ticks": "",
           "zerolinecolor": "white",
           "zerolinewidth": 2
          },
          "yaxis": {
           "automargin": true,
           "gridcolor": "white",
           "linecolor": "white",
           "ticks": "",
           "zerolinecolor": "white",
           "zerolinewidth": 2
          }
         }
        },
        "updatemenus": [
         {
          "buttons": [
           {
            "args": [
             null,
             {
              "frame": {
               "duration": 500,
               "redraw": false
              },
              "fromcurrent": true,
              "mode": "immediate",
              "transition": {
               "duration": 500,
               "easing": "linear"
              }
             }
            ],
            "label": "&#9654;",
            "method": "animate"
           },
           {
            "args": [
             [
              null
             ],
             {
              "frame": {
               "duration": 0,
               "redraw": false
              },
              "fromcurrent": true,
              "mode": "immediate",
              "transition": {
               "duration": 0,
               "easing": "linear"
              }
             }
            ],
            "label": "&#9724;",
            "method": "animate"
           }
          ],
          "direction": "left",
          "pad": {
           "r": 10,
           "t": 70
          },
          "showactive": false,
          "type": "buttons",
          "x": 0.1,
          "xanchor": "right",
          "y": 0,
          "yanchor": "top"
         }
        ],
        "xaxis": {
         "anchor": "y",
         "domain": [
          0,
          0.98
         ],
         "range": [
          4.30102999566398,
          5.477121254719662
         ],
         "title": {
          "text": "Household Income"
         },
         "type": "log"
        },
        "yaxis": {
         "anchor": "x",
         "domain": [
          0,
          1
         ],
         "range": [
          25,
          50
         ],
         "title": {
          "text": "Median Age"
         }
        }
       }
      },
      "text/html": [
       "<div>\n",
       "        \n",
       "        \n",
       "            <div id=\"72a652f1-475d-4765-ab58-329acd79527e\" class=\"plotly-graph-div\" style=\"height:600px; width:100%;\"></div>\n",
       "            <script type=\"text/javascript\">\n",
       "                require([\"plotly\"], function(Plotly) {\n",
       "                    window.PLOTLYENV=window.PLOTLYENV || {};\n",
       "                    \n",
       "                if (document.getElementById(\"72a652f1-475d-4765-ab58-329acd79527e\")) {\n",
       "                    Plotly.newPlot(\n",
       "                        '72a652f1-475d-4765-ab58-329acd79527e',\n",
       "                        [{\"hoverlabel\": {\"namelength\": 0}, \"hovertemplate\": \"<b>%{hovertext}</b><br><br>Year=2012<br>Household Income=%{x}<br>Median Age=%{y}<br>Population=%{marker.size}<br>Zipcode=%{marker.color}\", \"hovertext\": [77002.0, 77003.0, 77004.0, 77005.0, 77006.0, 77007.0, 77008.0, 77009.0, 77010.0, 77011.0, 77012.0, 77019.0, 77020.0, 77021.0, 77023.0, 77025.0, 77026.0, 77027.0, 77030.0], \"ids\": [77002, 77003, 77004, 77005, 77006, 77007, 77008, 77009, 77010, 77011, 77012, 77019, 77020, 77021, 77023, 77025, 77026, 77027, 77030], \"legendgroup\": \"\", \"marker\": {\"color\": [77002, 77003, 77004, 77005, 77006, 77007, 77008, 77009, 77010, 77011, 77012, 77019, 77020, 77021, 77023, 77025, 77026, 77027, 77030], \"coloraxis\": \"coloraxis\", \"size\": [11473.0, 10215.0, 29853.0, 25740.0, 19856.0, 29545.0, 29424.0, 39050.0, 342.0, 19396.0, 21619.0, 19450.0, 26381.0, 25640.0, 30696.0, 25935.0, 23963.0, 14745.0, 11184.0], \"sizemode\": \"area\", \"sizeref\": 13.132231404958677, \"symbol\": \"circle\"}, \"mode\": \"markers\", \"name\": \"\", \"showlegend\": false, \"type\": \"scatter\", \"x\": [57165.0, 37664.0, 39804.0, 153041.0, 63360.0, 90860.0, 65457.0, 42944.0, 149444.0, 27458.0, 33035.0, 87582.0, 28217.0, 32096.0, 37735.0, 64202.0, 20200.0, 81202.0, 67790.0], \"xaxis\": \"x\", \"y\": [31.8, 32.9, 31.6, 38.5, 36.9, 34.6, 37.1, 33.6, 50.6, 32.7, 30.1, 36.8, 31.7, 34.4, 30.9, 33.8, 32.8, 37.9, 32.8], \"yaxis\": \"y\"}],\n",
       "                        {\"coloraxis\": {\"colorbar\": {\"title\": {\"text\": \"Zipcode\"}}, \"colorscale\": [[0.0, \"#0d0887\"], [0.1111111111111111, \"#46039f\"], [0.2222222222222222, \"#7201a8\"], [0.3333333333333333, \"#9c179e\"], [0.4444444444444444, \"#bd3786\"], [0.5555555555555556, \"#d8576b\"], [0.6666666666666666, \"#ed7953\"], [0.7777777777777778, \"#fb9f3a\"], [0.8888888888888888, \"#fdca26\"], [1.0, \"#f0f921\"]]}, \"height\": 600, \"legend\": {\"itemsizing\": \"constant\", \"tracegroupgap\": 0}, \"margin\": {\"t\": 60}, \"sliders\": [{\"active\": 0, \"currentvalue\": {\"prefix\": \"Year=\"}, \"len\": 0.9, \"pad\": {\"b\": 10, \"t\": 60}, \"steps\": [{\"args\": [[\"2012\"], {\"frame\": {\"duration\": 0, \"redraw\": false}, \"fromcurrent\": true, \"mode\": \"immediate\", \"transition\": {\"duration\": 0, \"easing\": \"linear\"}}], \"label\": \"2012\", \"method\": \"animate\"}, {\"args\": [[\"2013\"], {\"frame\": {\"duration\": 0, \"redraw\": false}, \"fromcurrent\": true, \"mode\": \"immediate\", \"transition\": {\"duration\": 0, \"easing\": \"linear\"}}], \"label\": \"2013\", \"method\": \"animate\"}, {\"args\": [[\"2014\"], {\"frame\": {\"duration\": 0, \"redraw\": false}, \"fromcurrent\": true, \"mode\": \"immediate\", \"transition\": {\"duration\": 0, \"easing\": \"linear\"}}], \"label\": \"2014\", \"method\": \"animate\"}, {\"args\": [[\"2015\"], {\"frame\": {\"duration\": 0, \"redraw\": false}, \"fromcurrent\": true, \"mode\": \"immediate\", \"transition\": {\"duration\": 0, \"easing\": \"linear\"}}], \"label\": \"2015\", \"method\": \"animate\"}, {\"args\": [[\"2016\"], {\"frame\": {\"duration\": 0, \"redraw\": false}, \"fromcurrent\": true, \"mode\": \"immediate\", \"transition\": {\"duration\": 0, \"easing\": \"linear\"}}], \"label\": \"2016\", \"method\": \"animate\"}, {\"args\": [[\"2017\"], {\"frame\": {\"duration\": 0, \"redraw\": false}, \"fromcurrent\": true, \"mode\": \"immediate\", \"transition\": {\"duration\": 0, \"easing\": \"linear\"}}], \"label\": \"2017\", \"method\": \"animate\"}], \"x\": 0.1, \"xanchor\": \"left\", \"y\": 0, \"yanchor\": \"top\"}], \"template\": {\"data\": {\"bar\": [{\"error_x\": {\"color\": \"#2a3f5f\"}, \"error_y\": {\"color\": \"#2a3f5f\"}, \"marker\": {\"line\": {\"color\": \"#E5ECF6\", \"width\": 0.5}}, \"type\": \"bar\"}], \"barpolar\": [{\"marker\": {\"line\": {\"color\": \"#E5ECF6\", \"width\": 0.5}}, \"type\": \"barpolar\"}], \"carpet\": [{\"aaxis\": {\"endlinecolor\": \"#2a3f5f\", \"gridcolor\": \"white\", \"linecolor\": \"white\", \"minorgridcolor\": \"white\", \"startlinecolor\": \"#2a3f5f\"}, \"baxis\": {\"endlinecolor\": \"#2a3f5f\", \"gridcolor\": \"white\", \"linecolor\": \"white\", \"minorgridcolor\": \"white\", \"startlinecolor\": \"#2a3f5f\"}, \"type\": \"carpet\"}], \"choropleth\": [{\"colorbar\": {\"outlinewidth\": 0, \"ticks\": \"\"}, \"type\": \"choropleth\"}], \"contour\": [{\"colorbar\": {\"outlinewidth\": 0, \"ticks\": \"\"}, \"colorscale\": [[0.0, \"#0d0887\"], [0.1111111111111111, \"#46039f\"], [0.2222222222222222, \"#7201a8\"], [0.3333333333333333, \"#9c179e\"], [0.4444444444444444, \"#bd3786\"], [0.5555555555555556, \"#d8576b\"], [0.6666666666666666, \"#ed7953\"], [0.7777777777777778, \"#fb9f3a\"], [0.8888888888888888, \"#fdca26\"], [1.0, \"#f0f921\"]], \"type\": \"contour\"}], \"contourcarpet\": [{\"colorbar\": {\"outlinewidth\": 0, \"ticks\": \"\"}, \"type\": \"contourcarpet\"}], \"heatmap\": [{\"colorbar\": {\"outlinewidth\": 0, \"ticks\": \"\"}, \"colorscale\": [[0.0, \"#0d0887\"], [0.1111111111111111, \"#46039f\"], [0.2222222222222222, \"#7201a8\"], [0.3333333333333333, \"#9c179e\"], [0.4444444444444444, \"#bd3786\"], [0.5555555555555556, \"#d8576b\"], [0.6666666666666666, \"#ed7953\"], [0.7777777777777778, \"#fb9f3a\"], [0.8888888888888888, \"#fdca26\"], [1.0, \"#f0f921\"]], \"type\": \"heatmap\"}], \"heatmapgl\": [{\"colorbar\": {\"outlinewidth\": 0, \"ticks\": \"\"}, \"colorscale\": [[0.0, \"#0d0887\"], [0.1111111111111111, \"#46039f\"], [0.2222222222222222, \"#7201a8\"], [0.3333333333333333, \"#9c179e\"], [0.4444444444444444, \"#bd3786\"], [0.5555555555555556, \"#d8576b\"], [0.6666666666666666, \"#ed7953\"], [0.7777777777777778, \"#fb9f3a\"], [0.8888888888888888, \"#fdca26\"], [1.0, \"#f0f921\"]], \"type\": \"heatmapgl\"}], \"histogram\": [{\"marker\": {\"colorbar\": {\"outlinewidth\": 0, \"ticks\": \"\"}}, \"type\": \"histogram\"}], \"histogram2d\": [{\"colorbar\": {\"outlinewidth\": 0, \"ticks\": \"\"}, \"colorscale\": [[0.0, \"#0d0887\"], [0.1111111111111111, \"#46039f\"], [0.2222222222222222, \"#7201a8\"], [0.3333333333333333, \"#9c179e\"], [0.4444444444444444, \"#bd3786\"], [0.5555555555555556, \"#d8576b\"], [0.6666666666666666, \"#ed7953\"], [0.7777777777777778, \"#fb9f3a\"], [0.8888888888888888, \"#fdca26\"], [1.0, \"#f0f921\"]], \"type\": \"histogram2d\"}], \"histogram2dcontour\": [{\"colorbar\": {\"outlinewidth\": 0, \"ticks\": \"\"}, \"colorscale\": [[0.0, \"#0d0887\"], [0.1111111111111111, \"#46039f\"], [0.2222222222222222, \"#7201a8\"], [0.3333333333333333, \"#9c179e\"], [0.4444444444444444, \"#bd3786\"], [0.5555555555555556, \"#d8576b\"], [0.6666666666666666, \"#ed7953\"], [0.7777777777777778, \"#fb9f3a\"], [0.8888888888888888, \"#fdca26\"], [1.0, \"#f0f921\"]], \"type\": \"histogram2dcontour\"}], \"mesh3d\": [{\"colorbar\": {\"outlinewidth\": 0, \"ticks\": \"\"}, \"type\": \"mesh3d\"}], \"parcoords\": [{\"line\": {\"colorbar\": {\"outlinewidth\": 0, \"ticks\": \"\"}}, \"type\": \"parcoords\"}], \"scatter\": [{\"marker\": {\"colorbar\": {\"outlinewidth\": 0, \"ticks\": \"\"}}, \"type\": \"scatter\"}], \"scatter3d\": [{\"line\": {\"colorbar\": {\"outlinewidth\": 0, \"ticks\": \"\"}}, \"marker\": {\"colorbar\": {\"outlinewidth\": 0, \"ticks\": \"\"}}, \"type\": \"scatter3d\"}], \"scattercarpet\": [{\"marker\": {\"colorbar\": {\"outlinewidth\": 0, \"ticks\": \"\"}}, \"type\": \"scattercarpet\"}], \"scattergeo\": [{\"marker\": {\"colorbar\": {\"outlinewidth\": 0, \"ticks\": \"\"}}, \"type\": \"scattergeo\"}], \"scattergl\": [{\"marker\": {\"colorbar\": {\"outlinewidth\": 0, \"ticks\": \"\"}}, \"type\": \"scattergl\"}], \"scattermapbox\": [{\"marker\": {\"colorbar\": {\"outlinewidth\": 0, \"ticks\": \"\"}}, \"type\": \"scattermapbox\"}], \"scatterpolar\": [{\"marker\": {\"colorbar\": {\"outlinewidth\": 0, \"ticks\": \"\"}}, \"type\": \"scatterpolar\"}], \"scatterpolargl\": [{\"marker\": {\"colorbar\": {\"outlinewidth\": 0, \"ticks\": \"\"}}, \"type\": \"scatterpolargl\"}], \"scatterternary\": [{\"marker\": {\"colorbar\": {\"outlinewidth\": 0, \"ticks\": \"\"}}, \"type\": \"scatterternary\"}], \"surface\": [{\"colorbar\": {\"outlinewidth\": 0, \"ticks\": \"\"}, \"colorscale\": [[0.0, \"#0d0887\"], [0.1111111111111111, \"#46039f\"], [0.2222222222222222, \"#7201a8\"], [0.3333333333333333, \"#9c179e\"], [0.4444444444444444, \"#bd3786\"], [0.5555555555555556, \"#d8576b\"], [0.6666666666666666, \"#ed7953\"], [0.7777777777777778, \"#fb9f3a\"], [0.8888888888888888, \"#fdca26\"], [1.0, \"#f0f921\"]], \"type\": \"surface\"}], \"table\": [{\"cells\": {\"fill\": {\"color\": \"#EBF0F8\"}, \"line\": {\"color\": \"white\"}}, \"header\": {\"fill\": {\"color\": \"#C8D4E3\"}, \"line\": {\"color\": \"white\"}}, \"type\": \"table\"}]}, \"layout\": {\"annotationdefaults\": {\"arrowcolor\": \"#2a3f5f\", \"arrowhead\": 0, \"arrowwidth\": 1}, \"colorscale\": {\"diverging\": [[0, \"#8e0152\"], [0.1, \"#c51b7d\"], [0.2, \"#de77ae\"], [0.3, \"#f1b6da\"], [0.4, \"#fde0ef\"], [0.5, \"#f7f7f7\"], [0.6, \"#e6f5d0\"], [0.7, \"#b8e186\"], [0.8, \"#7fbc41\"], [0.9, \"#4d9221\"], [1, \"#276419\"]], \"sequential\": [[0.0, \"#0d0887\"], [0.1111111111111111, \"#46039f\"], [0.2222222222222222, \"#7201a8\"], [0.3333333333333333, \"#9c179e\"], [0.4444444444444444, \"#bd3786\"], [0.5555555555555556, \"#d8576b\"], [0.6666666666666666, \"#ed7953\"], [0.7777777777777778, \"#fb9f3a\"], [0.8888888888888888, \"#fdca26\"], [1.0, \"#f0f921\"]], \"sequentialminus\": [[0.0, \"#0d0887\"], [0.1111111111111111, \"#46039f\"], [0.2222222222222222, \"#7201a8\"], [0.3333333333333333, \"#9c179e\"], [0.4444444444444444, \"#bd3786\"], [0.5555555555555556, \"#d8576b\"], [0.6666666666666666, \"#ed7953\"], [0.7777777777777778, \"#fb9f3a\"], [0.8888888888888888, \"#fdca26\"], [1.0, \"#f0f921\"]]}, \"colorway\": [\"#636efa\", \"#EF553B\", \"#00cc96\", \"#ab63fa\", \"#FFA15A\", \"#19d3f3\", \"#FF6692\", \"#B6E880\", \"#FF97FF\", \"#FECB52\"], \"font\": {\"color\": \"#2a3f5f\"}, \"geo\": {\"bgcolor\": \"white\", \"lakecolor\": \"white\", \"landcolor\": \"#E5ECF6\", \"showlakes\": true, \"showland\": true, \"subunitcolor\": \"white\"}, \"hoverlabel\": {\"align\": \"left\"}, \"hovermode\": \"closest\", \"mapbox\": {\"style\": \"light\"}, \"paper_bgcolor\": \"white\", \"plot_bgcolor\": \"#E5ECF6\", \"polar\": {\"angularaxis\": {\"gridcolor\": \"white\", \"linecolor\": \"white\", \"ticks\": \"\"}, \"bgcolor\": \"#E5ECF6\", \"radialaxis\": {\"gridcolor\": \"white\", \"linecolor\": \"white\", \"ticks\": \"\"}}, \"scene\": {\"xaxis\": {\"backgroundcolor\": \"#E5ECF6\", \"gridcolor\": \"white\", \"gridwidth\": 2, \"linecolor\": \"white\", \"showbackground\": true, \"ticks\": \"\", \"zerolinecolor\": \"white\"}, \"yaxis\": {\"backgroundcolor\": \"#E5ECF6\", \"gridcolor\": \"white\", \"gridwidth\": 2, \"linecolor\": \"white\", \"showbackground\": true, \"ticks\": \"\", \"zerolinecolor\": \"white\"}, \"zaxis\": {\"backgroundcolor\": \"#E5ECF6\", \"gridcolor\": \"white\", \"gridwidth\": 2, \"linecolor\": \"white\", \"showbackground\": true, \"ticks\": \"\", \"zerolinecolor\": \"white\"}}, \"shapedefaults\": {\"line\": {\"color\": \"#2a3f5f\"}}, \"ternary\": {\"aaxis\": {\"gridcolor\": \"white\", \"linecolor\": \"white\", \"ticks\": \"\"}, \"baxis\": {\"gridcolor\": \"white\", \"linecolor\": \"white\", \"ticks\": \"\"}, \"bgcolor\": \"#E5ECF6\", \"caxis\": {\"gridcolor\": \"white\", \"linecolor\": \"white\", \"ticks\": \"\"}}, \"title\": {\"x\": 0.05}, \"xaxis\": {\"automargin\": true, \"gridcolor\": \"white\", \"linecolor\": \"white\", \"ticks\": \"\", \"zerolinecolor\": \"white\", \"zerolinewidth\": 2}, \"yaxis\": {\"automargin\": true, \"gridcolor\": \"white\", \"linecolor\": \"white\", \"ticks\": \"\", \"zerolinecolor\": \"white\", \"zerolinewidth\": 2}}}, \"updatemenus\": [{\"buttons\": [{\"args\": [null, {\"frame\": {\"duration\": 500, \"redraw\": false}, \"fromcurrent\": true, \"mode\": \"immediate\", \"transition\": {\"duration\": 500, \"easing\": \"linear\"}}], \"label\": \"&#9654;\", \"method\": \"animate\"}, {\"args\": [[null], {\"frame\": {\"duration\": 0, \"redraw\": false}, \"fromcurrent\": true, \"mode\": \"immediate\", \"transition\": {\"duration\": 0, \"easing\": \"linear\"}}], \"label\": \"&#9724;\", \"method\": \"animate\"}], \"direction\": \"left\", \"pad\": {\"r\": 10, \"t\": 70}, \"showactive\": false, \"type\": \"buttons\", \"x\": 0.1, \"xanchor\": \"right\", \"y\": 0, \"yanchor\": \"top\"}], \"xaxis\": {\"anchor\": \"y\", \"domain\": [0.0, 0.98], \"range\": [4.30102999566398, 5.477121254719662], \"title\": {\"text\": \"Household Income\"}, \"type\": \"log\"}, \"yaxis\": {\"anchor\": \"x\", \"domain\": [0.0, 1.0], \"range\": [25, 50], \"title\": {\"text\": \"Median Age\"}}},\n",
       "                        {\"responsive\": true}\n",
       "                    ).then(function(){\n",
       "                            Plotly.addFrames('72a652f1-475d-4765-ab58-329acd79527e', [{\"data\": [{\"hoverlabel\": {\"namelength\": 0}, \"hovertemplate\": \"<b>%{hovertext}</b><br><br>Year=2012<br>Household Income=%{x}<br>Median Age=%{y}<br>Population=%{marker.size}<br>Zipcode=%{marker.color}\", \"hovertext\": [77002.0, 77003.0, 77004.0, 77005.0, 77006.0, 77007.0, 77008.0, 77009.0, 77010.0, 77011.0, 77012.0, 77019.0, 77020.0, 77021.0, 77023.0, 77025.0, 77026.0, 77027.0, 77030.0], \"ids\": [77002, 77003, 77004, 77005, 77006, 77007, 77008, 77009, 77010, 77011, 77012, 77019, 77020, 77021, 77023, 77025, 77026, 77027, 77030], \"legendgroup\": \"\", \"marker\": {\"color\": [77002, 77003, 77004, 77005, 77006, 77007, 77008, 77009, 77010, 77011, 77012, 77019, 77020, 77021, 77023, 77025, 77026, 77027, 77030], \"coloraxis\": \"coloraxis\", \"size\": [11473.0, 10215.0, 29853.0, 25740.0, 19856.0, 29545.0, 29424.0, 39050.0, 342.0, 19396.0, 21619.0, 19450.0, 26381.0, 25640.0, 30696.0, 25935.0, 23963.0, 14745.0, 11184.0], \"sizemode\": \"area\", \"sizeref\": 13.132231404958677, \"symbol\": \"circle\"}, \"mode\": \"markers\", \"name\": \"\", \"showlegend\": false, \"x\": [57165.0, 37664.0, 39804.0, 153041.0, 63360.0, 90860.0, 65457.0, 42944.0, 149444.0, 27458.0, 33035.0, 87582.0, 28217.0, 32096.0, 37735.0, 64202.0, 20200.0, 81202.0, 67790.0], \"xaxis\": \"x\", \"y\": [31.8, 32.9, 31.6, 38.5, 36.9, 34.6, 37.1, 33.6, 50.6, 32.7, 30.1, 36.8, 31.7, 34.4, 30.9, 33.8, 32.8, 37.9, 32.8], \"yaxis\": \"y\", \"type\": \"scatter\"}], \"name\": \"2012\"}, {\"data\": [{\"hoverlabel\": {\"namelength\": 0}, \"hovertemplate\": \"<b>%{hovertext}</b><br><br>Year=2013<br>Household Income=%{x}<br>Median Age=%{y}<br>Population=%{marker.size}<br>Zipcode=%{marker.color}\", \"hovertext\": [77002.0, 77003.0, 77004.0, 77005.0, 77006.0, 77007.0, 77008.0, 77009.0, 77010.0, 77011.0, 77012.0, 77019.0, 77020.0, 77021.0, 77023.0, 77025.0, 77026.0, 77027.0, 77030.0], \"ids\": [77002, 77003, 77004, 77005, 77006, 77007, 77008, 77009, 77010, 77011, 77012, 77019, 77020, 77021, 77023, 77025, 77026, 77027, 77030], \"legendgroup\": \"\", \"marker\": {\"color\": [77002, 77003, 77004, 77005, 77006, 77007, 77008, 77009, 77010, 77011, 77012, 77019, 77020, 77021, 77023, 77025, 77026, 77027, 77030], \"coloraxis\": \"coloraxis\", \"size\": [11602.0, 10617.0, 31593.0, 25752.0, 20573.0, 30868.0, 30807.0, 39725.0, 564.0, 19442.0, 21868.0, 19995.0, 26889.0, 25479.0, 29871.0, 26379.0, 22909.0, 15455.0, 11031.0], \"sizemode\": \"area\", \"sizeref\": 13.132231404958677, \"symbol\": \"circle\"}, \"mode\": \"markers\", \"name\": \"\", \"showlegend\": false, \"x\": [64093.0, 36412.0, 41983.0, 159732.0, 67458.0, 98725.0, 70293.0, 44651.0, 250001.0, 26838.0, 34975.0, 87394.0, 29401.0, 31103.0, 36033.0, 65828.0, 20024.0, 81661.0, 68980.0], \"xaxis\": \"x\", \"y\": [32.5, 30.8, 30.3, 38.5, 35.1, 34.6, 35.9, 34.1, 41.7, 33.2, 30.5, 35.6, 32.5, 35.0, 31.2, 35.3, 33.5, 37.4, 32.8], \"yaxis\": \"y\", \"type\": \"scatter\"}], \"name\": \"2013\"}, {\"data\": [{\"hoverlabel\": {\"namelength\": 0}, \"hovertemplate\": \"<b>%{hovertext}</b><br><br>Year=2014<br>Household Income=%{x}<br>Median Age=%{y}<br>Population=%{marker.size}<br>Zipcode=%{marker.color}\", \"hovertext\": [77002.0, 77003.0, 77004.0, 77005.0, 77006.0, 77007.0, 77008.0, 77009.0, 77010.0, 77011.0, 77012.0, 77019.0, 77020.0, 77021.0, 77023.0, 77025.0, 77026.0, 77027.0, 77030.0], \"ids\": [77002, 77003, 77004, 77005, 77006, 77007, 77008, 77009, 77010, 77011, 77012, 77019, 77020, 77021, 77023, 77025, 77026, 77027, 77030], \"legendgroup\": \"\", \"marker\": {\"color\": [77002, 77003, 77004, 77005, 77006, 77007, 77008, 77009, 77010, 77011, 77012, 77019, 77020, 77021, 77023, 77025, 77026, 77027, 77030], \"coloraxis\": \"coloraxis\", \"size\": [11630.0, 10760.0, 34079.0, 26187.0, 21144.0, 31987.0, 31418.0, 39361.0, 724.0, 19136.0, 20991.0, 20350.0, 26777.0, 26036.0, 29102.0, 27413.0, 23325.0, 15510.0, 10664.0], \"sizemode\": \"area\", \"sizeref\": 13.132231404958677, \"symbol\": \"circle\"}, \"mode\": \"markers\", \"name\": \"\", \"showlegend\": false, \"x\": [71319.0, 40647.0, 46059.0, 163802.0, 69508.0, 106044.0, 77512.0, 45016.0, 209063.0, 26953.0, 35884.0, 92844.0, 27871.0, 32391.0, 37361.0, 65524.0, 21335.0, 82038.0, 71078.0], \"xaxis\": \"x\", \"y\": [33.2, 31.2, 29.0, 38.7, 35.4, 34.3, 35.5, 34.0, 43.6, 32.8, 31.7, 37.9, 32.9, 33.7, 31.9, 35.3, 33.1, 36.7, 32.5], \"yaxis\": \"y\", \"type\": \"scatter\"}], \"name\": \"2014\"}, {\"data\": [{\"hoverlabel\": {\"namelength\": 0}, \"hovertemplate\": \"<b>%{hovertext}</b><br><br>Year=2015<br>Household Income=%{x}<br>Median Age=%{y}<br>Population=%{marker.size}<br>Zipcode=%{marker.color}\", \"hovertext\": [77002.0, 77003.0, 77004.0, 77005.0, 77006.0, 77007.0, 77008.0, 77009.0, 77010.0, 77011.0, 77012.0, 77019.0, 77020.0, 77021.0, 77023.0, 77025.0, 77026.0, 77027.0, 77030.0], \"ids\": [77002, 77003, 77004, 77005, 77006, 77007, 77008, 77009, 77010, 77011, 77012, 77019, 77020, 77021, 77023, 77025, 77026, 77027, 77030], \"legendgroup\": \"\", \"marker\": {\"color\": [77002, 77003, 77004, 77005, 77006, 77007, 77008, 77009, 77010, 77011, 77012, 77019, 77020, 77021, 77023, 77025, 77026, 77027, 77030], \"coloraxis\": \"coloraxis\", \"size\": [11922.0, 10438.0, 35739.0, 27187.0, 21795.0, 33029.0, 31868.0, 39260.0, 809.0, 19303.0, 20494.0, 20644.0, 26005.0, 26209.0, 28316.0, 28305.0, 22485.0, 15749.0, 10279.0], \"sizemode\": \"area\", \"sizeref\": 13.132231404958677, \"symbol\": \"circle\"}, \"mode\": \"markers\", \"name\": \"\", \"showlegend\": false, \"x\": [62089.0, 39039.0, 47523.0, 166203.0, 71158.0, 107580.0, 82058.0, 43830.0, 250001.0, 26922.0, 34891.0, 101297.0, 27052.0, 32800.0, 36065.0, 66559.0, 22242.0, 89276.0, 71883.0], \"xaxis\": \"x\", \"y\": [33.8, 32.7, 28.1, 38.0, 34.8, 33.5, 35.5, 34.1, 42.7, 33.0, 32.3, 38.8, 32.4, 33.8, 33.4, 35.2, 35.3, 36.8, 32.6], \"yaxis\": \"y\", \"type\": \"scatter\"}], \"name\": \"2015\"}, {\"data\": [{\"hoverlabel\": {\"namelength\": 0}, \"hovertemplate\": \"<b>%{hovertext}</b><br><br>Year=2016<br>Household Income=%{x}<br>Median Age=%{y}<br>Population=%{marker.size}<br>Zipcode=%{marker.color}\", \"hovertext\": [77002.0, 77003.0, 77004.0, 77005.0, 77006.0, 77007.0, 77008.0, 77009.0, 77010.0, 77011.0, 77012.0, 77019.0, 77020.0, 77021.0, 77023.0, 77025.0, 77026.0, 77027.0, 77030.0], \"ids\": [77002, 77003, 77004, 77005, 77006, 77007, 77008, 77009, 77010, 77011, 77012, 77019, 77020, 77021, 77023, 77025, 77026, 77027, 77030], \"legendgroup\": \"\", \"marker\": {\"color\": [77002, 77003, 77004, 77005, 77006, 77007, 77008, 77009, 77010, 77011, 77012, 77019, 77020, 77021, 77023, 77025, 77026, 77027, 77030], \"coloraxis\": \"coloraxis\", \"size\": [11861.0, 10097.0, 36879.0, 27707.0, 21849.0, 35185.0, 32588.0, 38019.0, 831.0, 18558.0, 20534.0, 21067.0, 25908.0, 26374.0, 27973.0, 28103.0, 23030.0, 15498.0, 10735.0], \"sizemode\": \"area\", \"sizeref\": 13.132231404958677, \"symbol\": \"circle\"}, \"mode\": \"markers\", \"name\": \"\", \"showlegend\": false, \"x\": [68229.0, 46267.0, 50681.0, 174153.0, 80908.0, 113361.0, 88248.0, 47011.0, 250001.0, 29544.0, 34617.0, 102521.0, 26896.0, 32404.0, 35723.0, 67548.0, 25354.0, 88471.0, 73689.0], \"xaxis\": \"x\", \"y\": [33.9, 33.0, 28.3, 37.5, 34.9, 33.6, 35.5, 34.5, 48.5, 32.9, 32.0, 38.4, 32.9, 33.8, 33.4, 36.1, 35.9, 35.1, 32.7], \"yaxis\": \"y\", \"type\": \"scatter\"}], \"name\": \"2016\"}, {\"data\": [{\"hoverlabel\": {\"namelength\": 0}, \"hovertemplate\": \"<b>%{hovertext}</b><br><br>Year=2017<br>Household Income=%{x}<br>Median Age=%{y}<br>Population=%{marker.size}<br>Zipcode=%{marker.color}\", \"hovertext\": [77002.0, 77003.0, 77004.0, 77005.0, 77006.0, 77007.0, 77008.0, 77009.0, 77010.0, 77011.0, 77012.0, 77019.0, 77020.0, 77021.0, 77023.0, 77025.0, 77026.0, 77027.0, 77030.0], \"ids\": [77002, 77003, 77004, 77005, 77006, 77007, 77008, 77009, 77010, 77011, 77012, 77019, 77020, 77021, 77023, 77025, 77026, 77027, 77030], \"legendgroup\": \"\", \"marker\": {\"color\": [77002, 77003, 77004, 77005, 77006, 77007, 77008, 77009, 77010, 77011, 77012, 77019, 77020, 77021, 77023, 77025, 77026, 77027, 77030], \"coloraxis\": \"coloraxis\", \"size\": [12370.0, 9646.0, 37642.0, 28233.0, 21945.0, 35822.0, 34491.0, 37751.0, 915.0, 18598.0, 20085.0, 21572.0, 25898.0, 26654.0, 28528.0, 28922.0, 22799.0, 16012.0, 10813.0], \"sizemode\": \"area\", \"sizeref\": 13.132231404958677, \"symbol\": \"circle\"}, \"mode\": \"markers\", \"name\": \"\", \"showlegend\": false, \"x\": [72306.0, 59575.0, 48592.0, 180758.0, 82878.0, 121458.0, 97690.0, 49383.0, 250001.0, 30665.0, 36537.0, 112243.0, 27587.0, 35126.0, 37462.0, 71990.0, 26644.0, 91296.0, 75290.0], \"xaxis\": \"x\", \"y\": [34.1, 34.1, 28.3, 36.5, 34.3, 33.8, 34.9, 35.1, 44.6, 34.0, 33.0, 39.4, 33.0, 33.6, 33.2, 36.3, 35.2, 33.3, 33.9], \"yaxis\": \"y\", \"type\": \"scatter\"}], \"name\": \"2017\"}]);\n",
       "                        }).then(function(){\n",
       "                            \n",
       "var gd = document.getElementById('72a652f1-475d-4765-ab58-329acd79527e');\n",
       "var x = new MutationObserver(function (mutations, observer) {{\n",
       "        var display = window.getComputedStyle(gd).display;\n",
       "        if (!display || display === 'none') {{\n",
       "            console.log([gd, 'removed!']);\n",
       "            Plotly.purge(gd);\n",
       "            observer.disconnect();\n",
       "        }}\n",
       "}});\n",
       "\n",
       "// Listen for the removal of the full notebook cells\n",
       "var notebookContainer = gd.closest('#notebook-container');\n",
       "if (notebookContainer) {{\n",
       "    x.observe(notebookContainer, {childList: true});\n",
       "}}\n",
       "\n",
       "// Listen for the clearing of the current output cell\n",
       "var outputEl = gd.closest('.output');\n",
       "if (outputEl) {{\n",
       "    x.observe(outputEl, {childList: true});\n",
       "}}\n",
       "\n",
       "                        })\n",
       "                };\n",
       "                });\n",
       "            </script>\n",
       "        </div>"
      ]
     },
     "metadata": {},
     "output_type": "display_data"
    }
   ],
   "source": [
    "# zipcodes_list = .Zipcode.apply(str).tolist()\n",
    "# zipcodes_list = [\"ZC:\" + \" \" + s for s in zipcodes_list]  \n",
    "\n",
    "#gapminder = px.data.gapminder()\n",
    "px.scatter(census_df, x=\"Household Income\", y=\"Median Age\", animation_frame=\"Year\", animation_group=\"Zipcode\",\n",
    "           size=\"Population\", color=\"Zipcode\", hover_name=\"Zipcode\",\n",
    "           log_x=True, size_max=55, range_x=[20000,300000], range_y=[25,50])"
   ]
  },
  {
   "cell_type": "code",
   "execution_count": 69,
   "metadata": {},
   "outputs": [
    {
     "data": {
      "text/html": [
       "<div>\n",
       "<style scoped>\n",
       "    .dataframe tbody tr th:only-of-type {\n",
       "        vertical-align: middle;\n",
       "    }\n",
       "\n",
       "    .dataframe tbody tr th {\n",
       "        vertical-align: top;\n",
       "    }\n",
       "\n",
       "    .dataframe thead th {\n",
       "        text-align: right;\n",
       "    }\n",
       "</style>\n",
       "<table border=\"1\" class=\"dataframe\">\n",
       "  <thead>\n",
       "    <tr style=\"text-align: right;\">\n",
       "      <th></th>\n",
       "      <th>country</th>\n",
       "      <th>continent</th>\n",
       "      <th>year</th>\n",
       "      <th>lifeExp</th>\n",
       "      <th>pop</th>\n",
       "      <th>gdpPercap</th>\n",
       "      <th>iso_alpha</th>\n",
       "      <th>iso_num</th>\n",
       "    </tr>\n",
       "  </thead>\n",
       "  <tbody>\n",
       "    <tr>\n",
       "      <th>0</th>\n",
       "      <td>Afghanistan</td>\n",
       "      <td>Asia</td>\n",
       "      <td>1952</td>\n",
       "      <td>28.801</td>\n",
       "      <td>8425333</td>\n",
       "      <td>779.445314</td>\n",
       "      <td>AFG</td>\n",
       "      <td>4</td>\n",
       "    </tr>\n",
       "    <tr>\n",
       "      <th>1</th>\n",
       "      <td>Afghanistan</td>\n",
       "      <td>Asia</td>\n",
       "      <td>1957</td>\n",
       "      <td>30.332</td>\n",
       "      <td>9240934</td>\n",
       "      <td>820.853030</td>\n",
       "      <td>AFG</td>\n",
       "      <td>4</td>\n",
       "    </tr>\n",
       "    <tr>\n",
       "      <th>2</th>\n",
       "      <td>Afghanistan</td>\n",
       "      <td>Asia</td>\n",
       "      <td>1962</td>\n",
       "      <td>31.997</td>\n",
       "      <td>10267083</td>\n",
       "      <td>853.100710</td>\n",
       "      <td>AFG</td>\n",
       "      <td>4</td>\n",
       "    </tr>\n",
       "    <tr>\n",
       "      <th>3</th>\n",
       "      <td>Afghanistan</td>\n",
       "      <td>Asia</td>\n",
       "      <td>1967</td>\n",
       "      <td>34.020</td>\n",
       "      <td>11537966</td>\n",
       "      <td>836.197138</td>\n",
       "      <td>AFG</td>\n",
       "      <td>4</td>\n",
       "    </tr>\n",
       "    <tr>\n",
       "      <th>4</th>\n",
       "      <td>Afghanistan</td>\n",
       "      <td>Asia</td>\n",
       "      <td>1972</td>\n",
       "      <td>36.088</td>\n",
       "      <td>13079460</td>\n",
       "      <td>739.981106</td>\n",
       "      <td>AFG</td>\n",
       "      <td>4</td>\n",
       "    </tr>\n",
       "  </tbody>\n",
       "</table>\n",
       "</div>"
      ],
      "text/plain": [
       "       country continent  year  lifeExp       pop   gdpPercap iso_alpha  \\\n",
       "0  Afghanistan      Asia  1952   28.801   8425333  779.445314       AFG   \n",
       "1  Afghanistan      Asia  1957   30.332   9240934  820.853030       AFG   \n",
       "2  Afghanistan      Asia  1962   31.997  10267083  853.100710       AFG   \n",
       "3  Afghanistan      Asia  1967   34.020  11537966  836.197138       AFG   \n",
       "4  Afghanistan      Asia  1972   36.088  13079460  739.981106       AFG   \n",
       "\n",
       "   iso_num  \n",
       "0        4  \n",
       "1        4  \n",
       "2        4  \n",
       "3        4  \n",
       "4        4  "
      ]
     },
     "execution_count": 69,
     "metadata": {},
     "output_type": "execute_result"
    }
   ],
   "source": [
    "gapminder.head()"
   ]
  },
  {
   "cell_type": "code",
   "execution_count": null,
   "metadata": {},
   "outputs": [],
   "source": []
  }
 ],
 "metadata": {
  "kernelspec": {
   "display_name": "Python 3",
   "language": "python",
   "name": "python3"
  },
  "language_info": {
   "codemirror_mode": {
    "name": "ipython",
    "version": 3
   },
   "file_extension": ".py",
   "mimetype": "text/x-python",
   "name": "python",
   "nbconvert_exporter": "python",
   "pygments_lexer": "ipython3",
   "version": "3.7.3"
  }
 },
 "nbformat": 4,
 "nbformat_minor": 2
}
